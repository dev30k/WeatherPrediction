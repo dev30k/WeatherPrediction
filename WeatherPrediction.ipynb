{
 "cells": [
  {
   "cell_type": "code",
   "execution_count": 1,
   "id": "43223a0f-4866-4d1c-8af4-d5f4fe1253bb",
   "metadata": {},
   "outputs": [],
   "source": [
    "using DataFrames, Impute, CSV,Plots,Statistics,StatsPlots,VegaLite"
   ]
  },
  {
   "cell_type": "code",
   "execution_count": 2,
   "id": "c9999295-872c-46ed-9577-2c99e032668b",
   "metadata": {},
   "outputs": [
    {
     "data": {
      "text/plain": [
       "Plots.PyPlotBackend()"
      ]
     },
     "execution_count": 2,
     "metadata": {},
     "output_type": "execute_result"
    }
   ],
   "source": [
    "gr()\n",
    "pyplot()\n"
   ]
  },
  {
   "cell_type": "code",
   "execution_count": 3,
   "id": "85d8f628-ebe7-4a7c-942d-641d82d6386a",
   "metadata": {},
   "outputs": [
    {
     "name": "stdout",
     "output_type": "stream",
     "text": [
      "DataFrame\n",
      "\u001b[1m14×7 DataFrame\u001b[0m\n",
      "\u001b[1m Row \u001b[0m│\u001b[1m variable \u001b[0m\u001b[1m mean      \u001b[0m\u001b[1m min   \u001b[0m\u001b[1m median  \u001b[0m\u001b[1m max   \u001b[0m\u001b[1m nmissing \u001b[0m\u001b[1m eltype   \u001b[0m\n",
      "\u001b[1m     \u001b[0m│\u001b[90m Symbol   \u001b[0m\u001b[90m Float64   \u001b[0m\u001b[90m Real  \u001b[0m\u001b[90m Float64 \u001b[0m\u001b[90m Real  \u001b[0m\u001b[90m Int64    \u001b[0m\u001b[90m DataType \u001b[0m\n",
      "─────┼────────────────────────────────────────────────────────────────\n",
      "   1 │ Column1     58.0         0    58.0     116         0  Int64\n",
      "   2 │ YEAR      1959.0      1901  1959.0    2017         0  Int64\n",
      "   3 │ JAN         18.4232  17.25    18.35  20.92         0  Float64\n",
      "   4 │ FEB         20.1379  17.79    19.99  23.58         0  Float64\n",
      "   5 │ MAR         23.4342  21.78    23.33  26.61         0  Float64\n",
      "   6 │ APR         26.5141  24.84    26.54  29.56         0  Float64\n",
      "   7 │ MAY         28.3864  26.97    28.34  30.78         0  Float64\n",
      "   8 │ JUN         28.3009  27.33    28.25  29.88         0  Float64\n",
      "   9 │ JUL         27.3692  26.48    27.34  28.47         0  Float64\n",
      "  10 │ AUG         26.9401  26.21    26.9   28.17         0  Float64\n",
      "  11 │ SEP         26.3426  25.47    26.31  28.11         0  Float64\n",
      "  12 │ OCT         24.7421  23.52    24.67  27.24         0  Float64\n",
      "  13 │ NOV         21.7657  20.59    21.72  23.92         0  Float64\n",
      "  14 │ DEC         19.1733  17.98    19.18  21.89         0  Float64\n"
     ]
    }
   ],
   "source": [
    "data = CSV.read(\"/home/useeffect/Desktop/Kaggle/india.csv\",DataFrame)\n",
    "println(typeof(data))\n",
    "println(describe(data))\n"
   ]
  },
  {
   "cell_type": "code",
   "execution_count": 4,
   "id": "785414bb-4311-4619-b549-2d3074a64b69",
   "metadata": {},
   "outputs": [
    {
     "name": "stdout",
     "output_type": "stream",
     "text": [
      "\u001b[1m117×14 DataFrame\u001b[0m\n",
      "\u001b[1m Row \u001b[0m│\u001b[1m Column1 \u001b[0m\u001b[1m YEAR  \u001b[0m\u001b[1m JAN     \u001b[0m\u001b[1m FEB     \u001b[0m\u001b[1m MAR     \u001b[0m\u001b[1m APR     \u001b[0m\u001b[1m MAY     \u001b[0m\u001b[1m JUN     \u001b[0m\u001b[1m JUL     \u001b[0m\u001b[1m AUG     \u001b[0m\u001b[1m SEP     \u001b[0m\u001b[1m OCT     \u001b[0m\u001b[1m NOV     \u001b[0m\u001b[1m DEC     \u001b[0m\n",
      "\u001b[1m     \u001b[0m│\u001b[90m Int64   \u001b[0m\u001b[90m Int64 \u001b[0m\u001b[90m Float64 \u001b[0m\u001b[90m Float64 \u001b[0m\u001b[90m Float64 \u001b[0m\u001b[90m Float64 \u001b[0m\u001b[90m Float64 \u001b[0m\u001b[90m Float64 \u001b[0m\u001b[90m Float64 \u001b[0m\u001b[90m Float64 \u001b[0m\u001b[90m Float64 \u001b[0m\u001b[90m Float64 \u001b[0m\u001b[90m Float64 \u001b[0m\u001b[90m Float64 \u001b[0m\n",
      "─────┼────────────────────────────────────────────────────────────────────────────────────────────────────────────────────────────\n",
      "   1 │       0   1901    17.99    19.43    23.49    26.41    28.28    28.6     27.49    26.98    26.26    25.08    21.73    18.95\n",
      "   2 │       1   1902    19.0     20.39    24.1     26.54    28.68    28.44    27.29    27.05    25.95    24.37    21.33    18.78\n",
      "   3 │       2   1903    18.32    19.79    22.46    26.03    27.93    28.41    28.04    26.63    26.34    24.57    20.96    18.29\n",
      "   4 │       3   1904    17.77    19.39    22.95    26.73    27.83    27.85    26.84    26.73    25.84    24.36    21.07    18.84\n",
      "   5 │       4   1905    17.4     17.79    21.78    24.84    28.32    28.69    27.67    27.47    26.29    26.16    22.07    18.71\n",
      "   6 │       5   1906    17.5     19.14    22.21    26.53    29.06    28.02    27.46    26.82    26.23    24.75    21.93    19.55\n",
      "   7 │       6   1907    19.27    19.42    22.03    26.98    27.52    27.66    27.28    26.38    26.26    24.72    22.11    18.46\n",
      "   8 │       7   1908    18.35    19.73    22.93    27.06    28.07    28.49    27.16    26.41    25.74    24.25    21.06    18.15\n",
      "   9 │       8   1909    17.79    19.05    23.4     25.76    27.97    27.67    26.56    26.43    25.47    24.37    22.01    18.86\n",
      "  10 │       9   1910    18.14    19.72    22.9     25.96    28.36    27.72    26.93    26.61    25.98    24.04    20.72    18.05\n",
      "  11 │      10   1911    18.52    19.18    22.05    26.0     28.55    28.02    27.44    27.04    26.22    24.57    21.1     18.76\n",
      "  ⋮  │    ⋮       ⋮       ⋮        ⋮        ⋮        ⋮        ⋮        ⋮        ⋮        ⋮        ⋮        ⋮        ⋮        ⋮\n",
      " 107 │     106   2007    19.24    20.97    23.52    27.72    28.84    28.31    27.66    27.37    26.61    24.92    22.4     19.65\n",
      " 108 │     107   2008    18.49    19.83    24.43    26.54    28.42    28.1     27.5     27.0     26.44    25.47    22.51    20.62\n",
      " 109 │     108   2009    19.79    21.66    24.55    27.35    28.71    28.77    27.83    27.85    27.11    25.2     22.31    20.22\n",
      " 110 │     109   2010    19.15    21.23    26.53    28.4     29.19    28.51    27.55    27.33    26.6     25.58    22.98    19.22\n",
      " 111 │     110   2011    18.32    20.79    24.11    26.1     28.92    28.6     27.6     27.2     26.7     25.51    22.84    19.84\n",
      " 112 │     111   2012    18.25    20.43    23.98    26.89    28.72    28.91    27.98    27.31    26.65    24.85    22.26    19.91\n",
      " 113 │     112   2013    18.88    21.07    24.53    26.97    29.06    28.24    27.5     27.22    26.87    25.63    22.18    19.69\n",
      " 114 │     113   2014    18.81    20.35    23.34    26.91    28.45    29.42    28.07    27.42    26.61    25.38    22.53    19.5\n",
      " 115 │     114   2015    19.02    21.23    23.52    26.52    28.82    28.15    28.03    27.64    27.04    25.82    22.95    20.21\n",
      " 116 │     115   2016    20.92    23.58    26.61    29.56    30.41    29.7     28.18    28.17    27.72    26.81    23.9     21.89\n",
      " 117 │     116   2017    20.59    23.08    25.58    29.17    30.47    29.44    28.31    28.12    28.11    27.24    23.92    21.47\n",
      "\u001b[36m                                                                                                                   95 rows omitted\u001b[0m"
     ]
    }
   ],
   "source": [
    "show(data,allcols=true)"
   ]
  },
  {
   "cell_type": "code",
   "execution_count": 5,
   "id": "614990ee",
   "metadata": {},
   "outputs": [
    {
     "data": {
      "text/plain": [
       "\"117×14 DataFrame\""
      ]
     },
     "execution_count": 5,
     "metadata": {},
     "output_type": "execute_result"
    }
   ],
   "source": [
    "summary(data)"
   ]
  },
  {
   "cell_type": "code",
   "execution_count": 6,
   "id": "876b20e1",
   "metadata": {},
   "outputs": [
    {
     "data": {
      "text/plain": [
       "14-element Vector{String}:\n",
       " \"Column1\"\n",
       " \"YEAR\"\n",
       " \"JAN\"\n",
       " \"FEB\"\n",
       " \"MAR\"\n",
       " \"APR\"\n",
       " \"MAY\"\n",
       " \"JUN\"\n",
       " \"JUL\"\n",
       " \"AUG\"\n",
       " \"SEP\"\n",
       " \"OCT\"\n",
       " \"NOV\"\n",
       " \"DEC\""
      ]
     },
     "execution_count": 6,
     "metadata": {},
     "output_type": "execute_result"
    }
   ],
   "source": [
    "names(data)"
   ]
  },
  {
   "cell_type": "code",
   "execution_count": 7,
   "id": "e1a84548",
   "metadata": {},
   "outputs": [
    {
     "data": {
      "text/html": [
       "<table class=\"data-frame\"><thead><tr><th></th><th>Column1</th><th>YEAR</th><th>variable</th><th>value</th></tr><tr><th></th><th>Int64</th><th>Int64</th><th>String</th><th>Float64</th></tr></thead><tbody><p>1,404 rows × 4 columns</p><tr><th>1</th><td>0</td><td>1901</td><td>JAN</td><td>17.99</td></tr><tr><th>2</th><td>1</td><td>1902</td><td>JAN</td><td>19.0</td></tr><tr><th>3</th><td>2</td><td>1903</td><td>JAN</td><td>18.32</td></tr><tr><th>4</th><td>3</td><td>1904</td><td>JAN</td><td>17.77</td></tr><tr><th>5</th><td>4</td><td>1905</td><td>JAN</td><td>17.4</td></tr><tr><th>6</th><td>5</td><td>1906</td><td>JAN</td><td>17.5</td></tr><tr><th>7</th><td>6</td><td>1907</td><td>JAN</td><td>19.27</td></tr><tr><th>8</th><td>7</td><td>1908</td><td>JAN</td><td>18.35</td></tr><tr><th>9</th><td>8</td><td>1909</td><td>JAN</td><td>17.79</td></tr><tr><th>10</th><td>9</td><td>1910</td><td>JAN</td><td>18.14</td></tr><tr><th>11</th><td>10</td><td>1911</td><td>JAN</td><td>18.52</td></tr><tr><th>12</th><td>11</td><td>1912</td><td>JAN</td><td>18.6</td></tr><tr><th>13</th><td>12</td><td>1913</td><td>JAN</td><td>18.2</td></tr><tr><th>14</th><td>13</td><td>1914</td><td>JAN</td><td>18.96</td></tr><tr><th>15</th><td>14</td><td>1915</td><td>JAN</td><td>17.93</td></tr><tr><th>16</th><td>15</td><td>1916</td><td>JAN</td><td>18.52</td></tr><tr><th>17</th><td>16</td><td>1917</td><td>JAN</td><td>18.16</td></tr><tr><th>18</th><td>17</td><td>1918</td><td>JAN</td><td>17.25</td></tr><tr><th>19</th><td>18</td><td>1919</td><td>JAN</td><td>18.78</td></tr><tr><th>20</th><td>19</td><td>1920</td><td>JAN</td><td>18.27</td></tr><tr><th>21</th><td>20</td><td>1921</td><td>JAN</td><td>18.61</td></tr><tr><th>22</th><td>21</td><td>1922</td><td>JAN</td><td>18.3</td></tr><tr><th>23</th><td>22</td><td>1923</td><td>JAN</td><td>18.23</td></tr><tr><th>24</th><td>23</td><td>1924</td><td>JAN</td><td>18.06</td></tr><tr><th>25</th><td>24</td><td>1925</td><td>JAN</td><td>17.53</td></tr><tr><th>26</th><td>25</td><td>1926</td><td>JAN</td><td>18.65</td></tr><tr><th>27</th><td>26</td><td>1927</td><td>JAN</td><td>18.15</td></tr><tr><th>28</th><td>27</td><td>1928</td><td>JAN</td><td>18.66</td></tr><tr><th>29</th><td>28</td><td>1929</td><td>JAN</td><td>18.25</td></tr><tr><th>30</th><td>29</td><td>1930</td><td>JAN</td><td>17.75</td></tr><tr><th>&vellip;</th><td>&vellip;</td><td>&vellip;</td><td>&vellip;</td><td>&vellip;</td></tr></tbody></table>"
      ],
      "text/latex": [
       "\\begin{tabular}{r|cccc}\n",
       "\t& Column1 & YEAR & variable & value\\\\\n",
       "\t\\hline\n",
       "\t& Int64 & Int64 & String & Float64\\\\\n",
       "\t\\hline\n",
       "\t1 & 0 & 1901 & JAN & 17.99 \\\\\n",
       "\t2 & 1 & 1902 & JAN & 19.0 \\\\\n",
       "\t3 & 2 & 1903 & JAN & 18.32 \\\\\n",
       "\t4 & 3 & 1904 & JAN & 17.77 \\\\\n",
       "\t5 & 4 & 1905 & JAN & 17.4 \\\\\n",
       "\t6 & 5 & 1906 & JAN & 17.5 \\\\\n",
       "\t7 & 6 & 1907 & JAN & 19.27 \\\\\n",
       "\t8 & 7 & 1908 & JAN & 18.35 \\\\\n",
       "\t9 & 8 & 1909 & JAN & 17.79 \\\\\n",
       "\t10 & 9 & 1910 & JAN & 18.14 \\\\\n",
       "\t11 & 10 & 1911 & JAN & 18.52 \\\\\n",
       "\t12 & 11 & 1912 & JAN & 18.6 \\\\\n",
       "\t13 & 12 & 1913 & JAN & 18.2 \\\\\n",
       "\t14 & 13 & 1914 & JAN & 18.96 \\\\\n",
       "\t15 & 14 & 1915 & JAN & 17.93 \\\\\n",
       "\t16 & 15 & 1916 & JAN & 18.52 \\\\\n",
       "\t17 & 16 & 1917 & JAN & 18.16 \\\\\n",
       "\t18 & 17 & 1918 & JAN & 17.25 \\\\\n",
       "\t19 & 18 & 1919 & JAN & 18.78 \\\\\n",
       "\t20 & 19 & 1920 & JAN & 18.27 \\\\\n",
       "\t21 & 20 & 1921 & JAN & 18.61 \\\\\n",
       "\t22 & 21 & 1922 & JAN & 18.3 \\\\\n",
       "\t23 & 22 & 1923 & JAN & 18.23 \\\\\n",
       "\t24 & 23 & 1924 & JAN & 18.06 \\\\\n",
       "\t25 & 24 & 1925 & JAN & 17.53 \\\\\n",
       "\t26 & 25 & 1926 & JAN & 18.65 \\\\\n",
       "\t27 & 26 & 1927 & JAN & 18.15 \\\\\n",
       "\t28 & 27 & 1928 & JAN & 18.66 \\\\\n",
       "\t29 & 28 & 1929 & JAN & 18.25 \\\\\n",
       "\t30 & 29 & 1930 & JAN & 17.75 \\\\\n",
       "\t$\\dots$ & $\\dots$ & $\\dots$ & $\\dots$ & $\\dots$ \\\\\n",
       "\\end{tabular}\n"
      ],
      "text/plain": [
       "\u001b[1m1404×4 DataFrame\u001b[0m\n",
       "\u001b[1m  Row \u001b[0m│\u001b[1m Column1 \u001b[0m\u001b[1m YEAR  \u001b[0m\u001b[1m variable \u001b[0m\u001b[1m value   \u001b[0m\n",
       "\u001b[1m      \u001b[0m│\u001b[90m Int64   \u001b[0m\u001b[90m Int64 \u001b[0m\u001b[90m String   \u001b[0m\u001b[90m Float64 \u001b[0m\n",
       "──────┼───────────────────────────────────\n",
       "    1 │       0   1901  JAN         17.99\n",
       "    2 │       1   1902  JAN         19.0\n",
       "    3 │       2   1903  JAN         18.32\n",
       "    4 │       3   1904  JAN         17.77\n",
       "    5 │       4   1905  JAN         17.4\n",
       "    6 │       5   1906  JAN         17.5\n",
       "    7 │       6   1907  JAN         19.27\n",
       "    8 │       7   1908  JAN         18.35\n",
       "    9 │       8   1909  JAN         17.79\n",
       "   10 │       9   1910  JAN         18.14\n",
       "   11 │      10   1911  JAN         18.52\n",
       "  ⋮   │    ⋮       ⋮       ⋮         ⋮\n",
       " 1395 │     107   2008  DEC         20.62\n",
       " 1396 │     108   2009  DEC         20.22\n",
       " 1397 │     109   2010  DEC         19.22\n",
       " 1398 │     110   2011  DEC         19.84\n",
       " 1399 │     111   2012  DEC         19.91\n",
       " 1400 │     112   2013  DEC         19.69\n",
       " 1401 │     113   2014  DEC         19.5\n",
       " 1402 │     114   2015  DEC         20.21\n",
       " 1403 │     115   2016  DEC         21.89\n",
       " 1404 │     116   2017  DEC         21.47\n",
       "\u001b[36m                         1383 rows omitted\u001b[0m"
      ]
     },
     "execution_count": 7,
     "metadata": {},
     "output_type": "execute_result"
    }
   ],
   "source": [
    "data2 = stack(data,3:14)"
   ]
  },
  {
   "cell_type": "code",
   "execution_count": 8,
   "id": "8e6229e0",
   "metadata": {},
   "outputs": [
    {
     "data": {
      "text/html": [
       "<table class=\"data-frame\"><thead><tr><th></th><th>variable</th><th>mean</th><th>min</th><th>median</th><th>max</th><th>nmissing</th><th>eltype</th></tr><tr><th></th><th>Symbol</th><th>Union…</th><th>Any</th><th>Union…</th><th>Any</th><th>Int64</th><th>DataType</th></tr></thead><tbody><p>4 rows × 7 columns</p><tr><th>1</th><td>Column1</td><td>58.0</td><td>0</td><td>58.0</td><td>116</td><td>0</td><td>Int64</td></tr><tr><th>2</th><td>YEAR</td><td>1959.0</td><td>1901</td><td>1959.0</td><td>2017</td><td>0</td><td>Int64</td></tr><tr><th>3</th><td>variable</td><td></td><td>APR</td><td></td><td>SEP</td><td>0</td><td>String</td></tr><tr><th>4</th><td>value</td><td>24.2942</td><td>17.25</td><td>25.57</td><td>30.78</td><td>0</td><td>Float64</td></tr></tbody></table>"
      ],
      "text/latex": [
       "\\begin{tabular}{r|ccccccc}\n",
       "\t& variable & mean & min & median & max & nmissing & eltype\\\\\n",
       "\t\\hline\n",
       "\t& Symbol & Union… & Any & Union… & Any & Int64 & DataType\\\\\n",
       "\t\\hline\n",
       "\t1 & Column1 & 58.0 & 0 & 58.0 & 116 & 0 & Int64 \\\\\n",
       "\t2 & YEAR & 1959.0 & 1901 & 1959.0 & 2017 & 0 & Int64 \\\\\n",
       "\t3 & variable &  & APR &  & SEP & 0 & String \\\\\n",
       "\t4 & value & 24.2942 & 17.25 & 25.57 & 30.78 & 0 & Float64 \\\\\n",
       "\\end{tabular}\n"
      ],
      "text/plain": [
       "\u001b[1m4×7 DataFrame\u001b[0m\n",
       "\u001b[1m Row \u001b[0m│\u001b[1m variable \u001b[0m\u001b[1m mean    \u001b[0m\u001b[1m min   \u001b[0m\u001b[1m median \u001b[0m\u001b[1m max   \u001b[0m\u001b[1m nmissing \u001b[0m\u001b[1m eltype   \u001b[0m\n",
       "\u001b[1m     \u001b[0m│\u001b[90m Symbol   \u001b[0m\u001b[90m Union…  \u001b[0m\u001b[90m Any   \u001b[0m\u001b[90m Union… \u001b[0m\u001b[90m Any   \u001b[0m\u001b[90m Int64    \u001b[0m\u001b[90m DataType \u001b[0m\n",
       "─────┼─────────────────────────────────────────────────────────────\n",
       "   1 │ Column1   58.0     0      58.0    116           0  Int64\n",
       "   2 │ YEAR      1959.0   1901   1959.0  2017          0  Int64\n",
       "   3 │ variable \u001b[90m         \u001b[0m APR   \u001b[90m        \u001b[0m SEP           0  String\n",
       "   4 │ value     24.2942  17.25  25.57   30.78         0  Float64"
      ]
     },
     "execution_count": 8,
     "metadata": {},
     "output_type": "execute_result"
    }
   ],
   "source": [
    "describe(data2)"
   ]
  },
  {
   "cell_type": "code",
   "execution_count": 9,
   "id": "cc03e7e4",
   "metadata": {},
   "outputs": [
    {
     "data": {
      "text/html": [
       "<table class=\"data-frame\"><thead><tr><th></th><th>YEAR</th><th>variable</th><th>value</th></tr><tr><th></th><th>Int64</th><th>String</th><th>Float64</th></tr></thead><tbody><p>1,404 rows × 3 columns</p><tr><th>1</th><td>1901</td><td>JAN</td><td>17.99</td></tr><tr><th>2</th><td>1902</td><td>JAN</td><td>19.0</td></tr><tr><th>3</th><td>1903</td><td>JAN</td><td>18.32</td></tr><tr><th>4</th><td>1904</td><td>JAN</td><td>17.77</td></tr><tr><th>5</th><td>1905</td><td>JAN</td><td>17.4</td></tr><tr><th>6</th><td>1906</td><td>JAN</td><td>17.5</td></tr><tr><th>7</th><td>1907</td><td>JAN</td><td>19.27</td></tr><tr><th>8</th><td>1908</td><td>JAN</td><td>18.35</td></tr><tr><th>9</th><td>1909</td><td>JAN</td><td>17.79</td></tr><tr><th>10</th><td>1910</td><td>JAN</td><td>18.14</td></tr><tr><th>11</th><td>1911</td><td>JAN</td><td>18.52</td></tr><tr><th>12</th><td>1912</td><td>JAN</td><td>18.6</td></tr><tr><th>13</th><td>1913</td><td>JAN</td><td>18.2</td></tr><tr><th>14</th><td>1914</td><td>JAN</td><td>18.96</td></tr><tr><th>15</th><td>1915</td><td>JAN</td><td>17.93</td></tr><tr><th>16</th><td>1916</td><td>JAN</td><td>18.52</td></tr><tr><th>17</th><td>1917</td><td>JAN</td><td>18.16</td></tr><tr><th>18</th><td>1918</td><td>JAN</td><td>17.25</td></tr><tr><th>19</th><td>1919</td><td>JAN</td><td>18.78</td></tr><tr><th>20</th><td>1920</td><td>JAN</td><td>18.27</td></tr><tr><th>21</th><td>1921</td><td>JAN</td><td>18.61</td></tr><tr><th>22</th><td>1922</td><td>JAN</td><td>18.3</td></tr><tr><th>23</th><td>1923</td><td>JAN</td><td>18.23</td></tr><tr><th>24</th><td>1924</td><td>JAN</td><td>18.06</td></tr><tr><th>25</th><td>1925</td><td>JAN</td><td>17.53</td></tr><tr><th>26</th><td>1926</td><td>JAN</td><td>18.65</td></tr><tr><th>27</th><td>1927</td><td>JAN</td><td>18.15</td></tr><tr><th>28</th><td>1928</td><td>JAN</td><td>18.66</td></tr><tr><th>29</th><td>1929</td><td>JAN</td><td>18.25</td></tr><tr><th>30</th><td>1930</td><td>JAN</td><td>17.75</td></tr><tr><th>&vellip;</th><td>&vellip;</td><td>&vellip;</td><td>&vellip;</td></tr></tbody></table>"
      ],
      "text/latex": [
       "\\begin{tabular}{r|ccc}\n",
       "\t& YEAR & variable & value\\\\\n",
       "\t\\hline\n",
       "\t& Int64 & String & Float64\\\\\n",
       "\t\\hline\n",
       "\t1 & 1901 & JAN & 17.99 \\\\\n",
       "\t2 & 1902 & JAN & 19.0 \\\\\n",
       "\t3 & 1903 & JAN & 18.32 \\\\\n",
       "\t4 & 1904 & JAN & 17.77 \\\\\n",
       "\t5 & 1905 & JAN & 17.4 \\\\\n",
       "\t6 & 1906 & JAN & 17.5 \\\\\n",
       "\t7 & 1907 & JAN & 19.27 \\\\\n",
       "\t8 & 1908 & JAN & 18.35 \\\\\n",
       "\t9 & 1909 & JAN & 17.79 \\\\\n",
       "\t10 & 1910 & JAN & 18.14 \\\\\n",
       "\t11 & 1911 & JAN & 18.52 \\\\\n",
       "\t12 & 1912 & JAN & 18.6 \\\\\n",
       "\t13 & 1913 & JAN & 18.2 \\\\\n",
       "\t14 & 1914 & JAN & 18.96 \\\\\n",
       "\t15 & 1915 & JAN & 17.93 \\\\\n",
       "\t16 & 1916 & JAN & 18.52 \\\\\n",
       "\t17 & 1917 & JAN & 18.16 \\\\\n",
       "\t18 & 1918 & JAN & 17.25 \\\\\n",
       "\t19 & 1919 & JAN & 18.78 \\\\\n",
       "\t20 & 1920 & JAN & 18.27 \\\\\n",
       "\t21 & 1921 & JAN & 18.61 \\\\\n",
       "\t22 & 1922 & JAN & 18.3 \\\\\n",
       "\t23 & 1923 & JAN & 18.23 \\\\\n",
       "\t24 & 1924 & JAN & 18.06 \\\\\n",
       "\t25 & 1925 & JAN & 17.53 \\\\\n",
       "\t26 & 1926 & JAN & 18.65 \\\\\n",
       "\t27 & 1927 & JAN & 18.15 \\\\\n",
       "\t28 & 1928 & JAN & 18.66 \\\\\n",
       "\t29 & 1929 & JAN & 18.25 \\\\\n",
       "\t30 & 1930 & JAN & 17.75 \\\\\n",
       "\t$\\dots$ & $\\dots$ & $\\dots$ & $\\dots$ \\\\\n",
       "\\end{tabular}\n"
      ],
      "text/plain": [
       "\u001b[1m1404×3 DataFrame\u001b[0m\n",
       "\u001b[1m  Row \u001b[0m│\u001b[1m YEAR  \u001b[0m\u001b[1m variable \u001b[0m\u001b[1m value   \u001b[0m\n",
       "\u001b[1m      \u001b[0m│\u001b[90m Int64 \u001b[0m\u001b[90m String   \u001b[0m\u001b[90m Float64 \u001b[0m\n",
       "──────┼──────────────────────────\n",
       "    1 │  1901  JAN         17.99\n",
       "    2 │  1902  JAN         19.0\n",
       "    3 │  1903  JAN         18.32\n",
       "    4 │  1904  JAN         17.77\n",
       "    5 │  1905  JAN         17.4\n",
       "    6 │  1906  JAN         17.5\n",
       "    7 │  1907  JAN         19.27\n",
       "    8 │  1908  JAN         18.35\n",
       "    9 │  1909  JAN         17.79\n",
       "   10 │  1910  JAN         18.14\n",
       "   11 │  1911  JAN         18.52\n",
       "  ⋮   │   ⋮       ⋮         ⋮\n",
       " 1395 │  2008  DEC         20.62\n",
       " 1396 │  2009  DEC         20.22\n",
       " 1397 │  2010  DEC         19.22\n",
       " 1398 │  2011  DEC         19.84\n",
       " 1399 │  2012  DEC         19.91\n",
       " 1400 │  2013  DEC         19.69\n",
       " 1401 │  2014  DEC         19.5\n",
       " 1402 │  2015  DEC         20.21\n",
       " 1403 │  2016  DEC         21.89\n",
       " 1404 │  2017  DEC         21.47\n",
       "\u001b[36m                1383 rows omitted\u001b[0m"
      ]
     },
     "execution_count": 9,
     "metadata": {},
     "output_type": "execute_result"
    }
   ],
   "source": [
    "select!(data2,Not(:Column1))"
   ]
  },
  {
   "cell_type": "code",
   "execution_count": 24,
   "id": "da09d08b",
   "metadata": {},
   "outputs": [
    {
     "name": "stdout",
     "output_type": "stream",
     "text": [
      "[\"JAN\", \"JAN\", \"JAN\", \"JAN\", \"JAN\", \"JAN\", \"JAN\", \"JAN\", \"JAN\", \"JAN\", \"JAN\", \"JAN\", \"JAN\", \"JAN\", \"JAN\", \"JAN\", \"JAN\", \"JAN\", \"JAN\", \"JAN\", \"JAN\", \"JAN\", \"JAN\", \"JAN\", \"JAN\", \"JAN\", \"JAN\", \"JAN\", \"JAN\", \"JAN\", \"JAN\", \"JAN\", \"JAN\", \"JAN\", \"JAN\", \"JAN\", \"JAN\", \"JAN\", \"JAN\", \"JAN\", \"JAN\", \"JAN\", \"JAN\", \"JAN\", \"JAN\", \"JAN\", \"JAN\", \"JAN\", \"JAN\", \"JAN\", \"JAN\", \"JAN\", \"JAN\", \"JAN\", \"JAN\", \"JAN\", \"JAN\", \"JAN\", \"JAN\", \"JAN\", \"JAN\", \"JAN\", \"JAN\", \"JAN\", \"JAN\", \"JAN\", \"JAN\", \"JAN\", \"JAN\", \"JAN\", \"JAN\", \"JAN\", \"JAN\", \"JAN\", \"JAN\", \"JAN\", \"JAN\", \"JAN\", \"JAN\", \"JAN\", \"JAN\", \"JAN\", \"JAN\", \"JAN\", \"JAN\", \"JAN\", \"JAN\", \"JAN\", \"JAN\", \"JAN\", \"JAN\", \"JAN\", \"JAN\", \"JAN\", \"JAN\", \"JAN\", \"JAN\", \"JAN\", \"JAN\", \"JAN\", \"JAN\", \"JAN\", \"JAN\", \"JAN\", \"JAN\", \"JAN\", \"JAN\", \"JAN\", \"JAN\", \"JAN\", \"JAN\", \"JAN\", \"JAN\", \"JAN\", \"JAN\", \"JAN\", \"JAN\", \"FEB\", \"FEB\", \"FEB\", \"FEB\", \"FEB\", \"FEB\", \"FEB\", \"FEB\", \"FEB\", \"FEB\", \"FEB\", \"FEB\", \"FEB\", \"FEB\", \"FEB\", \"FEB\", \"FEB\", \"FEB\", \"FEB\", \"FEB\", \"FEB\", \"FEB\", \"FEB\", \"FEB\", \"FEB\", \"FEB\", \"FEB\", \"FEB\", \"FEB\", \"FEB\", \"FEB\", \"FEB\", \"FEB\", \"FEB\", \"FEB\", \"FEB\", \"FEB\", \"FEB\", \"FEB\", \"FEB\", \"FEB\", \"FEB\", \"FEB\", \"FEB\", \"FEB\", \"FEB\", \"FEB\", \"FEB\", \"FEB\", \"FEB\", \"FEB\", \"FEB\", \"FEB\", \"FEB\", \"FEB\", \"FEB\", \"FEB\", \"FEB\", \"FEB\", \"FEB\", \"FEB\", \"FEB\", \"FEB\", \"FEB\", \"FEB\", \"FEB\", \"FEB\", \"FEB\", \"FEB\", \"FEB\", \"FEB\", \"FEB\", \"FEB\", \"FEB\", \"FEB\", \"FEB\", \"FEB\", \"FEB\", \"FEB\", \"FEB\", \"FEB\", \"FEB\", \"FEB\", \"FEB\", \"FEB\", \"FEB\", \"FEB\", \"FEB\", \"FEB\", \"FEB\", \"FEB\", \"FEB\", \"FEB\", \"FEB\", \"FEB\", \"FEB\", \"FEB\", \"FEB\", \"FEB\", \"FEB\", \"FEB\", \"FEB\", \"FEB\", \"FEB\", \"FEB\", \"FEB\", \"FEB\", \"FEB\", \"FEB\", \"FEB\", \"FEB\", \"FEB\", \"FEB\", \"FEB\", \"FEB\", \"FEB\", \"FEB\", \"MAR\", \"MAR\", \"MAR\", \"MAR\", \"MAR\", \"MAR\", \"MAR\", \"MAR\", \"MAR\", \"MAR\", \"MAR\", \"MAR\", \"MAR\", \"MAR\", \"MAR\", \"MAR\", \"MAR\", \"MAR\", \"MAR\", \"MAR\", \"MAR\", \"MAR\", \"MAR\", \"MAR\", \"MAR\", \"MAR\", \"MAR\", \"MAR\", \"MAR\", \"MAR\", \"MAR\", \"MAR\", \"MAR\", \"MAR\", \"MAR\", \"MAR\", \"MAR\", \"MAR\", \"MAR\", \"MAR\", \"MAR\", \"MAR\", \"MAR\", \"MAR\", \"MAR\", \"MAR\", \"MAR\", \"MAR\", \"MAR\", \"MAR\", \"MAR\", \"MAR\", \"MAR\", \"MAR\", \"MAR\", \"MAR\", \"MAR\", \"MAR\", \"MAR\", \"MAR\", \"MAR\", \"MAR\", \"MAR\", \"MAR\", \"MAR\", \"MAR\", \"MAR\", \"MAR\", \"MAR\", \"MAR\", \"MAR\", \"MAR\", \"MAR\", \"MAR\", \"MAR\", \"MAR\", \"MAR\", \"MAR\", \"MAR\", \"MAR\", \"MAR\", \"MAR\", \"MAR\", \"MAR\", \"MAR\", \"MAR\", \"MAR\", \"MAR\", \"MAR\", \"MAR\", \"MAR\", \"MAR\", \"MAR\", \"MAR\", \"MAR\", \"MAR\", \"MAR\", \"MAR\", \"MAR\", \"MAR\", \"MAR\", \"MAR\", \"MAR\", \"MAR\", \"MAR\", \"MAR\", \"MAR\", \"MAR\", \"MAR\", \"MAR\", \"MAR\", \"MAR\", \"MAR\", \"MAR\", \"MAR\", \"MAR\", \"MAR\", \"APR\", \"APR\", \"APR\", \"APR\", \"APR\", \"APR\", \"APR\", \"APR\", \"APR\", \"APR\", \"APR\", \"APR\", \"APR\", \"APR\", \"APR\", \"APR\", \"APR\", \"APR\", \"APR\", \"APR\", \"APR\", \"APR\", \"APR\", \"APR\", \"APR\", \"APR\", \"APR\", \"APR\", \"APR\", \"APR\", \"APR\", \"APR\", \"APR\", \"APR\", \"APR\", \"APR\", \"APR\", \"APR\", \"APR\", \"APR\", \"APR\", \"APR\", \"APR\", \"APR\", \"APR\", \"APR\", \"APR\", \"APR\", \"APR\", \"APR\", \"APR\", \"APR\", \"APR\", \"APR\", \"APR\", \"APR\", \"APR\", \"APR\", \"APR\", \"APR\", \"APR\", \"APR\", \"APR\", \"APR\", \"APR\", \"APR\", \"APR\", \"APR\", \"APR\", \"APR\", \"APR\", \"APR\", \"APR\", \"APR\", \"APR\", \"APR\", \"APR\", \"APR\", \"APR\", \"APR\", \"APR\", \"APR\", \"APR\", \"APR\", \"APR\", \"APR\", \"APR\", \"APR\", \"APR\", \"APR\", \"APR\", \"APR\", \"APR\", \"APR\", \"APR\", \"APR\", \"APR\", \"APR\", \"APR\", \"APR\", \"APR\", \"APR\", \"APR\", \"APR\", \"APR\", \"APR\", \"APR\", \"APR\", \"APR\", \"APR\", \"APR\", \"APR\", \"APR\", \"APR\", \"APR\", \"APR\", \"APR\", \"MAY\", \"MAY\", \"MAY\", \"MAY\", \"MAY\", \"MAY\", \"MAY\", \"MAY\", \"MAY\", \"MAY\", \"MAY\", \"MAY\", \"MAY\", \"MAY\", \"MAY\", \"MAY\", \"MAY\", \"MAY\", \"MAY\", \"MAY\", \"MAY\", \"MAY\", \"MAY\", \"MAY\", \"MAY\", \"MAY\", \"MAY\", \"MAY\", \"MAY\", \"MAY\", \"MAY\", \"MAY\", \"MAY\", \"MAY\", \"MAY\", \"MAY\", \"MAY\", \"MAY\", \"MAY\", \"MAY\", \"MAY\", \"MAY\", \"MAY\", \"MAY\", \"MAY\", \"MAY\", \"MAY\", \"MAY\", \"MAY\", \"MAY\", \"MAY\", \"MAY\", \"MAY\", \"MAY\", \"MAY\", \"MAY\", \"MAY\", \"MAY\", \"MAY\", \"MAY\", \"MAY\", \"MAY\", \"MAY\", \"MAY\", \"MAY\", \"MAY\", \"MAY\", \"MAY\", \"MAY\", \"MAY\", \"MAY\", \"MAY\", \"MAY\", \"MAY\", \"MAY\", \"MAY\", \"MAY\", \"MAY\", \"MAY\", \"MAY\", \"MAY\", \"MAY\", \"MAY\", \"MAY\", \"MAY\", \"MAY\", \"MAY\", \"MAY\", \"MAY\", \"MAY\", \"MAY\", \"MAY\", \"MAY\", \"MAY\", \"MAY\", \"MAY\", \"MAY\", \"MAY\", \"MAY\", \"MAY\", \"MAY\", \"MAY\", \"MAY\", \"MAY\", \"MAY\", \"MAY\", \"MAY\", \"MAY\", \"MAY\", \"MAY\", \"MAY\", \"MAY\", \"MAY\", \"MAY\", \"MAY\", \"MAY\", \"MAY\", \"JUN\", \"JUN\", \"JUN\", \"JUN\", \"JUN\", \"JUN\", \"JUN\", \"JUN\", \"JUN\", \"JUN\", \"JUN\", \"JUN\", \"JUN\", \"JUN\", \"JUN\", \"JUN\", \"JUN\", \"JUN\", \"JUN\", \"JUN\", \"JUN\", \"JUN\", \"JUN\", \"JUN\", \"JUN\", \"JUN\", \"JUN\", \"JUN\", \"JUN\", \"JUN\", \"JUN\", \"JUN\", \"JUN\", \"JUN\", \"JUN\", \"JUN\", \"JUN\", \"JUN\", \"JUN\", \"JUN\", \"JUN\", \"JUN\", \"JUN\", \"JUN\", \"JUN\", \"JUN\", \"JUN\", \"JUN\", \"JUN\", \"JUN\", \"JUN\", \"JUN\", \"JUN\", \"JUN\", \"JUN\", \"JUN\", \"JUN\", \"JUN\", \"JUN\", \"JUN\", \"JUN\", \"JUN\", \"JUN\", \"JUN\", \"JUN\", \"JUN\", \"JUN\", \"JUN\", \"JUN\", \"JUN\", \"JUN\", \"JUN\", \"JUN\", \"JUN\", \"JUN\", \"JUN\", \"JUN\", \"JUN\", \"JUN\", \"JUN\", \"JUN\", \"JUN\", \"JUN\", \"JUN\", \"JUN\", \"JUN\", \"JUN\", \"JUN\", \"JUN\", \"JUN\", \"JUN\", \"JUN\", \"JUN\", \"JUN\", \"JUN\", \"JUN\", \"JUN\", \"JUN\", \"JUN\", \"JUN\", \"JUN\", \"JUN\", \"JUN\", \"JUN\", \"JUN\", \"JUN\", \"JUN\", \"JUN\", \"JUN\", \"JUN\", \"JUN\", \"JUN\", \"JUN\", \"JUN\", \"JUN\", \"JUN\", \"JUN\", \"JUL\", \"JUL\", \"JUL\", \"JUL\", \"JUL\", \"JUL\", \"JUL\", \"JUL\", \"JUL\", \"JUL\", \"JUL\", \"JUL\", \"JUL\", \"JUL\", \"JUL\", \"JUL\", \"JUL\", \"JUL\", \"JUL\", \"JUL\", \"JUL\", \"JUL\", \"JUL\", \"JUL\", \"JUL\", \"JUL\", \"JUL\", \"JUL\", \"JUL\", \"JUL\", \"JUL\", \"JUL\", \"JUL\", \"JUL\", \"JUL\", \"JUL\", \"JUL\", \"JUL\", \"JUL\", \"JUL\", \"JUL\", \"JUL\", \"JUL\", \"JUL\", \"JUL\", \"JUL\", \"JUL\", \"JUL\", \"JUL\", \"JUL\", \"JUL\", \"JUL\", \"JUL\", \"JUL\", \"JUL\", \"JUL\", \"JUL\", \"JUL\", \"JUL\", \"JUL\", \"JUL\", \"JUL\", \"JUL\", \"JUL\", \"JUL\", \"JUL\", \"JUL\", \"JUL\", \"JUL\", \"JUL\", \"JUL\", \"JUL\", \"JUL\", \"JUL\", \"JUL\", \"JUL\", \"JUL\", \"JUL\", \"JUL\", \"JUL\", \"JUL\", \"JUL\", \"JUL\", \"JUL\", \"JUL\", \"JUL\", \"JUL\", \"JUL\", \"JUL\", \"JUL\", \"JUL\", \"JUL\", \"JUL\", \"JUL\", \"JUL\", \"JUL\", \"JUL\", \"JUL\", \"JUL\", \"JUL\", \"JUL\", \"JUL\", \"JUL\", \"JUL\", \"JUL\", \"JUL\", \"JUL\", \"JUL\", \"JUL\", \"JUL\", \"JUL\", \"JUL\", \"JUL\", \"JUL\", \"JUL\", \"JUL\", \"JUL\", \"AUG\", \"AUG\", \"AUG\", \"AUG\", \"AUG\", \"AUG\", \"AUG\", \"AUG\", \"AUG\", \"AUG\", \"AUG\", \"AUG\", \"AUG\", \"AUG\", \"AUG\", \"AUG\", \"AUG\", \"AUG\", \"AUG\", \"AUG\", \"AUG\", \"AUG\", \"AUG\", \"AUG\", \"AUG\", \"AUG\", \"AUG\", \"AUG\", \"AUG\", \"AUG\", \"AUG\", \"AUG\", \"AUG\", \"AUG\", \"AUG\", \"AUG\", \"AUG\", \"AUG\", \"AUG\", \"AUG\", \"AUG\", \"AUG\", \"AUG\", \"AUG\", \"AUG\", \"AUG\", \"AUG\", \"AUG\", \"AUG\", \"AUG\", \"AUG\", \"AUG\", \"AUG\", \"AUG\", \"AUG\", \"AUG\", \"AUG\", \"AUG\", \"AUG\", \"AUG\", \"AUG\", \"AUG\", \"AUG\", \"AUG\", \"AUG\", \"AUG\", \"AUG\", \"AUG\", \"AUG\", \"AUG\", \"AUG\", \"AUG\", \"AUG\", \"AUG\", \"AUG\", \"AUG\", \"AUG\", \"AUG\", \"AUG\", \"AUG\", \"AUG\", \"AUG\", \"AUG\", \"AUG\", \"AUG\", \"AUG\", \"AUG\", \"AUG\", \"AUG\", \"AUG\", \"AUG\", \"AUG\", \"AUG\", \"AUG\", \"AUG\", \"AUG\", \"AUG\", \"AUG\", \"AUG\", \"AUG\", \"AUG\", \"AUG\", \"AUG\", \"AUG\", \"AUG\", \"AUG\", \"AUG\", \"AUG\", \"AUG\", \"AUG\", \"AUG\", \"AUG\", \"AUG\", \"AUG\", \"AUG\", \"AUG\", \"AUG\", \"SEP\", \"SEP\", \"SEP\", \"SEP\", \"SEP\", \"SEP\", \"SEP\", \"SEP\", \"SEP\", \"SEP\", \"SEP\", \"SEP\", \"SEP\", \"SEP\", \"SEP\", \"SEP\", \"SEP\", \"SEP\", \"SEP\", \"SEP\", \"SEP\", \"SEP\", \"SEP\", \"SEP\", \"SEP\", \"SEP\", \"SEP\", \"SEP\", \"SEP\", \"SEP\", \"SEP\", \"SEP\", \"SEP\", \"SEP\", \"SEP\", \"SEP\", \"SEP\", \"SEP\", \"SEP\", \"SEP\", \"SEP\", \"SEP\", \"SEP\", \"SEP\", \"SEP\", \"SEP\", \"SEP\", \"SEP\", \"SEP\", \"SEP\", \"SEP\", \"SEP\", \"SEP\", \"SEP\", \"SEP\", \"SEP\", \"SEP\", \"SEP\", \"SEP\", \"SEP\", \"SEP\", \"SEP\", \"SEP\", \"SEP\", \"SEP\", \"SEP\", \"SEP\", \"SEP\", \"SEP\", \"SEP\", \"SEP\", \"SEP\", \"SEP\", \"SEP\", \"SEP\", \"SEP\", \"SEP\", \"SEP\", \"SEP\", \"SEP\", \"SEP\", \"SEP\", \"SEP\", \"SEP\", \"SEP\", \"SEP\", \"SEP\", \"SEP\", \"SEP\", \"SEP\", \"SEP\", \"SEP\", \"SEP\", \"SEP\", \"SEP\", \"SEP\", \"SEP\", \"SEP\", \"SEP\", \"SEP\", \"SEP\", \"SEP\", \"SEP\", \"SEP\", \"SEP\", \"SEP\", \"SEP\", \"SEP\", \"SEP\", \"SEP\", \"SEP\", \"SEP\", \"SEP\", \"SEP\", \"SEP\", \"SEP\", \"SEP\", \"OCT\", \"OCT\", \"OCT\", \"OCT\", \"OCT\", \"OCT\", \"OCT\", \"OCT\", \"OCT\", \"OCT\", \"OCT\", \"OCT\", \"OCT\", \"OCT\", \"OCT\", \"OCT\", \"OCT\", \"OCT\", \"OCT\", \"OCT\", \"OCT\", \"OCT\", \"OCT\", \"OCT\", \"OCT\", \"OCT\", \"OCT\", \"OCT\", \"OCT\", \"OCT\", \"OCT\", \"OCT\", \"OCT\", \"OCT\", \"OCT\", \"OCT\", \"OCT\", \"OCT\", \"OCT\", \"OCT\", \"OCT\", \"OCT\", \"OCT\", \"OCT\", \"OCT\", \"OCT\", \"OCT\", \"OCT\", \"OCT\", \"OCT\", \"OCT\", \"OCT\", \"OCT\", \"OCT\", \"OCT\", \"OCT\", \"OCT\", \"OCT\", \"OCT\", \"OCT\", \"OCT\", \"OCT\", \"OCT\", \"OCT\", \"OCT\", \"OCT\", \"OCT\", \"OCT\", \"OCT\", \"OCT\", \"OCT\", \"OCT\", \"OCT\", \"OCT\", \"OCT\", \"OCT\", \"OCT\", \"OCT\", \"OCT\", \"OCT\", \"OCT\", \"OCT\", \"OCT\", \"OCT\", \"OCT\", \"OCT\", \"OCT\", \"OCT\", \"OCT\", \"OCT\", \"OCT\", \"OCT\", \"OCT\", \"OCT\", \"OCT\", \"OCT\", \"OCT\", \"OCT\", \"OCT\", \"OCT\", \"OCT\", \"OCT\", \"OCT\", \"OCT\", \"OCT\", \"OCT\", \"OCT\", \"OCT\", \"OCT\", \"OCT\", \"OCT\", \"OCT\", \"OCT\", \"OCT\", \"OCT\", \"OCT\", \"OCT\", \"NOV\", \"NOV\", \"NOV\", \"NOV\", \"NOV\", \"NOV\", \"NOV\", \"NOV\", \"NOV\", \"NOV\", \"NOV\", \"NOV\", \"NOV\", \"NOV\", \"NOV\", \"NOV\", \"NOV\", \"NOV\", \"NOV\", \"NOV\", \"NOV\", \"NOV\", \"NOV\", \"NOV\", \"NOV\", \"NOV\", \"NOV\", \"NOV\", \"NOV\", \"NOV\", \"NOV\", \"NOV\", \"NOV\", \"NOV\", \"NOV\", \"NOV\", \"NOV\", \"NOV\", \"NOV\", \"NOV\", \"NOV\", \"NOV\", \"NOV\", \"NOV\", \"NOV\", \"NOV\", \"NOV\", \"NOV\", \"NOV\", \"NOV\", \"NOV\", \"NOV\", \"NOV\", \"NOV\", \"NOV\", \"NOV\", \"NOV\", \"NOV\", \"NOV\", \"NOV\", \"NOV\", \"NOV\", \"NOV\", \"NOV\", \"NOV\", \"NOV\", \"NOV\", \"NOV\", \"NOV\", \"NOV\", \"NOV\", \"NOV\", \"NOV\", \"NOV\", \"NOV\", \"NOV\", \"NOV\", \"NOV\", \"NOV\", \"NOV\", \"NOV\", \"NOV\", \"NOV\", \"NOV\", \"NOV\", \"NOV\", \"NOV\", \"NOV\", \"NOV\", \"NOV\", \"NOV\", \"NOV\", \"NOV\", \"NOV\", \"NOV\", \"NOV\", \"NOV\", \"NOV\", \"NOV\", \"NOV\", \"NOV\", \"NOV\", \"NOV\", \"NOV\", \"NOV\", \"NOV\", \"NOV\", \"NOV\", \"NOV\", \"NOV\", \"NOV\", \"NOV\", \"NOV\", \"NOV\", \"NOV\", \"NOV\", \"NOV\", \"DEC\", \"DEC\", \"DEC\", \"DEC\", \"DEC\", \"DEC\", \"DEC\", \"DEC\", \"DEC\", \"DEC\", \"DEC\", \"DEC\", \"DEC\", \"DEC\", \"DEC\", \"DEC\", \"DEC\", \"DEC\", \"DEC\", \"DEC\", \"DEC\", \"DEC\", \"DEC\", \"DEC\", \"DEC\", \"DEC\", \"DEC\", \"DEC\", \"DEC\", \"DEC\", \"DEC\", \"DEC\", \"DEC\", \"DEC\", \"DEC\", \"DEC\", \"DEC\", \"DEC\", \"DEC\", \"DEC\", \"DEC\", \"DEC\", \"DEC\", \"DEC\", \"DEC\", \"DEC\", \"DEC\", \"DEC\", \"DEC\", \"DEC\", \"DEC\", \"DEC\", \"DEC\", \"DEC\", \"DEC\", \"DEC\", \"DEC\", \"DEC\", \"DEC\", \"DEC\", \"DEC\", \"DEC\", \"DEC\", \"DEC\", \"DEC\", \"DEC\", \"DEC\", \"DEC\", \"DEC\", \"DEC\", \"DEC\", \"DEC\", \"DEC\", \"DEC\", \"DEC\", \"DEC\", \"DEC\", \"DEC\", \"DEC\", \"DEC\", \"DEC\", \"DEC\", \"DEC\", \"DEC\", \"DEC\", \"DEC\", \"DEC\", \"DEC\", \"DEC\", \"DEC\", \"DEC\", \"DEC\", \"DEC\", \"DEC\", \"DEC\", \"DEC\", \"DEC\", \"DEC\", \"DEC\", \"DEC\", \"DEC\", \"DEC\", \"DEC\", \"DEC\", \"DEC\", \"DEC\", \"DEC\", \"DEC\", \"DEC\", \"DEC\", \"DEC\", \"DEC\", \"DEC\", \"DEC\", \"DEC\", \"DEC\", \"DEC\"]\n"
     ]
    },
    {
     "data": {
      "text/plain": [
       "\"[\\\"JAN\\\", \\\"JAN\\\", \\\"JAN\\\", \\\"JAN\\\", \\\"JAN\\\", \\\"JAN\\\", \\\"JAN\\\", \\\"JAN\\\", \\\"JAN\\\", \\\"JAN\\\", \\\"JAN\\\", \\\"JAN\\\", \\\"JAN\\\", \\\"JAN\\\", \\\"JAN\\\", \\\"JAN\\\", \\\"JAN\\\", \\\"JAN\\\", \\\"JAN\\\", \\\"JAN\\\", \\\"JAN\\\", \\\"JAN\\\", \\\"JAN\\\", \\\"JAN\\\", \\\"JAN\\\", \\\"JAN\\\", \\\"JAN\\\", \\\"JAN\\\", \\\"JAN\\\", \\\"JAN\\\", \\\"JAN\\\", \\\"JAN\\\", \\\"JAN\\\", \\\"JAN\\\", \\\"JAN\\\", \\\"JAN\\\", \\\"JAN\\\", \\\"JAN\\\", \\\"JA\" ⋯ 17713 bytes ⋯ \"1973, 1974, 1975, 1976, 1977, 1978, 1979, 1980, 1981, 1982, 1983, 1984, 1985, 1986, 1987, 1988, 1989, 1990, 1991, 1992, 1993, 1994, 1995, 1996, 1997, 1998, 1999, 2000, 2001, 2002, 2003, 2004, 2005, 2006, 2007, 2008, 2009, 2010, 2011, 2012, 2013, 2014, 2015, 2016, 2017]\""
      ]
     },
     "execution_count": 24,
     "metadata": {},
     "output_type": "execute_result"
    }
   ],
   "source": [
    "println(data2[!, :variable])\n",
    "newDate =string(data2[!, :variable],data2[!, :YEAR])"
   ]
  },
  {
   "cell_type": "code",
   "execution_count": 23,
   "id": "f76c9347",
   "metadata": {},
   "outputs": [
    {
     "ename": "LoadError",
     "evalue": "MethodError: no method matching !(::Symbol)\n\u001b[0mClosest candidates are:\n\u001b[0m  !(\u001b[91m::Function\u001b[39m) at ~/julia-1.7.1/share/julia/base/operators.jl:1117\n\u001b[0m  !(\u001b[91m::DataValues.DataValue{T}\u001b[39m) where T<:Number at ~/.julia/packages/DataValues/N7oeL/src/scalar/core.jl:203\n\u001b[0m  !(\u001b[91m::Bool\u001b[39m) at ~/julia-1.7.1/share/julia/base/bool.jl:35\n\u001b[0m  ...",
     "output_type": "error",
     "traceback": [
      "MethodError: no method matching !(::Symbol)\n\u001b[0mClosest candidates are:\n\u001b[0m  !(\u001b[91m::Function\u001b[39m) at ~/julia-1.7.1/share/julia/base/operators.jl:1117\n\u001b[0m  !(\u001b[91m::DataValues.DataValue{T}\u001b[39m) where T<:Number at ~/.julia/packages/DataValues/N7oeL/src/scalar/core.jl:203\n\u001b[0m  !(\u001b[91m::Bool\u001b[39m) at ~/julia-1.7.1/share/julia/base/bool.jl:35\n\u001b[0m  ...",
      "",
      "Stacktrace:",
      " [1] top-level scope",
      "   @ In[23]:1",
      " [2] eval",
      "   @ ./boot.jl:373 [inlined]",
      " [3] include_string(mapexpr::typeof(REPL.softscope), mod::Module, code::String, filename::String)",
      "   @ Base ./loading.jl:1196"
     ]
    }
   ],
   "source": [
    "data2[! :newDate] = newDate"
   ]
  },
  {
   "cell_type": "code",
   "execution_count": null,
   "id": "a2eb602c",
   "metadata": {},
   "outputs": [],
   "source": []
  }
 ],
 "metadata": {
  "kernelspec": {
   "display_name": "Julia 1.7.1",
   "language": "julia",
   "name": "julia-1.7"
  },
  "language_info": {
   "file_extension": ".jl",
   "mimetype": "application/julia",
   "name": "julia",
   "version": "1.7.1"
  }
 },
 "nbformat": 4,
 "nbformat_minor": 5
}

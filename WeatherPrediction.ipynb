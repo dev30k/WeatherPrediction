{
 "cells": [
  {
   "cell_type": "code",
   "execution_count": 1,
   "id": "29886a5e-08f9-4f97-9712-acc41ec0f81a",
   "metadata": {},
   "outputs": [
    {
     "name": "stdout",
     "output_type": "stream",
     "text": [
      "Hello World\n"
     ]
    }
   ],
   "source": [
    "println(\"Hello World\")\n"
   ]
  },
  {
   "cell_type": "code",
   "execution_count": 2,
   "id": "43223a0f-4866-4d1c-8af4-d5f4fe1253bb",
   "metadata": {},
   "outputs": [],
   "source": [
    "using DataFrames, Impute, CSV,Plots,Statistics,StatsPlots,VegaLite"
   ]
  },
  {
   "cell_type": "code",
   "execution_count": 3,
   "id": "c9999295-872c-46ed-9577-2c99e032668b",
   "metadata": {},
   "outputs": [
    {
     "data": {
      "text/plain": [
       "Plots.PyPlotBackend()"
      ]
     },
     "execution_count": 3,
     "metadata": {},
     "output_type": "execute_result"
    }
   ],
   "source": [
    "gr()\n",
    "pyplot()\n"
   ]
  },
  {
   "cell_type": "code",
   "execution_count": 4,
   "id": "85d8f628-ebe7-4a7c-942d-641d82d6386a",
   "metadata": {},
   "outputs": [
    {
     "name": "stdout",
     "output_type": "stream",
     "text": [
      "DataFrame\n",
      "\u001b[1m20×7 DataFrame\u001b[0m\n",
      "\u001b[1m Row \u001b[0m│\u001b[1m variable     \u001b[0m\u001b[1m mean        \u001b[0m\u001b[1m min            \u001b[0m\u001b[1m median \u001b[0m\u001b[1m max             \u001b[0m\u001b[1m nmissing \u001b[0m\u001b[1m eltype                  \u001b[0m\n",
      "\u001b[1m     \u001b[0m│\u001b[90m Symbol       \u001b[0m\u001b[90m Union…      \u001b[0m\u001b[90m Any            \u001b[0m\u001b[90m Union… \u001b[0m\u001b[90m Any             \u001b[0m\u001b[90m Int64    \u001b[0m\u001b[90m Type                    \u001b[0m\n",
      "─────┼───────────────────────────────────────────────────────────────────────────────────────────────────────\n",
      "   1 │ datetime_utc \u001b[90m             \u001b[0m 19961101-11:00 \u001b[90m        \u001b[0m 20170424-18:00          0  String\n",
      "   2 │  _conds      \u001b[90m             \u001b[0m Blowing Sand   \u001b[90m        \u001b[0m Widespread Dust        72  Union{Missing, String}\n",
      "   3 │  _dewptm      15.7412      -24             15.0    75                    621  Union{Missing, Int64}\n",
      "   4 │  _fog         0.0696901    0               0.0     1                       0  Int64\n",
      "   5 │  _hail        0.000128726  0               0.0     1                       0  Int64\n",
      "   6 │  _heatindexm  35.6517      26.8            35.1    73.6                71835  Union{Missing, Float64}\n",
      "   7 │  _hum        \u001b[90m             \u001b[0m 10             \u001b[90m        \u001b[0m N/A                   143  Union{Missing, String}\n",
      "   8 │  _precipm    \u001b[90m             \u001b[0m\u001b[90m                \u001b[0m\u001b[90m        \u001b[0m\u001b[90m                 \u001b[0m   100990  Missing\n",
      "   9 │  _pressurem   1932.33      -9999.0         1008.0  1.01061e8             232  Union{Missing, Float64}\n",
      "  10 │  _rain        0.02626      0               0.0     1                       0  Int64\n",
      "  11 │  _snow        9.90197e-6   0               0.0     1                       0  Int64\n",
      "  12 │  _tempm       25.4513      1               27.0    90                    673  Union{Missing, Int64}\n",
      "  13 │  _thunder     0.00942668   0               0.0     1                       0  Int64\n",
      "  14 │  _tornado     1.98039e-5   0               0.0     1                       0  Int64\n",
      "  15 │  _vism        2.40277      0.0             2.0     6436.0               4428  Union{Missing, Float64}\n",
      "  16 │  _wdird       163.55       0               160.0   960                 14755  Union{Missing, Int64}\n",
      "  17 │  _wdire      \u001b[90m             \u001b[0m ENE            \u001b[90m        \u001b[0m West                14755  Union{Missing, String}\n",
      "  18 │  _wgustm      37.6712      25.9            37.0    92.6                99918  Union{Missing, Float64}\n",
      "  19 │  _windchillm  5.71382      2.1             6.1     7.3                100411  Union{Missing, Float64}\n",
      "  20 │  _wspdm       7.67846      0.0             7.4     1514.9               2358  Union{Missing, Float64}\n"
     ]
    }
   ],
   "source": [
    "data = CSV.read(\"/home/useeffect/Desktop/Kaggle/testset.csv\",DataFrame)\n",
    "println(typeof(data))\n",
    "println(describe(data))\n"
   ]
  },
  {
   "cell_type": "code",
   "execution_count": 10,
   "id": "785414bb-4311-4619-b549-2d3074a64b69",
   "metadata": {},
   "outputs": [
    {
     "name": "stdout",
     "output_type": "stream",
     "text": [
      "\u001b[1m100990×20 DataFrame\u001b[0m\n",
      "\u001b[1m    Row \u001b[0m│\u001b[1m datetime_utc   \u001b[0m\u001b[1m  _conds \u001b[0m\u001b[1m  _dewptm \u001b[0m\u001b[1m  _fog \u001b[0m\u001b[1m  _hail \u001b[0m\u001b[1m  _heatindexm \u001b[0m\u001b[1m  _hum   \u001b[0m\u001b[1m  _precipm \u001b[0m\u001b[1m  _pressurem \u001b[0m\u001b[1m  _rain \u001b[0m\u001b[1m  _snow \u001b[0m\u001b[1m  _tempm \u001b[0m\u001b[1m  _thunder \u001b[0m\u001b[1m  _tornado \u001b[0m\u001b[1m  _vism    \u001b[0m\u001b[1m  _wdird \u001b[0m\u001b[1m  _wdire \u001b[0m\u001b[1m  _wgustm \u001b[0m\u001b[1m  _windchillm \u001b[0m\u001b[1m  _wspdm   \u001b[0m\n",
      "\u001b[1m        \u001b[0m│\u001b[90m String         \u001b[0m\u001b[90m String? \u001b[0m\u001b[90m Int64?   \u001b[0m\u001b[90m Int64 \u001b[0m\u001b[90m Int64  \u001b[0m\u001b[90m Float64?     \u001b[0m\u001b[90m String? \u001b[0m\u001b[90m Missing   \u001b[0m\u001b[90m Float64?    \u001b[0m\u001b[90m Int64  \u001b[0m\u001b[90m Int64  \u001b[0m\u001b[90m Int64?  \u001b[0m\u001b[90m Int64     \u001b[0m\u001b[90m Int64     \u001b[0m\u001b[90m Float64?  \u001b[0m\u001b[90m Int64?  \u001b[0m\u001b[90m String? \u001b[0m\u001b[90m Float64? \u001b[0m\u001b[90m Float64?     \u001b[0m\u001b[90m Float64?  \u001b[0m\n",
      "────────┼────────────────────────────────────────────────────────────────────────────────────────────────────────────────────────────────────────────────────────────────────────────────────────────────────────────────\n",
      "      1 │ 19961101-11:00  Smoke           9      0       0 \u001b[90m      missing \u001b[0m 27      \u001b[90m   missing \u001b[0m      1010.0       0       0       30          0          0        5.0      280  West    \u001b[90m  missing \u001b[0m\u001b[90m      missing \u001b[0m       7.4\n",
      "      2 │ 19961101-12:00  Smoke          10      0       0 \u001b[90m      missing \u001b[0m 32      \u001b[90m   missing \u001b[0m     -9999.0       0       0       28          0          0 \u001b[90m missing   \u001b[0m       0  North   \u001b[90m  missing \u001b[0m\u001b[90m      missing \u001b[0m\u001b[90m missing   \u001b[0m\n",
      "      3 │ 19961101-13:00  Smoke          11      0       0 \u001b[90m      missing \u001b[0m 44      \u001b[90m   missing \u001b[0m     -9999.0       0       0       24          0          0 \u001b[90m missing   \u001b[0m       0  North   \u001b[90m  missing \u001b[0m\u001b[90m      missing \u001b[0m\u001b[90m missing   \u001b[0m\n",
      "      4 │ 19961101-14:00  Smoke          10      0       0 \u001b[90m      missing \u001b[0m 41      \u001b[90m   missing \u001b[0m      1010.0       0       0       24          0          0        2.0        0  North   \u001b[90m  missing \u001b[0m\u001b[90m      missing \u001b[0m\u001b[90m missing   \u001b[0m\n",
      "      5 │ 19961101-16:00  Smoke          11      0       0 \u001b[90m      missing \u001b[0m 47      \u001b[90m   missing \u001b[0m      1011.0       0       0       23          0          0        1.2        0  North   \u001b[90m  missing \u001b[0m\u001b[90m      missing \u001b[0m       0.0\n",
      "      6 │ 19961101-17:00  Smoke          12      0       0 \u001b[90m      missing \u001b[0m 56      \u001b[90m   missing \u001b[0m      1011.0       0       0       21          0          0 \u001b[90m missing   \u001b[0m       0  North   \u001b[90m  missing \u001b[0m\u001b[90m      missing \u001b[0m\u001b[90m missing   \u001b[0m\n",
      "      7 │ 19961101-18:00  Smoke          13      0       0 \u001b[90m      missing \u001b[0m 60      \u001b[90m   missing \u001b[0m      1010.0       0       0       21          0          0        0.8        0  North   \u001b[90m  missing \u001b[0m\u001b[90m      missing \u001b[0m       0.0\n",
      "      8 │ 19961101-19:00  Smoke          13      0       0 \u001b[90m      missing \u001b[0m 60      \u001b[90m   missing \u001b[0m     -9999.0       0       0       21          0          0 \u001b[90m missing   \u001b[0m       0  North   \u001b[90m  missing \u001b[0m\u001b[90m      missing \u001b[0m\u001b[90m missing   \u001b[0m\n",
      "      9 │ 19961101-20:00  Smoke          13      0       0 \u001b[90m      missing \u001b[0m 68      \u001b[90m   missing \u001b[0m     -9999.0       0       0       19          0          0 \u001b[90m missing   \u001b[0m       0  North   \u001b[90m  missing \u001b[0m\u001b[90m      missing \u001b[0m\u001b[90m missing   \u001b[0m\n",
      "     10 │ 19961101-21:00  Smoke          13      0       0 \u001b[90m      missing \u001b[0m 68      \u001b[90m   missing \u001b[0m      1010.0       0       0       19          0          0 \u001b[90m missing   \u001b[0m       0  North   \u001b[90m  missing \u001b[0m\u001b[90m      missing \u001b[0m\u001b[90m missing   \u001b[0m\n",
      "     11 │ 19961101-22:00  Smoke          13      0       0 \u001b[90m      missing \u001b[0m 68      \u001b[90m   missing \u001b[0m      1009.0       0       0       19          0          0 \u001b[90m missing   \u001b[0m       0  North   \u001b[90m  missing \u001b[0m\u001b[90m      missing \u001b[0m\u001b[90m missing   \u001b[0m\n",
      "   ⋮    │       ⋮            ⋮        ⋮        ⋮      ⋮          ⋮           ⋮         ⋮           ⋮         ⋮       ⋮        ⋮         ⋮          ⋮          ⋮         ⋮        ⋮        ⋮           ⋮            ⋮\n",
      " 100981 │ 20170423-15:00  Haze           18      0       0 \u001b[90m      missing \u001b[0m 32      \u001b[90m   missing \u001b[0m      1001.0       0       0       33          0          0        2.0 \u001b[90m missing \u001b[0m\u001b[90m missing \u001b[0m\u001b[90m  missing \u001b[0m\u001b[90m      missing \u001b[0m       0.0\n",
      " 100982 │ 20170423-18:00  Haze           19      0       0 \u001b[90m      missing \u001b[0m 41      \u001b[90m   missing \u001b[0m      1002.0       0       0       30          0          0        2.0 \u001b[90m missing \u001b[0m\u001b[90m missing \u001b[0m\u001b[90m  missing \u001b[0m\u001b[90m      missing \u001b[0m       0.0\n",
      " 100983 │ 20170423-21:00  Haze           14      0       0 \u001b[90m      missing \u001b[0m 30      \u001b[90m   missing \u001b[0m      1002.0       0       0       29          0          0        2.0      320  NW      \u001b[90m  missing \u001b[0m\u001b[90m      missing \u001b[0m      14.8\n",
      " 100984 │ 20170424-00:00  Haze           15      0       0 \u001b[90m      missing \u001b[0m 40      \u001b[90m   missing \u001b[0m      1004.0       0       0       26          0          0        2.0      290  WNW     \u001b[90m  missing \u001b[0m\u001b[90m      missing \u001b[0m      11.1\n",
      " 100985 │ 20170424-03:00  Haze           16      0       0 \u001b[90m      missing \u001b[0m 38      \u001b[90m   missing \u001b[0m      1006.0       0       0       28          0          0        4.0        0  North   \u001b[90m  missing \u001b[0m\u001b[90m      missing \u001b[0m      14.8\n",
      " 100986 │ 20170424-06:00  Haze           17      0       0 \u001b[90m      missing \u001b[0m 25      \u001b[90m   missing \u001b[0m      1005.0       0       0       34          0          0        4.0      320  NW      \u001b[90m  missing \u001b[0m\u001b[90m      missing \u001b[0m      11.1\n",
      " 100987 │ 20170424-09:00  Haze           14      0       0 \u001b[90m      missing \u001b[0m 16      \u001b[90m   missing \u001b[0m      1003.0       0       0       38          0          0        4.0      320  NW      \u001b[90m  missing \u001b[0m\u001b[90m      missing \u001b[0m      22.2\n",
      " 100988 │ 20170424-12:00  Haze           12      0       0 \u001b[90m      missing \u001b[0m 14      \u001b[90m   missing \u001b[0m      1002.0       0       0       36          0          0        4.0      270  West    \u001b[90m  missing \u001b[0m\u001b[90m      missing \u001b[0m      18.5\n",
      " 100989 │ 20170424-15:00  Haze           15      0       0 \u001b[90m      missing \u001b[0m 27      \u001b[90m   missing \u001b[0m      1004.0       0       0       32          0          0        2.0      320  NW      \u001b[90m  missing \u001b[0m\u001b[90m      missing \u001b[0m       3.7\n",
      " 100990 │ 20170424-18:00  Haze           15      0       0 \u001b[90m      missing \u001b[0m 30      \u001b[90m   missing \u001b[0m      1005.0       0       0       30          0          0        2.0      320  NW      \u001b[90m  missing \u001b[0m\u001b[90m      missing \u001b[0m       3.7\n",
      "\u001b[36m                                                                                                                                                                                                      100969 rows omitted\u001b[0m"
     ]
    }
   ],
   "source": [
    "show(data,allcols=true)"
   ]
  },
  {
   "cell_type": "code",
   "execution_count": 11,
   "id": "614990ee",
   "metadata": {},
   "outputs": [
    {
     "data": {
      "text/plain": [
       "\"100990×20 DataFrame\""
      ]
     },
     "execution_count": 11,
     "metadata": {},
     "output_type": "execute_result"
    }
   ],
   "source": [
    "summary(data)"
   ]
  },
  {
   "cell_type": "code",
   "execution_count": 33,
   "id": "876b20e1",
   "metadata": {},
   "outputs": [
    {
     "data": {
      "text/plain": [
       "20-element Vector{String}:\n",
       " \"datetime_utc\"\n",
       " \" _conds\"\n",
       " \" _dewptm\"\n",
       " \" _fog\"\n",
       " \" _hail\"\n",
       " \" _heatindexm\"\n",
       " \" _hum\"\n",
       " \" _precipm\"\n",
       " \" _pressurem\"\n",
       " \" _rain\"\n",
       " \" _snow\"\n",
       " \" _tempm\"\n",
       " \" _thunder\"\n",
       " \" _tornado\"\n",
       " \" _vism\"\n",
       " \" _wdird\"\n",
       " \" _wdire\"\n",
       " \" _wgustm\"\n",
       " \" _windchillm\"\n",
       " \" _wspdm\""
      ]
     },
     "execution_count": 33,
     "metadata": {},
     "output_type": "execute_result"
    }
   ],
   "source": [
    "names(data)"
   ]
  },
  {
   "cell_type": "code",
   "execution_count": 39,
   "id": "ecdde996",
   "metadata": {},
   "outputs": [
    {
     "data": {
      "text/html": [
       "<div class=\"data-frame\"><p>0 rows × 20 columns (omitted printing of 12 columns)</p><table class=\"data-frame\"><thead><tr><th></th><th>datetime_utc</th><th> _conds</th><th> _dewptm</th><th> _fog</th><th> _hail</th><th> _heatindexm</th><th> _hum</th><th> _precipm</th></tr><tr><th></th><th title=\"String\">String</th><th title=\"String\">String</th><th title=\"Int64\">Int64</th><th title=\"Int64\">Int64</th><th title=\"Int64\">Int64</th><th title=\"Float64\">Float64</th><th title=\"String\">String</th><th title=\"Union{}\">Union{}</th></tr></thead><tbody></tbody></table></div>"
      ],
      "text/latex": [
       "\\begin{tabular}{r|ccccccccc}\n",
       "\t& datetime\\_utc &  \\_conds &  \\_dewptm &  \\_fog &  \\_hail &  \\_heatindexm &  \\_hum &  \\_precipm & \\\\\n",
       "\t\\hline\n",
       "\t& String & String & Int64 & Int64 & Int64 & Float64 & String & Union\\{\\} & \\\\\n",
       "\t\\hline\n",
       "\\end{tabular}\n"
      ],
      "text/plain": [
       "\u001b[1m0×20 DataFrame\u001b[0m"
      ]
     },
     "execution_count": 39,
     "metadata": {},
     "output_type": "execute_result"
    }
   ],
   "source": [
    "y=dropmissing(data)"
   ]
  },
  {
   "cell_type": "code",
   "execution_count": 43,
   "id": "0ae9cdbd",
   "metadata": {},
   "outputs": [
    {
     "ename": "LoadError",
     "evalue": "MethodError: no method matching impute!(::DataFrame, ::Impute.KNN{Distances.Euclidean}; dims=:cols)\n\u001b[0mClosest candidates are:\n\u001b[0m  impute!(::T, ::Impute.Imputor; cols) where T at ~/.julia/packages/Impute/oZAQh/src/imputors.jl:222\u001b[91m got unsupported keyword argument \"dims\"\u001b[39m\n\u001b[0m  impute!(::Any, \u001b[91m::Impute.Chain\u001b[39m) at ~/julia-1.7.1/share/julia/base/deprecated.jl:70\u001b[91m got unsupported keyword argument \"dims\"\u001b[39m\n\u001b[0m  impute!(\u001b[91m::AbstractMatrix{Missing}\u001b[39m, ::Impute.KNN; kwargs...) at ~/.julia/packages/Impute/oZAQh/src/imputors/knn.jl:91\n\u001b[0m  ...",
     "output_type": "error",
     "traceback": [
      "MethodError: no method matching impute!(::DataFrame, ::Impute.KNN{Distances.Euclidean}; dims=:cols)\n\u001b[0mClosest candidates are:\n\u001b[0m  impute!(::T, ::Impute.Imputor; cols) where T at ~/.julia/packages/Impute/oZAQh/src/imputors.jl:222\u001b[91m got unsupported keyword argument \"dims\"\u001b[39m\n\u001b[0m  impute!(::Any, \u001b[91m::Impute.Chain\u001b[39m) at ~/julia-1.7.1/share/julia/base/deprecated.jl:70\u001b[91m got unsupported keyword argument \"dims\"\u001b[39m\n\u001b[0m  impute!(\u001b[91m::AbstractMatrix{Missing}\u001b[39m, ::Impute.KNN; kwargs...) at ~/.julia/packages/Impute/oZAQh/src/imputors/knn.jl:91\n\u001b[0m  ...",
      "",
      "Stacktrace:",
      " [1] kwerr(::NamedTuple{(:dims,), Tuple{Symbol}}, ::Function, ::DataFrame, ::Impute.KNN{Distances.Euclidean})",
      "   @ Base ./error.jl:163",
      " [2] impute(data::DataFrame, imp::Impute.KNN{Distances.Euclidean}; kwargs::Base.Pairs{Symbol, Symbol, Tuple{Symbol}, NamedTuple{(:dims,), Tuple{Symbol}}})",
      "   @ Impute ~/.julia/packages/Impute/oZAQh/src/imputors.jl:80",
      " [3] knn(data::DataFrame; kwargs::Base.Pairs{Symbol, Any, Tuple{Symbol, Symbol}, NamedTuple{(:dims, :k), Tuple{Symbol, Int64}}})",
      "   @ Impute ~/.julia/packages/Impute/oZAQh/src/functional.jl:76",
      " [4] top-level scope",
      "   @ In[43]:1",
      " [5] eval",
      "   @ ./boot.jl:373 [inlined]",
      " [6] include_string(mapexpr::typeof(REPL.softscope), mod::Module, code::String, filename::String)",
      "   @ Base ./loading.jl:1196"
     ]
    }
   ],
   "source": [
    "Impute.knn(data;dims=:cols,k=4)"
   ]
  },
  {
   "cell_type": "code",
   "execution_count": null,
   "id": "e1a84548",
   "metadata": {},
   "outputs": [],
   "source": []
  },
  {
   "cell_type": "code",
   "execution_count": null,
   "id": "ea1f49f6",
   "metadata": {},
   "outputs": [],
   "source": []
  }
 ],
 "metadata": {
  "kernelspec": {
   "display_name": "Julia 1.7.1",
   "language": "julia",
   "name": "julia-1.7"
  },
  "language_info": {
   "file_extension": ".jl",
   "mimetype": "application/julia",
   "name": "julia",
   "version": "1.7.1"
  }
 },
 "nbformat": 4,
 "nbformat_minor": 5
}

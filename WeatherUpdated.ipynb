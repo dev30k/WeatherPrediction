{
 "cells": [
  {
   "cell_type": "code",
   "execution_count": 3,
   "id": "68b4d339-bc76-4f11-9470-3a89eb18c0b4",
   "metadata": {},
   "outputs": [],
   "source": [
    "using DataFrames, Impute, CSV,Statistics,VegaLite,Dates,ScikitLearn,TimeSeries,Measures,Plots,Clustering,NumPyArrays, PyCall,MLJModels,MLLabelUtils\n",
    "using MLJ,MLJFlux,Flux\n",
    "\n"
   ]
  },
  {
   "cell_type": "code",
   "execution_count": 4,
   "id": "f986de3f-6903-4e25-88a9-c41bff3b04d6",
   "metadata": {},
   "outputs": [
    {
     "data": {
      "text/plain": [
       "PyObject <class 'sklearn.preprocessing._label.LabelEncoder'>"
      ]
     },
     "execution_count": 4,
     "metadata": {},
     "output_type": "execute_result"
    }
   ],
   "source": [
    "using ScikitLearn.CrossValidation: train_test_split\n",
    "@sk_import preprocessing: (LabelEncoder)"
   ]
  },
  {
   "cell_type": "code",
   "execution_count": 5,
   "id": "80831abe-bde0-4b5d-bd0b-824a1bfaa924",
   "metadata": {},
   "outputs": [
    {
     "name": "stdout",
     "output_type": "stream",
     "text": [
      "DataFrame\n",
      "\u001b[1m6×7 DataFrame\u001b[0m\n",
      "\u001b[1m Row \u001b[0m│\u001b[1m variable      \u001b[0m\u001b[1m mean    \u001b[0m\u001b[1m min        \u001b[0m\u001b[1m median     \u001b[0m\u001b[1m max        \u001b[0m\u001b[1m nmissing \u001b[0m\u001b[1m eltype   \u001b[0m\n",
      "\u001b[1m     \u001b[0m│\u001b[90m Symbol        \u001b[0m\u001b[90m Union…  \u001b[0m\u001b[90m Any        \u001b[0m\u001b[90m Any        \u001b[0m\u001b[90m Any        \u001b[0m\u001b[90m Int64    \u001b[0m\u001b[90m DataType \u001b[0m\n",
      "─────┼────────────────────────────────────────────────────────────────────────────────\n",
      "   1 │ date          \u001b[90m         \u001b[0m 2012-01-01  2013-12-31  2015-12-31         0  Date\n",
      "   2 │ precipitation  3.02943  0.0         0.0         55.9               0  Float64\n",
      "   3 │ temp_max       16.4391  -1.6        15.6        35.6               0  Float64\n",
      "   4 │ temp_min       8.23477  -7.1        8.3         18.3               0  Float64\n",
      "   5 │ wind           3.24114  0.4         3.0         9.5                0  Float64\n",
      "   6 │ weather       \u001b[90m         \u001b[0m drizzle    \u001b[90m            \u001b[0m sun                0  String\n"
     ]
    }
   ],
   "source": [
    "pyplot() \n",
    "data = CSV.read(\"/home/useeffect/Desktop/Kaggle/seattle-weather.csv\",DataFrame)\n",
    "println(typeof(data))\n",
    "println(describe(data))\n"
   ]
  },
  {
   "cell_type": "code",
   "execution_count": 6,
   "id": "3aaa9d97-3ab3-4f3a-bc1a-4784bd8bd976",
   "metadata": {},
   "outputs": [
    {
     "data": {
      "text/plain": [
       "6-element Vector{String}:\n",
       " \"date\"\n",
       " \"precipitation\"\n",
       " \"temp_max\"\n",
       " \"temp_min\"\n",
       " \"wind\"\n",
       " \"weather\""
      ]
     },
     "execution_count": 6,
     "metadata": {},
     "output_type": "execute_result"
    }
   ],
   "source": [
    "names(data)"
   ]
  },
  {
   "cell_type": "code",
   "execution_count": 7,
   "id": "1d3d8747-3130-476d-9303-a2c85b8e3053",
   "metadata": {},
   "outputs": [
    {
     "data": {
      "text/html": [
       "<table class=\"data-frame\"><thead><tr><th></th><th>variable</th><th>mean</th><th>min</th><th>median</th><th>max</th><th>nmissing</th><th>eltype</th></tr><tr><th></th><th>Symbol</th><th>Union…</th><th>Any</th><th>Any</th><th>Any</th><th>Int64</th><th>DataType</th></tr></thead><tbody><p>6 rows × 7 columns</p><tr><th>1</th><td>date</td><td></td><td>2012-01-01</td><td>2013-12-31</td><td>2015-12-31</td><td>0</td><td>Date</td></tr><tr><th>2</th><td>precipitation</td><td>3.02943</td><td>0.0</td><td>0.0</td><td>55.9</td><td>0</td><td>Float64</td></tr><tr><th>3</th><td>temp_max</td><td>16.4391</td><td>-1.6</td><td>15.6</td><td>35.6</td><td>0</td><td>Float64</td></tr><tr><th>4</th><td>temp_min</td><td>8.23477</td><td>-7.1</td><td>8.3</td><td>18.3</td><td>0</td><td>Float64</td></tr><tr><th>5</th><td>wind</td><td>3.24114</td><td>0.4</td><td>3.0</td><td>9.5</td><td>0</td><td>Float64</td></tr><tr><th>6</th><td>weather</td><td></td><td>drizzle</td><td></td><td>sun</td><td>0</td><td>String</td></tr></tbody></table>"
      ],
      "text/latex": [
       "\\begin{tabular}{r|ccccccc}\n",
       "\t& variable & mean & min & median & max & nmissing & eltype\\\\\n",
       "\t\\hline\n",
       "\t& Symbol & Union… & Any & Any & Any & Int64 & DataType\\\\\n",
       "\t\\hline\n",
       "\t1 & date &  & 2012-01-01 & 2013-12-31 & 2015-12-31 & 0 & Date \\\\\n",
       "\t2 & precipitation & 3.02943 & 0.0 & 0.0 & 55.9 & 0 & Float64 \\\\\n",
       "\t3 & temp\\_max & 16.4391 & -1.6 & 15.6 & 35.6 & 0 & Float64 \\\\\n",
       "\t4 & temp\\_min & 8.23477 & -7.1 & 8.3 & 18.3 & 0 & Float64 \\\\\n",
       "\t5 & wind & 3.24114 & 0.4 & 3.0 & 9.5 & 0 & Float64 \\\\\n",
       "\t6 & weather &  & drizzle &  & sun & 0 & String \\\\\n",
       "\\end{tabular}\n"
      ],
      "text/plain": [
       "\u001b[1m6×7 DataFrame\u001b[0m\n",
       "\u001b[1m Row \u001b[0m│\u001b[1m variable      \u001b[0m\u001b[1m mean    \u001b[0m\u001b[1m min        \u001b[0m\u001b[1m median     \u001b[0m\u001b[1m max        \u001b[0m\u001b[1m nmissing \u001b[0m\u001b[1m e\u001b[0m ⋯\n",
       "\u001b[1m     \u001b[0m│\u001b[90m Symbol        \u001b[0m\u001b[90m Union…  \u001b[0m\u001b[90m Any        \u001b[0m\u001b[90m Any        \u001b[0m\u001b[90m Any        \u001b[0m\u001b[90m Int64    \u001b[0m\u001b[90m D\u001b[0m ⋯\n",
       "─────┼──────────────────────────────────────────────────────────────────────────\n",
       "   1 │ date          \u001b[90m         \u001b[0m 2012-01-01  2013-12-31  2015-12-31         0  D ⋯\n",
       "   2 │ precipitation  3.02943  0.0         0.0         55.9               0  F\n",
       "   3 │ temp_max       16.4391  -1.6        15.6        35.6               0  F\n",
       "   4 │ temp_min       8.23477  -7.1        8.3         18.3               0  F\n",
       "   5 │ wind           3.24114  0.4         3.0         9.5                0  F ⋯\n",
       "   6 │ weather       \u001b[90m         \u001b[0m drizzle    \u001b[90m            \u001b[0m sun                0  S\n",
       "\u001b[36m                                                                1 column omitted\u001b[0m"
      ]
     },
     "execution_count": 7,
     "metadata": {},
     "output_type": "execute_result"
    }
   ],
   "source": [
    "describe(data)"
   ]
  },
  {
   "cell_type": "code",
   "execution_count": 8,
   "id": "5a74d35f-2123-46b4-9154-ac7621537af8",
   "metadata": {},
   "outputs": [
    {
     "data": {
      "text/html": [
       "<table class=\"data-frame\"><thead><tr><th></th><th>precipitation</th><th>temp_max</th><th>temp_min</th><th>wind</th><th>weather</th></tr><tr><th></th><th>Float64</th><th>Float64</th><th>Float64</th><th>Float64</th><th>String</th></tr></thead><tbody><p>1,461 rows × 5 columns</p><tr><th>1</th><td>0.0</td><td>12.8</td><td>5.0</td><td>4.7</td><td>drizzle</td></tr><tr><th>2</th><td>10.9</td><td>10.6</td><td>2.8</td><td>4.5</td><td>rain</td></tr><tr><th>3</th><td>0.8</td><td>11.7</td><td>7.2</td><td>2.3</td><td>rain</td></tr><tr><th>4</th><td>20.3</td><td>12.2</td><td>5.6</td><td>4.7</td><td>rain</td></tr><tr><th>5</th><td>1.3</td><td>8.9</td><td>2.8</td><td>6.1</td><td>rain</td></tr><tr><th>6</th><td>2.5</td><td>4.4</td><td>2.2</td><td>2.2</td><td>rain</td></tr><tr><th>7</th><td>0.0</td><td>7.2</td><td>2.8</td><td>2.3</td><td>rain</td></tr><tr><th>8</th><td>0.0</td><td>10.0</td><td>2.8</td><td>2.0</td><td>sun</td></tr><tr><th>9</th><td>4.3</td><td>9.4</td><td>5.0</td><td>3.4</td><td>rain</td></tr><tr><th>10</th><td>1.0</td><td>6.1</td><td>0.6</td><td>3.4</td><td>rain</td></tr><tr><th>11</th><td>0.0</td><td>6.1</td><td>-1.1</td><td>5.1</td><td>sun</td></tr><tr><th>12</th><td>0.0</td><td>6.1</td><td>-1.7</td><td>1.9</td><td>sun</td></tr><tr><th>13</th><td>0.0</td><td>5.0</td><td>-2.8</td><td>1.3</td><td>sun</td></tr><tr><th>14</th><td>4.1</td><td>4.4</td><td>0.6</td><td>5.3</td><td>snow</td></tr><tr><th>15</th><td>5.3</td><td>1.1</td><td>-3.3</td><td>3.2</td><td>snow</td></tr><tr><th>16</th><td>2.5</td><td>1.7</td><td>-2.8</td><td>5.0</td><td>snow</td></tr><tr><th>17</th><td>8.1</td><td>3.3</td><td>0.0</td><td>5.6</td><td>snow</td></tr><tr><th>18</th><td>19.8</td><td>0.0</td><td>-2.8</td><td>5.0</td><td>snow</td></tr><tr><th>19</th><td>15.2</td><td>-1.1</td><td>-2.8</td><td>1.6</td><td>snow</td></tr><tr><th>20</th><td>13.5</td><td>7.2</td><td>-1.1</td><td>2.3</td><td>snow</td></tr><tr><th>21</th><td>3.0</td><td>8.3</td><td>3.3</td><td>8.2</td><td>rain</td></tr><tr><th>22</th><td>6.1</td><td>6.7</td><td>2.2</td><td>4.8</td><td>rain</td></tr><tr><th>23</th><td>0.0</td><td>8.3</td><td>1.1</td><td>3.6</td><td>rain</td></tr><tr><th>24</th><td>8.6</td><td>10.0</td><td>2.2</td><td>5.1</td><td>rain</td></tr><tr><th>25</th><td>8.1</td><td>8.9</td><td>4.4</td><td>5.4</td><td>rain</td></tr><tr><th>26</th><td>4.8</td><td>8.9</td><td>1.1</td><td>4.8</td><td>rain</td></tr><tr><th>27</th><td>0.0</td><td>6.7</td><td>-2.2</td><td>1.4</td><td>drizzle</td></tr><tr><th>28</th><td>0.0</td><td>6.7</td><td>0.6</td><td>2.2</td><td>rain</td></tr><tr><th>29</th><td>27.7</td><td>9.4</td><td>3.9</td><td>4.5</td><td>rain</td></tr><tr><th>30</th><td>3.6</td><td>8.3</td><td>6.1</td><td>5.1</td><td>rain</td></tr><tr><th>&vellip;</th><td>&vellip;</td><td>&vellip;</td><td>&vellip;</td><td>&vellip;</td><td>&vellip;</td></tr></tbody></table>"
      ],
      "text/latex": [
       "\\begin{tabular}{r|ccccc}\n",
       "\t& precipitation & temp\\_max & temp\\_min & wind & weather\\\\\n",
       "\t\\hline\n",
       "\t& Float64 & Float64 & Float64 & Float64 & String\\\\\n",
       "\t\\hline\n",
       "\t1 & 0.0 & 12.8 & 5.0 & 4.7 & drizzle \\\\\n",
       "\t2 & 10.9 & 10.6 & 2.8 & 4.5 & rain \\\\\n",
       "\t3 & 0.8 & 11.7 & 7.2 & 2.3 & rain \\\\\n",
       "\t4 & 20.3 & 12.2 & 5.6 & 4.7 & rain \\\\\n",
       "\t5 & 1.3 & 8.9 & 2.8 & 6.1 & rain \\\\\n",
       "\t6 & 2.5 & 4.4 & 2.2 & 2.2 & rain \\\\\n",
       "\t7 & 0.0 & 7.2 & 2.8 & 2.3 & rain \\\\\n",
       "\t8 & 0.0 & 10.0 & 2.8 & 2.0 & sun \\\\\n",
       "\t9 & 4.3 & 9.4 & 5.0 & 3.4 & rain \\\\\n",
       "\t10 & 1.0 & 6.1 & 0.6 & 3.4 & rain \\\\\n",
       "\t11 & 0.0 & 6.1 & -1.1 & 5.1 & sun \\\\\n",
       "\t12 & 0.0 & 6.1 & -1.7 & 1.9 & sun \\\\\n",
       "\t13 & 0.0 & 5.0 & -2.8 & 1.3 & sun \\\\\n",
       "\t14 & 4.1 & 4.4 & 0.6 & 5.3 & snow \\\\\n",
       "\t15 & 5.3 & 1.1 & -3.3 & 3.2 & snow \\\\\n",
       "\t16 & 2.5 & 1.7 & -2.8 & 5.0 & snow \\\\\n",
       "\t17 & 8.1 & 3.3 & 0.0 & 5.6 & snow \\\\\n",
       "\t18 & 19.8 & 0.0 & -2.8 & 5.0 & snow \\\\\n",
       "\t19 & 15.2 & -1.1 & -2.8 & 1.6 & snow \\\\\n",
       "\t20 & 13.5 & 7.2 & -1.1 & 2.3 & snow \\\\\n",
       "\t21 & 3.0 & 8.3 & 3.3 & 8.2 & rain \\\\\n",
       "\t22 & 6.1 & 6.7 & 2.2 & 4.8 & rain \\\\\n",
       "\t23 & 0.0 & 8.3 & 1.1 & 3.6 & rain \\\\\n",
       "\t24 & 8.6 & 10.0 & 2.2 & 5.1 & rain \\\\\n",
       "\t25 & 8.1 & 8.9 & 4.4 & 5.4 & rain \\\\\n",
       "\t26 & 4.8 & 8.9 & 1.1 & 4.8 & rain \\\\\n",
       "\t27 & 0.0 & 6.7 & -2.2 & 1.4 & drizzle \\\\\n",
       "\t28 & 0.0 & 6.7 & 0.6 & 2.2 & rain \\\\\n",
       "\t29 & 27.7 & 9.4 & 3.9 & 4.5 & rain \\\\\n",
       "\t30 & 3.6 & 8.3 & 6.1 & 5.1 & rain \\\\\n",
       "\t$\\dots$ & $\\dots$ & $\\dots$ & $\\dots$ & $\\dots$ & $\\dots$ \\\\\n",
       "\\end{tabular}\n"
      ],
      "text/plain": [
       "\u001b[1m1461×5 DataFrame\u001b[0m\n",
       "\u001b[1m  Row \u001b[0m│\u001b[1m precipitation \u001b[0m\u001b[1m temp_max \u001b[0m\u001b[1m temp_min \u001b[0m\u001b[1m wind    \u001b[0m\u001b[1m weather \u001b[0m\n",
       "\u001b[1m      \u001b[0m│\u001b[90m Float64       \u001b[0m\u001b[90m Float64  \u001b[0m\u001b[90m Float64  \u001b[0m\u001b[90m Float64 \u001b[0m\u001b[90m String  \u001b[0m\n",
       "──────┼─────────────────────────────────────────────────────\n",
       "    1 │           0.0      12.8       5.0      4.7  drizzle\n",
       "    2 │          10.9      10.6       2.8      4.5  rain\n",
       "    3 │           0.8      11.7       7.2      2.3  rain\n",
       "    4 │          20.3      12.2       5.6      4.7  rain\n",
       "    5 │           1.3       8.9       2.8      6.1  rain\n",
       "    6 │           2.5       4.4       2.2      2.2  rain\n",
       "    7 │           0.0       7.2       2.8      2.3  rain\n",
       "    8 │           0.0      10.0       2.8      2.0  sun\n",
       "    9 │           4.3       9.4       5.0      3.4  rain\n",
       "   10 │           1.0       6.1       0.6      3.4  rain\n",
       "   11 │           0.0       6.1      -1.1      5.1  sun\n",
       "  ⋮   │       ⋮           ⋮         ⋮         ⋮        ⋮\n",
       " 1452 │           4.6       7.8       2.8      5.0  rain\n",
       " 1453 │           6.1       5.0       2.8      7.6  rain\n",
       " 1454 │           2.5       5.6       2.2      4.3  rain\n",
       " 1455 │           5.8       5.0       2.2      1.5  rain\n",
       " 1456 │           0.0       4.4       0.0      2.5  sun\n",
       " 1457 │           8.6       4.4       1.7      2.9  rain\n",
       " 1458 │           1.5       5.0       1.7      1.3  rain\n",
       " 1459 │           0.0       7.2       0.6      2.6  fog\n",
       " 1460 │           0.0       5.6      -1.0      3.4  sun\n",
       " 1461 │           0.0       5.6      -2.1      3.5  sun\n",
       "\u001b[36m                                           1440 rows omitted\u001b[0m"
      ]
     },
     "execution_count": 8,
     "metadata": {},
     "output_type": "execute_result"
    }
   ],
   "source": [
    "select(data, Not(:date))"
   ]
  },
  {
   "cell_type": "code",
   "execution_count": 9,
   "id": "1ab70e1e-fd8b-4a32-8e05-b760034c66a4",
   "metadata": {},
   "outputs": [
    {
     "data": {
      "text/plain": [
       "\"1461×6 DataFrame\""
      ]
     },
     "execution_count": 9,
     "metadata": {},
     "output_type": "execute_result"
    }
   ],
   "source": [
    "summary(data)"
   ]
  },
  {
   "cell_type": "code",
   "execution_count": 10,
   "id": "215896e2-33f3-4193-8e31-d1b617b0f5c5",
   "metadata": {},
   "outputs": [],
   "source": [
    "# ux = unique(data.weather); \n",
    "# transform!(data, @. :weather => ByRow(isequal(ux)) .=> Symbol(ux))\n"
   ]
  },
  {
   "cell_type": "code",
   "execution_count": 11,
   "id": "f7091472-1ed3-45d7-8112-c3ceb6ecc2ef",
   "metadata": {},
   "outputs": [
    {
     "data": {
      "image/png": "[encoded data removed]"
     },
     "execution_count": 11,
     "metadata": {},
     "output_type": "execute_result"
    }
   ],
   "source": [
    "histogram(data.temp_max,bins=20, alpha=0.4,title=\"temp_max\")\n"
   ]
  },
  {
   "cell_type": "code",
   "execution_count": 12,
   "id": "7dacb860-6cdb-432f-846a-ea5052b7bd34",
   "metadata": {},
   "outputs": [
    {
     "data": {
      "image/png": "[encoded data removed]"
     },
     "execution_count": 12,
     "metadata": {},
     "output_type": "execute_result"
    }
   ],
   "source": [
    "histogram(data.temp_min,bins=20, alpha=0.4,title=\"temp_min\")\n"
   ]
  },
  {
   "cell_type": "code",
   "execution_count": 13,
   "id": "b5da6824-77f9-4b83-87d4-f32ce2f249b1",
   "metadata": {},
   "outputs": [
    {
     "data": {
      "image/png": "[encoded data removed]"
     },
     "execution_count": 13,
     "metadata": {},
     "output_type": "execute_result"
    }
   ],
   "source": [
    "histogram(data.wind,bins=20, alpha=0.4,title=\"Wind\")\n"
   ]
  },
  {
   "cell_type": "code",
   "execution_count": 14,
   "id": "3a84ba8b-cbfe-489f-88f2-59ffffc8061d",
   "metadata": {},
   "outputs": [
    {
     "data": {
      "image/png": "[encoded data removed]"
     },
     "execution_count": 14,
     "metadata": {},
     "output_type": "execute_result"
    }
   ],
   "source": [
    "histogram(data.precipitation,bins=20, alpha=0.4,title=\"precipitation\")"
   ]
  },
  {
   "cell_type": "code",
   "execution_count": 15,
   "id": "0d1d59e5-79f1-448e-b303-c69c39d07305",
   "metadata": {},
   "outputs": [
    {
     "data": {
      "text/html": [
       "<table class=\"data-frame\"><thead><tr><th></th><th>precipitation</th><th>temp_max</th><th>temp_min</th><th>wind</th><th>weather</th></tr><tr><th></th><th>Float64</th><th>Float64</th><th>Float64</th><th>Float64</th><th>String</th></tr></thead><tbody><p>1,461 rows × 5 columns</p><tr><th>1</th><td>0.0</td><td>12.8</td><td>5.0</td><td>4.7</td><td>drizzle</td></tr><tr><th>2</th><td>10.9</td><td>10.6</td><td>2.8</td><td>4.5</td><td>rain</td></tr><tr><th>3</th><td>0.8</td><td>11.7</td><td>7.2</td><td>2.3</td><td>rain</td></tr><tr><th>4</th><td>20.3</td><td>12.2</td><td>5.6</td><td>4.7</td><td>rain</td></tr><tr><th>5</th><td>1.3</td><td>8.9</td><td>2.8</td><td>6.1</td><td>rain</td></tr><tr><th>6</th><td>2.5</td><td>4.4</td><td>2.2</td><td>2.2</td><td>rain</td></tr><tr><th>7</th><td>0.0</td><td>7.2</td><td>2.8</td><td>2.3</td><td>rain</td></tr><tr><th>8</th><td>0.0</td><td>10.0</td><td>2.8</td><td>2.0</td><td>sun</td></tr><tr><th>9</th><td>4.3</td><td>9.4</td><td>5.0</td><td>3.4</td><td>rain</td></tr><tr><th>10</th><td>1.0</td><td>6.1</td><td>0.6</td><td>3.4</td><td>rain</td></tr><tr><th>11</th><td>0.0</td><td>6.1</td><td>-1.1</td><td>5.1</td><td>sun</td></tr><tr><th>12</th><td>0.0</td><td>6.1</td><td>-1.7</td><td>1.9</td><td>sun</td></tr><tr><th>13</th><td>0.0</td><td>5.0</td><td>-2.8</td><td>1.3</td><td>sun</td></tr><tr><th>14</th><td>4.1</td><td>4.4</td><td>0.6</td><td>5.3</td><td>snow</td></tr><tr><th>15</th><td>5.3</td><td>1.1</td><td>-3.3</td><td>3.2</td><td>snow</td></tr><tr><th>16</th><td>2.5</td><td>1.7</td><td>-2.8</td><td>5.0</td><td>snow</td></tr><tr><th>17</th><td>8.1</td><td>3.3</td><td>0.0</td><td>5.6</td><td>snow</td></tr><tr><th>18</th><td>19.8</td><td>0.0</td><td>-2.8</td><td>5.0</td><td>snow</td></tr><tr><th>19</th><td>15.2</td><td>-1.1</td><td>-2.8</td><td>1.6</td><td>snow</td></tr><tr><th>20</th><td>13.5</td><td>7.2</td><td>-1.1</td><td>2.3</td><td>snow</td></tr><tr><th>21</th><td>3.0</td><td>8.3</td><td>3.3</td><td>8.2</td><td>rain</td></tr><tr><th>22</th><td>6.1</td><td>6.7</td><td>2.2</td><td>4.8</td><td>rain</td></tr><tr><th>23</th><td>0.0</td><td>8.3</td><td>1.1</td><td>3.6</td><td>rain</td></tr><tr><th>24</th><td>8.6</td><td>10.0</td><td>2.2</td><td>5.1</td><td>rain</td></tr><tr><th>25</th><td>8.1</td><td>8.9</td><td>4.4</td><td>5.4</td><td>rain</td></tr><tr><th>26</th><td>4.8</td><td>8.9</td><td>1.1</td><td>4.8</td><td>rain</td></tr><tr><th>27</th><td>0.0</td><td>6.7</td><td>-2.2</td><td>1.4</td><td>drizzle</td></tr><tr><th>28</th><td>0.0</td><td>6.7</td><td>0.6</td><td>2.2</td><td>rain</td></tr><tr><th>29</th><td>27.7</td><td>9.4</td><td>3.9</td><td>4.5</td><td>rain</td></tr><tr><th>30</th><td>3.6</td><td>8.3</td><td>6.1</td><td>5.1</td><td>rain</td></tr><tr><th>&vellip;</th><td>&vellip;</td><td>&vellip;</td><td>&vellip;</td><td>&vellip;</td><td>&vellip;</td></tr></tbody></table>"
      ],
      "text/latex": [
       "\\begin{tabular}{r|ccccc}\n",
       "\t& precipitation & temp\\_max & temp\\_min & wind & weather\\\\\n",
       "\t\\hline\n",
       "\t& Float64 & Float64 & Float64 & Float64 & String\\\\\n",
       "\t\\hline\n",
       "\t1 & 0.0 & 12.8 & 5.0 & 4.7 & drizzle \\\\\n",
       "\t2 & 10.9 & 10.6 & 2.8 & 4.5 & rain \\\\\n",
       "\t3 & 0.8 & 11.7 & 7.2 & 2.3 & rain \\\\\n",
       "\t4 & 20.3 & 12.2 & 5.6 & 4.7 & rain \\\\\n",
       "\t5 & 1.3 & 8.9 & 2.8 & 6.1 & rain \\\\\n",
       "\t6 & 2.5 & 4.4 & 2.2 & 2.2 & rain \\\\\n",
       "\t7 & 0.0 & 7.2 & 2.8 & 2.3 & rain \\\\\n",
       "\t8 & 0.0 & 10.0 & 2.8 & 2.0 & sun \\\\\n",
       "\t9 & 4.3 & 9.4 & 5.0 & 3.4 & rain \\\\\n",
       "\t10 & 1.0 & 6.1 & 0.6 & 3.4 & rain \\\\\n",
       "\t11 & 0.0 & 6.1 & -1.1 & 5.1 & sun \\\\\n",
       "\t12 & 0.0 & 6.1 & -1.7 & 1.9 & sun \\\\\n",
       "\t13 & 0.0 & 5.0 & -2.8 & 1.3 & sun \\\\\n",
       "\t14 & 4.1 & 4.4 & 0.6 & 5.3 & snow \\\\\n",
       "\t15 & 5.3 & 1.1 & -3.3 & 3.2 & snow \\\\\n",
       "\t16 & 2.5 & 1.7 & -2.8 & 5.0 & snow \\\\\n",
       "\t17 & 8.1 & 3.3 & 0.0 & 5.6 & snow \\\\\n",
       "\t18 & 19.8 & 0.0 & -2.8 & 5.0 & snow \\\\\n",
       "\t19 & 15.2 & -1.1 & -2.8 & 1.6 & snow \\\\\n",
       "\t20 & 13.5 & 7.2 & -1.1 & 2.3 & snow \\\\\n",
       "\t21 & 3.0 & 8.3 & 3.3 & 8.2 & rain \\\\\n",
       "\t22 & 6.1 & 6.7 & 2.2 & 4.8 & rain \\\\\n",
       "\t23 & 0.0 & 8.3 & 1.1 & 3.6 & rain \\\\\n",
       "\t24 & 8.6 & 10.0 & 2.2 & 5.1 & rain \\\\\n",
       "\t25 & 8.1 & 8.9 & 4.4 & 5.4 & rain \\\\\n",
       "\t26 & 4.8 & 8.9 & 1.1 & 4.8 & rain \\\\\n",
       "\t27 & 0.0 & 6.7 & -2.2 & 1.4 & drizzle \\\\\n",
       "\t28 & 0.0 & 6.7 & 0.6 & 2.2 & rain \\\\\n",
       "\t29 & 27.7 & 9.4 & 3.9 & 4.5 & rain \\\\\n",
       "\t30 & 3.6 & 8.3 & 6.1 & 5.1 & rain \\\\\n",
       "\t$\\dots$ & $\\dots$ & $\\dots$ & $\\dots$ & $\\dots$ & $\\dots$ \\\\\n",
       "\\end{tabular}\n"
      ],
      "text/plain": [
       "\u001b[1m1461×5 DataFrame\u001b[0m\n",
       "\u001b[1m  Row \u001b[0m│\u001b[1m precipitation \u001b[0m\u001b[1m temp_max \u001b[0m\u001b[1m temp_min \u001b[0m\u001b[1m wind    \u001b[0m\u001b[1m weather \u001b[0m\n",
       "\u001b[1m      \u001b[0m│\u001b[90m Float64       \u001b[0m\u001b[90m Float64  \u001b[0m\u001b[90m Float64  \u001b[0m\u001b[90m Float64 \u001b[0m\u001b[90m String  \u001b[0m\n",
       "──────┼─────────────────────────────────────────────────────\n",
       "    1 │           0.0      12.8       5.0      4.7  drizzle\n",
       "    2 │          10.9      10.6       2.8      4.5  rain\n",
       "    3 │           0.8      11.7       7.2      2.3  rain\n",
       "    4 │          20.3      12.2       5.6      4.7  rain\n",
       "    5 │           1.3       8.9       2.8      6.1  rain\n",
       "    6 │           2.5       4.4       2.2      2.2  rain\n",
       "    7 │           0.0       7.2       2.8      2.3  rain\n",
       "    8 │           0.0      10.0       2.8      2.0  sun\n",
       "    9 │           4.3       9.4       5.0      3.4  rain\n",
       "   10 │           1.0       6.1       0.6      3.4  rain\n",
       "   11 │           0.0       6.1      -1.1      5.1  sun\n",
       "  ⋮   │       ⋮           ⋮         ⋮         ⋮        ⋮\n",
       " 1452 │           4.6       7.8       2.8      5.0  rain\n",
       " 1453 │           6.1       5.0       2.8      7.6  rain\n",
       " 1454 │           2.5       5.6       2.2      4.3  rain\n",
       " 1455 │           5.8       5.0       2.2      1.5  rain\n",
       " 1456 │           0.0       4.4       0.0      2.5  sun\n",
       " 1457 │           8.6       4.4       1.7      2.9  rain\n",
       " 1458 │           1.5       5.0       1.7      1.3  rain\n",
       " 1459 │           0.0       7.2       0.6      2.6  fog\n",
       " 1460 │           0.0       5.6      -1.0      3.4  sun\n",
       " 1461 │           0.0       5.6      -2.1      3.5  sun\n",
       "\u001b[36m                                           1440 rows omitted\u001b[0m"
      ]
     },
     "execution_count": 15,
     "metadata": {},
     "output_type": "execute_result"
    }
   ],
   "source": [
    "select!(data, Not(:date))\n",
    "\n"
   ]
  },
  {
   "cell_type": "code",
   "execution_count": 16,
   "id": "880ff0ec-8a89-4474-94f9-8d0f76fc3634",
   "metadata": {},
   "outputs": [
    {
     "data": {
      "text/plain": [
       "5-element Vector{String}:\n",
       " \"precipitation\"\n",
       " \"temp_max\"\n",
       " \"temp_min\"\n",
       " \"wind\"\n",
       " \"weather\""
      ]
     },
     "execution_count": 16,
     "metadata": {},
     "output_type": "execute_result"
    }
   ],
   "source": [
    "data2 = data\n",
    "names(data2)"
   ]
  },
  {
   "cell_type": "code",
   "execution_count": 17,
   "id": "23b0b191-9e36-4117-a4f4-261140c6d74d",
   "metadata": {},
   "outputs": [],
   "source": [
    "# select!(data,Not(:weather))"
   ]
  },
  {
   "cell_type": "code",
   "execution_count": 18,
   "id": "0ef8a9a9-8df9-40ad-9420-5fb64f006bf7",
   "metadata": {},
   "outputs": [
    {
     "data": {
      "text/plain": [
       "4×4 Matrix{Float64}:\n",
       "  1.0       -0.228555  -0.072684    0.328045\n",
       " -0.228555   1.0        0.875687   -0.164857\n",
       " -0.072684   0.875687   1.0        -0.0741852\n",
       "  0.328045  -0.164857  -0.0741852   1.0"
      ]
     },
     "execution_count": 18,
     "metadata": {},
     "output_type": "execute_result"
    }
   ],
   "source": [
    "cors = cor(Matrix(select!(data,Not(:weather))))"
   ]
  },
  {
   "cell_type": "code",
   "execution_count": 19,
   "id": "f6ced9fa-057f-4b5c-b290-53c78bc12319",
   "metadata": {},
   "outputs": [
    {
     "data": {
      "text/html": [
       "<table class=\"data-frame\"><thead><tr><th></th><th>date</th><th>precipitation</th><th>temp_max</th><th>temp_min</th><th>wind</th><th>weather</th></tr><tr><th></th><th>Date</th><th>Float64</th><th>Float64</th><th>Float64</th><th>Float64</th><th>String</th></tr></thead><tbody><p>1,461 rows × 6 columns</p><tr><th>1</th><td>2012-01-01</td><td>0.0</td><td>12.8</td><td>5.0</td><td>4.7</td><td>drizzle</td></tr><tr><th>2</th><td>2012-01-02</td><td>10.9</td><td>10.6</td><td>2.8</td><td>4.5</td><td>rain</td></tr><tr><th>3</th><td>2012-01-03</td><td>0.8</td><td>11.7</td><td>7.2</td><td>2.3</td><td>rain</td></tr><tr><th>4</th><td>2012-01-04</td><td>20.3</td><td>12.2</td><td>5.6</td><td>4.7</td><td>rain</td></tr><tr><th>5</th><td>2012-01-05</td><td>1.3</td><td>8.9</td><td>2.8</td><td>6.1</td><td>rain</td></tr><tr><th>6</th><td>2012-01-06</td><td>2.5</td><td>4.4</td><td>2.2</td><td>2.2</td><td>rain</td></tr><tr><th>7</th><td>2012-01-07</td><td>0.0</td><td>7.2</td><td>2.8</td><td>2.3</td><td>rain</td></tr><tr><th>8</th><td>2012-01-08</td><td>0.0</td><td>10.0</td><td>2.8</td><td>2.0</td><td>sun</td></tr><tr><th>9</th><td>2012-01-09</td><td>4.3</td><td>9.4</td><td>5.0</td><td>3.4</td><td>rain</td></tr><tr><th>10</th><td>2012-01-10</td><td>1.0</td><td>6.1</td><td>0.6</td><td>3.4</td><td>rain</td></tr><tr><th>11</th><td>2012-01-11</td><td>0.0</td><td>6.1</td><td>-1.1</td><td>5.1</td><td>sun</td></tr><tr><th>12</th><td>2012-01-12</td><td>0.0</td><td>6.1</td><td>-1.7</td><td>1.9</td><td>sun</td></tr><tr><th>13</th><td>2012-01-13</td><td>0.0</td><td>5.0</td><td>-2.8</td><td>1.3</td><td>sun</td></tr><tr><th>14</th><td>2012-01-14</td><td>4.1</td><td>4.4</td><td>0.6</td><td>5.3</td><td>snow</td></tr><tr><th>15</th><td>2012-01-15</td><td>5.3</td><td>1.1</td><td>-3.3</td><td>3.2</td><td>snow</td></tr><tr><th>16</th><td>2012-01-16</td><td>2.5</td><td>1.7</td><td>-2.8</td><td>5.0</td><td>snow</td></tr><tr><th>17</th><td>2012-01-17</td><td>8.1</td><td>3.3</td><td>0.0</td><td>5.6</td><td>snow</td></tr><tr><th>18</th><td>2012-01-18</td><td>19.8</td><td>0.0</td><td>-2.8</td><td>5.0</td><td>snow</td></tr><tr><th>19</th><td>2012-01-19</td><td>15.2</td><td>-1.1</td><td>-2.8</td><td>1.6</td><td>snow</td></tr><tr><th>20</th><td>2012-01-20</td><td>13.5</td><td>7.2</td><td>-1.1</td><td>2.3</td><td>snow</td></tr><tr><th>21</th><td>2012-01-21</td><td>3.0</td><td>8.3</td><td>3.3</td><td>8.2</td><td>rain</td></tr><tr><th>22</th><td>2012-01-22</td><td>6.1</td><td>6.7</td><td>2.2</td><td>4.8</td><td>rain</td></tr><tr><th>23</th><td>2012-01-23</td><td>0.0</td><td>8.3</td><td>1.1</td><td>3.6</td><td>rain</td></tr><tr><th>24</th><td>2012-01-24</td><td>8.6</td><td>10.0</td><td>2.2</td><td>5.1</td><td>rain</td></tr><tr><th>25</th><td>2012-01-25</td><td>8.1</td><td>8.9</td><td>4.4</td><td>5.4</td><td>rain</td></tr><tr><th>26</th><td>2012-01-26</td><td>4.8</td><td>8.9</td><td>1.1</td><td>4.8</td><td>rain</td></tr><tr><th>27</th><td>2012-01-27</td><td>0.0</td><td>6.7</td><td>-2.2</td><td>1.4</td><td>drizzle</td></tr><tr><th>28</th><td>2012-01-28</td><td>0.0</td><td>6.7</td><td>0.6</td><td>2.2</td><td>rain</td></tr><tr><th>29</th><td>2012-01-29</td><td>27.7</td><td>9.4</td><td>3.9</td><td>4.5</td><td>rain</td></tr><tr><th>30</th><td>2012-01-30</td><td>3.6</td><td>8.3</td><td>6.1</td><td>5.1</td><td>rain</td></tr><tr><th>&vellip;</th><td>&vellip;</td><td>&vellip;</td><td>&vellip;</td><td>&vellip;</td><td>&vellip;</td><td>&vellip;</td></tr></tbody></table>"
      ],
      "text/latex": [
       "\\begin{tabular}{r|cccccc}\n",
       "\t& date & precipitation & temp\\_max & temp\\_min & wind & weather\\\\\n",
       "\t\\hline\n",
       "\t& Date & Float64 & Float64 & Float64 & Float64 & String\\\\\n",
       "\t\\hline\n",
       "\t1 & 2012-01-01 & 0.0 & 12.8 & 5.0 & 4.7 & drizzle \\\\\n",
       "\t2 & 2012-01-02 & 10.9 & 10.6 & 2.8 & 4.5 & rain \\\\\n",
       "\t3 & 2012-01-03 & 0.8 & 11.7 & 7.2 & 2.3 & rain \\\\\n",
       "\t4 & 2012-01-04 & 20.3 & 12.2 & 5.6 & 4.7 & rain \\\\\n",
       "\t5 & 2012-01-05 & 1.3 & 8.9 & 2.8 & 6.1 & rain \\\\\n",
       "\t6 & 2012-01-06 & 2.5 & 4.4 & 2.2 & 2.2 & rain \\\\\n",
       "\t7 & 2012-01-07 & 0.0 & 7.2 & 2.8 & 2.3 & rain \\\\\n",
       "\t8 & 2012-01-08 & 0.0 & 10.0 & 2.8 & 2.0 & sun \\\\\n",
       "\t9 & 2012-01-09 & 4.3 & 9.4 & 5.0 & 3.4 & rain \\\\\n",
       "\t10 & 2012-01-10 & 1.0 & 6.1 & 0.6 & 3.4 & rain \\\\\n",
       "\t11 & 2012-01-11 & 0.0 & 6.1 & -1.1 & 5.1 & sun \\\\\n",
       "\t12 & 2012-01-12 & 0.0 & 6.1 & -1.7 & 1.9 & sun \\\\\n",
       "\t13 & 2012-01-13 & 0.0 & 5.0 & -2.8 & 1.3 & sun \\\\\n",
       "\t14 & 2012-01-14 & 4.1 & 4.4 & 0.6 & 5.3 & snow \\\\\n",
       "\t15 & 2012-01-15 & 5.3 & 1.1 & -3.3 & 3.2 & snow \\\\\n",
       "\t16 & 2012-01-16 & 2.5 & 1.7 & -2.8 & 5.0 & snow \\\\\n",
       "\t17 & 2012-01-17 & 8.1 & 3.3 & 0.0 & 5.6 & snow \\\\\n",
       "\t18 & 2012-01-18 & 19.8 & 0.0 & -2.8 & 5.0 & snow \\\\\n",
       "\t19 & 2012-01-19 & 15.2 & -1.1 & -2.8 & 1.6 & snow \\\\\n",
       "\t20 & 2012-01-20 & 13.5 & 7.2 & -1.1 & 2.3 & snow \\\\\n",
       "\t21 & 2012-01-21 & 3.0 & 8.3 & 3.3 & 8.2 & rain \\\\\n",
       "\t22 & 2012-01-22 & 6.1 & 6.7 & 2.2 & 4.8 & rain \\\\\n",
       "\t23 & 2012-01-23 & 0.0 & 8.3 & 1.1 & 3.6 & rain \\\\\n",
       "\t24 & 2012-01-24 & 8.6 & 10.0 & 2.2 & 5.1 & rain \\\\\n",
       "\t25 & 2012-01-25 & 8.1 & 8.9 & 4.4 & 5.4 & rain \\\\\n",
       "\t26 & 2012-01-26 & 4.8 & 8.9 & 1.1 & 4.8 & rain \\\\\n",
       "\t27 & 2012-01-27 & 0.0 & 6.7 & -2.2 & 1.4 & drizzle \\\\\n",
       "\t28 & 2012-01-28 & 0.0 & 6.7 & 0.6 & 2.2 & rain \\\\\n",
       "\t29 & 2012-01-29 & 27.7 & 9.4 & 3.9 & 4.5 & rain \\\\\n",
       "\t30 & 2012-01-30 & 3.6 & 8.3 & 6.1 & 5.1 & rain \\\\\n",
       "\t$\\dots$ & $\\dots$ & $\\dots$ & $\\dots$ & $\\dots$ & $\\dots$ & $\\dots$ \\\\\n",
       "\\end{tabular}\n"
      ],
      "text/plain": [
       "\u001b[1m1461×6 DataFrame\u001b[0m\n",
       "\u001b[1m  Row \u001b[0m│\u001b[1m date       \u001b[0m\u001b[1m precipitation \u001b[0m\u001b[1m temp_max \u001b[0m\u001b[1m temp_min \u001b[0m\u001b[1m wind    \u001b[0m\u001b[1m weather \u001b[0m\n",
       "\u001b[1m      \u001b[0m│\u001b[90m Date       \u001b[0m\u001b[90m Float64       \u001b[0m\u001b[90m Float64  \u001b[0m\u001b[90m Float64  \u001b[0m\u001b[90m Float64 \u001b[0m\u001b[90m String  \u001b[0m\n",
       "──────┼─────────────────────────────────────────────────────────────────\n",
       "    1 │ 2012-01-01            0.0      12.8       5.0      4.7  drizzle\n",
       "    2 │ 2012-01-02           10.9      10.6       2.8      4.5  rain\n",
       "    3 │ 2012-01-03            0.8      11.7       7.2      2.3  rain\n",
       "    4 │ 2012-01-04           20.3      12.2       5.6      4.7  rain\n",
       "    5 │ 2012-01-05            1.3       8.9       2.8      6.1  rain\n",
       "    6 │ 2012-01-06            2.5       4.4       2.2      2.2  rain\n",
       "    7 │ 2012-01-07            0.0       7.2       2.8      2.3  rain\n",
       "    8 │ 2012-01-08            0.0      10.0       2.8      2.0  sun\n",
       "    9 │ 2012-01-09            4.3       9.4       5.0      3.4  rain\n",
       "   10 │ 2012-01-10            1.0       6.1       0.6      3.4  rain\n",
       "   11 │ 2012-01-11            0.0       6.1      -1.1      5.1  sun\n",
       "  ⋮   │     ⋮             ⋮           ⋮         ⋮         ⋮        ⋮\n",
       " 1452 │ 2015-12-22            4.6       7.8       2.8      5.0  rain\n",
       " 1453 │ 2015-12-23            6.1       5.0       2.8      7.6  rain\n",
       " 1454 │ 2015-12-24            2.5       5.6       2.2      4.3  rain\n",
       " 1455 │ 2015-12-25            5.8       5.0       2.2      1.5  rain\n",
       " 1456 │ 2015-12-26            0.0       4.4       0.0      2.5  sun\n",
       " 1457 │ 2015-12-27            8.6       4.4       1.7      2.9  rain\n",
       " 1458 │ 2015-12-28            1.5       5.0       1.7      1.3  rain\n",
       " 1459 │ 2015-12-29            0.0       7.2       0.6      2.6  fog\n",
       " 1460 │ 2015-12-30            0.0       5.6      -1.0      3.4  sun\n",
       " 1461 │ 2015-12-31            0.0       5.6      -2.1      3.5  sun\n",
       "\u001b[36m                                                       1440 rows omitted\u001b[0m"
      ]
     },
     "execution_count": 19,
     "metadata": {},
     "output_type": "execute_result"
    }
   ],
   "source": [
    "data3 = CSV.read(\"/home/useeffect/Desktop/Kaggle/seattle-weather.csv\",DataFrame)"
   ]
  },
  {
   "cell_type": "code",
   "execution_count": 20,
   "id": "7ca58bfb-3149-42de-a4b2-e1a349d64ce3",
   "metadata": {},
   "outputs": [
    {
     "data": {
      "text/html": [
       "<table class=\"data-frame\"><thead><tr><th></th><th>precipitation</th><th>temp_max</th><th>temp_min</th><th>wind</th><th>weather</th></tr><tr><th></th><th>Float64</th><th>Float64</th><th>Float64</th><th>Float64</th><th>String</th></tr></thead><tbody><p>1,461 rows × 5 columns</p><tr><th>1</th><td>0.0</td><td>12.8</td><td>5.0</td><td>4.7</td><td>drizzle</td></tr><tr><th>2</th><td>10.9</td><td>10.6</td><td>2.8</td><td>4.5</td><td>rain</td></tr><tr><th>3</th><td>0.8</td><td>11.7</td><td>7.2</td><td>2.3</td><td>rain</td></tr><tr><th>4</th><td>20.3</td><td>12.2</td><td>5.6</td><td>4.7</td><td>rain</td></tr><tr><th>5</th><td>1.3</td><td>8.9</td><td>2.8</td><td>6.1</td><td>rain</td></tr><tr><th>6</th><td>2.5</td><td>4.4</td><td>2.2</td><td>2.2</td><td>rain</td></tr><tr><th>7</th><td>0.0</td><td>7.2</td><td>2.8</td><td>2.3</td><td>rain</td></tr><tr><th>8</th><td>0.0</td><td>10.0</td><td>2.8</td><td>2.0</td><td>sun</td></tr><tr><th>9</th><td>4.3</td><td>9.4</td><td>5.0</td><td>3.4</td><td>rain</td></tr><tr><th>10</th><td>1.0</td><td>6.1</td><td>0.6</td><td>3.4</td><td>rain</td></tr><tr><th>11</th><td>0.0</td><td>6.1</td><td>-1.1</td><td>5.1</td><td>sun</td></tr><tr><th>12</th><td>0.0</td><td>6.1</td><td>-1.7</td><td>1.9</td><td>sun</td></tr><tr><th>13</th><td>0.0</td><td>5.0</td><td>-2.8</td><td>1.3</td><td>sun</td></tr><tr><th>14</th><td>4.1</td><td>4.4</td><td>0.6</td><td>5.3</td><td>snow</td></tr><tr><th>15</th><td>5.3</td><td>1.1</td><td>-3.3</td><td>3.2</td><td>snow</td></tr><tr><th>16</th><td>2.5</td><td>1.7</td><td>-2.8</td><td>5.0</td><td>snow</td></tr><tr><th>17</th><td>8.1</td><td>3.3</td><td>0.0</td><td>5.6</td><td>snow</td></tr><tr><th>18</th><td>19.8</td><td>0.0</td><td>-2.8</td><td>5.0</td><td>snow</td></tr><tr><th>19</th><td>15.2</td><td>-1.1</td><td>-2.8</td><td>1.6</td><td>snow</td></tr><tr><th>20</th><td>13.5</td><td>7.2</td><td>-1.1</td><td>2.3</td><td>snow</td></tr><tr><th>21</th><td>3.0</td><td>8.3</td><td>3.3</td><td>8.2</td><td>rain</td></tr><tr><th>22</th><td>6.1</td><td>6.7</td><td>2.2</td><td>4.8</td><td>rain</td></tr><tr><th>23</th><td>0.0</td><td>8.3</td><td>1.1</td><td>3.6</td><td>rain</td></tr><tr><th>24</th><td>8.6</td><td>10.0</td><td>2.2</td><td>5.1</td><td>rain</td></tr><tr><th>25</th><td>8.1</td><td>8.9</td><td>4.4</td><td>5.4</td><td>rain</td></tr><tr><th>26</th><td>4.8</td><td>8.9</td><td>1.1</td><td>4.8</td><td>rain</td></tr><tr><th>27</th><td>0.0</td><td>6.7</td><td>-2.2</td><td>1.4</td><td>drizzle</td></tr><tr><th>28</th><td>0.0</td><td>6.7</td><td>0.6</td><td>2.2</td><td>rain</td></tr><tr><th>29</th><td>27.7</td><td>9.4</td><td>3.9</td><td>4.5</td><td>rain</td></tr><tr><th>30</th><td>3.6</td><td>8.3</td><td>6.1</td><td>5.1</td><td>rain</td></tr><tr><th>&vellip;</th><td>&vellip;</td><td>&vellip;</td><td>&vellip;</td><td>&vellip;</td><td>&vellip;</td></tr></tbody></table>"
      ],
      "text/latex": [
       "\\begin{tabular}{r|ccccc}\n",
       "\t& precipitation & temp\\_max & temp\\_min & wind & weather\\\\\n",
       "\t\\hline\n",
       "\t& Float64 & Float64 & Float64 & Float64 & String\\\\\n",
       "\t\\hline\n",
       "\t1 & 0.0 & 12.8 & 5.0 & 4.7 & drizzle \\\\\n",
       "\t2 & 10.9 & 10.6 & 2.8 & 4.5 & rain \\\\\n",
       "\t3 & 0.8 & 11.7 & 7.2 & 2.3 & rain \\\\\n",
       "\t4 & 20.3 & 12.2 & 5.6 & 4.7 & rain \\\\\n",
       "\t5 & 1.3 & 8.9 & 2.8 & 6.1 & rain \\\\\n",
       "\t6 & 2.5 & 4.4 & 2.2 & 2.2 & rain \\\\\n",
       "\t7 & 0.0 & 7.2 & 2.8 & 2.3 & rain \\\\\n",
       "\t8 & 0.0 & 10.0 & 2.8 & 2.0 & sun \\\\\n",
       "\t9 & 4.3 & 9.4 & 5.0 & 3.4 & rain \\\\\n",
       "\t10 & 1.0 & 6.1 & 0.6 & 3.4 & rain \\\\\n",
       "\t11 & 0.0 & 6.1 & -1.1 & 5.1 & sun \\\\\n",
       "\t12 & 0.0 & 6.1 & -1.7 & 1.9 & sun \\\\\n",
       "\t13 & 0.0 & 5.0 & -2.8 & 1.3 & sun \\\\\n",
       "\t14 & 4.1 & 4.4 & 0.6 & 5.3 & snow \\\\\n",
       "\t15 & 5.3 & 1.1 & -3.3 & 3.2 & snow \\\\\n",
       "\t16 & 2.5 & 1.7 & -2.8 & 5.0 & snow \\\\\n",
       "\t17 & 8.1 & 3.3 & 0.0 & 5.6 & snow \\\\\n",
       "\t18 & 19.8 & 0.0 & -2.8 & 5.0 & snow \\\\\n",
       "\t19 & 15.2 & -1.1 & -2.8 & 1.6 & snow \\\\\n",
       "\t20 & 13.5 & 7.2 & -1.1 & 2.3 & snow \\\\\n",
       "\t21 & 3.0 & 8.3 & 3.3 & 8.2 & rain \\\\\n",
       "\t22 & 6.1 & 6.7 & 2.2 & 4.8 & rain \\\\\n",
       "\t23 & 0.0 & 8.3 & 1.1 & 3.6 & rain \\\\\n",
       "\t24 & 8.6 & 10.0 & 2.2 & 5.1 & rain \\\\\n",
       "\t25 & 8.1 & 8.9 & 4.4 & 5.4 & rain \\\\\n",
       "\t26 & 4.8 & 8.9 & 1.1 & 4.8 & rain \\\\\n",
       "\t27 & 0.0 & 6.7 & -2.2 & 1.4 & drizzle \\\\\n",
       "\t28 & 0.0 & 6.7 & 0.6 & 2.2 & rain \\\\\n",
       "\t29 & 27.7 & 9.4 & 3.9 & 4.5 & rain \\\\\n",
       "\t30 & 3.6 & 8.3 & 6.1 & 5.1 & rain \\\\\n",
       "\t$\\dots$ & $\\dots$ & $\\dots$ & $\\dots$ & $\\dots$ & $\\dots$ \\\\\n",
       "\\end{tabular}\n"
      ],
      "text/plain": [
       "\u001b[1m1461×5 DataFrame\u001b[0m\n",
       "\u001b[1m  Row \u001b[0m│\u001b[1m precipitation \u001b[0m\u001b[1m temp_max \u001b[0m\u001b[1m temp_min \u001b[0m\u001b[1m wind    \u001b[0m\u001b[1m weather \u001b[0m\n",
       "\u001b[1m      \u001b[0m│\u001b[90m Float64       \u001b[0m\u001b[90m Float64  \u001b[0m\u001b[90m Float64  \u001b[0m\u001b[90m Float64 \u001b[0m\u001b[90m String  \u001b[0m\n",
       "──────┼─────────────────────────────────────────────────────\n",
       "    1 │           0.0      12.8       5.0      4.7  drizzle\n",
       "    2 │          10.9      10.6       2.8      4.5  rain\n",
       "    3 │           0.8      11.7       7.2      2.3  rain\n",
       "    4 │          20.3      12.2       5.6      4.7  rain\n",
       "    5 │           1.3       8.9       2.8      6.1  rain\n",
       "    6 │           2.5       4.4       2.2      2.2  rain\n",
       "    7 │           0.0       7.2       2.8      2.3  rain\n",
       "    8 │           0.0      10.0       2.8      2.0  sun\n",
       "    9 │           4.3       9.4       5.0      3.4  rain\n",
       "   10 │           1.0       6.1       0.6      3.4  rain\n",
       "   11 │           0.0       6.1      -1.1      5.1  sun\n",
       "  ⋮   │       ⋮           ⋮         ⋮         ⋮        ⋮\n",
       " 1452 │           4.6       7.8       2.8      5.0  rain\n",
       " 1453 │           6.1       5.0       2.8      7.6  rain\n",
       " 1454 │           2.5       5.6       2.2      4.3  rain\n",
       " 1455 │           5.8       5.0       2.2      1.5  rain\n",
       " 1456 │           0.0       4.4       0.0      2.5  sun\n",
       " 1457 │           8.6       4.4       1.7      2.9  rain\n",
       " 1458 │           1.5       5.0       1.7      1.3  rain\n",
       " 1459 │           0.0       7.2       0.6      2.6  fog\n",
       " 1460 │           0.0       5.6      -1.0      3.4  sun\n",
       " 1461 │           0.0       5.6      -2.1      3.5  sun\n",
       "\u001b[36m                                           1440 rows omitted\u001b[0m"
      ]
     },
     "execution_count": 20,
     "metadata": {},
     "output_type": "execute_result"
    }
   ],
   "source": [
    "select(data3, Not(:date))"
   ]
  },
  {
   "cell_type": "code",
   "execution_count": 21,
   "id": "feef788e-e8b6-4927-a3bb-0c0019a15003",
   "metadata": {},
   "outputs": [
    {
     "data": {
      "text/plain": [
       "Plots.GRBackend()"
      ]
     },
     "execution_count": 21,
     "metadata": {},
     "output_type": "execute_result"
    }
   ],
   "source": [
    "\n",
    "gr()"
   ]
  },
  {
   "cell_type": "code",
   "execution_count": 22,
   "id": "ca4f61b6-dc34-46c4-bed3-1a0795f23718",
   "metadata": {},
   "outputs": [
    {
     "data": {
      "image/svg+xml": [
       "<?xml version=\"1.0\" encoding=\"utf-8\"?>\n",
       "<svg xmlns=\"http://www.w3.org/2000/svg\" xmlns:xlink=\"http://www.w3.org/1999/xlink\" width=\"600\" height=\"400\" viewBox=\"0 0 2400 1600\">\n",
       "<defs>\n",
       "  <clipPath id=\"clip100\">\n",
       "    <rect x=\"0\" y=\"0\" width=\"2400\" height=\"1600\"/>\n",
       "  </clipPath>\n",
       "</defs>\n",
       "<path clip-path=\"url(#clip100)\" d=\"\n",
       "M0 1600 L2400 1600 L2400 0 L0 0  Z\n",
       "  \" fill=\"#ffffff\" fill-rule=\"evenodd\" fill-opacity=\"1\"/>\n",
       "<defs>\n",
       "  <clipPath id=\"clip101\">\n",
       "    <rect x=\"480\" y=\"0\" width=\"1681\" height=\"1600\"/>\n",
       "  </clipPath>\n",
       "</defs>\n",
       "<path clip-path=\"url(#clip100)\" d=\"\n",
       "M112.177 1486.45 L2112.76 1486.45 L2112.76 47.2441 L112.177 47.2441  Z\n",
       "  \" fill=\"#ffffff\" fill-rule=\"evenodd\" fill-opacity=\"1\"/>\n",
       "<defs>\n",
       "  <clipPath id=\"clip102\">\n",
       "    <rect x=\"112\" y=\"47\" width=\"2002\" height=\"1440\"/>\n",
       "  </clipPath>\n",
       "</defs>\n",
       "<polyline clip-path=\"url(#clip102)\" style=\"stroke:#000000; stroke-linecap:butt; stroke-linejoin:round; stroke-width:2; stroke-opacity:0.1; fill:none\" points=\"\n",
       "  362.25,1486.45 362.25,47.2441 \n",
       "  \"/>\n",
       "<polyline clip-path=\"url(#clip102)\" style=\"stroke:#000000; stroke-linecap:butt; stroke-linejoin:round; stroke-width:2; stroke-opacity:0.1; fill:none\" points=\"\n",
       "  862.394,1486.45 862.394,47.2441 \n",
       "  \"/>\n",
       "<polyline clip-path=\"url(#clip102)\" style=\"stroke:#000000; stroke-linecap:butt; stroke-linejoin:round; stroke-width:2; stroke-opacity:0.1; fill:none\" points=\"\n",
       "  1362.54,1486.45 1362.54,47.2441 \n",
       "  \"/>\n",
       "<polyline clip-path=\"url(#clip102)\" style=\"stroke:#000000; stroke-linecap:butt; stroke-linejoin:round; stroke-width:2; stroke-opacity:0.1; fill:none\" points=\"\n",
       "  1862.68,1486.45 1862.68,47.2441 \n",
       "  \"/>\n",
       "<polyline clip-path=\"url(#clip100)\" style=\"stroke:#000000; stroke-linecap:butt; stroke-linejoin:round; stroke-width:4; stroke-opacity:1; fill:none\" points=\"\n",
       "  112.177,1486.45 2112.76,1486.45 \n",
       "  \"/>\n",
       "<polyline clip-path=\"url(#clip100)\" style=\"stroke:#000000; stroke-linecap:butt; stroke-linejoin:round; stroke-width:4; stroke-opacity:1; fill:none\" points=\"\n",
       "  362.25,1486.45 362.25,1467.55 \n",
       "  \"/>\n",
       "<polyline clip-path=\"url(#clip100)\" style=\"stroke:#000000; stroke-linecap:butt; stroke-linejoin:round; stroke-width:4; stroke-opacity:1; fill:none\" points=\"\n",
       "  862.394,1486.45 862.394,1467.55 \n",
       "  \"/>\n",
       "<polyline clip-path=\"url(#clip100)\" style=\"stroke:#000000; stroke-linecap:butt; stroke-linejoin:round; stroke-width:4; stroke-opacity:1; fill:none\" points=\"\n",
       "  1362.54,1486.45 1362.54,1467.55 \n",
       "  \"/>\n",
       "<polyline clip-path=\"url(#clip100)\" style=\"stroke:#000000; stroke-linecap:butt; stroke-linejoin:round; stroke-width:4; stroke-opacity:1; fill:none\" points=\"\n",
       "  1862.68,1486.45 1862.68,1467.55 \n",
       "  \"/>\n",
       "<path clip-path=\"url(#clip100)\" d=\"M352.632 1544.91 L360.27 1544.91 L360.27 1518.55 L351.96 1520.21 L351.96 1515.95 L360.224 1514.29 L364.9 1514.29 L364.9 1544.91 L372.539 1544.91 L372.539 1548.85 L352.632 1548.85 L352.632 1544.91 Z\" fill=\"#000000\" fill-rule=\"evenodd\" fill-opacity=\"1\" /><path clip-path=\"url(#clip100)\" d=\"M857.047 1544.91 L873.366 1544.91 L873.366 1548.85 L851.422 1548.85 L851.422 1544.91 Q854.084 1542.16 858.667 1537.53 Q863.274 1532.88 864.454 1531.53 Q866.7 1529.01 867.579 1527.27 Q868.482 1525.51 868.482 1523.82 Q868.482 1521.07 866.538 1519.33 Q864.616 1517.6 861.515 1517.6 Q859.316 1517.6 856.862 1518.36 Q854.431 1519.13 851.654 1520.68 L851.654 1515.95 Q854.478 1514.82 856.931 1514.24 Q859.385 1513.66 861.422 1513.66 Q866.792 1513.66 869.987 1516.35 Q873.181 1519.03 873.181 1523.52 Q873.181 1525.65 872.371 1527.57 Q871.584 1529.47 869.477 1532.07 Q868.899 1532.74 865.797 1535.95 Q862.695 1539.15 857.047 1544.91 Z\" fill=\"#000000\" fill-rule=\"evenodd\" fill-opacity=\"1\" /><path clip-path=\"url(#clip100)\" d=\"M1366.79 1530.21 Q1370.14 1530.93 1372.02 1533.2 Q1373.92 1535.47 1373.92 1538.8 Q1373.92 1543.92 1370.4 1546.72 Q1366.88 1549.52 1360.4 1549.52 Q1358.22 1549.52 1355.91 1549.08 Q1353.62 1548.66 1351.16 1547.81 L1351.16 1543.29 Q1353.11 1544.43 1355.42 1545.01 Q1357.74 1545.58 1360.26 1545.58 Q1364.66 1545.58 1366.95 1543.85 Q1369.26 1542.11 1369.26 1538.8 Q1369.26 1535.75 1367.11 1534.03 Q1364.98 1532.3 1361.16 1532.3 L1357.13 1532.3 L1357.13 1528.45 L1361.35 1528.45 Q1364.8 1528.45 1366.62 1527.09 Q1368.45 1525.7 1368.45 1523.11 Q1368.45 1520.45 1366.56 1519.03 Q1364.68 1517.6 1361.16 1517.6 Q1359.24 1517.6 1357.04 1518.01 Q1354.84 1518.43 1352.2 1519.31 L1352.2 1515.14 Q1354.87 1514.4 1357.18 1514.03 Q1359.52 1513.66 1361.58 1513.66 Q1366.9 1513.66 1370 1516.09 Q1373.11 1518.5 1373.11 1522.62 Q1373.11 1525.49 1371.46 1527.48 Q1369.82 1529.45 1366.79 1530.21 Z\" fill=\"#000000\" fill-rule=\"evenodd\" fill-opacity=\"1\" /><path clip-path=\"url(#clip100)\" d=\"M1865.69 1518.36 L1853.89 1536.81 L1865.69 1536.81 L1865.69 1518.36 M1864.47 1514.29 L1870.35 1514.29 L1870.35 1536.81 L1875.28 1536.81 L1875.28 1540.7 L1870.35 1540.7 L1870.35 1548.85 L1865.69 1548.85 L1865.69 1540.7 L1850.09 1540.7 L1850.09 1536.19 L1864.47 1514.29 Z\" fill=\"#000000\" fill-rule=\"evenodd\" fill-opacity=\"1\" /><polyline clip-path=\"url(#clip102)\" style=\"stroke:#000000; stroke-linecap:butt; stroke-linejoin:round; stroke-width:2; stroke-opacity:0.1; fill:none\" points=\"\n",
       "  112.177,1306.55 2112.76,1306.55 \n",
       "  \"/>\n",
       "<polyline clip-path=\"url(#clip102)\" style=\"stroke:#000000; stroke-linecap:butt; stroke-linejoin:round; stroke-width:2; stroke-opacity:0.1; fill:none\" points=\"\n",
       "  112.177,946.746 2112.76,946.746 \n",
       "  \"/>\n",
       "<polyline clip-path=\"url(#clip102)\" style=\"stroke:#000000; stroke-linecap:butt; stroke-linejoin:round; stroke-width:2; stroke-opacity:0.1; fill:none\" points=\"\n",
       "  112.177,586.946 2112.76,586.946 \n",
       "  \"/>\n",
       "<polyline clip-path=\"url(#clip102)\" style=\"stroke:#000000; stroke-linecap:butt; stroke-linejoin:round; stroke-width:2; stroke-opacity:0.1; fill:none\" points=\"\n",
       "  112.177,227.145 2112.76,227.145 \n",
       "  \"/>\n",
       "<polyline clip-path=\"url(#clip100)\" style=\"stroke:#000000; stroke-linecap:butt; stroke-linejoin:round; stroke-width:4; stroke-opacity:1; fill:none\" points=\"\n",
       "  112.177,1486.45 112.177,47.2441 \n",
       "  \"/>\n",
       "<polyline clip-path=\"url(#clip100)\" style=\"stroke:#000000; stroke-linecap:butt; stroke-linejoin:round; stroke-width:4; stroke-opacity:1; fill:none\" points=\"\n",
       "  112.177,1306.55 129.051,1306.55 \n",
       "  \"/>\n",
       "<polyline clip-path=\"url(#clip100)\" style=\"stroke:#000000; stroke-linecap:butt; stroke-linejoin:round; stroke-width:4; stroke-opacity:1; fill:none\" points=\"\n",
       "  112.177,946.746 129.051,946.746 \n",
       "  \"/>\n",
       "<polyline clip-path=\"url(#clip100)\" style=\"stroke:#000000; stroke-linecap:butt; stroke-linejoin:round; stroke-width:4; stroke-opacity:1; fill:none\" points=\"\n",
       "  112.177,586.946 129.051,586.946 \n",
       "  \"/>\n",
       "<polyline clip-path=\"url(#clip100)\" style=\"stroke:#000000; stroke-linecap:butt; stroke-linejoin:round; stroke-width:4; stroke-opacity:1; fill:none\" points=\"\n",
       "  112.177,227.145 129.051,227.145 \n",
       "  \"/>\n",
       "<path clip-path=\"url(#clip100)\" d=\"M56.2699 1319.89 L63.9087 1319.89 L63.9087 1293.53 L55.5986 1295.19 L55.5986 1290.93 L63.8624 1289.27 L68.5383 1289.27 L68.5383 1319.89 L76.1772 1319.89 L76.1772 1323.83 L56.2699 1323.83 L56.2699 1319.89 Z\" fill=\"#000000\" fill-rule=\"evenodd\" fill-opacity=\"1\" /><path clip-path=\"url(#clip100)\" d=\"M59.8578 960.091 L76.1772 960.091 L76.1772 964.026 L54.2328 964.026 L54.2328 960.091 Q56.8949 957.337 61.4782 952.707 Q66.0846 948.054 67.2652 946.712 Q69.5105 944.189 70.3902 942.452 Q71.2929 940.693 71.2929 939.003 Q71.2929 936.249 69.3485 934.513 Q67.4272 932.777 64.3254 932.777 Q62.1263 932.777 59.6726 933.541 Q57.2421 934.304 54.4643 935.855 L54.4643 931.133 Q57.2884 929.999 59.7421 929.42 Q62.1958 928.841 64.2328 928.841 Q69.6031 928.841 72.7976 931.527 Q75.992 934.212 75.992 938.703 Q75.992 940.832 75.1818 942.753 Q74.3948 944.652 72.2883 947.244 Q71.7096 947.915 68.6078 951.133 Q65.5059 954.327 59.8578 960.091 Z\" fill=\"#000000\" fill-rule=\"evenodd\" fill-opacity=\"1\" /><path clip-path=\"url(#clip100)\" d=\"M69.0476 585.591 Q72.404 586.309 74.279 588.577 Q76.1772 590.846 76.1772 594.179 Q76.1772 599.295 72.6587 602.096 Q69.1402 604.897 62.6587 604.897 Q60.4828 604.897 58.168 604.457 Q55.8764 604.04 53.4227 603.184 L53.4227 598.67 Q55.3671 599.804 57.6819 600.383 Q59.9967 600.962 62.5198 600.962 Q66.918 600.962 69.2096 599.226 Q71.5244 597.489 71.5244 594.179 Q71.5244 591.124 69.3717 589.411 Q67.242 587.675 63.4226 587.675 L59.3949 587.675 L59.3949 583.832 L63.6078 583.832 Q67.0569 583.832 68.8855 582.466 Q70.7142 581.077 70.7142 578.485 Q70.7142 575.823 68.8161 574.411 Q66.9411 572.976 63.4226 572.976 Q61.5013 572.976 59.3023 573.392 Q57.1032 573.809 54.4643 574.689 L54.4643 570.522 Q57.1264 569.781 59.4412 569.411 Q61.7791 569.041 63.8393 569.041 Q69.1633 569.041 72.2652 571.471 Q75.367 573.878 75.367 577.999 Q75.367 580.869 73.7235 582.86 Q72.08 584.827 69.0476 585.591 Z\" fill=\"#000000\" fill-rule=\"evenodd\" fill-opacity=\"1\" /><path clip-path=\"url(#clip100)\" d=\"M66.5939 213.939 L54.7884 232.388 L66.5939 232.388 L66.5939 213.939 M65.367 209.865 L71.2466 209.865 L71.2466 232.388 L76.1772 232.388 L76.1772 236.276 L71.2466 236.276 L71.2466 244.425 L66.5939 244.425 L66.5939 236.276 L50.9921 236.276 L50.9921 231.763 L65.367 209.865 Z\" fill=\"#000000\" fill-rule=\"evenodd\" fill-opacity=\"1\" /><g clip-path=\"url(#clip102)\">\n",
       "<image width=\"2001\" height=\"1439\" xlink:href=\"data:image/png;base64,\n",
       "iVBORw0KGgoAAAANSUhEUgAAB9EAAAWfCAYAAAAcawbXAAAgAElEQVR4nOzboW0CUABF0VKBKgPU\n",
       "klSQNF2EDTCE5UiYAl+NIGEMDI6au8EXnybnTPD8zVucfvbPNwDg39tfz7MnAACDPpffsycAAINu\n",
       "993sCQDAoPfZAwAAAAAAAADgVYjoAAAAAAAAABARHQAAAAAAAAAiogMAAAAAAABARHQAAAAAAAAA\n",
       "iIgOAAAAAAAAABHRAQAAAAAAACAiOgAAAAAAAABERAcAAAAAAACAiOgAAAAAAAAAEBEdAAAAAAAA\n",
       "ACKiAwAAAAAAAEBEdAAAAAAAAACIiA4AAAAAAAAAEdEBAAAAAAAAICI6AAAAAAAAAEREBwAAAAAA\n",
       "AICI6AAAAAAAAAAQER0AAAAAAAAAIqIDAAAAAAAAQER0AAAAAAAAAIiIDgAAAAAAAAAR0QEAAAAA\n",
       "AAAgIjoAAAAAAAAAREQHAAAAAAAAgIjoAAAAAAAAABARHQAAAAAAAAAiogMAAAAAAABARHQAAAAA\n",
       "AAAAiIgOAAAAAAAAABHRAQAAAAAAACAiOgAAAAAAAABERAcAAAAAAACAiOgAAAAAAAAAEBEdAAAA\n",
       "AAAAACKiAwAAAAAAAEBEdAAAAAAAAACIiA4AAAAAAAAAEdEBAAAAAAAAICI6AAAAAAAAAEREBwAA\n",
       "AAAAAICI6AAAAAAAAAAQER0AAAAAAAAAIqIDAAAAAAAAQER0AAAAAAAAAIiIDgAAAAAAAAAR0QEA\n",
       "AAAAAAAgIjoAAAAAAAAAREQHAAAAAAAAgIjoAAAAAAAAABARHQAAAAAAAAAiogMAAAAAAABARHQA\n",
       "AAAAAAAAiIgOAAAAAAAAABHRAQAAAAAAACAiOgAAAAAAAABERAcAAAAAAACAiOgAAAAAAAAAEBEd\n",
       "AAAAAAAAACKiAwAAAAAAAEBEdAAAAAAAAACIiA4AAAAAAAAAEdEBAAAAAAAAICI6AAAAAAAAAERE\n",
       "BwAAAAAAAICI6AAAAAAAAAAQER0AAAAAAAAAIqIDAAAAAAAAQER0AAAAAAAAAIiIDgAAAAAAAAAR\n",
       "0QEAAAAAAAAgIjoAAAAAAAAAREQHAAAAAAAAgIjoAAAAAAAAABARHQAAAAAAAAAiogMAAAAAAABA\n",
       "RHQAAAAAAAAAiIgOAAAAAAAAABHRAQAAAAAAACAiOgAAAAAAAABERAcAAAAAAACAiOgAAAAAAAAA\n",
       "EBEdAAAAAAAAACKiAwAAAAAAAEBEdAAAAAAAAACIiA4AAAAAAAAAEdEBAAAAAAAAICI6AAAAAAAA\n",
       "AEREBwAAAAAAAICI6AAAAAAAAAAQER0AAAAAAAAAIqIDAAAAAAAAQER0AAAAAAAAAIiIDgAAAAAA\n",
       "AAAR0QEAAAAAAAAgIjoAAAAAAAAAREQHAAAAAAAAgIjoAAAAAAAAABARHQAAAAAAAAAiogMAAAAA\n",
       "AABARHQAAAAAAAAAiIgOAAAAAAAAABHRAQAAAAAAACAiOgAAAAAAAABERAcAAAAAAACAiOgAAAAA\n",
       "AAAAEBEdAAAAAAAAACKiAwAAAAAAAEBEdAAAAAAAAACIiA4AAAAAAAAAEdEBAAAAAAAAICI6AAAA\n",
       "AAAAAEREBwAAAAAAAICI6AAAAAAAAAAQER0AAAAAAAAAIqIDAAAAAAAAQER0AAAAAAAAAIiIDgAA\n",
       "AAAAAAAR0QEAAAAAAAAgIjoAAAAAAAAAREQHAAAAAAAAgIjoAAAAAAAAABARHQAAAAAAAAAiogMA\n",
       "AAAAAABARHQAAAAAAAAAiIgOAAAAAAAAABHRAQAAAAAAACAiOgAAAAAAAABERAcAAAAAAACAiOgA\n",
       "AAAAAAAAEBEdAAAAAAAAACKiAwAAAAAAAEBEdAAAAAAAAACIiA4AAAAAAAAAEdEBAAAAAAAAICI6\n",
       "AAAAAAAAAEREBwAAAAAAAICI6AAAAAAAAAAQER0AAAAAAAAAIqIDAAAAAAAAQER0AAAAAAAAAIiI\n",
       "DgAAAAAAAAAR0QEAAAAAAAAgIjoAAAAAAAAAREQHAAAAAAAAgIjoAAAAAAAAABARHQAAAAAAAAAi\n",
       "ogMAAAAAAABARHQAAAAAAAAAiIgOAAAAAAAAABHRAQAAAAAAACAiOgAAAAAAAABERAcAAAAAAACA\n",
       "iOgAAAAAAAAAEBEdAAAAAAAAACKiAwAAAAAAAEBEdAAAAAAAAACIiA4AAAAAAAAAEdEBAAAAAAAA\n",
       "ICI6AAAAAAAAAEREBwAAAAAAAICI6AAAAAAAAAAQER0AAAAAAAAAIqIDAAAAAAAAQER0AAAAAAAA\n",
       "AIiIDgAAAAAAAAAR0QEAAAAAAAAgIjoAAAAAAAAAREQHAAAAAAAAgIjoAAAAAAAAABARHQAAAAAA\n",
       "AAAiogMAAAAAAABARHQAAAAAAAAAiIgOAAAAAAAAABHRAQAAAAAAACAiOgAAAAAAAABERAcAAAAA\n",
       "AACAiOgAAAAAAAAAEBEdAAAAAAAAACKiAwAAAAAAAEBEdAAAAAAAAACIiA4AAAAAAAAAEdEBAAAA\n",
       "AAAAICI6AAAAAAAAAEREBwAAAAAAAICI6AAAAAAAAAAQER0AAAAAAAAAIqIDAAAAAAAAQER0AAAA\n",
       "AAAAAIiIDgAAAAAAAAAR0QEAAAAAAAAgIjoAAAAAAAAAREQHAAAAAAAAgIjoAAAAAAAAABARHQAA\n",
       "AAAAAAAiogMAAAAAAABARHQAAAAAAAAAiIgOAAAAAAAAABHRAQAAAAAAACAiOgAAAAAAAABERAcA\n",
       "AAAAAACAiOgAAAAAAAAAEBEdAAAAAAAAACKiAwAAAAAAAEBEdAAAAAAAAACIiA4AAAAAAAAAEdEB\n",
       "AAAAAAAAICI6AAAAAAAAAEREBwAAAAAAAICI6AAAAAAAAAAQER0AAAAAAAAAIqIDAAAAAAAAQER0\n",
       "AAAAAAAAAIiIDgAAAAAAAAAR0QEAAAAAAAAgIjoAAAAAAAAAREQHAAAAAAAAgIjoAAAAAAAAABAR\n",
       "HQAAAAAAAAAiogMAAAAAAABARHQAAAAAAAAAiIgOAAAAAAAAABHRAQAAAAAAACAiOgAAAAAAAABE\n",
       "RAcAAAAAAACAiOgAAAAAAAAAEBEdAAAAAAAAACKiAwAAAAAAAEBEdAAAAAAAAACIiA4AAAAAAAAA\n",
       "EdEBAAAAAAAAICI6AAAAAAAAAEREBwAAAAAAAICI6AAAAAAAAAAQER0AAAAAAAAAIqIDAAAAAAAA\n",
       "QER0AAAAAAAAAIiIDgAAAAAAAAAR0QEAAAAAAAAgIjoAAAAAAAAAREQHAAAAAAAAgIjoAAAAAAAA\n",
       "ABARHQAAAAAAAAAiogMAAAAAAABARHQAAAAAAAAAiIgOAAAAAAAAABHRAQAAAAAAACAiOgAAAAAA\n",
       "AABERAcAAAAAAACAiOgAAAAAAAAAEBEdAAAAAAAAACKiAwAAAAAAAEBEdAAAAAAAAACIiA4AAAAA\n",
       "AAAAEdEBAAAAAAAAICI6AAAAAAAAAEREBwAAAAAAAICI6AAAAAAAAAAQER0AAAAAAAAAIqIDAAAA\n",
       "AAAAQER0AAAAAAAAAIiIDgAAAAAAAAAR0QEAAAAAAAAgIjoAAAAAAAAAREQHAAAAAAAAgIjoAAAA\n",
       "AAAAABARHQAAAAAAAAAiogMAAAAAAABARHQAAAAAAAAAiIgOAAAAAAAAABHRAQAAAAAAACAiOgAA\n",
       "AAAAAABERAcAAAAAAACAiOgAAAAAAAAAEBEdAAAAAAAAACKiAwAAAAAAAEBEdAAAAAAAAACIiA4A\n",
       "AAAAAAAAEdEBAAAAAAAAICI6AAAAAAAAAEREBwAAAAAAAICI6AAAAAAAAAAQER0AAAAAAAAAIqID\n",
       "AAAAAAAAQER0AAAAAAAAAIiIDgAAAAAAAAAR0QEAAAAAAAAgIjoAAAAAAAAAREQHAAAAAAAAgIjo\n",
       "AAAAAAAAABARHQAAAAAAAAAiogMAAAAAAABARHQAAAAAAAAAiIgOAAAAAAAAABHRAQAAAAAAACAi\n",
       "OgAAAAAAAABERAcAAAAAAACAiOgAAAAAAAAAEBEdAAAAAAAAACKiAwAAAAAAAEBEdAAAAAAAAACI\n",
       "iA4AAAAAAAAAEdEBAAAAAAAAICI6AAAAAAAAAEREBwAAAAAAAICI6AAAAAAAAAAQER0AAAAAAAAA\n",
       "IqIDAAAAAAAAQER0AAAAAAAAAIiIDgAAAAAAAAAR0QEAAAAAAAAgIjoAAAAAAAAAREQHAAAAAAAA\n",
       "gIjoAAAAAAAAABARHQAAAAAAAAAiogMAAAAAAABARHQAAAAAAAAAiIgOAAAAAAAAABHRAQAAAAAA\n",
       "ACAiOgAAAAAAAABERAcAAAAAAACAiOgAAAAAAAAAEBEdAAAAAAAAACKiAwAAAAAAAEBEdAAAAAAA\n",
       "AACIiA4AAAAAAAAAEdEBAAAAAAAAICI6AAAAAAAAAEREBwAAAAAAAICI6AAAAAAAAAAQER0AAAAA\n",
       "AAAAIqIDAAAAAAAAQER0AAAAAAAAAIiIDgAAAAAAAAAR0QEAAAAAAAAgIjoAAAAAAAAAREQHAAAA\n",
       "AAAAgIjoAAAAAAAAABARHQAAAAAAAAAiogMAAAAAAABARHQAAAAAAAAAiIgOAAAAAAAAABHRAQAA\n",
       "AAAAACAiOgAAAAAAAABERAcAAAAAAACAiOgAAAAAAAAAEBEdAAAAAAAAACKiAwAAAAAAAEBEdAAA\n",
       "AAAAAACIiA4AAAAAAAAAEdEBAAAAAAAAICI6AAAAAAAAAEREBwAAAAAAAICI6AAAAAAAAAAQER0A\n",
       "AAAAAAAAIqIDAAAAAAAAQER0AAAAAAAAAIiIDgAAAAAAAAAR0QEAAAAAAAAgi/XH9jl7BAAw7vL7\n",
       "mD0BABi03BxmTwAABn2tjrMnAACDPNEBAAAAAAAAICI6AAAAAAAAAEREBwAAAAAAAICI6AAAAAAA\n",
       "AAAQER0AAAAAAAAAIqIDAAAAAAAAQER0AAAAAAAAAIiIDgAAAAAAAAAR0QEAAAAAAAAgIjoAAAAA\n",
       "AAAAREQHAAAAAAAAgIjoAAAAAAAAABARHQAAAAAAAAAiogMAAAAAAABARHQAAAAAAAAAiIgOAAAA\n",
       "AAAAABHRAQAAAAAAACAiOgAAAAAAAABERAcAAAAAAACAiOgAAAAAAAAAEBEdAAAAAAAAACKiAwAA\n",
       "AAAAAEBEdAAAAAAAAACIiA4AAAAAAAAAEdEBAAAAAAAAICI6AAAAAAAAAEREBwAAAAAAAICI6AAA\n",
       "AAAAAAAQER0AAAAAAAAAIqIDAAAAAAAAQER0AAAAAAAAAIiIDgAAAAAAAAAR0QEAAAAAAAAgIjoA\n",
       "AAAAAAAAREQHAAAAAAAAgIjoAAAAAAAAABARHQAAAAAAAAAiogMAAAAAAABARHQAAAAAAAAAiIgO\n",
       "AAAAAAAAABHRAQAAAAAAACAiOgAAAAAAAABERAcAAAAAAACAiOgAAAAAAAAAEBEdAAAAAAAAACKi\n",
       "AwAAAAAAAEBEdAAAAAAAAACIiA4AAAAAAAAAEdEBAAAAAAAAICI6AAAAAAAAAEREBwAAAAAAAICI\n",
       "6AAAAAAAAAAQER0AAAAAAAAAIqIDAAAAAAAAQER0AAAAAAAAAIiIDgAAAAAAAAAR0QEAAAAAAAAg\n",
       "IjoAAAAAAAAAREQHAAAAAAAAgIjoAAAAAAAAABARHQAAAAAAAAAiogMAAAAAAABARHQAAAAAAAAA\n",
       "iIgOAAAAAAAAABHRAQAAAAAAACAiOgAAAAAAAABERAcAAAAAAACAiOgAAAAAAAAAEBEdAAAAAAAA\n",
       "ACKiAwAAAAAAAEBEdAAAAAAAAACIiA4AAAAAAAAAEdEBAAAAAAAAICI6AAAAAAAAAEREBwAAAAAA\n",
       "AICI6AAAAAAAAAAQER0AAAAAAAAAIqIDAAAAAAAAQER0AAAAAAAAAIiIDgAAAAAAAAAR0QEAAAAA\n",
       "AAAgIjoAAAAAAAAAREQHAAAAAAAAgIjoAAAAAAAAABARHQAAAAAAAAAiogMAAAAAAABARHQAAAAA\n",
       "AAAAiIgOAAAAAAAAABHRAQAAAAAAACAiOgAAAAAAAABERAcAAAAAAACAiOgAAAAAAAAAEBEdAAAA\n",
       "AAAAACKiAwAAAAAAAEBEdAAAAAAAAACIiA4AAAAAAAAAEdEBAAAAAAAAICI6AAAAAAAAAEREBwAA\n",
       "AAAAAICI6AAAAAAAAAAQER0AAAAAAAAAIqIDAAAAAAAAQER0AAAAAAAAAIiIDgAAAAAAAAAR0QEA\n",
       "AAAAAAAgIjoAAAAAAAAAREQHAAAAAAAAgIjoAAAAAAAAABARHQAAAAAAAAAiogMAAAAAAABARHQA\n",
       "AAAAAAAAiIgOAAAAAAAAABHRAQAAAAAAACAiOgAAAAAAAABERAcAAAAAAACAiOgAAAAAAAAAEBEd\n",
       "AAAAAAAAACKiAwAAAAAAAEBEdAAAAAAAAACIiA4AAAAAAAAAEdEBAAAAAAAAICI6AAAAAAAAAERE\n",
       "BwAAAAAAAICI6AAAAAAAAAAQER0AAAAAAAAAIqIDAAAAAAAAQER0AAAAAAAAAIiIDgAAAAAAAAAR\n",
       "0QEAAAAAAAAgIjoAAAAAAAAAREQHAAAAAAAAgIjoAAAAAAAAABARHQAAAAAAAAAiogMAAAAAAABA\n",
       "RHQAAAAAAAAAiIgOAAAAAAAAABHRAQAAAAAAACAiOgAAAAAAAABERAcAAAAAAACAiOgAAAAAAAAA\n",
       "EBEdAAAAAAAAACKiAwAAAAAAAEBEdAAAAAAAAACIiA4AAAAAAAAAEdEBAAAAAAAAICI6AAAAAAAA\n",
       "AEREBwAAAAAAAICI6AAAAAAAAAAQER0AAAAAAAAAIqIDAAAAAADwx74d2zAIBEAQxBIVUIk7hq4I\n",
       "6MSy9CTbwQefzFRw+eoAiIgOAAAAAAAAABHRAQAAAAAAACAiOgAAAAAAAABERAcAAAAAAACAiOgA\n",
       "AAAAAAAAEBEdAAAAAAAAACKiAwAAAAAAAEBEdAAAAAAAAACIiA4AAAAAAAAAEdEBAAAAAAAAICI6\n",
       "AAAAAAAAAEREBwAAAAAAAICI6AAAAAAAAAAQER0AAAAAAAAAIqIDAAAAAAAAQER0AAAAAAAAAIiI\n",
       "DgAAAAAAAAAR0QEAAAAAAAAgIjoAAAAAAAAAREQHAAAAAAAAgIjoAAAAAAAAABARHQAAAAAAAAAi\n",
       "ogMAAAAAAABARHQAAAAAAAAAiIgOAAAAAAAAABHRAQAAAAAAACAiOgAAAAAAAABERAcAAAAAAACA\n",
       "iOgAAAAAAAAAEBEdAAAAAAAAACKiAwAAAAAAAEBEdAAAAAAAAACIiA4AAAAAAAAAEdEBAAAAAAAA\n",
       "ICI6AAAAAAAAAEREBwAAAAAAAICI6AAAAAAAAAAQER0AAAAAAAAAIqIDAAAAAAAAQER0AAAAAAAA\n",
       "AIiIDgAAAAAAAAAR0QEAAAAAAAAgIjoAAAAAAAAAREQHAAAAAAAAgIjoAAAAAAAAABARHQAAAAAA\n",
       "AAAiogMAAAAAAABARHQAAAAAAAAAiIgOAAAAAAAAABHRAQAAAAAAACAiOgAAAAAAAABERAcAAAAA\n",
       "AACAiOgAAAAAAAAAEBEdAAAAAAAAACKiAwAAAAAAAEBEdAAAAAAAAACIiA4AAAAAAAAAEdEBAAAA\n",
       "AAAAICI6AAAAAAAAAEREBwAAAAAAAICI6AAAAAAAAAAQER0AAAAAAAAAIqIDAAAAAAAAQER0AAAA\n",
       "AAAAAIiIDgAAAAAAAAAR0QEAAAAAAAAgIjoAAAAAAAAAREQHAAAAAAAAgIjoAAAAAAAAABARHQAA\n",
       "AAAAAAAiogMAAAAAAABARHQAAAAAAAAAiIgOAAAAAAAAABHRAQAAAAAAACAiOgAAAAAAAABERAcA\n",
       "AAAAAACAiOgAAAAAAAAAEBEdAAAAAAAAACKiAwAAAAAAAEBEdAAAAAAAAACIiA4AAAAAAAAAEdEB\n",
       "AAAAAAAAICI6AAAAAAAAAEREBwAAAAAAAICI6AAAAAAAAAAQER0AAAAAAAAAIqIDAAAAAAAAQER0\n",
       "AAAAAAAAAIiIDgAAAAAAAAAR0QEAAAAAAAAgIjoAAAAAAAAAREQHAAAAAAAAgIjoAAAAAAAAABAR\n",
       "HQAAAAAAAAAiogMAAAAAAABARHQAAAAAAAAAiIgOAAAAAAAAABHRAQAAAAAAACAiOgAAAAAAAABE\n",
       "RAcAAAAAAACAiOgAAAAAAAAAEBEdAAAAAAAAACKiAwAAAAAAAEBEdAAAAAAAAACIiA4AAAAAAAAA\n",
       "EdEBAAAAAAAAICI6AAAAAAAAAEREBwAAAAAAAICI6AAAAAAAAAAQER0AAAAAAAAAIqIDAAAAAAAA\n",
       "QER0AAAAAAAAAIiIDgAAAAAAAAAR0QEAAAAAAAAgIjoAAAAAAAAAREQHAAAAAAAAgIjoAAAAAAAA\n",
       "ABARHQAAAAAAAAAiogMAAAAAAABARHQAAAAAAAAAiIgOAAAAAAAAABHRAQAAAAAAACAiOgAAAAAA\n",
       "AABERAcAAAAAAACAiOgAAAAAAAAAEBEdAAAAAAAAACKiAwAAAAAAAEBEdAAAAAAAAACIiA4AAAAA\n",
       "AAAAEdEBAAAAAAAAICI6AAAAAAAAAEREBwAAAAAAAICI6AAAAAAAAAAQER0AAAAAAAAAIqIDAAAA\n",
       "AAAAQER0AAAAAAAAAIiIDgAAAAAAAAAR0QEAAAAAAAAgIjoAAAAAAAAAREQHAAAAAAAAgIjoAAAA\n",
       "AAAAABARHQAAAAAAAAAiogMAAAAAAABARHQAAAAAAAAAiIgOAAAAAAAAABHRAQAAAAAAACAiOgAA\n",
       "AAAAAABERAcAAAAAAACAiOgAAAAAAAAAEBEdAAAAAAAAACKiAwAAAAAAAEBEdAAAAAAAAACIiA4A\n",
       "AAAAAAAAEdEBAAAAAAAAICI6AAAAAAAAAEREBwAAAAAAAICI6AAAAAAAAAAQER0AAAAAAAAAIqID\n",
       "AAAAAAAAQER0AAAAAAAAAIiIDgAAAAAAAAAR0QEAAAAAAAAgIjoAAAAAAAAAREQHAAAAAAAAgIjo\n",
       "AAAAAAAAABARHQAAAAAAAAAiogMAAAAAAABARHQAAAAAAAAAiIgOAAAAAAAAABHRAQAAAAAAACAi\n",
       "OgAAAAAAAABERAcAAAAAAACAiOgAAAAAAAAAEBEdAAAAAAAAACKiAwAAAAAAAEBEdAAAAAAAAACI\n",
       "iA4AAAAAAAAAEdEBAAAAAAAAICI6AAAAAAAAAEREBwAAAAAAAICI6AAAAAAAAAAQER0AAAAAAAAA\n",
       "IqIDAAAAAAAAQER0AAAAAAAAAIiIDgAAAAAAAAAR0QEAAAAAAAAgIjoAAAAAAAAAREQHAAAAAAAA\n",
       "gIjoAAAAAAAAABARHQAAAAAAAAAiogMAAAAAAABARHQAAAAAAAAAiIgOAAAAAAAAABHRAQAAAAAA\n",
       "ACAiOgAAAAAAAABERAcAAAAAAACAiOgAAAAAAAAAEBEdAAAAAAAAACKiAwAAAAAAAEBEdAAAAAAA\n",
       "AACIiA4AAAAAAAAAEdEBAAAAAAAAICI6AAAAAAAAAEREBwAAAAAAAICI6AAAAAAAAAAQER0AAAAA\n",
       "AAAAIqIDAAAAAAAAQER0AAAAAAAAAIiIDgAAAAAAAAD5bNs+Vo8AAOb9x7V6AgAw6XefqycAAJOO\n",
       "77N6AgAwyRMdAAAAAAAAACKiAwAAAAAAAEBEdAAAAAAAAACIiA4AAAAAAAAAEdEBAAAAAAAAICI6\n",
       "AAAAAAAAAEREBwAAAAAAAICI6AAAAAAAAAAQER0AAAAAAAAAIqIDAAAAAAAAQER0AAAAAAAAAIiI\n",
       "DgAAAAAAAAAR0QEAAAAAAAAgIjoAAAAAAAAAREQHAAAAAAAAgIjoAAAAAAAAABARHQAAAAAAAAAi\n",
       "ogMAAAAAAABARHQAAAAAAAAAiIgOAAAAAAAAABHRAQAAAAAAACAiOgAAAAAAAABERAcAAAAAAACA\n",
       "iOgAAAAAAAAAEBEdAAAAAAAAACKiAwAAAAAAAEBEdAAAAAAAAACIiA4AAAAAAAAAEdEBAAAAAAAA\n",
       "ICI6AAAAAAAAAEREBwAAAAAAAICI6AAAAAAAAAAQER0AAAAAAAAAIqIDAAAAAAAAQER0AAAAAAAA\n",
       "AIiIDgAAAAAAAAAR0QEAAAAAAAAgIjoAAAAAAAAAREQHAAAAAAAAgIjoAAAAAAAAABARHQAAAAAA\n",
       "AAAiogMAAAAAAABARHQAAAAAAAAAiIgOAAAAAAAAABHRAQAAAAAAACAiOgAAAAAAAABERAcAAAAA\n",
       "AACAiOgAAAAAAAAAEBEdAAAAAAAAACKiAwAAAAAAAEBEdAAAAAAAAACIiA4AAAAAAAAAEdEBAAAA\n",
       "AAAAICI6AAAAAAAAAEREBwAAAAAAAICI6AAAAAAAAAAQER0AAAAAAAAAIqIDAAAAAAAAQER0AAAA\n",
       "AAAAAIiIDgAAAAAAAAAR0QEAAAAAAAAgIjoAAAAAAAAAREQHAAAAAAAAgIjoAAAAAAAAABARHQAA\n",
       "AAAAAAAiogMAAAAAAABARHQAAAAAAAAAiIgOAAAAAAAAABHRAQAAAAAAACAiOgAAAAAAAABERAcA\n",
       "AAAAAACAiOgAAAAAAAAAEBEdAAAAAAAAACKiAwAAAAAAAEBEdAAAAAAAAACIiA4AAAAAAAAAEdEB\n",
       "AAAAAAAAICI6AAAAAAAAAEREBwAAAAAAAICI6AAAAAAAAAAQER0AAAAAAAAAIqIDAAAAAAAAQER0\n",
       "AAAAAAAAAIiIDgAAAAAAAAAR0QEAAAAAAAAgIjoAAAAAAAAAREQHAAAAAAAAgIjoAAAAAAAAABAR\n",
       "HQAAAAAAAAAiogMAAAAAAABARHQAAAAAAAAAiIgOAAAAAAAAABHRAQAAAAAAACAiOgAAAAAAAABE\n",
       "RAcAAAAAAACAiOgAAAAAAAAAEBEdAAAAAAAAACKiAwAAAAAAAEBEdAAAAAAAAACIiA4AAAAAAAAA\n",
       "EdEBAAAAAAAAICI6AAAAAAAAAEREBwAAAAAAAICI6AAAAAAAAAAQER0AAAAAAAAAIqIDAAAAAAAA\n",
       "QER0AAAAAAAAAIiIDgAAAAAAAAAR0QEAAAAAAAAgIjoAAAAAAAAAREQHAAAAAAAAgIjoAAAAAAAA\n",
       "ABARHQAAAAAAAAAiogMAAAAAAABARHQAAM2+E+4AABbtSURBVAAAAAAAiIgOAAAAAAAAABHRAQAA\n",
       "AAAAACAiOgAAAAAAAABERAcAAAAAAACAiOgAAAAAAAAAEBEdAAAAAAAAACKiAwAAAAAAAEBEdAAA\n",
       "AAAAAACIiA4AAAAAAAAAEdEBAAAAAAAAICI6AAAAAAAAAEREBwAAAAAAAICI6AAAAAAAAAAQER0A\n",
       "AAAAAAAAIqIDAAAAAAAAQER0AAAAAAAAAIiIDgAAAAAAAAAR0QEAAAAAAAAgIjoAAAAAAAAAREQH\n",
       "AAAAAAAAgIjoAAAAAAAAABARHQAAAAAAAAAiogMAAAAAAABARHQAAAAAAAAAiIgOAAAAAAAAABHR\n",
       "AQAAAAAAACAiOgAAAAAAAABERAcAAAAAAACAiOgAAAAAAAAAEBEdAAAAAAAAACKiAwAAAAAAAEBE\n",
       "dAAAAAAAAACIiA4AAAAAAAAAEdEBAAAAAAAAICI6AAAAAAAAAEREBwAAAAAAAICI6AAAAAAAAAAQ\n",
       "ER0AAAAAAAAAIqIDAAAAAAAAQER0AAAAAAAAAIiIDgAAAAAAAAAR0QEAAAAAAAAgIjoAAAAAAAAA\n",
       "REQHAAAAAAAAgIjoAAAAAAAAABARHQAAAAAAAAAiogMAAAAAAABARHQAAAAAAAAAiIgOAAAAAAAA\n",
       "ABHRAQAAAAAAACAiOgAAAAAAAABERAcAAAAAAACAiOgAAAAAAAAAEBEdAAAAAAAAACKiAwAAAAAA\n",
       "AEBEdAAAAAAAAACIiA4AAAAAAAAAEdEBAAAAAAAAICI6AAAAAAAAAEREBwAAAAAAAICI6AAAAAAA\n",
       "AAAQER0AAAAAAAAAIqIDAAAAAAAAQER0AAAAAAAAAIiIDgAAAAAAAAAR0QEAAAAAAAAgIjoAAAAA\n",
       "AAAAREQHAAAAAAAAgIjoAAAAAAAAABARHQAAAAAAAAAiogMAAAAAAABARHQAAAAAAAAAiIgOAAAA\n",
       "AAAAABHRAQAAAAAAACAiOgAAAAAAAABERAcAAAAAAACAiOgAAAAAAAAAEBEdAAAAAAAAACKiAwAA\n",
       "AAAAAEBEdAAAAAAAAACIiA4AAAAAAAAAEdEBAAAAAAAAICI6AAAAAAAAAEREBwAAAAAAAICI6AAA\n",
       "AAAAAAAQER0AAAAAAAAAIqIDAAAAAAAAQER0AAAAAAAAAIiIDgAAAAAAAAAR0QEAAAAAAAAgIjoA\n",
       "AAAAAAAAREQHAAAAAAAAgIjoAAAAAAAAABARHQAAAAAAAAAiogMAAAAAAABARHQAAAAAAAAAiIgO\n",
       "AAAAAAAAABHRAQAAAAAAACAiOgAAAAAAAABERAcAAAAAAACAiOgAAAAAAAAAEBEdAAAAAAAAACKi\n",
       "AwAAAAAAAEBEdAAAAAAAAACIiA4AAAAAAAAAEdEBAAAAAAAAICI6AAAAAAAAAEREBwAAAAAAAICI\n",
       "6AAAAAAAAAAQER0AAAAAAAAAIqIDAAAAAAAAQER0AAAAAAAAAIiIDgAAAAAAAAAR0QEAAAAAAAAg\n",
       "IjoAAAAAAAAAREQHAAAAAAAAgIjoAAAAAAAAABARHQAAAAAAAAAiogMAAAAAAABARHQAAAAAAAAA\n",
       "iIgOAAAAAAAAABHRAQAAAAAAACAiOgAAAAAAAABERAcAAAAAAACAiOgAAAAAAAAAEBEdAAAAAAAA\n",
       "ACKiAwAAAAAAAEBEdAAAAAAAAACIiA4AAAAAAAAAEdEBAAAAAAAAICI6AAAAAAAAAEREBwAAAAAA\n",
       "AICI6AAAAAAAAAAQER0AAAAAAAAAIqIDAAAAAAAAQER0AAAAAAAAAIiIDgAAAAAAAAAR0QEAAAAA\n",
       "AAAgIjoAAAAAAAAAREQHAAAAAAAAgIjoAAAAAAAAABARHQAAAAAAAAAiogMAAAAAAABARHQAAAAA\n",
       "AAAAiIgOAAAAAAAAABHRAQAAAAAAACAiOgAAAAAAAABERAcAAAAAAACAiOgAAAAAAAAAEBEdAAAA\n",
       "AAAAACKiAwAAAAAAAEBEdAAAAAAAAACIiA4AAAAAAAAAEdEBAAAAAAAAICI6AAAAAAAAAEREBwAA\n",
       "AAAAAICI6AAAAAAAAAAQER0AAAAAAAAAIqIDAAAAAAAAQER0AAAAAAAAAIiIDgAAAAAAAAAR0QEA\n",
       "AAAAAAAgIjoAAAAAAAAAREQHAAAAAAAAgIjoAAAAAAAAABARHQAAAAAAAAAiogMAAAAAAABARHQA\n",
       "AAAAAAAAiIgOAAAAAAAAABHRAQAAAAAAACAiOgAAAAAAAABERAcAAAAAAACAiOgAAAAAAAAAEBEd\n",
       "AAAAAAAAACKiAwAAAAAAAEBEdAAAAAAAAACIiA4AAAAAAAAAEdEBAAAAAAAAICI6AAAAAAAAAERE\n",
       "BwAAAAAAAICI6AAAAAAAAAAQER0AAAAAAAAAIqIDAAAAAAAAQER0AAAAAAAAAIiIDgAAAAAAAAAR\n",
       "0QEAAAAAAAAgIjoAvO3bMQ2AQAAEwZBQUqIAM9jADUaQSQLNOvjimxkF128OAAAAAAAgIjoAAAAA\n",
       "AAAAREQHAAAAAAAAgIjoAAAAAAAAABARHQAAAAAAAAAiogMAAAAAAABARHQAAAAAAAAAiIgOAAAA\n",
       "AAAAABHRAQAAAAAAACAiOgAAAAAAAABERAcAAAAAAACAiOgAAAAAAAAAEBEdAAAAAAAAACKiAwAA\n",
       "AAAAAEBEdAAAAAAAAACIiA4AAAAAAAAAEdEBAAAAAAAAICI6AAAAAAAAAEREBwAAAAAAAICI6AAA\n",
       "AAAAAAAQER0AAAAAAAAAIqIDAAAAAAAAQER0AAAAAAAAAIiIDgAAAAAAAAAR0QEAAAAAAAAgIjoA\n",
       "AAAAAAAAREQHAAAAAAAAgIjoAAAAAAAAABARHQAAAAAAAAAiogMAAAAAAABARHQAAAAAAAAAiIgO\n",
       "AAAAAAAAABHRAQAAAAAAACAiOgAAAAAAAABERAcAAAAAAACAiOgAAAAAAAAAEBEdAAAAAAAAACKi\n",
       "AwAAAAAAAEBEdAAAAAAAAACIiA4AAAAAAAAAEdEBAAAAAAAAICI6AAAAAAAAAEREBwAAAAAAAICI\n",
       "6AAAAAAAAAAQER0AAAAAAAAAIqIDAAAAAAAAQER0AAAAAAAAAIiIDgAAAAAAAAAR0QEAAAAAAAAg\n",
       "IjoAAAAAAAAAREQHAAAAAAAAgIjoAAAAAAAAABARHQAAAAAAAAAiogMAAAAAAABARHQAAAAAAAAA\n",
       "iIgOAAAAAAAAABHRAQAAAAAAACAiOgAAAAAAAABkeb/nmz0CABi3LtfsCQDAoGM7Z08AAAbdxz57\n",
       "AgAwyBMdAAAAAAAAACKiAwAAAAAAAEBEdAAAAAAAAACIiA4AAAAAAAAAEdEBAAAAAAAAICI6AAAA\n",
       "AAAAAEREBwAAAAAAAICI6AAAAAAAAAAQER0AAAAAAAAAIqIDAAAAAAAAQER0AAAAAAAAAIiIDgAA\n",
       "AAAAAAAR0QEAAAAAAAAgIjoAAAAAAAAAREQHAAAAAAAAgIjoAAAAAAAAABARHQAAAAAAAAAiogMA\n",
       "AAAAAABARHQAAAAAAAAAiIgOAAAAAAAAABHRAQAAAAAAACAiOgAAAAAAAABERAcAAAAAAACAiOgA\n",
       "AAAAAAAAEBEdAAAAAAAAACKiAwAAAAAAAEBEdAAAAAAAAACIiA4AAAAAAAAAEdEBAAAAAAAAICI6\n",
       "AAAAAAAAAEREBwAAAAAAAICI6AAAAAAAAAAQER0AAAAAAAAAIqIDAAAAAAAAQER0AAAAAAAAAIiI\n",
       "DgAAAAAAAAAR0QEAAAAAAAAgIjoAAAAAAAAAREQHAAAAAAAAgIjoAAAAAAAAABARHQAAAAAAAAAi\n",
       "ogMAAAAAAABARHQAAAAAAAAAiIgOAAAAAAAAABHRAQAAAAAAACAiOgAAAAAAAABERAcAAAAAAACA\n",
       "iOgAAAAAAAAAEBEdAAAAAAAAACKiAwAAAAAAAEBEdAAAAAAAAACIiA4AAAAAAAAAEdEBAAAAAAAA\n",
       "ICI6AAAAAAAAAEREBwAAAAAAAICI6AAAAAAAAAAQER0AAAAAAAAAIqIDAAAAAAAAQER0AAAAAAAA\n",
       "AIiIDgAAAAAAAAAR0QEAAAAAAAAgIjoAAAAAAAAAREQHAAAAAAAAgIjoAAAAAAAAABARHQAAAAAA\n",
       "AAAiogMAAAAAAABARHQAAAAAAAAAiIgOAAAAAAAAABHRAQAAAAAAACAiOgAAAAAAAABERAcAAAAA\n",
       "AACAiOgAAAAAAAAAEBEdAAAAAAAAACKiAwAAAAAAAEBEdAAAAAAAAACIiA4AAAAAAAAAEdEBAAAA\n",
       "AAAAICI6AAAAAAAAAEREBwAAAAAAAICI6AAAAAAAAAAQER0AAAAAAAAAIqIDAAAAAAAAQER0AAAA\n",
       "AAAAAIiIDgAAAAAAAAAR0QEAAAAAAAAgIjoAAAAAAAAAREQHAAAAAAAAgIjoAAAAAAAAABARHQAA\n",
       "AAAAAAAiogMAAAAAAABARHQAAAAAAAAAiIgOAAAAAAAAABHRAQAAAAAAACAiOgAAAAAAAABERAcA\n",
       "AAAAAACAiOgAAAAAAAAAEBEdAAAAAAAAACKiAwAAAAAAAEBEdAAAAAAAAACIiA4AAAAAAAAAEdEB\n",
       "AAAAAAAAICI6AAAAAAAAAEREBwAAAAAAAICI6AAAAAAAAAAQER0AAAAAAAAAIqIDAAAAAAAAQER0\n",
       "AAAAAAAAAIiIDgAAAAAAAAAR0QEAAAAAAAAgIjoAAAAAAAAAREQHAAAAAAAAgIjoAAAAAAAAABAR\n",
       "HQAAAAAAAAAiogMAAAAAAABARHQAAAAAAAAAiIgOAAAAAAAAABHRAQAAAAAAACAiOgAAAAAAAABE\n",
       "RAcAAAAAAACAiOgAAAAAAAAAEBEdAAAAAAAAACKiAwAAAAAAAEBEdAAAAAAAAACIiA4AAAAAAAAA\n",
       "EdEBAAAAAAAAICI6AAAAAAAAAEREBwAAAAAAAICI6AAAAAAAAAAQER0AAAAAAAAAIqIDAAAAAAAA\n",
       "QER0AAAAAAAAAIiIDgAAAAAAAAAR0QEAAAAAAAAgIjoAAAAAAAAAREQHAAAAAAAAgIjoAAAAAAAA\n",
       "ABARHQAAAAAAAAAiogMAAAAAAABARHQAAAAAAAAAiIgOAAAAAAAAABHRAQAAAAAAACAiOgAAAAAA\n",
       "AABERAcAAAAAAACAiOgAAAAAAAAAEBEdAAAAAAAAACKiAwAAAAAAAEBEdAAAAAAAAACIiA4AAAAA\n",
       "AAAAEdEBAAAAAAAAICI6AAAAAAAAAEREBwAAAAAAAICI6AAAAAAAAAAQER0AAAAAAAAAIqIDAAAA\n",
       "AAAAQER0AAAAAAAAAIiIDgAAAAAAAAAR0QEAAAAAAAAgIjoAAAAAAAAAREQHAAAAAAAAgIjoAAAA\n",
       "AAAAABARHQAAAAAAAAAiogMAAAAAAABARHQAAAAAAAAAiIgOAAAAAAAAABHRAQAAAAAAACAiOgAA\n",
       "AAAAAABERAcAAAAAAACAiOgAAAAAAAAAEBEdAAAAAAAAACKiAwAAAAAAAEBEdAAAAAAAAACIiA4A\n",
       "AAAAAAAAEdEBAAAAAAAAICI6AAAAAAAAAEREBwAAAAAAAICI6AAAAAAAAAAQER0AAAAAAAAAIqID\n",
       "AAAAAAAAQER0AAAAAAAAAIiIDgAAAAAAAAAR0QEAAAAAAAAgIjoAAAAAAAAAREQHAAAAAAAAgIjo\n",
       "AAAAAAAAABARHQAAAAAAAAAiogMAAAAAAABARHQAAAAAAAAAiIgOAAAAAAAAABHRAQAAAAAAACAi\n",
       "OgAAAAAAAABERAcAAAAAAACAiOgAAAAAAAAAEBEdAAAAAAAAACKiAwAAAAAAAEBEdAAAAAAAAACI\n",
       "iA4AAAAAAAAAEdEBAAAAAAAAICI6AAAAAAAAAEREBwAAAAAAAICI6AAAAAAAAAAQER0AAAAAAAAA\n",
       "IqIDAAAAAAAAQER0AAAAAAAAAIiIDgAAAAAAAAAR0QEAAAAAAAAgIjoAAAAAAAAAREQHAAAAAAAA\n",
       "gIjoAAAAAAAAABARHQAAAAAAAAAiogMAAAAAAABARHQAAAAAAAAAiIgOAAAAAAAAABHRAQAAAAAA\n",
       "ACAiOgAAAAAAAABERAcAAAAAAACAiOgAAAAAAAAAEBEdAAAAAAAAACKiAwAAAAAAAEBEdAAAAAAA\n",
       "AACIiA4AAAAAAAAAEdEBAAAAAAAAICI6AAAAAAAAAEREBwAAAAAAAICI6AAAAAAAAAAQER0AAAAA\n",
       "AAAAIqIDAAAAAAAAQER0AAAAAAAAAIiIDgAAAAAAAAAR0QEAAAAAAAAgIjoAAAAAAAAAREQHAAAA\n",
       "AAAAgIjoAAAAAAAAABARHQAAAAAAAAAiogMAAAAAAABARHQAAAAAAAAAiIgOAAAAAAAAABHRAQAA\n",
       "AAAAACAiOgAAAAAAAABERAcAAAAAAACAiOgAAAAAAAAAEBEdAAAAAAAAACKiAwAAAAAAAEBEdAAA\n",
       "AAAAAACIiA4AAAAAAAAAEdEBAAAAAAAAICI6AAAAAAAAAEREBwAAAAAAAICI6AAAAAAAAAAQER0A\n",
       "AAAAAAAAIqIDAAAAAAAAQER0AAAAAAAAAIiIDgAAAAAAAAAR0QEAAAAAAAAgIjoAAAAAAAAAREQH\n",
       "AAAAAAAAgIjoAAAAAAAAABARHQAAAAAAAAAiogMAAAAAAABARHQAAAAAAAAAiIgOAAAAAAAAABHR\n",
       "AQAAAAAAACAiOgAAAAAAAABERAcAAAAAAACAiOgAAAAAAAAAEBEdAAAAAAAAACKiAwAAAAAAAEBE\n",
       "dAAAAAAAAACIiA4AAAAAAAAAEdEBAAAAAAAAICI6AAAAAAAAAEREBwAAAAAAAICI6AAAAAAAAAAQ\n",
       "ER0AAAAAAAAAIqIDAAAAAAAAQER0AAAAAAAAAIiIDgAAAAAAAAAR0QEAAAAAAAAgIjoAAAAAAAAA\n",
       "REQHAAAAAAAAgIjoAAAAAAAAABARHQAAAAAAAAAiogMAAAAAAABARHQAAAAAAAAAiIgOAAAAAAAA\n",
       "ABHRAQAAAAAAACAiOgAAAAAAAABERAcAAAAAAACAiOgAAAAAAAAAEBEdAAAAAAAAACKiAwAAAAAA\n",
       "AEBEdAAAAAAAAACIiA4AAAAAAAAAEdEBAAAAAAAAICI6AAAAAAAAAEREBwAAAAAAAICI6AAAAAAA\n",
       "AAAQER0AAAAAAAAAIqIDAAAAAAAAQER0AAAAAAAAAIiIDgAAAAAAAAAR0QEAAAAAAAAgIjoAAAAA\n",
       "AAAAREQHAAAAAAAAgIjoAAAAAAAAABARHQAAAAAAAAAiogMAAAAAAABARHQAAAAAAAAAiIgOAAAA\n",
       "AAAAABHRAQAAAAAAACAiOgAAAAAAAABERAcAAAAAAACAiOgAAAAAAAAAEBEdAAAAAAAAACKiAwAA\n",
       "AAAAAEBEdAAAAAAAAACIiA4AAAAAAAAAEdEBAAAAAAAAICI6AAAAAAAAAEREBwAAAAAAAICI6AAA\n",
       "AAAAAAAQER0AAAAAAAAAIqIDAAAAAAAAQER0AAAAAAAAAIiIDgAAAAAAAAAR0QEAAAAAAAAgIjoA\n",
       "AAAAAAAAREQHAAAAAAAAgIjoAAAAAAAAABARHQAAAAAAAAAiogMAAAAAAABARHQAAAAAAAAAiIgO\n",
       "AAAAAAAAABHRAQAAAAAAACAiOgAAAAAAAABERAcAAAAAAACAiOgAAAAAAAAAEBEdAAAAAAAAACKi\n",
       "AwAAAAAAAEBEdAAAAAAAAACIiA4AAAAAAAAAEdEBAAAAAAAAICI6AAAAAAAAAEREBwAAAAAAAICI\n",
       "6AAAAAAAAAAQER0AAAAAAAAAIqIDAAAAAAAAQER0AAAAAAAAAIiIDgAAAAAAAAAR0QEAAAAAAAAg\n",
       "IjoAAAAAAAAAREQHAAAAAAAAgIjoAAAAAAAAABARHQAAAAAAAAAiogMAAAAAAABARHQAAAAAAAAA\n",
       "iIgOAAAAAAAAABHRAQAAAAAAACAiOgAAAAAAAADkBxuTI6+HG6pLAAAAAElFTkSuQmCC\n",
       "\" transform=\"translate(112, 47)\"/>\n",
       "</g>\n",
       "<defs>\n",
       "  <clipPath id=\"clip103\">\n",
       "    <rect x=\"2160\" y=\"47\" width=\"73\" height=\"1440\"/>\n",
       "  </clipPath>\n",
       "</defs>\n",
       "<g clip-path=\"url(#clip103)\">\n",
       "<image width=\"72\" height=\"1439\" xlink:href=\"data:image/png;base64,\n",
       "iVBORw0KGgoAAAANSUhEUgAAAEgAAAWfCAYAAAAI7rB3AAAMWUlEQVR4nO3dwY0rRxAFwaZQ/lsh\n",
       "L6XfLQtUeSQPERYsEg8c9MyQ+/n3/v0O/+uvb/8Bv06gIFAQKAgU5r5/v/03/DQLCgIFgYJAQaAw\n",
       "7/359t/w0ywoCBQECgIFR41gQUGgIFAQKAgU5rmKrSwoCBQECgIFgcK86yq2saAgUBAoCBQcNYIF\n",
       "BYGCQEGgIFBwFQsWFAQKAgWBgvtBwYKCQEGgIFAQKMxx1FhZUBAoCBQECgIFN8yCBQWBgkBBoDDH\n",
       "DbOVBQWBgkBBoCBQmHP/+fbf8NMsKAgUBAoCBYGCxz7BgoJAQaAgUHDDLFhQECgIFAQKAgVXsWBB\n",
       "QaAgUBAouB8ULCgIFAQKAgWBwnwcNVYWFAQKAgWBgkBhzvWfWTYWFAQKAgWBgqNGsKAgUBAoCBQE\n",
       "Co4awYKCQEGgIFAQKHjDLFhQECgIFAQK83HUWFlQECgIFAQKAgXvSQcLCgIFgYJAwVEjWFAQKAgU\n",
       "BAoCBc/mgwUFgYJAQaAgUHAWCxYUBAoCBYGCo0awoCBQECgIFAQKjhrBgoJAQaAgUBAozLn323/D\n",
       "T7OgIFAQKAgUHDWCBQWBgkBBoCBQ8NgnWFAQKAgUBAo+pIMFBYGCQEGgIFCYj6caKwsKAgWBgkBB\n",
       "oOAsFiwoCBQECgIFL1AFCwoCBYGCQEGg4IZZsKAgUBAoCBTcDwoWFAQKAgWBgkDBDbNgQUGgIFAQ\n",
       "KAgUXMWCBQWBgkBBoOB788GCgkBBoCBQECg4agQLCgIFgYJAQaDgKhYsKAgUBAoCBR/SwYKCQEGg\n",
       "IFAQKLiKBQsKAgWBgkBhzvMhvbGgIFAQKAgUBAqOGsGCgkBBoCBQECi4igULCgIFgYJAwYd0sKAg\n",
       "UBAoCBQECnPu+/bf8NMsKAgUBAoCBYGCs1iwoCBQECgIFBw1ggUFgYJAQaAgUHDUCBYUBAoCBYGC\n",
       "o0awoCBQECgIFAQKc5w0VhYUBAoCBYGCQGHOcxbbWFAQKAgUBAqOGsGCgkBBoCBQECi4igULCgIF\n",
       "gYJAQaAwfohzZ0FBoCBQECg4agQLCgIFgYJAQaDgKhYsKAgUBAoChTn38+2/4adZUBAoCBQECgKF\n",
       "ec9VbGNBQaAgUBAoCBTcMAsWFAQKAgWBghtmwYKCQEGgIFAQKMy7Gm3UCQIFgYJAwVEjWFAQKAgU\n",
       "BAoChTmeza8sKAgUBAoCBYHCPGexlQUFgYJAQaAwx1ONlTpBoCBQECgIFBw1ggUFgYJAQaAgUPDY\n",
       "J1hQECgIFAQKXgMO6gSBgkBBoCBQ8J50sKAgUBAoCBQ81QgWFAQKAgWBgkBh3tNoo04QKAgUBAoC\n",
       "BTfMggUFgYJAQaDghlmwoCBQECgIFAQKc9wwW6kTBAoCBYGCQMFZLFhQECgIFAQKPqSDBQWBgkBB\n",
       "oCBQ8L35YEFBoCBQECj43nxQJwgUBAoCBYHCPEeNlQUFgYJAQaAgUPDYJ1hQECgIFAQK/jNLUCcI\n",
       "FAQKAgWBghtmwYKCQEGgIFAQKLhhFiwoCBQECgIFR41gQUGgIFAQKAgUvCcd1AkCBYGCQMFRI1hQ\n",
       "ECgIFAQKAgVPNYIFBYGCQEGgIFBwFgsWFAQKAgWBgn+fFSwoCBQECgIFgYJ/ZRzUCQIFgYJAQaDg\n",
       "hlmwoCBQECgIFDybDxYUBAoCBYGCQMFRI1hQECgIFAQKc31IrywoCBQECgIFgYLvzQd1gkBBoCBQ\n",
       "ECi4YRYsKAgUBAoCBR/SwYKCQEGgIFAQKHjDLFhQECgIFAQKjhrBgoJAQaAgUBAouIoFCwoCBYGC\n",
       "QEGg4NdfgjpBoCBQECjM9VRjZUFBoCBQECgIFNwwCxYUBAoCBYGCQMFVLFhQECgIFAQKPqSDBQWB\n",
       "gkBBoCBQ8BtmwYKCQEGgIFBw1AgWFAQKAgWBgkDBVSxYUBAoCBQECgIFX2YJ6gSBgkBBoODLLMGC\n",
       "gkBBoCBQECi4YRYsKAgUBAoCBYGCq1iwoCBQECgIFLwGHCwoCBQECgIFgYKjRrCgIFAQKAgU5h0f\n",
       "0hsLCgIFgYJAQaDghlmwoCBQECgIFAQKbpgFCwoCBYGCQMFRI1hQECgIFAQKAgVHjWBBQaAgUBAo\n",
       "CBScxYIFBYGCQEGg4KgRLCgIFAQKAgWBgqtYsKAgUBAoCBTm+jLLyoKCQEGgIFAQKDhqBAsKAgWB\n",
       "gkBBoODZfLCgIFAQKAgU5r1v/wm/zYKCQEGgIFAQKDhqBAsKAgWBgkDBD00GCwoCBYGCQEGg4KgR\n",
       "LCgIFAQKAgWBgjfMggUFgYJAQaDgyyzBgoJAQaAgUBAoeMMsWFAQKAgUBAoCBY99ggUFgYJAQaDg\n",
       "qUawoCBQECgIFAQKHvsECwoCBYGCQMH9oGBBQaAgUBAoCBQ8mw8WFAQKAgWBgkDBDbNgQUGgIFAQ\n",
       "KHg2HywoCBQECgIFgcLcb/8FP86CgkBBoCBQECg4iwULCgIFgYJAwRtmwYKCQEGgIFAQKLhhFiwo\n",
       "CBQECgIF94OCBQWBgkBBoCBQcNQIFhQECgIFgYJAwVksWFAQKAgUBAqezQcLCgIFgYJAQaAwfvxl\n",
       "Z0FBoCBQECgIFJzFggUFgYJAQaDg2XywoCBQECgIFAQKns0HCwoCBYGCQMFRI1hQECgIFAQKAgVH\n",
       "jWBBQaAgUBAoCBTmesVsZUFBoCBQECi4YRYsKAgUBAoCBYGCG2bBgoJAQaAgUHDUCBYUBAoCBYGC\n",
       "QGGepxorCwoCBYGCQEGgMPe4YbaxoCBQECgIFLxAFSwoCBQECgIFgYIfmgwWFAQKAgWBgkDBD00G\n",
       "CwoCBYGCQMGz+WBBQaAgUBAoCBS8Jx0sKAgUBAoCBd84DBYUBAoCBYGCQMFRI1hQECgIFAQKAgXv\n",
       "SQcLCgIFgYJAwWvAwYKCQEGgIFAQKDhqBAsKAgWBgkBBoOA96WBBQaAgUBAo+ImuYEFBoCBQECgI\n",
       "FNwwCxYUBAoCBYGCZ/PBgoJAQaAgUBAoOGoECwoCBYGCQEGg4CwWLCgIFAQKAgVHjWBBQaAgUBAo\n",
       "CBRcxYIFBYGCQEGgIFBwwyxYUBAoCBQECo4awYKCQEGgIFAQKDhqBAsKAgWBgkDBUSNYUBAoCBQE\n",
       "CgIFP9EVLCgIFAQKAgWBgv8vFiwoCBQECgIFN8yCBQWBgkBBoCBQmHdcxjYWFAQKAgWBgkDBWSxY\n",
       "UBAoCBQECp7NBwsKAgWBgkBBoODZfLCgIFAQKAgU3A8KFhQECgIFgYJAwbP5YEFBoCBQECgIFJzF\n",
       "ggUFgYJAQaDgJ7qCBQWBgkBBoCBQmOsVs5UFBYGCQEGg4AWqYEFBoCBQECgIFOY5aqwsKAgUBAoC\n",
       "BYGCs1iwoCBQECgIFDzVCBYUBAoCBYGCQMEbZsGCgkBBoCBQECjM9ZXMlQUFgYJAQaDghlmwoCBQ\n",
       "ECgIFAQKfv0lWFAQKAgUBApeoAoWFAQKAgWBgkDBU41gQUGgIFAQKAgU3DALFhQECgIFgcLc45bZ\n",
       "xoKCQEGgIFAQKLhhFiwoCBQECgIFgYKrWLCgIFAQKAgUPNUIFhQECgIFgYJAwWOfYEFBoCBQECjM\n",
       "/ThqbCwoCBQECgIFgYKjRrCgIFAQKAgUBArzXMVWFhQECgIFgYKjRrCgIFAQKAgUBApzP65iGwsK\n",
       "AgWBgkBBoOAsFiwoCBQECgIFTzWCBQWBgkBBoCBQcNQIFhQECgIFgYIP6WBBQaAgUBAoCBQ8mw8W\n",
       "FAQKAgWBgkBh3vnz7b/hp1lQECgIFAQKbpgFCwoCBYGCQEGg4A2zYEFBoCBQECjMfe4HbSwoCBQE\n",
       "CgIFgYKjRrCgIFAQKAgUBApzPZtfWVAQKAgUBAqOGsGCgkBBoCBQECg4agQLCgIFgYJAQaAw7zmL\n",
       "bSwoCBQECgIFN8yCBQWBgkBBoCBQ8J50sKAgUBAoCBQcNYIFBYGCQEGgIFCY56ixsqAgUBAoCBQE\n",
       "Cs5iwYKCQEGgIFCY6wWqlQUFgYJAQaAgUPCb9sGCgkBBoCBQECj4MkuwoCBQECgIFDzVCBYUBAoC\n",
       "BYGCQMFRI1hQECgIFAQKPqSDBQWBgkBBoCBQ8Gw+WFAQKAgUBAoCBWexYEFBoCBQECjM8Wx+ZUFB\n",
       "oCBQECgIFBw1ggUFgYJAQaAgUPCedLCgIFAQKAgU5jhqrCwoCBQECgIFgYI3zIIFBYGCQEGg4Nl8\n",
       "sKAgUBAoCBQECm6YBQsKAgWBgkBBoDDvvG//DT/NgoJAQaAgUHDDLFhQECgIFAQKAoU5jhorCwoC\n",
       "BYGCQOE/LrLuTX/wFc8AAAAASUVORK5CYII=\n",
       "\" transform=\"translate(2161, 47)\"/>\n",
       "</g>\n",
       "<path clip-path=\"url(#clip100)\" d=\"M2280.7 1200.87 Q2277.09 1200.87 2275.26 1204.44 Q2273.45 1207.98 2273.45 1215.11 Q2273.45 1222.22 2275.26 1225.78 Q2277.09 1229.32 2280.7 1229.32 Q2284.33 1229.32 2286.14 1225.78 Q2287.97 1222.22 2287.97 1215.11 Q2287.97 1207.98 2286.14 1204.44 Q2284.33 1200.87 2280.7 1200.87 M2280.7 1197.17 Q2286.51 1197.17 2289.57 1201.78 Q2292.64 1206.36 2292.64 1215.11 Q2292.64 1223.84 2289.57 1228.44 Q2286.51 1233.03 2280.7 1233.03 Q2274.89 1233.03 2271.81 1228.44 Q2268.76 1223.84 2268.76 1215.11 Q2268.76 1206.36 2271.81 1201.78 Q2274.89 1197.17 2280.7 1197.17 Z\" fill=\"#000000\" fill-rule=\"evenodd\" fill-opacity=\"1\" /><path clip-path=\"url(#clip100)\" d=\"M2280.7 908.01 Q2277.09 908.01 2275.26 911.574 Q2273.45 915.116 2273.45 922.246 Q2273.45 929.352 2275.26 932.917 Q2277.09 936.458 2280.7 936.458 Q2284.33 936.458 2286.14 932.917 Q2287.97 929.352 2287.97 922.246 Q2287.97 915.116 2286.14 911.574 Q2284.33 908.01 2280.7 908.01 M2280.7 904.306 Q2286.51 904.306 2289.57 908.912 Q2292.64 913.496 2292.64 922.246 Q2292.64 930.972 2289.57 935.579 Q2286.51 940.162 2280.7 940.162 Q2274.89 940.162 2271.81 935.579 Q2268.76 930.972 2268.76 922.246 Q2268.76 913.496 2271.81 908.912 Q2274.89 904.306 2280.7 904.306 Z\" fill=\"#000000\" fill-rule=\"evenodd\" fill-opacity=\"1\" /><path clip-path=\"url(#clip100)\" d=\"M2300.86 933.611 L2305.75 933.611 L2305.75 939.491 L2300.86 939.491 L2300.86 933.611 Z\" fill=\"#000000\" fill-rule=\"evenodd\" fill-opacity=\"1\" /><path clip-path=\"url(#clip100)\" d=\"M2319.96 935.556 L2336.28 935.556 L2336.28 939.491 L2314.33 939.491 L2314.33 935.556 Q2317 932.801 2321.58 928.171 Q2326.19 923.519 2327.37 922.176 Q2329.61 919.653 2330.49 917.917 Q2331.39 916.158 2331.39 914.468 Q2331.39 911.713 2329.45 909.977 Q2327.53 908.241 2324.43 908.241 Q2322.23 908.241 2319.77 909.005 Q2317.34 909.769 2314.57 911.32 L2314.57 906.598 Q2317.39 905.463 2319.84 904.885 Q2322.3 904.306 2324.33 904.306 Q2329.7 904.306 2332.9 906.991 Q2336.09 909.676 2336.09 914.167 Q2336.09 916.297 2335.28 918.218 Q2334.5 920.116 2332.39 922.709 Q2331.81 923.38 2328.71 926.597 Q2325.61 929.792 2319.96 935.556 Z\" fill=\"#000000\" fill-rule=\"evenodd\" fill-opacity=\"1\" /><path clip-path=\"url(#clip100)\" d=\"M2346.14 904.931 L2364.5 904.931 L2364.5 908.866 L2350.42 908.866 L2350.42 917.338 Q2351.44 916.991 2352.46 916.829 Q2353.48 916.644 2354.5 916.644 Q2360.28 916.644 2363.66 919.815 Q2367.04 922.986 2367.04 928.403 Q2367.04 933.982 2363.57 937.083 Q2360.1 940.162 2353.78 940.162 Q2351.6 940.162 2349.33 939.792 Q2347.09 939.421 2344.68 938.681 L2344.68 933.982 Q2346.76 935.116 2348.99 935.671 Q2351.21 936.227 2353.69 936.227 Q2357.69 936.227 2360.03 934.121 Q2362.37 932.014 2362.37 928.403 Q2362.37 924.792 2360.03 922.685 Q2357.69 920.579 2353.69 920.579 Q2351.81 920.579 2349.94 920.996 Q2348.08 921.412 2346.14 922.292 L2346.14 904.931 Z\" fill=\"#000000\" fill-rule=\"evenodd\" fill-opacity=\"1\" /><path clip-path=\"url(#clip100)\" d=\"M2280.7 615.144 Q2277.09 615.144 2275.26 618.709 Q2273.45 622.251 2273.45 629.38 Q2273.45 636.487 2275.26 640.052 Q2277.09 643.593 2280.7 643.593 Q2284.33 643.593 2286.14 640.052 Q2287.97 636.487 2287.97 629.38 Q2287.97 622.251 2286.14 618.709 Q2284.33 615.144 2280.7 615.144 M2280.7 611.441 Q2286.51 611.441 2289.57 616.047 Q2292.64 620.63 2292.64 629.38 Q2292.64 638.107 2289.57 642.714 Q2286.51 647.297 2280.7 647.297 Q2274.89 647.297 2271.81 642.714 Q2268.76 638.107 2268.76 629.38 Q2268.76 620.63 2271.81 616.047 Q2274.89 611.441 2280.7 611.441 Z\" fill=\"#000000\" fill-rule=\"evenodd\" fill-opacity=\"1\" /><path clip-path=\"url(#clip100)\" d=\"M2300.86 640.746 L2305.75 640.746 L2305.75 646.626 L2300.86 646.626 L2300.86 640.746 Z\" fill=\"#000000\" fill-rule=\"evenodd\" fill-opacity=\"1\" /><path clip-path=\"url(#clip100)\" d=\"M2315.98 612.066 L2334.33 612.066 L2334.33 616.001 L2320.26 616.001 L2320.26 624.473 Q2321.28 624.126 2322.3 623.964 Q2323.32 623.779 2324.33 623.779 Q2330.12 623.779 2333.5 626.95 Q2336.88 630.121 2336.88 635.538 Q2336.88 641.116 2333.41 644.218 Q2329.94 647.297 2323.62 647.297 Q2321.44 647.297 2319.17 646.927 Q2316.93 646.556 2314.52 645.816 L2314.52 641.116 Q2316.6 642.251 2318.83 642.806 Q2321.05 643.362 2323.52 643.362 Q2327.53 643.362 2329.87 641.255 Q2332.2 639.149 2332.2 635.538 Q2332.2 631.927 2329.87 629.82 Q2327.53 627.714 2323.52 627.714 Q2321.65 627.714 2319.77 628.13 Q2317.92 628.547 2315.98 629.427 L2315.98 612.066 Z\" fill=\"#000000\" fill-rule=\"evenodd\" fill-opacity=\"1\" /><path clip-path=\"url(#clip100)\" d=\"M2356.09 615.144 Q2352.48 615.144 2350.65 618.709 Q2348.85 622.251 2348.85 629.38 Q2348.85 636.487 2350.65 640.052 Q2352.48 643.593 2356.09 643.593 Q2359.73 643.593 2361.53 640.052 Q2363.36 636.487 2363.36 629.38 Q2363.36 622.251 2361.53 618.709 Q2359.73 615.144 2356.09 615.144 M2356.09 611.441 Q2361.9 611.441 2364.96 616.047 Q2368.04 620.63 2368.04 629.38 Q2368.04 638.107 2364.96 642.714 Q2361.9 647.297 2356.09 647.297 Q2350.28 647.297 2347.2 642.714 Q2344.15 638.107 2344.15 629.38 Q2344.15 620.63 2347.2 616.047 Q2350.28 611.441 2356.09 611.441 Z\" fill=\"#000000\" fill-rule=\"evenodd\" fill-opacity=\"1\" /><path clip-path=\"url(#clip100)\" d=\"M2280.7 322.279 Q2277.09 322.279 2275.26 325.844 Q2273.45 329.386 2273.45 336.515 Q2273.45 343.622 2275.26 347.186 Q2277.09 350.728 2280.7 350.728 Q2284.33 350.728 2286.14 347.186 Q2287.97 343.622 2287.97 336.515 Q2287.97 329.386 2286.14 325.844 Q2284.33 322.279 2280.7 322.279 M2280.7 318.575 Q2286.51 318.575 2289.57 323.182 Q2292.64 327.765 2292.64 336.515 Q2292.64 345.242 2289.57 349.848 Q2286.51 354.432 2280.7 354.432 Q2274.89 354.432 2271.81 349.848 Q2268.76 345.242 2268.76 336.515 Q2268.76 327.765 2271.81 323.182 Q2274.89 318.575 2280.7 318.575 Z\" fill=\"#000000\" fill-rule=\"evenodd\" fill-opacity=\"1\" /><path clip-path=\"url(#clip100)\" d=\"M2300.86 347.881 L2305.75 347.881 L2305.75 353.76 L2300.86 353.76 L2300.86 347.881 Z\" fill=\"#000000\" fill-rule=\"evenodd\" fill-opacity=\"1\" /><path clip-path=\"url(#clip100)\" d=\"M2314.75 319.2 L2336.97 319.2 L2336.97 321.191 L2324.43 353.76 L2319.54 353.76 L2331.35 323.136 L2314.75 323.136 L2314.75 319.2 Z\" fill=\"#000000\" fill-rule=\"evenodd\" fill-opacity=\"1\" /><path clip-path=\"url(#clip100)\" d=\"M2346.14 319.2 L2364.5 319.2 L2364.5 323.136 L2350.42 323.136 L2350.42 331.608 Q2351.44 331.261 2352.46 331.099 Q2353.48 330.913 2354.5 330.913 Q2360.28 330.913 2363.66 334.085 Q2367.04 337.256 2367.04 342.673 Q2367.04 348.251 2363.57 351.353 Q2360.1 354.432 2353.78 354.432 Q2351.6 354.432 2349.33 354.061 Q2347.09 353.691 2344.68 352.95 L2344.68 348.251 Q2346.76 349.386 2348.99 349.941 Q2351.21 350.497 2353.69 350.497 Q2357.69 350.497 2360.03 348.39 Q2362.37 346.284 2362.37 342.673 Q2362.37 339.061 2360.03 336.955 Q2357.69 334.849 2353.69 334.849 Q2351.81 334.849 2349.94 335.265 Q2348.08 335.682 2346.14 336.562 L2346.14 319.2 Z\" fill=\"#000000\" fill-rule=\"evenodd\" fill-opacity=\"1\" /><path clip-path=\"url(#clip100)\" d=\"M2269.43 56.9601 L2277.07 56.9601 L2277.07 30.5945 L2268.76 32.2612 L2268.76 28.002 L2277.02 26.3353 L2281.7 26.3353 L2281.7 56.9601 L2289.33 56.9601 L2289.33 60.8953 L2269.43 60.8953 L2269.43 56.9601 Z\" fill=\"#000000\" fill-rule=\"evenodd\" fill-opacity=\"1\" /><path clip-path=\"url(#clip100)\" d=\"M2298.78 55.0157 L2303.66 55.0157 L2303.66 60.8953 L2298.78 60.8953 L2298.78 55.0157 Z\" fill=\"#000000\" fill-rule=\"evenodd\" fill-opacity=\"1\" /><path clip-path=\"url(#clip100)\" d=\"M2323.85 29.414 Q2320.24 29.414 2318.41 32.9788 Q2316.6 36.5204 2316.6 43.65 Q2316.6 50.7565 2318.41 54.3213 Q2320.24 57.8629 2323.85 57.8629 Q2327.48 57.8629 2329.29 54.3213 Q2331.12 50.7565 2331.12 43.65 Q2331.12 36.5204 2329.29 32.9788 Q2327.48 29.414 2323.85 29.414 M2323.85 25.7103 Q2329.66 25.7103 2332.71 30.3168 Q2335.79 34.9001 2335.79 43.65 Q2335.79 52.3768 2332.71 56.9833 Q2329.66 61.5666 2323.85 61.5666 Q2318.04 61.5666 2314.96 56.9833 Q2311.9 52.3768 2311.9 43.65 Q2311.9 34.9001 2314.96 30.3168 Q2318.04 25.7103 2323.85 25.7103 Z\" fill=\"#000000\" fill-rule=\"evenodd\" fill-opacity=\"1\" /><path clip-path=\"url(#clip100)\" d=\"M2354.01 29.414 Q2350.4 29.414 2348.57 32.9788 Q2346.76 36.5204 2346.76 43.65 Q2346.76 50.7565 2348.57 54.3213 Q2350.4 57.8629 2354.01 57.8629 Q2357.64 57.8629 2359.45 54.3213 Q2361.28 50.7565 2361.28 43.65 Q2361.28 36.5204 2359.45 32.9788 Q2357.64 29.414 2354.01 29.414 M2354.01 25.7103 Q2359.82 25.7103 2362.88 30.3168 Q2365.95 34.9001 2365.95 43.65 Q2365.95 52.3768 2362.88 56.9833 Q2359.82 61.5666 2354.01 61.5666 Q2348.2 61.5666 2345.12 56.9833 Q2342.07 52.3768 2342.07 43.65 Q2342.07 34.9001 2345.12 30.3168 Q2348.2 25.7103 2354.01 25.7103 Z\" fill=\"#000000\" fill-rule=\"evenodd\" fill-opacity=\"1\" /><polyline clip-path=\"url(#clip100)\" style=\"stroke:#000000; stroke-linecap:butt; stroke-linejoin:round; stroke-width:4; stroke-opacity:1; fill:none\" points=\"\n",
       "  2232.76,1486.45 2232.76,1218.7 2256.76,1218.7 2232.76,1218.7 2232.76,925.84 2256.76,925.84 2232.76,925.84 2232.76,632.974 2256.76,632.974 2232.76,632.974 \n",
       "  2232.76,340.109 2256.76,340.109 2232.76,340.109 2232.76,47.2441 2256.76,47.2441 2232.76,47.2441 \n",
       "  \"/>\n",
       "</svg>\n"
      ]
     },
     "execution_count": 22,
     "metadata": {},
     "output_type": "execute_result"
    }
   ],
   "source": [
    "Plots.heatmap(cors)"
   ]
  },
  {
   "cell_type": "code",
   "execution_count": 23,
   "id": "ffb935b2-f499-4eff-9a70-f1e4792ef5ba",
   "metadata": {},
   "outputs": [
    {
     "data": {
      "text/html": [
       "<table class=\"data-frame\"><thead><tr><th></th><th>variable</th><th>mean</th><th>min</th><th>median</th><th>max</th><th>nmissing</th><th>eltype</th></tr><tr><th></th><th>Symbol</th><th>Float64</th><th>Float64</th><th>Float64</th><th>Float64</th><th>Int64</th><th>DataType</th></tr></thead><tbody><p>4 rows × 7 columns</p><tr><th>1</th><td>precipitation</td><td>3.02943</td><td>0.0</td><td>0.0</td><td>55.9</td><td>0</td><td>Float64</td></tr><tr><th>2</th><td>temp_max</td><td>16.4391</td><td>-1.6</td><td>15.6</td><td>35.6</td><td>0</td><td>Float64</td></tr><tr><th>3</th><td>temp_min</td><td>8.23477</td><td>-7.1</td><td>8.3</td><td>18.3</td><td>0</td><td>Float64</td></tr><tr><th>4</th><td>wind</td><td>3.24114</td><td>0.4</td><td>3.0</td><td>9.5</td><td>0</td><td>Float64</td></tr></tbody></table>"
      ],
      "text/latex": [
       "\\begin{tabular}{r|ccccccc}\n",
       "\t& variable & mean & min & median & max & nmissing & eltype\\\\\n",
       "\t\\hline\n",
       "\t& Symbol & Float64 & Float64 & Float64 & Float64 & Int64 & DataType\\\\\n",
       "\t\\hline\n",
       "\t1 & precipitation & 3.02943 & 0.0 & 0.0 & 55.9 & 0 & Float64 \\\\\n",
       "\t2 & temp\\_max & 16.4391 & -1.6 & 15.6 & 35.6 & 0 & Float64 \\\\\n",
       "\t3 & temp\\_min & 8.23477 & -7.1 & 8.3 & 18.3 & 0 & Float64 \\\\\n",
       "\t4 & wind & 3.24114 & 0.4 & 3.0 & 9.5 & 0 & Float64 \\\\\n",
       "\\end{tabular}\n"
      ],
      "text/plain": [
       "\u001b[1m4×7 DataFrame\u001b[0m\n",
       "\u001b[1m Row \u001b[0m│\u001b[1m variable      \u001b[0m\u001b[1m mean     \u001b[0m\u001b[1m min     \u001b[0m\u001b[1m median  \u001b[0m\u001b[1m max     \u001b[0m\u001b[1m nmissing \u001b[0m\u001b[1m eltype   \u001b[0m\n",
       "\u001b[1m     \u001b[0m│\u001b[90m Symbol        \u001b[0m\u001b[90m Float64  \u001b[0m\u001b[90m Float64 \u001b[0m\u001b[90m Float64 \u001b[0m\u001b[90m Float64 \u001b[0m\u001b[90m Int64    \u001b[0m\u001b[90m DataType \u001b[0m\n",
       "─────┼────────────────────────────────────────────────────────────────────────\n",
       "   1 │ precipitation   3.02943      0.0      0.0     55.9         0  Float64\n",
       "   2 │ temp_max       16.4391      -1.6     15.6     35.6         0  Float64\n",
       "   3 │ temp_min        8.23477     -7.1      8.3     18.3         0  Float64\n",
       "   4 │ wind            3.24114      0.4      3.0      9.5         0  Float64"
      ]
     },
     "execution_count": 23,
     "metadata": {},
     "output_type": "execute_result"
    }
   ],
   "source": [
    "names(data)\n",
    "describe(data)"
   ]
  },
  {
   "cell_type": "code",
   "execution_count": 24,
   "id": "801df4b8-39af-4499-9886-9cf62cd3ed24",
   "metadata": {},
   "outputs": [],
   "source": [
    "coerce!(data, :weather => OrderedFactor{6});"
   ]
  },
  {
   "cell_type": "code",
   "execution_count": 25,
   "id": "2c354cbb-4973-43f8-b4c2-a1fd3cf21ccc",
   "metadata": {},
   "outputs": [
    {
     "data": {
      "text/html": [
       "<table class=\"data-frame\"><thead><tr><th></th><th>variable</th><th>mean</th><th>min</th><th>median</th><th>max</th><th>nmissing</th><th>eltype</th></tr><tr><th></th><th>Symbol</th><th>Union…</th><th>Any</th><th>Any</th><th>Any</th><th>Int64</th><th>DataType</th></tr></thead><tbody><p>6 rows × 7 columns</p><tr><th>1</th><td>date</td><td></td><td>2012-01-01</td><td>2013-12-31</td><td>2015-12-31</td><td>0</td><td>Date</td></tr><tr><th>2</th><td>precipitation</td><td>3.02943</td><td>0.0</td><td>0.0</td><td>55.9</td><td>0</td><td>Float64</td></tr><tr><th>3</th><td>temp_max</td><td>16.4391</td><td>-1.6</td><td>15.6</td><td>35.6</td><td>0</td><td>Float64</td></tr><tr><th>4</th><td>temp_min</td><td>8.23477</td><td>-7.1</td><td>8.3</td><td>18.3</td><td>0</td><td>Float64</td></tr><tr><th>5</th><td>wind</td><td>3.24114</td><td>0.4</td><td>3.0</td><td>9.5</td><td>0</td><td>Float64</td></tr><tr><th>6</th><td>weather</td><td></td><td>drizzle</td><td></td><td>sun</td><td>0</td><td>String</td></tr></tbody></table>"
      ],
      "text/latex": [
       "\\begin{tabular}{r|ccccccc}\n",
       "\t& variable & mean & min & median & max & nmissing & eltype\\\\\n",
       "\t\\hline\n",
       "\t& Symbol & Union… & Any & Any & Any & Int64 & DataType\\\\\n",
       "\t\\hline\n",
       "\t1 & date &  & 2012-01-01 & 2013-12-31 & 2015-12-31 & 0 & Date \\\\\n",
       "\t2 & precipitation & 3.02943 & 0.0 & 0.0 & 55.9 & 0 & Float64 \\\\\n",
       "\t3 & temp\\_max & 16.4391 & -1.6 & 15.6 & 35.6 & 0 & Float64 \\\\\n",
       "\t4 & temp\\_min & 8.23477 & -7.1 & 8.3 & 18.3 & 0 & Float64 \\\\\n",
       "\t5 & wind & 3.24114 & 0.4 & 3.0 & 9.5 & 0 & Float64 \\\\\n",
       "\t6 & weather &  & drizzle &  & sun & 0 & String \\\\\n",
       "\\end{tabular}\n"
      ],
      "text/plain": [
       "\u001b[1m6×7 DataFrame\u001b[0m\n",
       "\u001b[1m Row \u001b[0m│\u001b[1m variable      \u001b[0m\u001b[1m mean    \u001b[0m\u001b[1m min        \u001b[0m\u001b[1m median     \u001b[0m\u001b[1m max        \u001b[0m\u001b[1m nmissing \u001b[0m\u001b[1m e\u001b[0m ⋯\n",
       "\u001b[1m     \u001b[0m│\u001b[90m Symbol        \u001b[0m\u001b[90m Union…  \u001b[0m\u001b[90m Any        \u001b[0m\u001b[90m Any        \u001b[0m\u001b[90m Any        \u001b[0m\u001b[90m Int64    \u001b[0m\u001b[90m D\u001b[0m ⋯\n",
       "─────┼──────────────────────────────────────────────────────────────────────────\n",
       "   1 │ date          \u001b[90m         \u001b[0m 2012-01-01  2013-12-31  2015-12-31         0  D ⋯\n",
       "   2 │ precipitation  3.02943  0.0         0.0         55.9               0  F\n",
       "   3 │ temp_max       16.4391  -1.6        15.6        35.6               0  F\n",
       "   4 │ temp_min       8.23477  -7.1        8.3         18.3               0  F\n",
       "   5 │ wind           3.24114  0.4         3.0         9.5                0  F ⋯\n",
       "   6 │ weather       \u001b[90m         \u001b[0m drizzle    \u001b[90m            \u001b[0m sun                0  S\n",
       "\u001b[36m                                                                1 column omitted\u001b[0m"
      ]
     },
     "execution_count": 25,
     "metadata": {},
     "output_type": "execute_result"
    }
   ],
   "source": [
    "describe(data3)"
   ]
  },
  {
   "cell_type": "code",
   "execution_count": 26,
   "id": "9861dd40-abc7-4101-9921-c009d230fbb8",
   "metadata": {},
   "outputs": [
    {
     "data": {
      "text/plain": [
       "6-element Vector{String}:\n",
       " \"date\"\n",
       " \"precipitation\"\n",
       " \"temp_max\"\n",
       " \"temp_min\"\n",
       " \"wind\"\n",
       " \"weather\""
      ]
     },
     "execution_count": 26,
     "metadata": {},
     "output_type": "execute_result"
    }
   ],
   "source": [
    "names(data3)"
   ]
  },
  {
   "cell_type": "code",
   "execution_count": 27,
   "id": "cbea26a9-a950-41a0-b5b1-9ea398828648",
   "metadata": {},
   "outputs": [
    {
     "data": {
      "text/html": [
       "<table class=\"data-frame\"><thead><tr><th></th><th>precipitation</th><th>temp_max</th><th>temp_min</th><th>wind</th><th>weather</th></tr><tr><th></th><th>Float64</th><th>Float64</th><th>Float64</th><th>Float64</th><th>String</th></tr></thead><tbody><p>1,461 rows × 5 columns</p><tr><th>1</th><td>0.0</td><td>12.8</td><td>5.0</td><td>4.7</td><td>drizzle</td></tr><tr><th>2</th><td>10.9</td><td>10.6</td><td>2.8</td><td>4.5</td><td>rain</td></tr><tr><th>3</th><td>0.8</td><td>11.7</td><td>7.2</td><td>2.3</td><td>rain</td></tr><tr><th>4</th><td>20.3</td><td>12.2</td><td>5.6</td><td>4.7</td><td>rain</td></tr><tr><th>5</th><td>1.3</td><td>8.9</td><td>2.8</td><td>6.1</td><td>rain</td></tr><tr><th>6</th><td>2.5</td><td>4.4</td><td>2.2</td><td>2.2</td><td>rain</td></tr><tr><th>7</th><td>0.0</td><td>7.2</td><td>2.8</td><td>2.3</td><td>rain</td></tr><tr><th>8</th><td>0.0</td><td>10.0</td><td>2.8</td><td>2.0</td><td>sun</td></tr><tr><th>9</th><td>4.3</td><td>9.4</td><td>5.0</td><td>3.4</td><td>rain</td></tr><tr><th>10</th><td>1.0</td><td>6.1</td><td>0.6</td><td>3.4</td><td>rain</td></tr><tr><th>11</th><td>0.0</td><td>6.1</td><td>-1.1</td><td>5.1</td><td>sun</td></tr><tr><th>12</th><td>0.0</td><td>6.1</td><td>-1.7</td><td>1.9</td><td>sun</td></tr><tr><th>13</th><td>0.0</td><td>5.0</td><td>-2.8</td><td>1.3</td><td>sun</td></tr><tr><th>14</th><td>4.1</td><td>4.4</td><td>0.6</td><td>5.3</td><td>snow</td></tr><tr><th>15</th><td>5.3</td><td>1.1</td><td>-3.3</td><td>3.2</td><td>snow</td></tr><tr><th>16</th><td>2.5</td><td>1.7</td><td>-2.8</td><td>5.0</td><td>snow</td></tr><tr><th>17</th><td>8.1</td><td>3.3</td><td>0.0</td><td>5.6</td><td>snow</td></tr><tr><th>18</th><td>19.8</td><td>0.0</td><td>-2.8</td><td>5.0</td><td>snow</td></tr><tr><th>19</th><td>15.2</td><td>-1.1</td><td>-2.8</td><td>1.6</td><td>snow</td></tr><tr><th>20</th><td>13.5</td><td>7.2</td><td>-1.1</td><td>2.3</td><td>snow</td></tr><tr><th>21</th><td>3.0</td><td>8.3</td><td>3.3</td><td>8.2</td><td>rain</td></tr><tr><th>22</th><td>6.1</td><td>6.7</td><td>2.2</td><td>4.8</td><td>rain</td></tr><tr><th>23</th><td>0.0</td><td>8.3</td><td>1.1</td><td>3.6</td><td>rain</td></tr><tr><th>24</th><td>8.6</td><td>10.0</td><td>2.2</td><td>5.1</td><td>rain</td></tr><tr><th>25</th><td>8.1</td><td>8.9</td><td>4.4</td><td>5.4</td><td>rain</td></tr><tr><th>26</th><td>4.8</td><td>8.9</td><td>1.1</td><td>4.8</td><td>rain</td></tr><tr><th>27</th><td>0.0</td><td>6.7</td><td>-2.2</td><td>1.4</td><td>drizzle</td></tr><tr><th>28</th><td>0.0</td><td>6.7</td><td>0.6</td><td>2.2</td><td>rain</td></tr><tr><th>29</th><td>27.7</td><td>9.4</td><td>3.9</td><td>4.5</td><td>rain</td></tr><tr><th>30</th><td>3.6</td><td>8.3</td><td>6.1</td><td>5.1</td><td>rain</td></tr><tr><th>&vellip;</th><td>&vellip;</td><td>&vellip;</td><td>&vellip;</td><td>&vellip;</td><td>&vellip;</td></tr></tbody></table>"
      ],
      "text/latex": [
       "\\begin{tabular}{r|ccccc}\n",
       "\t& precipitation & temp\\_max & temp\\_min & wind & weather\\\\\n",
       "\t\\hline\n",
       "\t& Float64 & Float64 & Float64 & Float64 & String\\\\\n",
       "\t\\hline\n",
       "\t1 & 0.0 & 12.8 & 5.0 & 4.7 & drizzle \\\\\n",
       "\t2 & 10.9 & 10.6 & 2.8 & 4.5 & rain \\\\\n",
       "\t3 & 0.8 & 11.7 & 7.2 & 2.3 & rain \\\\\n",
       "\t4 & 20.3 & 12.2 & 5.6 & 4.7 & rain \\\\\n",
       "\t5 & 1.3 & 8.9 & 2.8 & 6.1 & rain \\\\\n",
       "\t6 & 2.5 & 4.4 & 2.2 & 2.2 & rain \\\\\n",
       "\t7 & 0.0 & 7.2 & 2.8 & 2.3 & rain \\\\\n",
       "\t8 & 0.0 & 10.0 & 2.8 & 2.0 & sun \\\\\n",
       "\t9 & 4.3 & 9.4 & 5.0 & 3.4 & rain \\\\\n",
       "\t10 & 1.0 & 6.1 & 0.6 & 3.4 & rain \\\\\n",
       "\t11 & 0.0 & 6.1 & -1.1 & 5.1 & sun \\\\\n",
       "\t12 & 0.0 & 6.1 & -1.7 & 1.9 & sun \\\\\n",
       "\t13 & 0.0 & 5.0 & -2.8 & 1.3 & sun \\\\\n",
       "\t14 & 4.1 & 4.4 & 0.6 & 5.3 & snow \\\\\n",
       "\t15 & 5.3 & 1.1 & -3.3 & 3.2 & snow \\\\\n",
       "\t16 & 2.5 & 1.7 & -2.8 & 5.0 & snow \\\\\n",
       "\t17 & 8.1 & 3.3 & 0.0 & 5.6 & snow \\\\\n",
       "\t18 & 19.8 & 0.0 & -2.8 & 5.0 & snow \\\\\n",
       "\t19 & 15.2 & -1.1 & -2.8 & 1.6 & snow \\\\\n",
       "\t20 & 13.5 & 7.2 & -1.1 & 2.3 & snow \\\\\n",
       "\t21 & 3.0 & 8.3 & 3.3 & 8.2 & rain \\\\\n",
       "\t22 & 6.1 & 6.7 & 2.2 & 4.8 & rain \\\\\n",
       "\t23 & 0.0 & 8.3 & 1.1 & 3.6 & rain \\\\\n",
       "\t24 & 8.6 & 10.0 & 2.2 & 5.1 & rain \\\\\n",
       "\t25 & 8.1 & 8.9 & 4.4 & 5.4 & rain \\\\\n",
       "\t26 & 4.8 & 8.9 & 1.1 & 4.8 & rain \\\\\n",
       "\t27 & 0.0 & 6.7 & -2.2 & 1.4 & drizzle \\\\\n",
       "\t28 & 0.0 & 6.7 & 0.6 & 2.2 & rain \\\\\n",
       "\t29 & 27.7 & 9.4 & 3.9 & 4.5 & rain \\\\\n",
       "\t30 & 3.6 & 8.3 & 6.1 & 5.1 & rain \\\\\n",
       "\t$\\dots$ & $\\dots$ & $\\dots$ & $\\dots$ & $\\dots$ & $\\dots$ \\\\\n",
       "\\end{tabular}\n"
      ],
      "text/plain": [
       "\u001b[1m1461×5 DataFrame\u001b[0m\n",
       "\u001b[1m  Row \u001b[0m│\u001b[1m precipitation \u001b[0m\u001b[1m temp_max \u001b[0m\u001b[1m temp_min \u001b[0m\u001b[1m wind    \u001b[0m\u001b[1m weather \u001b[0m\n",
       "\u001b[1m      \u001b[0m│\u001b[90m Float64       \u001b[0m\u001b[90m Float64  \u001b[0m\u001b[90m Float64  \u001b[0m\u001b[90m Float64 \u001b[0m\u001b[90m String  \u001b[0m\n",
       "──────┼─────────────────────────────────────────────────────\n",
       "    1 │           0.0      12.8       5.0      4.7  drizzle\n",
       "    2 │          10.9      10.6       2.8      4.5  rain\n",
       "    3 │           0.8      11.7       7.2      2.3  rain\n",
       "    4 │          20.3      12.2       5.6      4.7  rain\n",
       "    5 │           1.3       8.9       2.8      6.1  rain\n",
       "    6 │           2.5       4.4       2.2      2.2  rain\n",
       "    7 │           0.0       7.2       2.8      2.3  rain\n",
       "    8 │           0.0      10.0       2.8      2.0  sun\n",
       "    9 │           4.3       9.4       5.0      3.4  rain\n",
       "   10 │           1.0       6.1       0.6      3.4  rain\n",
       "   11 │           0.0       6.1      -1.1      5.1  sun\n",
       "  ⋮   │       ⋮           ⋮         ⋮         ⋮        ⋮\n",
       " 1452 │           4.6       7.8       2.8      5.0  rain\n",
       " 1453 │           6.1       5.0       2.8      7.6  rain\n",
       " 1454 │           2.5       5.6       2.2      4.3  rain\n",
       " 1455 │           5.8       5.0       2.2      1.5  rain\n",
       " 1456 │           0.0       4.4       0.0      2.5  sun\n",
       " 1457 │           8.6       4.4       1.7      2.9  rain\n",
       " 1458 │           1.5       5.0       1.7      1.3  rain\n",
       " 1459 │           0.0       7.2       0.6      2.6  fog\n",
       " 1460 │           0.0       5.6      -1.0      3.4  sun\n",
       " 1461 │           0.0       5.6      -2.1      3.5  sun\n",
       "\u001b[36m                                           1440 rows omitted\u001b[0m"
      ]
     },
     "execution_count": 27,
     "metadata": {},
     "output_type": "execute_result"
    }
   ],
   "source": [
    "select(data3, Not(:date))"
   ]
  },
  {
   "cell_type": "code",
   "execution_count": 28,
   "id": "9c50d80c-dc1f-451e-9e2a-d8dba4781a67",
   "metadata": {},
   "outputs": [
    {
     "data": {
      "text/plain": [
       "MLLabelUtils.LabelEnc.NativeLabels{String, 5, typeof(identity)}(identity, [\"drizzle\", \"rain\", \"sun\", \"snow\", \"fog\"], Dict(\"fog\" => 5, \"sun\" => 3, \"snow\" => 4, \"rain\" => 2, \"drizzle\" => 1))"
      ]
     },
     "execution_count": 28,
     "metadata": {},
     "output_type": "execute_result"
    }
   ],
   "source": [
    "enc = labelenc(data3.weather)"
   ]
  },
  {
   "cell_type": "code",
   "execution_count": 29,
   "id": "321828ab-ee77-4c17-92b1-36b81ef89c2f",
   "metadata": {},
   "outputs": [
    {
     "data": {
      "text/plain": [
       "5×1461 Matrix{Int64}:\n",
       " 1  0  0  0  0  0  0  0  0  0  0  0  0  …  0  0  0  0  0  0  0  0  0  0  0  0\n",
       " 0  1  1  1  1  1  1  0  1  1  0  0  0     1  1  1  1  1  1  0  1  1  0  0  0\n",
       " 0  0  0  0  0  0  0  1  0  0  1  1  1     0  0  0  0  0  0  1  0  0  0  1  1\n",
       " 0  0  0  0  0  0  0  0  0  0  0  0  0     0  0  0  0  0  0  0  0  0  0  0  0\n",
       " 0  0  0  0  0  0  0  0  0  0  0  0  0     0  0  0  0  0  0  0  0  0  1  0  0"
      ]
     },
     "execution_count": 29,
     "metadata": {},
     "output_type": "execute_result"
    }
   ],
   "source": [
    "convertlabel(LabelEnc.OneOfK{Int64}, data3.weather)"
   ]
  },
  {
   "cell_type": "code",
   "execution_count": 30,
   "id": "fb218617-0aa2-4570-8693-158d26a95236",
   "metadata": {},
   "outputs": [
    {
     "data": {
      "text/plain": [
       "1461-element PooledArrays.PooledVector{String, UInt32, Vector{UInt32}}:\n",
       " \"drizzle\"\n",
       " \"rain\"\n",
       " \"rain\"\n",
       " \"rain\"\n",
       " \"rain\"\n",
       " \"rain\"\n",
       " \"rain\"\n",
       " \"sun\"\n",
       " \"rain\"\n",
       " \"rain\"\n",
       " \"sun\"\n",
       " \"sun\"\n",
       " \"sun\"\n",
       " ⋮\n",
       " \"rain\"\n",
       " \"rain\"\n",
       " \"rain\"\n",
       " \"rain\"\n",
       " \"rain\"\n",
       " \"rain\"\n",
       " \"sun\"\n",
       " \"rain\"\n",
       " \"rain\"\n",
       " \"fog\"\n",
       " \"sun\"\n",
       " \"sun\""
      ]
     },
     "execution_count": 30,
     "metadata": {},
     "output_type": "execute_result"
    }
   ],
   "source": [
    "data3.weather"
   ]
  },
  {
   "cell_type": "code",
   "execution_count": 31,
   "id": "f53befb5-ff78-4da2-b251-366a4b7f635a",
   "metadata": {},
   "outputs": [],
   "source": [
    "# for i in data3.weather\n",
    "#     if i == \"rain\"\n",
    "#         data3[!,:i]= 1        \n",
    "#     elseif i == \"sun\"\n",
    "#         i=2\n",
    "#     elseif i ==\"drizzle\"\n",
    "#         i=3\n",
    "#     elseif i == \"fog\"\n",
    "#         i=4\n",
    "#     elseif i ==\"snow\"\n",
    "#         i=5\n",
    "#     end\n",
    "#     i = i\n",
    "   \n",
    "# end"
   ]
  },
  {
   "cell_type": "code",
   "execution_count": 32,
   "id": "0cd24075-3970-4869-b40b-cda023c8b3e8",
   "metadata": {},
   "outputs": [],
   "source": [
    "# using PrettyPrinting,MLJ\n",
    "# using ScikitLearn\n",
    "\n"
   ]
  },
  {
   "cell_type": "code",
   "execution_count": 33,
   "id": "d5aa2063-1118-4894-835d-030ea8e187dc",
   "metadata": {},
   "outputs": [],
   "source": [
    "# DTC = @load DecisionTreeClassifier pkg=DecisionTree\n",
    "# @sk_import preprocessing: (LabelEncoder)\n"
   ]
  },
  {
   "cell_type": "code",
   "execution_count": 34,
   "id": "32323fe8-ef59-447f-bbbf-9d9e9e3b01b1",
   "metadata": {},
   "outputs": [
    {
     "data": {
      "text/plain": [
       "1461-element Vector{Int64}:\n",
       " 0\n",
       " 2\n",
       " 2\n",
       " 2\n",
       " 2\n",
       " 2\n",
       " 2\n",
       " 4\n",
       " 2\n",
       " 2\n",
       " 4\n",
       " 4\n",
       " 4\n",
       " ⋮\n",
       " 2\n",
       " 2\n",
       " 2\n",
       " 2\n",
       " 2\n",
       " 2\n",
       " 4\n",
       " 2\n",
       " 2\n",
       " 1\n",
       " 4\n",
       " 4"
      ]
     },
     "execution_count": 34,
     "metadata": {},
     "output_type": "execute_result"
    }
   ],
   "source": [
    "# @load DecisionTreeClassifier\n",
    "# pp = @pipeline OneHotDTC(\n",
    "#                 X -> coerce(X, :make=>Multiclass),\n",
    "#                 hot = OneHotEncoder(),\n",
    "#                 dtc = DecisionTreeClassifier())\n",
    "# X = select(data3, Not(:weather))\n",
    "# y = data3.weather\n",
    "# dtm = machine(pp, X, y)\n",
    "# fit!(dtm)\n",
    "data3.weather=LabelEncoder().fit_transform(data3.weather)"
   ]
  },
  {
   "cell_type": "code",
   "execution_count": 35,
   "id": "db39458f-f356-4cf4-99b6-add46d0e6b6f",
   "metadata": {},
   "outputs": [
    {
     "data": {
      "text/plain": [
       "1461-element Vector{Int64}:\n",
       " 0\n",
       " 2\n",
       " 2\n",
       " 2\n",
       " 2\n",
       " 2\n",
       " 2\n",
       " 4\n",
       " 2\n",
       " 2\n",
       " 4\n",
       " 4\n",
       " 4\n",
       " ⋮\n",
       " 2\n",
       " 2\n",
       " 2\n",
       " 2\n",
       " 2\n",
       " 2\n",
       " 4\n",
       " 2\n",
       " 2\n",
       " 1\n",
       " 4\n",
       " 4"
      ]
     },
     "execution_count": 35,
     "metadata": {},
     "output_type": "execute_result"
    }
   ],
   "source": [
    "data3.weather"
   ]
  },
  {
   "cell_type": "code",
   "execution_count": 36,
   "id": "9c799cff-c71c-43eb-adb4-e2a6727d2f45",
   "metadata": {},
   "outputs": [],
   "source": [
    "# using ScikitLearn.CrossValidation: train_test_split\n"
   ]
  },
  {
   "cell_type": "code",
   "execution_count": 37,
   "id": "83157b08-9e24-420e-855a-2c1b370e6e66",
   "metadata": {},
   "outputs": [
    {
     "data": {
      "text/html": [
       "<p>DataFrameRow (6 columns)</p><table class=\"data-frame\"><thead><tr><th></th><th>date</th><th>precipitation</th><th>temp_max</th><th>temp_min</th><th>wind</th><th>weather</th></tr><tr><th></th><th>Date</th><th>Float64</th><th>Float64</th><th>Float64</th><th>Float64</th><th>Int64</th></tr></thead><tbody><tr><th>1</th><td>2012-01-01</td><td>0.0</td><td>12.8</td><td>5.0</td><td>4.7</td><td>0</td></tr></tbody></table>"
      ],
      "text/latex": [
       "\\begin{tabular}{r|cccccc}\n",
       "\t& date & precipitation & temp\\_max & temp\\_min & wind & weather\\\\\n",
       "\t\\hline\n",
       "\t& Date & Float64 & Float64 & Float64 & Float64 & Int64\\\\\n",
       "\t\\hline\n",
       "\t1 & 2012-01-01 & 0.0 & 12.8 & 5.0 & 4.7 & 0 \\\\\n",
       "\\end{tabular}\n"
      ],
      "text/plain": [
       "\u001b[1mDataFrameRow\u001b[0m\n",
       "\u001b[1m Row \u001b[0m│\u001b[1m date       \u001b[0m\u001b[1m precipitation \u001b[0m\u001b[1m temp_max \u001b[0m\u001b[1m temp_min \u001b[0m\u001b[1m wind    \u001b[0m\u001b[1m weather \u001b[0m\n",
       "\u001b[1m     \u001b[0m│\u001b[90m Date       \u001b[0m\u001b[90m Float64       \u001b[0m\u001b[90m Float64  \u001b[0m\u001b[90m Float64  \u001b[0m\u001b[90m Float64 \u001b[0m\u001b[90m Int64   \u001b[0m\n",
       "─────┼─────────────────────────────────────────────────────────────────\n",
       "   1 │ 2012-01-01            0.0      12.8       5.0      4.7        0"
      ]
     },
     "execution_count": 37,
     "metadata": {},
     "output_type": "execute_result"
    }
   ],
   "source": [
    "first(data3)\n"
   ]
  },
  {
   "cell_type": "code",
   "execution_count": 38,
   "id": "95ae00a6-3593-4f23-9edc-64b834bd4e3b",
   "metadata": {},
   "outputs": [
    {
     "data": {
      "text/html": [
       "<table class=\"data-frame\"><thead><tr><th></th><th>precipitation</th><th>temp_max</th><th>temp_min</th><th>wind</th><th>weather</th></tr><tr><th></th><th>Float64</th><th>Float64</th><th>Float64</th><th>Float64</th><th>Int64</th></tr></thead><tbody><p>1,461 rows × 5 columns</p><tr><th>1</th><td>0.0</td><td>12.8</td><td>5.0</td><td>4.7</td><td>0</td></tr><tr><th>2</th><td>10.9</td><td>10.6</td><td>2.8</td><td>4.5</td><td>2</td></tr><tr><th>3</th><td>0.8</td><td>11.7</td><td>7.2</td><td>2.3</td><td>2</td></tr><tr><th>4</th><td>20.3</td><td>12.2</td><td>5.6</td><td>4.7</td><td>2</td></tr><tr><th>5</th><td>1.3</td><td>8.9</td><td>2.8</td><td>6.1</td><td>2</td></tr><tr><th>6</th><td>2.5</td><td>4.4</td><td>2.2</td><td>2.2</td><td>2</td></tr><tr><th>7</th><td>0.0</td><td>7.2</td><td>2.8</td><td>2.3</td><td>2</td></tr><tr><th>8</th><td>0.0</td><td>10.0</td><td>2.8</td><td>2.0</td><td>4</td></tr><tr><th>9</th><td>4.3</td><td>9.4</td><td>5.0</td><td>3.4</td><td>2</td></tr><tr><th>10</th><td>1.0</td><td>6.1</td><td>0.6</td><td>3.4</td><td>2</td></tr><tr><th>11</th><td>0.0</td><td>6.1</td><td>-1.1</td><td>5.1</td><td>4</td></tr><tr><th>12</th><td>0.0</td><td>6.1</td><td>-1.7</td><td>1.9</td><td>4</td></tr><tr><th>13</th><td>0.0</td><td>5.0</td><td>-2.8</td><td>1.3</td><td>4</td></tr><tr><th>14</th><td>4.1</td><td>4.4</td><td>0.6</td><td>5.3</td><td>3</td></tr><tr><th>15</th><td>5.3</td><td>1.1</td><td>-3.3</td><td>3.2</td><td>3</td></tr><tr><th>16</th><td>2.5</td><td>1.7</td><td>-2.8</td><td>5.0</td><td>3</td></tr><tr><th>17</th><td>8.1</td><td>3.3</td><td>0.0</td><td>5.6</td><td>3</td></tr><tr><th>18</th><td>19.8</td><td>0.0</td><td>-2.8</td><td>5.0</td><td>3</td></tr><tr><th>19</th><td>15.2</td><td>-1.1</td><td>-2.8</td><td>1.6</td><td>3</td></tr><tr><th>20</th><td>13.5</td><td>7.2</td><td>-1.1</td><td>2.3</td><td>3</td></tr><tr><th>21</th><td>3.0</td><td>8.3</td><td>3.3</td><td>8.2</td><td>2</td></tr><tr><th>22</th><td>6.1</td><td>6.7</td><td>2.2</td><td>4.8</td><td>2</td></tr><tr><th>23</th><td>0.0</td><td>8.3</td><td>1.1</td><td>3.6</td><td>2</td></tr><tr><th>24</th><td>8.6</td><td>10.0</td><td>2.2</td><td>5.1</td><td>2</td></tr><tr><th>25</th><td>8.1</td><td>8.9</td><td>4.4</td><td>5.4</td><td>2</td></tr><tr><th>26</th><td>4.8</td><td>8.9</td><td>1.1</td><td>4.8</td><td>2</td></tr><tr><th>27</th><td>0.0</td><td>6.7</td><td>-2.2</td><td>1.4</td><td>0</td></tr><tr><th>28</th><td>0.0</td><td>6.7</td><td>0.6</td><td>2.2</td><td>2</td></tr><tr><th>29</th><td>27.7</td><td>9.4</td><td>3.9</td><td>4.5</td><td>2</td></tr><tr><th>30</th><td>3.6</td><td>8.3</td><td>6.1</td><td>5.1</td><td>2</td></tr><tr><th>&vellip;</th><td>&vellip;</td><td>&vellip;</td><td>&vellip;</td><td>&vellip;</td><td>&vellip;</td></tr></tbody></table>"
      ],
      "text/latex": [
       "\\begin{tabular}{r|ccccc}\n",
       "\t& precipitation & temp\\_max & temp\\_min & wind & weather\\\\\n",
       "\t\\hline\n",
       "\t& Float64 & Float64 & Float64 & Float64 & Int64\\\\\n",
       "\t\\hline\n",
       "\t1 & 0.0 & 12.8 & 5.0 & 4.7 & 0 \\\\\n",
       "\t2 & 10.9 & 10.6 & 2.8 & 4.5 & 2 \\\\\n",
       "\t3 & 0.8 & 11.7 & 7.2 & 2.3 & 2 \\\\\n",
       "\t4 & 20.3 & 12.2 & 5.6 & 4.7 & 2 \\\\\n",
       "\t5 & 1.3 & 8.9 & 2.8 & 6.1 & 2 \\\\\n",
       "\t6 & 2.5 & 4.4 & 2.2 & 2.2 & 2 \\\\\n",
       "\t7 & 0.0 & 7.2 & 2.8 & 2.3 & 2 \\\\\n",
       "\t8 & 0.0 & 10.0 & 2.8 & 2.0 & 4 \\\\\n",
       "\t9 & 4.3 & 9.4 & 5.0 & 3.4 & 2 \\\\\n",
       "\t10 & 1.0 & 6.1 & 0.6 & 3.4 & 2 \\\\\n",
       "\t11 & 0.0 & 6.1 & -1.1 & 5.1 & 4 \\\\\n",
       "\t12 & 0.0 & 6.1 & -1.7 & 1.9 & 4 \\\\\n",
       "\t13 & 0.0 & 5.0 & -2.8 & 1.3 & 4 \\\\\n",
       "\t14 & 4.1 & 4.4 & 0.6 & 5.3 & 3 \\\\\n",
       "\t15 & 5.3 & 1.1 & -3.3 & 3.2 & 3 \\\\\n",
       "\t16 & 2.5 & 1.7 & -2.8 & 5.0 & 3 \\\\\n",
       "\t17 & 8.1 & 3.3 & 0.0 & 5.6 & 3 \\\\\n",
       "\t18 & 19.8 & 0.0 & -2.8 & 5.0 & 3 \\\\\n",
       "\t19 & 15.2 & -1.1 & -2.8 & 1.6 & 3 \\\\\n",
       "\t20 & 13.5 & 7.2 & -1.1 & 2.3 & 3 \\\\\n",
       "\t21 & 3.0 & 8.3 & 3.3 & 8.2 & 2 \\\\\n",
       "\t22 & 6.1 & 6.7 & 2.2 & 4.8 & 2 \\\\\n",
       "\t23 & 0.0 & 8.3 & 1.1 & 3.6 & 2 \\\\\n",
       "\t24 & 8.6 & 10.0 & 2.2 & 5.1 & 2 \\\\\n",
       "\t25 & 8.1 & 8.9 & 4.4 & 5.4 & 2 \\\\\n",
       "\t26 & 4.8 & 8.9 & 1.1 & 4.8 & 2 \\\\\n",
       "\t27 & 0.0 & 6.7 & -2.2 & 1.4 & 0 \\\\\n",
       "\t28 & 0.0 & 6.7 & 0.6 & 2.2 & 2 \\\\\n",
       "\t29 & 27.7 & 9.4 & 3.9 & 4.5 & 2 \\\\\n",
       "\t30 & 3.6 & 8.3 & 6.1 & 5.1 & 2 \\\\\n",
       "\t$\\dots$ & $\\dots$ & $\\dots$ & $\\dots$ & $\\dots$ & $\\dots$ \\\\\n",
       "\\end{tabular}\n"
      ],
      "text/plain": [
       "\u001b[1m1461×5 DataFrame\u001b[0m\n",
       "\u001b[1m  Row \u001b[0m│\u001b[1m precipitation \u001b[0m\u001b[1m temp_max \u001b[0m\u001b[1m temp_min \u001b[0m\u001b[1m wind    \u001b[0m\u001b[1m weather \u001b[0m\n",
       "\u001b[1m      \u001b[0m│\u001b[90m Float64       \u001b[0m\u001b[90m Float64  \u001b[0m\u001b[90m Float64  \u001b[0m\u001b[90m Float64 \u001b[0m\u001b[90m Int64   \u001b[0m\n",
       "──────┼─────────────────────────────────────────────────────\n",
       "    1 │           0.0      12.8       5.0      4.7        0\n",
       "    2 │          10.9      10.6       2.8      4.5        2\n",
       "    3 │           0.8      11.7       7.2      2.3        2\n",
       "    4 │          20.3      12.2       5.6      4.7        2\n",
       "    5 │           1.3       8.9       2.8      6.1        2\n",
       "    6 │           2.5       4.4       2.2      2.2        2\n",
       "    7 │           0.0       7.2       2.8      2.3        2\n",
       "    8 │           0.0      10.0       2.8      2.0        4\n",
       "    9 │           4.3       9.4       5.0      3.4        2\n",
       "   10 │           1.0       6.1       0.6      3.4        2\n",
       "   11 │           0.0       6.1      -1.1      5.1        4\n",
       "  ⋮   │       ⋮           ⋮         ⋮         ⋮        ⋮\n",
       " 1452 │           4.6       7.8       2.8      5.0        2\n",
       " 1453 │           6.1       5.0       2.8      7.6        2\n",
       " 1454 │           2.5       5.6       2.2      4.3        2\n",
       " 1455 │           5.8       5.0       2.2      1.5        2\n",
       " 1456 │           0.0       4.4       0.0      2.5        4\n",
       " 1457 │           8.6       4.4       1.7      2.9        2\n",
       " 1458 │           1.5       5.0       1.7      1.3        2\n",
       " 1459 │           0.0       7.2       0.6      2.6        1\n",
       " 1460 │           0.0       5.6      -1.0      3.4        4\n",
       " 1461 │           0.0       5.6      -2.1      3.5        4\n",
       "\u001b[36m                                           1440 rows omitted\u001b[0m"
      ]
     },
     "execution_count": 38,
     "metadata": {},
     "output_type": "execute_result"
    }
   ],
   "source": [
    "select!(data3, Not(:date))"
   ]
  },
  {
   "cell_type": "code",
   "execution_count": 39,
   "id": "f4c2c2d1-594f-421e-bf7c-2d30954f5ce1",
   "metadata": {},
   "outputs": [
    {
     "data": {
      "text/plain": [
       "1461×5 Matrix{Float64}:\n",
       "  0.0  12.8   5.0  4.7  0.0\n",
       " 10.9  10.6   2.8  4.5  2.0\n",
       "  0.8  11.7   7.2  2.3  2.0\n",
       " 20.3  12.2   5.6  4.7  2.0\n",
       "  1.3   8.9   2.8  6.1  2.0\n",
       "  2.5   4.4   2.2  2.2  2.0\n",
       "  0.0   7.2   2.8  2.3  2.0\n",
       "  0.0  10.0   2.8  2.0  4.0\n",
       "  4.3   9.4   5.0  3.4  2.0\n",
       "  1.0   6.1   0.6  3.4  2.0\n",
       "  0.0   6.1  -1.1  5.1  4.0\n",
       "  0.0   6.1  -1.7  1.9  4.0\n",
       "  0.0   5.0  -2.8  1.3  4.0\n",
       "  ⋮                     \n",
       "  4.3   7.8   4.4  6.7  2.0\n",
       " 27.4   5.6   2.8  4.3  2.0\n",
       "  4.6   7.8   2.8  5.0  2.0\n",
       "  6.1   5.0   2.8  7.6  2.0\n",
       "  2.5   5.6   2.2  4.3  2.0\n",
       "  5.8   5.0   2.2  1.5  2.0\n",
       "  0.0   4.4   0.0  2.5  4.0\n",
       "  8.6   4.4   1.7  2.9  2.0\n",
       "  1.5   5.0   1.7  1.3  2.0\n",
       "  0.0   7.2   0.6  2.6  1.0\n",
       "  0.0   5.6  -1.0  3.4  4.0\n",
       "  0.0   5.6  -2.1  3.5  4.0"
      ]
     },
     "execution_count": 39,
     "metadata": {},
     "output_type": "execute_result"
    }
   ],
   "source": [
    "Tables.Matrix(data3)"
   ]
  },
  {
   "cell_type": "code",
   "execution_count": 40,
   "id": "d39b1718-c777-4a75-8849-359089cb0622",
   "metadata": {},
   "outputs": [
    {
     "data": {
      "text/html": [
       "<table class=\"data-frame\"><thead><tr><th></th><th>precipitation</th><th>temp_max</th><th>temp_min</th><th>wind</th><th>weather</th></tr><tr><th></th><th>Float64</th><th>Float64</th><th>Float64</th><th>Float64</th><th>Float64</th></tr></thead><tbody><p>1,461 rows × 5 columns</p><tr><th>1</th><td>0.0</td><td>12.8</td><td>5.0</td><td>4.7</td><td>0.0</td></tr><tr><th>2</th><td>10.9</td><td>10.6</td><td>2.8</td><td>4.5</td><td>2.0</td></tr><tr><th>3</th><td>0.8</td><td>11.7</td><td>7.2</td><td>2.3</td><td>2.0</td></tr><tr><th>4</th><td>20.3</td><td>12.2</td><td>5.6</td><td>4.7</td><td>2.0</td></tr><tr><th>5</th><td>1.3</td><td>8.9</td><td>2.8</td><td>6.1</td><td>2.0</td></tr><tr><th>6</th><td>2.5</td><td>4.4</td><td>2.2</td><td>2.2</td><td>2.0</td></tr><tr><th>7</th><td>0.0</td><td>7.2</td><td>2.8</td><td>2.3</td><td>2.0</td></tr><tr><th>8</th><td>0.0</td><td>10.0</td><td>2.8</td><td>2.0</td><td>4.0</td></tr><tr><th>9</th><td>4.3</td><td>9.4</td><td>5.0</td><td>3.4</td><td>2.0</td></tr><tr><th>10</th><td>1.0</td><td>6.1</td><td>0.6</td><td>3.4</td><td>2.0</td></tr><tr><th>11</th><td>0.0</td><td>6.1</td><td>-1.1</td><td>5.1</td><td>4.0</td></tr><tr><th>12</th><td>0.0</td><td>6.1</td><td>-1.7</td><td>1.9</td><td>4.0</td></tr><tr><th>13</th><td>0.0</td><td>5.0</td><td>-2.8</td><td>1.3</td><td>4.0</td></tr><tr><th>14</th><td>4.1</td><td>4.4</td><td>0.6</td><td>5.3</td><td>3.0</td></tr><tr><th>15</th><td>5.3</td><td>1.1</td><td>-3.3</td><td>3.2</td><td>3.0</td></tr><tr><th>16</th><td>2.5</td><td>1.7</td><td>-2.8</td><td>5.0</td><td>3.0</td></tr><tr><th>17</th><td>8.1</td><td>3.3</td><td>0.0</td><td>5.6</td><td>3.0</td></tr><tr><th>18</th><td>19.8</td><td>0.0</td><td>-2.8</td><td>5.0</td><td>3.0</td></tr><tr><th>19</th><td>15.2</td><td>-1.1</td><td>-2.8</td><td>1.6</td><td>3.0</td></tr><tr><th>20</th><td>13.5</td><td>7.2</td><td>-1.1</td><td>2.3</td><td>3.0</td></tr><tr><th>21</th><td>3.0</td><td>8.3</td><td>3.3</td><td>8.2</td><td>2.0</td></tr><tr><th>22</th><td>6.1</td><td>6.7</td><td>2.2</td><td>4.8</td><td>2.0</td></tr><tr><th>23</th><td>0.0</td><td>8.3</td><td>1.1</td><td>3.6</td><td>2.0</td></tr><tr><th>24</th><td>8.6</td><td>10.0</td><td>2.2</td><td>5.1</td><td>2.0</td></tr><tr><th>25</th><td>8.1</td><td>8.9</td><td>4.4</td><td>5.4</td><td>2.0</td></tr><tr><th>26</th><td>4.8</td><td>8.9</td><td>1.1</td><td>4.8</td><td>2.0</td></tr><tr><th>27</th><td>0.0</td><td>6.7</td><td>-2.2</td><td>1.4</td><td>0.0</td></tr><tr><th>28</th><td>0.0</td><td>6.7</td><td>0.6</td><td>2.2</td><td>2.0</td></tr><tr><th>29</th><td>27.7</td><td>9.4</td><td>3.9</td><td>4.5</td><td>2.0</td></tr><tr><th>30</th><td>3.6</td><td>8.3</td><td>6.1</td><td>5.1</td><td>2.0</td></tr><tr><th>&vellip;</th><td>&vellip;</td><td>&vellip;</td><td>&vellip;</td><td>&vellip;</td><td>&vellip;</td></tr></tbody></table>"
      ],
      "text/latex": [
       "\\begin{tabular}{r|ccccc}\n",
       "\t& precipitation & temp\\_max & temp\\_min & wind & weather\\\\\n",
       "\t\\hline\n",
       "\t& Float64 & Float64 & Float64 & Float64 & Float64\\\\\n",
       "\t\\hline\n",
       "\t1 & 0.0 & 12.8 & 5.0 & 4.7 & 0.0 \\\\\n",
       "\t2 & 10.9 & 10.6 & 2.8 & 4.5 & 2.0 \\\\\n",
       "\t3 & 0.8 & 11.7 & 7.2 & 2.3 & 2.0 \\\\\n",
       "\t4 & 20.3 & 12.2 & 5.6 & 4.7 & 2.0 \\\\\n",
       "\t5 & 1.3 & 8.9 & 2.8 & 6.1 & 2.0 \\\\\n",
       "\t6 & 2.5 & 4.4 & 2.2 & 2.2 & 2.0 \\\\\n",
       "\t7 & 0.0 & 7.2 & 2.8 & 2.3 & 2.0 \\\\\n",
       "\t8 & 0.0 & 10.0 & 2.8 & 2.0 & 4.0 \\\\\n",
       "\t9 & 4.3 & 9.4 & 5.0 & 3.4 & 2.0 \\\\\n",
       "\t10 & 1.0 & 6.1 & 0.6 & 3.4 & 2.0 \\\\\n",
       "\t11 & 0.0 & 6.1 & -1.1 & 5.1 & 4.0 \\\\\n",
       "\t12 & 0.0 & 6.1 & -1.7 & 1.9 & 4.0 \\\\\n",
       "\t13 & 0.0 & 5.0 & -2.8 & 1.3 & 4.0 \\\\\n",
       "\t14 & 4.1 & 4.4 & 0.6 & 5.3 & 3.0 \\\\\n",
       "\t15 & 5.3 & 1.1 & -3.3 & 3.2 & 3.0 \\\\\n",
       "\t16 & 2.5 & 1.7 & -2.8 & 5.0 & 3.0 \\\\\n",
       "\t17 & 8.1 & 3.3 & 0.0 & 5.6 & 3.0 \\\\\n",
       "\t18 & 19.8 & 0.0 & -2.8 & 5.0 & 3.0 \\\\\n",
       "\t19 & 15.2 & -1.1 & -2.8 & 1.6 & 3.0 \\\\\n",
       "\t20 & 13.5 & 7.2 & -1.1 & 2.3 & 3.0 \\\\\n",
       "\t21 & 3.0 & 8.3 & 3.3 & 8.2 & 2.0 \\\\\n",
       "\t22 & 6.1 & 6.7 & 2.2 & 4.8 & 2.0 \\\\\n",
       "\t23 & 0.0 & 8.3 & 1.1 & 3.6 & 2.0 \\\\\n",
       "\t24 & 8.6 & 10.0 & 2.2 & 5.1 & 2.0 \\\\\n",
       "\t25 & 8.1 & 8.9 & 4.4 & 5.4 & 2.0 \\\\\n",
       "\t26 & 4.8 & 8.9 & 1.1 & 4.8 & 2.0 \\\\\n",
       "\t27 & 0.0 & 6.7 & -2.2 & 1.4 & 0.0 \\\\\n",
       "\t28 & 0.0 & 6.7 & 0.6 & 2.2 & 2.0 \\\\\n",
       "\t29 & 27.7 & 9.4 & 3.9 & 4.5 & 2.0 \\\\\n",
       "\t30 & 3.6 & 8.3 & 6.1 & 5.1 & 2.0 \\\\\n",
       "\t$\\dots$ & $\\dots$ & $\\dots$ & $\\dots$ & $\\dots$ & $\\dots$ \\\\\n",
       "\\end{tabular}\n"
      ],
      "text/plain": [
       "\u001b[1m1461×5 DataFrame\u001b[0m\n",
       "\u001b[1m  Row \u001b[0m│\u001b[1m precipitation \u001b[0m\u001b[1m temp_max \u001b[0m\u001b[1m temp_min \u001b[0m\u001b[1m wind    \u001b[0m\u001b[1m weather \u001b[0m\n",
       "\u001b[1m      \u001b[0m│\u001b[90m Float64       \u001b[0m\u001b[90m Float64  \u001b[0m\u001b[90m Float64  \u001b[0m\u001b[90m Float64 \u001b[0m\u001b[90m Float64 \u001b[0m\n",
       "──────┼─────────────────────────────────────────────────────\n",
       "    1 │           0.0      12.8       5.0      4.7      0.0\n",
       "    2 │          10.9      10.6       2.8      4.5      2.0\n",
       "    3 │           0.8      11.7       7.2      2.3      2.0\n",
       "    4 │          20.3      12.2       5.6      4.7      2.0\n",
       "    5 │           1.3       8.9       2.8      6.1      2.0\n",
       "    6 │           2.5       4.4       2.2      2.2      2.0\n",
       "    7 │           0.0       7.2       2.8      2.3      2.0\n",
       "    8 │           0.0      10.0       2.8      2.0      4.0\n",
       "    9 │           4.3       9.4       5.0      3.4      2.0\n",
       "   10 │           1.0       6.1       0.6      3.4      2.0\n",
       "   11 │           0.0       6.1      -1.1      5.1      4.0\n",
       "  ⋮   │       ⋮           ⋮         ⋮         ⋮        ⋮\n",
       " 1452 │           4.6       7.8       2.8      5.0      2.0\n",
       " 1453 │           6.1       5.0       2.8      7.6      2.0\n",
       " 1454 │           2.5       5.6       2.2      4.3      2.0\n",
       " 1455 │           5.8       5.0       2.2      1.5      2.0\n",
       " 1456 │           0.0       4.4       0.0      2.5      4.0\n",
       " 1457 │           8.6       4.4       1.7      2.9      2.0\n",
       " 1458 │           1.5       5.0       1.7      1.3      2.0\n",
       " 1459 │           0.0       7.2       0.6      2.6      1.0\n",
       " 1460 │           0.0       5.6      -1.0      3.4      4.0\n",
       " 1461 │           0.0       5.6      -2.1      3.5      4.0\n",
       "\u001b[36m                                           1440 rows omitted\u001b[0m"
      ]
     },
     "execution_count": 40,
     "metadata": {},
     "output_type": "execute_result"
    }
   ],
   "source": [
    "data3 = coerce(data3, Count => Continuous)"
   ]
  },
  {
   "cell_type": "code",
   "execution_count": 41,
   "id": "9322d0a2-7ee6-49ee-a62a-6e10719515f4",
   "metadata": {},
   "outputs": [],
   "source": [
    "x = select(data3, Not([ :weather]))\n",
    "y = data3.weather;"
   ]
  },
  {
   "cell_type": "code",
   "execution_count": 42,
   "id": "92d88a8b-b746-45d0-981c-e076e341a56c",
   "metadata": {},
   "outputs": [],
   "source": [
    "# using ScikitLearn.CrossValidation: cross_val_score\n",
    "# # @sk_import linear_model: LogisticRegression\n",
    "# using MLJ,PrettyPrinting\n",
    "# @sk_import preprocessing: StandardScaler\n"
   ]
  },
  {
   "cell_type": "code",
   "execution_count": null,
   "id": "dd228721-6f4d-430e-9ad0-339a3880962c",
   "metadata": {},
   "outputs": [],
   "source": [
    "\n"
   ]
  },
  {
   "cell_type": "code",
   "execution_count": 43,
   "id": "65f5f751-2424-4400-a981-9d5ebb4e70de",
   "metadata": {},
   "outputs": [],
   "source": [
    "# using ScikitLearn.CrossValidation: train_test_split"
   ]
  },
  {
   "cell_type": "code",
   "execution_count": 44,
   "id": "36570468-a1b4-497d-8d34-6606cc498fa3",
   "metadata": {},
   "outputs": [],
   "source": [
    "# x = fit_transform!(StandardScaler(), x)\n",
    "# Y = fit(Y)"
   ]
  },
  {
   "cell_type": "code",
   "execution_count": 45,
   "id": "ea0bc62d-8fcb-4b5b-8a08-683455dc1c57",
   "metadata": {},
   "outputs": [
    {
     "data": {
      "text/plain": [
       "(1461, 4)"
      ]
     },
     "execution_count": 45,
     "metadata": {},
     "output_type": "execute_result"
    }
   ],
   "source": [
    "size(x)"
   ]
  },
  {
   "cell_type": "code",
   "execution_count": 46,
   "id": "bafcdb8e-fe20-42ea-8bff-1cbd442830a4",
   "metadata": {},
   "outputs": [
    {
     "data": {
      "text/plain": [
       "(1461,)"
      ]
     },
     "execution_count": 46,
     "metadata": {},
     "output_type": "execute_result"
    }
   ],
   "source": [
    "size(y)"
   ]
  },
  {
   "cell_type": "code",
   "execution_count": 47,
   "id": "93c88139-cd70-4a63-92da-1c0d24700c5c",
   "metadata": {},
   "outputs": [],
   "source": [
    " # X_train, X_test, y_train, y_test = train_test_split(x, y, test_size=.4)"
   ]
  },
  {
   "cell_type": "code",
   "execution_count": 48,
   "id": "a841b8be-b793-40d0-8d9d-543e06f39a70",
   "metadata": {},
   "outputs": [
    {
     "name": "stdout",
     "output_type": "stream",
     "text": [
      "┌───────────────┬────────────┬────────────┬────────────┐\n",
      "│\u001b[1m precipitation \u001b[0m│\u001b[1m temp_max   \u001b[0m│\u001b[1m temp_min   \u001b[0m│\u001b[1m wind       \u001b[0m│\n",
      "│\u001b[90m Float64       \u001b[0m│\u001b[90m Float64    \u001b[0m│\u001b[90m Float64    \u001b[0m│\u001b[90m Float64    \u001b[0m│\n",
      "│\u001b[90m Continuous    \u001b[0m│\u001b[90m Continuous \u001b[0m│\u001b[90m Continuous \u001b[0m│\u001b[90m Continuous \u001b[0m│\n",
      "├───────────────┼────────────┼────────────┼────────────┤\n",
      "│ 0.0           │ 23.3       │ 12.2       │ 2.1        │\n",
      "└───────────────┴────────────┴────────────┴────────────┘\n"
     ]
    }
   ],
   "source": [
    "# model = LogisticRegression(fit_intercept=true)\n",
    "y,x = unpack(data3, ==(:weather),name->true;rng=123)\n",
    "first(x,1) |> pretty"
   ]
  },
  {
   "cell_type": "code",
   "execution_count": 49,
   "id": "e58227bd-71fd-4b4a-88b8-de35cc3749a5",
   "metadata": {},
   "outputs": [
    {
     "data": {
      "text/plain": [
       "59-element Vector{NamedTuple{(:name, :package_name, :is_supervised, :deep_properties, :docstring, :hyperparameter_ranges, :hyperparameter_types, :hyperparameters, :implemented_methods, :is_pure_julia, :is_wrapper, :iteration_parameter, :load_path, :package_license, :package_url, :package_uuid, :prediction_type, :supports_class_weights, :supports_online, :supports_training_losses, :supports_weights, :input_scitype, :target_scitype, :output_scitype)}}:\n",
       " (name = ARDRegressor, package_name = ScikitLearn, ... )\n",
       " (name = AdaBoostRegressor, package_name = ScikitLearn, ... )\n",
       " (name = BaggingRegressor, package_name = ScikitLearn, ... )\n",
       " (name = BayesianRidgeRegressor, package_name = ScikitLearn, ... )\n",
       " (name = ConstantRegressor, package_name = MLJModels, ... )\n",
       " (name = DecisionTreeRegressor, package_name = BetaML, ... )\n",
       " (name = DecisionTreeRegressor, package_name = DecisionTree, ... )\n",
       " (name = DeterministicConstantRegressor, package_name = MLJModels, ... )\n",
       " (name = DummyRegressor, package_name = ScikitLearn, ... )\n",
       " (name = ElasticNetCVRegressor, package_name = ScikitLearn, ... )\n",
       " (name = ElasticNetRegressor, package_name = MLJLinearModels, ... )\n",
       " (name = ElasticNetRegressor, package_name = ScikitLearn, ... )\n",
       " (name = EpsilonSVR, package_name = LIBSVM, ... )\n",
       " ⋮\n",
       " (name = RandomForestRegressor, package_name = ScikitLearn, ... )\n",
       " (name = RidgeCVRegressor, package_name = ScikitLearn, ... )\n",
       " (name = RidgeRegressor, package_name = MLJLinearModels, ... )\n",
       " (name = RidgeRegressor, package_name = MultivariateStats, ... )\n",
       " (name = RidgeRegressor, package_name = ScikitLearn, ... )\n",
       " (name = RobustRegressor, package_name = MLJLinearModels, ... )\n",
       " (name = SGDRegressor, package_name = ScikitLearn, ... )\n",
       " (name = SVMLinearRegressor, package_name = ScikitLearn, ... )\n",
       " (name = SVMNuRegressor, package_name = ScikitLearn, ... )\n",
       " (name = SVMRegressor, package_name = ScikitLearn, ... )\n",
       " (name = TheilSenRegressor, package_name = ScikitLearn, ... )\n",
       " (name = XGBoostRegressor, package_name = XGBoost, ... )"
      ]
     },
     "execution_count": 49,
     "metadata": {},
     "output_type": "execute_result"
    }
   ],
   "source": [
    "# ScikitLearn.fit!(model, x, Y)\n",
    "# accuracy = sum(predict(model, x) .== Y) / length(Y)\n",
    "# println(\"accuracy: $accuracy\")\n",
    "models(matching(x,y))\n"
   ]
  },
  {
   "cell_type": "code",
   "execution_count": 50,
   "id": "b7c59d51-00ba-4582-bb0b-2c593babf9d4",
   "metadata": {},
   "outputs": [
    {
     "data": {
      "text/html": [
       "<table class=\"data-frame\"><thead><tr><th></th><th>variable</th><th>mean</th><th>min</th><th>median</th><th>max</th><th>nmissing</th><th>eltype</th></tr><tr><th></th><th>Symbol</th><th>Float64</th><th>Float64</th><th>Float64</th><th>Float64</th><th>Int64</th><th>DataType</th></tr></thead><tbody><p>5 rows × 7 columns</p><tr><th>1</th><td>precipitation</td><td>3.02943</td><td>0.0</td><td>0.0</td><td>55.9</td><td>0</td><td>Float64</td></tr><tr><th>2</th><td>temp_max</td><td>16.4391</td><td>-1.6</td><td>15.6</td><td>35.6</td><td>0</td><td>Float64</td></tr><tr><th>3</th><td>temp_min</td><td>8.23477</td><td>-7.1</td><td>8.3</td><td>18.3</td><td>0</td><td>Float64</td></tr><tr><th>4</th><td>wind</td><td>3.24114</td><td>0.4</td><td>3.0</td><td>9.5</td><td>0</td><td>Float64</td></tr><tr><th>5</th><td>weather</td><td>2.75222</td><td>0.0</td><td>2.0</td><td>4.0</td><td>0</td><td>Float64</td></tr></tbody></table>"
      ],
      "text/latex": [
       "\\begin{tabular}{r|ccccccc}\n",
       "\t& variable & mean & min & median & max & nmissing & eltype\\\\\n",
       "\t\\hline\n",
       "\t& Symbol & Float64 & Float64 & Float64 & Float64 & Int64 & DataType\\\\\n",
       "\t\\hline\n",
       "\t1 & precipitation & 3.02943 & 0.0 & 0.0 & 55.9 & 0 & Float64 \\\\\n",
       "\t2 & temp\\_max & 16.4391 & -1.6 & 15.6 & 35.6 & 0 & Float64 \\\\\n",
       "\t3 & temp\\_min & 8.23477 & -7.1 & 8.3 & 18.3 & 0 & Float64 \\\\\n",
       "\t4 & wind & 3.24114 & 0.4 & 3.0 & 9.5 & 0 & Float64 \\\\\n",
       "\t5 & weather & 2.75222 & 0.0 & 2.0 & 4.0 & 0 & Float64 \\\\\n",
       "\\end{tabular}\n"
      ],
      "text/plain": [
       "\u001b[1m5×7 DataFrame\u001b[0m\n",
       "\u001b[1m Row \u001b[0m│\u001b[1m variable      \u001b[0m\u001b[1m mean     \u001b[0m\u001b[1m min     \u001b[0m\u001b[1m median  \u001b[0m\u001b[1m max     \u001b[0m\u001b[1m nmissing \u001b[0m\u001b[1m eltype   \u001b[0m\n",
       "\u001b[1m     \u001b[0m│\u001b[90m Symbol        \u001b[0m\u001b[90m Float64  \u001b[0m\u001b[90m Float64 \u001b[0m\u001b[90m Float64 \u001b[0m\u001b[90m Float64 \u001b[0m\u001b[90m Int64    \u001b[0m\u001b[90m DataType \u001b[0m\n",
       "─────┼────────────────────────────────────────────────────────────────────────\n",
       "   1 │ precipitation   3.02943      0.0      0.0     55.9         0  Float64\n",
       "   2 │ temp_max       16.4391      -1.6     15.6     35.6         0  Float64\n",
       "   3 │ temp_min        8.23477     -7.1      8.3     18.3         0  Float64\n",
       "   4 │ wind            3.24114      0.4      3.0      9.5         0  Float64\n",
       "   5 │ weather         2.75222      0.0      2.0      4.0         0  Float64"
      ]
     },
     "execution_count": 50,
     "metadata": {},
     "output_type": "execute_result"
    }
   ],
   "source": [
    "describe(data3)"
   ]
  },
  {
   "cell_type": "code",
   "execution_count": 51,
   "id": "4b218b5f-913d-4fe2-8e20-46d4d42cb327",
   "metadata": {},
   "outputs": [
    {
     "name": "stdout",
     "output_type": "stream",
     "text": [
      "import MLJGLMInterface ✔\n"
     ]
    },
    {
     "name": "stderr",
     "output_type": "stream",
     "text": [
      "┌ Info: For silent loading, specify `verbosity=0`. \n",
      "└ @ Main /home/useeffect/.julia/packages/MLJModels/w0uSt/src/loading.jl:168\n"
     ]
    },
    {
     "data": {
      "text/plain": [
       "MLJGLMInterface.LinearCountRegressor"
      ]
     },
     "execution_count": 51,
     "metadata": {},
     "output_type": "execute_result"
    }
   ],
   "source": [
    "Tree = @load LinearCountRegressor pkg=GLM\n"
   ]
  },
  {
   "cell_type": "code",
   "execution_count": 52,
   "id": "70681ade-e447-4064-ba99-6ccf83422953",
   "metadata": {},
   "outputs": [
    {
     "data": {
      "text/plain": [
       "LinearCountRegressor(\n",
       "    fit_intercept = true,\n",
       "    distribution = Distributions.Poisson{Float64}(λ=1.0),\n",
       "    link = GLM.LogLink(),\n",
       "    offsetcol = nothing,\n",
       "    maxiter = 30,\n",
       "    atol = 1.0e-6,\n",
       "    rtol = 1.0e-6,\n",
       "    minstepfac = 0.001,\n",
       "    report_keys = [:deviance, :dof_residual, :stderror, :vcov, :coef_table])\u001b[34m @164\u001b[39m"
      ]
     },
     "execution_count": 52,
     "metadata": {},
     "output_type": "execute_result"
    }
   ],
   "source": [
    "tree = Tree()"
   ]
  },
  {
   "cell_type": "code",
   "execution_count": 53,
   "id": "1c5edc13-0bcc-473f-81aa-497b3ac7d85f",
   "metadata": {},
   "outputs": [
    {
     "data": {
      "text/plain": [
       "([446, 422, 134, 1053, 552, 194, 1291, 380, 396, 1125  …  427, 1129, 1246, 231, 1032, 1110, 33, 438, 130, 190], [550, 342, 1133, 758, 1212, 398, 1028, 193, 684, 1024  …  915, 1055, 734, 733, 867, 1054, 596, 754, 1171, 48])"
      ]
     },
     "execution_count": 53,
     "metadata": {},
     "output_type": "execute_result"
    }
   ],
   "source": [
    "train, test = MLJ.partition(collect(eachindex(y)), 0.70, rng=52)"
   ]
  },
  {
   "cell_type": "code",
   "execution_count": 54,
   "id": "572111c0-cfe8-4759-aeb7-df8f490c5fe8",
   "metadata": {},
   "outputs": [],
   "source": [
    "mutable struct MyNetworkBuilder <: MLJFlux.Builder\n",
    "    n1::Int #Number of cells in the first hidden layer\n",
    "    n2::Int #Number of cells in the second hidden layer\n",
    "end\n"
   ]
  },
  {
   "cell_type": "code",
   "execution_count": 55,
   "id": "a8c175c8-8090-4680-a510-6b6be31d79bd",
   "metadata": {},
   "outputs": [],
   "source": [
    "function MLJFlux.build(model::MyNetworkBuilder, rng, n_in, n_out)\n",
    "    init = Flux.glorot_uniform(rng)\n",
    "    layer1 = Flux.Dense(n_in, model.n1, init=init)\n",
    "    layer2 = Flux.Dense(model.n1, model.n2, init=init)\n",
    "    layer3 = Flux.Dense(model.n2, n_out, init=init)\n",
    "    return Flux.Chain(layer1, layer2, layer3)\n",
    "end"
   ]
  },
  {
   "cell_type": "code",
   "execution_count": 56,
   "id": "597a89c9-0a98-41f6-bed4-e86a07045b58",
   "metadata": {},
   "outputs": [
    {
     "data": {
      "text/plain": [
       "\u001b[34mMyNetworkBuilder @801\u001b[39m\n"
      ]
     },
     "execution_count": 56,
     "metadata": {},
     "output_type": "execute_result"
    }
   ],
   "source": [
    "myclassifier = MyNetworkBuilder(20, 10)"
   ]
  },
  {
   "cell_type": "code",
   "execution_count": 57,
   "id": "e030c06f-cdd5-4a8c-945e-0bef2b1ec684",
   "metadata": {},
   "outputs": [
    {
     "name": "stdout",
     "output_type": "stream",
     "text": [
      "import MLJFlux ✔\n"
     ]
    },
    {
     "name": "stderr",
     "output_type": "stream",
     "text": [
      "┌ Info: For silent loading, specify `verbosity=0`. \n",
      "└ @ Main /home/useeffect/.julia/packages/MLJModels/w0uSt/src/loading.jl:168\n"
     ]
    },
    {
     "data": {
      "text/plain": [
       "NeuralNetworkRegressor(\n",
       "    builder = Linear(\n",
       "            σ = NNlib.relu),\n",
       "    optimiser = ADAM(0.001, (0.9, 0.999), 1.0e-8, IdDict{Any, Any}()),\n",
       "    loss = Flux.Losses.mse,\n",
       "    epochs = 10,\n",
       "    batch_size = 1,\n",
       "    lambda = 0.0,\n",
       "    alpha = 0.0,\n",
       "    optimiser_changes_trigger_retraining = false,\n",
       "    acceleration = CPU1{Nothing}(nothing))\u001b[34m @417\u001b[39m"
      ]
     },
     "execution_count": 57,
     "metadata": {},
     "output_type": "execute_result"
    }
   ],
   "source": [
    "NeuralNetworkClassifier = @load NeuralNetworkRegressor\n",
    "clf = NeuralNetworkClassifier()"
   ]
  },
  {
   "cell_type": "code",
   "execution_count": null,
   "id": "b5a8106a-9f1b-4d0f-8588-84ce5c10b1b5",
   "metadata": {},
   "outputs": [],
   "source": []
  },
  {
   "cell_type": "code",
   "execution_count": 58,
   "id": "8d3ada8a-c666-48b1-ae77-1553a72516e9",
   "metadata": {},
   "outputs": [
    {
     "data": {
      "text/plain": [
       "┌───────────────┬─────────┬────────────┐\n",
       "│\u001b[22m _.names       \u001b[0m│\u001b[22m _.types \u001b[0m│\u001b[22m _.scitypes \u001b[0m│\n",
       "├───────────────┼─────────┼────────────┤\n",
       "│ precipitation │ Float64 │ Continuous │\n",
       "│ temp_max      │ Float64 │ Continuous │\n",
       "│ temp_min      │ Float64 │ Continuous │\n",
       "│ wind          │ Float64 │ Continuous │\n",
       "│ weather       │ Float64 │ Continuous │\n",
       "└───────────────┴─────────┴────────────┘\n",
       "_.nrows = 1461\n"
      ]
     },
     "execution_count": 58,
     "metadata": {},
     "output_type": "execute_result"
    }
   ],
   "source": [
    "schema(data3)"
   ]
  },
  {
   "cell_type": "code",
   "execution_count": 59,
   "id": "ee756502-8a2d-4501-a4bc-72e106aef782",
   "metadata": {},
   "outputs": [
    {
     "name": "stderr",
     "output_type": "stream",
     "text": [
      "┌ Info: Training \u001b[34mMachine{NeuralNetworkRegressor{Linear,…},…} @149\u001b[39m.\n",
      "└ @ MLJBase /home/useeffect/.julia/packages/MLJBase/KWyqX/src/machines.jl:342\n",
      "┌ Info: Loss is 2.561\n",
      "└ @ MLJFlux /home/useeffect/.julia/packages/MLJFlux/NTAl9/src/core.jl:143\n",
      "┌ Info: Loss is 1.756\n",
      "└ @ MLJFlux /home/useeffect/.julia/packages/MLJFlux/NTAl9/src/core.jl:143\n",
      "┌ Info: Loss is 1.537\n",
      "└ @ MLJFlux /home/useeffect/.julia/packages/MLJFlux/NTAl9/src/core.jl:143\n",
      "┌ Info: Loss is 1.404\n",
      "└ @ MLJFlux /home/useeffect/.julia/packages/MLJFlux/NTAl9/src/core.jl:143\n",
      "┌ Info: Loss is 1.322\n",
      "└ @ MLJFlux /home/useeffect/.julia/packages/MLJFlux/NTAl9/src/core.jl:143\n",
      "┌ Info: Loss is 1.271\n",
      "└ @ MLJFlux /home/useeffect/.julia/packages/MLJFlux/NTAl9/src/core.jl:143\n",
      "┌ Info: Loss is 1.24\n",
      "└ @ MLJFlux /home/useeffect/.julia/packages/MLJFlux/NTAl9/src/core.jl:143\n",
      "┌ Info: Loss is 1.219\n",
      "└ @ MLJFlux /home/useeffect/.julia/packages/MLJFlux/NTAl9/src/core.jl:143\n",
      "┌ Info: Loss is 1.205\n",
      "└ @ MLJFlux /home/useeffect/.julia/packages/MLJFlux/NTAl9/src/core.jl:143\n",
      "┌ Info: Loss is 1.194\n",
      "└ @ MLJFlux /home/useeffect/.julia/packages/MLJFlux/NTAl9/src/core.jl:143\n"
     ]
    },
    {
     "ename": "LoadError",
     "evalue": "MethodError: no method matching (::LogLoss{Float64})(::Vector{Float64}, ::Vector{Float64})\n\u001b[0mClosest candidates are:\n\u001b[0m  (::LogLoss)(\u001b[91m::MLJBase.UnivariateFiniteVector{S, V, R, P}\u001b[39m, ::AbstractVector) where {S, V, R, P} at ~/.julia/packages/MLJBase/KWyqX/src/measures/finite.jl:54\n\u001b[0m  (::LogLoss)(\u001b[91m::AbstractVector{<:UnivariateFinite}\u001b[39m, ::AbstractVector) at ~/.julia/packages/MLJBase/KWyqX/src/measures/finite.jl:47",
     "output_type": "error",
     "traceback": [
      "MethodError: no method matching (::LogLoss{Float64})(::Vector{Float64}, ::Vector{Float64})\n\u001b[0mClosest candidates are:\n\u001b[0m  (::LogLoss)(\u001b[91m::MLJBase.UnivariateFiniteVector{S, V, R, P}\u001b[39m, ::AbstractVector) where {S, V, R, P} at ~/.julia/packages/MLJBase/KWyqX/src/measures/finite.jl:54\n\u001b[0m  (::LogLoss)(\u001b[91m::AbstractVector{<:UnivariateFinite}\u001b[39m, ::AbstractVector) at ~/.julia/packages/MLJBase/KWyqX/src/measures/finite.jl:47",
      "",
      "Stacktrace:",
      " [1] top-level scope",
      "   @ In[59]:4",
      " [2] eval",
      "   @ ./boot.jl:373 [inlined]",
      " [3] include_string(mapexpr::typeof(REPL.softscope), mod::Module, code::String, filename::String)",
      "   @ Base ./loading.jl:1196"
     ]
    }
   ],
   "source": [
    "mach = MLJ.machine(clf, x, y)\n",
    "MLJ.fit!(mach,rows=train, verbosity=3)\n",
    "\n",
    "training_loss = cross_entropy(MLJ.predict(mach, x), y) |> mean"
   ]
  },
  {
   "cell_type": "code",
   "execution_count": 60,
   "id": "bbbb4c62-a0c4-439c-a636-3878fd32bb14",
   "metadata": {},
   "outputs": [
    {
     "data": {
      "text/plain": [
       "438-element Vector{Float64}:\n",
       " 4.427631296217442\n",
       " 2.468689620494842\n",
       " 2.271581897139549\n",
       " 2.363512696325779\n",
       " 2.6590962089598182\n",
       " 2.5693734735250473\n",
       " 3.459381172060967\n",
       " 2.2582937136292456\n",
       " 2.5735040254890915\n",
       " 2.8527807742357254\n",
       " 3.0577674128115175\n",
       " 2.2588819973170757\n",
       " 3.8199292391538626\n",
       " ⋮\n",
       " 1.8983948938548565\n",
       " 2.9714013129472727\n",
       " 4.174217689037324\n",
       " 2.8744774505496027\n",
       " 1.5778520464897157\n",
       " 3.0996865607798103\n",
       " 3.0980785533785826\n",
       " 4.276897646486759\n",
       " 2.963353651762009\n",
       " 3.1862315446138387\n",
       " 3.270359928160906\n",
       " 4.350946976244449"
      ]
     },
     "execution_count": 60,
     "metadata": {},
     "output_type": "execute_result"
    }
   ],
   "source": [
    "preds = MLJ.predict(mach, x[test, :])"
   ]
  },
  {
   "cell_type": "code",
   "execution_count": 61,
   "id": "584a4716-f57f-4e33-b359-54cb441cd1ad",
   "metadata": {},
   "outputs": [
    {
     "name": "stdout",
     "output_type": "stream",
     "text": [
      "[4.427631296217442, 2.468689620494842, 2.271581897139549, 2.363512696325779, 2.6590962089598182]\n"
     ]
    }
   ],
   "source": [
    "println(preds[1:5])"
   ]
  },
  {
   "cell_type": "code",
   "execution_count": null,
   "id": "19618a58-95b3-4fa5-a6ce-d0f66a37905a",
   "metadata": {},
   "outputs": [],
   "source": []
  }
 ],
 "metadata": {
  "kernelspec": {
   "display_name": "Julia 1.7.1",
   "language": "julia",
   "name": "julia-1.7"
  },
  "language_info": {
   "file_extension": ".jl",
   "mimetype": "application/julia",
   "name": "julia",
   "version": "1.7.1"
  }
 },
 "nbformat": 4,
 "nbformat_minor": 5
}

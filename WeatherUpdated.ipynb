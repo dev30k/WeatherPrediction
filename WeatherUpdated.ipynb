{
 "cells": [
  {
   "cell_type": "code",
   "execution_count": 1,
   "id": "68b4d339-bc76-4f11-9470-3a89eb18c0b4",
   "metadata": {},
   "outputs": [],
   "source": [
    "using DataFrames, Impute, CSV,Statistics,VegaLite,Dates,ScikitLearn,TimeSeries,Measures,Plots,Clustering,NumPyArrays, PyCall,MLJModels,MLLabelUtils\n",
    "using MLJ,MLJFlux,Flux\n",
    "\n"
   ]
  },
  {
   "cell_type": "code",
   "execution_count": 2,
   "id": "f986de3f-6903-4e25-88a9-c41bff3b04d6",
   "metadata": {},
   "outputs": [
    {
     "data": {
      "text/plain": [
       "PyObject <class 'sklearn.preprocessing._label.LabelEncoder'>"
      ]
     },
     "execution_count": 2,
     "metadata": {},
     "output_type": "execute_result"
    }
   ],
   "source": [
    "using ScikitLearn.CrossValidation: train_test_split\n",
    "@sk_import preprocessing: (LabelEncoder)"
   ]
  },
  {
   "cell_type": "code",
   "execution_count": 3,
   "id": "80831abe-bde0-4b5d-bd0b-824a1bfaa924",
   "metadata": {},
   "outputs": [
    {
     "name": "stdout",
     "output_type": "stream",
     "text": [
      "DataFrame\n",
      "\u001b[1m6×7 DataFrame\u001b[0m\n",
      "\u001b[1m Row \u001b[0m│\u001b[1m variable      \u001b[0m\u001b[1m mean    \u001b[0m\u001b[1m min        \u001b[0m\u001b[1m median     \u001b[0m\u001b[1m max        \u001b[0m\u001b[1m nmissing \u001b[0m\u001b[1m eltype   \u001b[0m\n",
      "\u001b[1m     \u001b[0m│\u001b[90m Symbol        \u001b[0m\u001b[90m Union…  \u001b[0m\u001b[90m Any        \u001b[0m\u001b[90m Any        \u001b[0m\u001b[90m Any        \u001b[0m\u001b[90m Int64    \u001b[0m\u001b[90m DataType \u001b[0m\n",
      "─────┼────────────────────────────────────────────────────────────────────────────────\n",
      "   1 │ date          \u001b[90m         \u001b[0m 2012-01-01  2013-12-31  2015-12-31         0  Date\n",
      "   2 │ precipitation  3.02943  0.0         0.0         55.9               0  Float64\n",
      "   3 │ temp_max       16.4391  -1.6        15.6        35.6               0  Float64\n",
      "   4 │ temp_min       8.23477  -7.1        8.3         18.3               0  Float64\n",
      "   5 │ wind           3.24114  0.4         3.0         9.5                0  Float64\n",
      "   6 │ weather       \u001b[90m         \u001b[0m drizzle    \u001b[90m            \u001b[0m sun                0  String\n"
     ]
    }
   ],
   "source": [
    "pyplot() \n",
    "data = CSV.read(\"/home/useeffect/Desktop/Kaggle/seattle-weather.csv\",DataFrame)\n",
    "println(typeof(data))\n",
    "println(describe(data))\n"
   ]
  },
  {
   "cell_type": "code",
   "execution_count": 4,
   "id": "3aaa9d97-3ab3-4f3a-bc1a-4784bd8bd976",
   "metadata": {},
   "outputs": [
    {
     "data": {
      "text/plain": [
       "6-element Vector{String}:\n",
       " \"date\"\n",
       " \"precipitation\"\n",
       " \"temp_max\"\n",
       " \"temp_min\"\n",
       " \"wind\"\n",
       " \"weather\""
      ]
     },
     "execution_count": 4,
     "metadata": {},
     "output_type": "execute_result"
    }
   ],
   "source": [
    "names(data)"
   ]
  },
  {
   "cell_type": "code",
   "execution_count": 5,
   "id": "1d3d8747-3130-476d-9303-a2c85b8e3053",
   "metadata": {},
   "outputs": [
    {
     "data": {
      "text/html": [
       "<table class=\"data-frame\"><thead><tr><th></th><th>variable</th><th>mean</th><th>min</th><th>median</th><th>max</th><th>nmissing</th><th>eltype</th></tr><tr><th></th><th>Symbol</th><th>Union…</th><th>Any</th><th>Any</th><th>Any</th><th>Int64</th><th>DataType</th></tr></thead><tbody><p>6 rows × 7 columns</p><tr><th>1</th><td>date</td><td></td><td>2012-01-01</td><td>2013-12-31</td><td>2015-12-31</td><td>0</td><td>Date</td></tr><tr><th>2</th><td>precipitation</td><td>3.02943</td><td>0.0</td><td>0.0</td><td>55.9</td><td>0</td><td>Float64</td></tr><tr><th>3</th><td>temp_max</td><td>16.4391</td><td>-1.6</td><td>15.6</td><td>35.6</td><td>0</td><td>Float64</td></tr><tr><th>4</th><td>temp_min</td><td>8.23477</td><td>-7.1</td><td>8.3</td><td>18.3</td><td>0</td><td>Float64</td></tr><tr><th>5</th><td>wind</td><td>3.24114</td><td>0.4</td><td>3.0</td><td>9.5</td><td>0</td><td>Float64</td></tr><tr><th>6</th><td>weather</td><td></td><td>drizzle</td><td></td><td>sun</td><td>0</td><td>String</td></tr></tbody></table>"
      ],
      "text/latex": [
       "\\begin{tabular}{r|ccccccc}\n",
       "\t& variable & mean & min & median & max & nmissing & eltype\\\\\n",
       "\t\\hline\n",
       "\t& Symbol & Union… & Any & Any & Any & Int64 & DataType\\\\\n",
       "\t\\hline\n",
       "\t1 & date &  & 2012-01-01 & 2013-12-31 & 2015-12-31 & 0 & Date \\\\\n",
       "\t2 & precipitation & 3.02943 & 0.0 & 0.0 & 55.9 & 0 & Float64 \\\\\n",
       "\t3 & temp\\_max & 16.4391 & -1.6 & 15.6 & 35.6 & 0 & Float64 \\\\\n",
       "\t4 & temp\\_min & 8.23477 & -7.1 & 8.3 & 18.3 & 0 & Float64 \\\\\n",
       "\t5 & wind & 3.24114 & 0.4 & 3.0 & 9.5 & 0 & Float64 \\\\\n",
       "\t6 & weather &  & drizzle &  & sun & 0 & String \\\\\n",
       "\\end{tabular}\n"
      ],
      "text/plain": [
       "\u001b[1m6×7 DataFrame\u001b[0m\n",
       "\u001b[1m Row \u001b[0m│\u001b[1m variable      \u001b[0m\u001b[1m mean    \u001b[0m\u001b[1m min        \u001b[0m\u001b[1m median     \u001b[0m\u001b[1m max        \u001b[0m\u001b[1m nmissing \u001b[0m\u001b[1m e\u001b[0m ⋯\n",
       "\u001b[1m     \u001b[0m│\u001b[90m Symbol        \u001b[0m\u001b[90m Union…  \u001b[0m\u001b[90m Any        \u001b[0m\u001b[90m Any        \u001b[0m\u001b[90m Any        \u001b[0m\u001b[90m Int64    \u001b[0m\u001b[90m D\u001b[0m ⋯\n",
       "─────┼──────────────────────────────────────────────────────────────────────────\n",
       "   1 │ date          \u001b[90m         \u001b[0m 2012-01-01  2013-12-31  2015-12-31         0  D ⋯\n",
       "   2 │ precipitation  3.02943  0.0         0.0         55.9               0  F\n",
       "   3 │ temp_max       16.4391  -1.6        15.6        35.6               0  F\n",
       "   4 │ temp_min       8.23477  -7.1        8.3         18.3               0  F\n",
       "   5 │ wind           3.24114  0.4         3.0         9.5                0  F ⋯\n",
       "   6 │ weather       \u001b[90m         \u001b[0m drizzle    \u001b[90m            \u001b[0m sun                0  S\n",
       "\u001b[36m                                                                1 column omitted\u001b[0m"
      ]
     },
     "execution_count": 5,
     "metadata": {},
     "output_type": "execute_result"
    }
   ],
   "source": [
    "describe(data)"
   ]
  },
  {
   "cell_type": "code",
   "execution_count": 6,
   "id": "5a74d35f-2123-46b4-9154-ac7621537af8",
   "metadata": {},
   "outputs": [
    {
     "data": {
      "text/html": [
       "<table class=\"data-frame\"><thead><tr><th></th><th>precipitation</th><th>temp_max</th><th>temp_min</th><th>wind</th><th>weather</th></tr><tr><th></th><th>Float64</th><th>Float64</th><th>Float64</th><th>Float64</th><th>String</th></tr></thead><tbody><p>1,461 rows × 5 columns</p><tr><th>1</th><td>0.0</td><td>12.8</td><td>5.0</td><td>4.7</td><td>drizzle</td></tr><tr><th>2</th><td>10.9</td><td>10.6</td><td>2.8</td><td>4.5</td><td>rain</td></tr><tr><th>3</th><td>0.8</td><td>11.7</td><td>7.2</td><td>2.3</td><td>rain</td></tr><tr><th>4</th><td>20.3</td><td>12.2</td><td>5.6</td><td>4.7</td><td>rain</td></tr><tr><th>5</th><td>1.3</td><td>8.9</td><td>2.8</td><td>6.1</td><td>rain</td></tr><tr><th>6</th><td>2.5</td><td>4.4</td><td>2.2</td><td>2.2</td><td>rain</td></tr><tr><th>7</th><td>0.0</td><td>7.2</td><td>2.8</td><td>2.3</td><td>rain</td></tr><tr><th>8</th><td>0.0</td><td>10.0</td><td>2.8</td><td>2.0</td><td>sun</td></tr><tr><th>9</th><td>4.3</td><td>9.4</td><td>5.0</td><td>3.4</td><td>rain</td></tr><tr><th>10</th><td>1.0</td><td>6.1</td><td>0.6</td><td>3.4</td><td>rain</td></tr><tr><th>11</th><td>0.0</td><td>6.1</td><td>-1.1</td><td>5.1</td><td>sun</td></tr><tr><th>12</th><td>0.0</td><td>6.1</td><td>-1.7</td><td>1.9</td><td>sun</td></tr><tr><th>13</th><td>0.0</td><td>5.0</td><td>-2.8</td><td>1.3</td><td>sun</td></tr><tr><th>14</th><td>4.1</td><td>4.4</td><td>0.6</td><td>5.3</td><td>snow</td></tr><tr><th>15</th><td>5.3</td><td>1.1</td><td>-3.3</td><td>3.2</td><td>snow</td></tr><tr><th>16</th><td>2.5</td><td>1.7</td><td>-2.8</td><td>5.0</td><td>snow</td></tr><tr><th>17</th><td>8.1</td><td>3.3</td><td>0.0</td><td>5.6</td><td>snow</td></tr><tr><th>18</th><td>19.8</td><td>0.0</td><td>-2.8</td><td>5.0</td><td>snow</td></tr><tr><th>19</th><td>15.2</td><td>-1.1</td><td>-2.8</td><td>1.6</td><td>snow</td></tr><tr><th>20</th><td>13.5</td><td>7.2</td><td>-1.1</td><td>2.3</td><td>snow</td></tr><tr><th>21</th><td>3.0</td><td>8.3</td><td>3.3</td><td>8.2</td><td>rain</td></tr><tr><th>22</th><td>6.1</td><td>6.7</td><td>2.2</td><td>4.8</td><td>rain</td></tr><tr><th>23</th><td>0.0</td><td>8.3</td><td>1.1</td><td>3.6</td><td>rain</td></tr><tr><th>24</th><td>8.6</td><td>10.0</td><td>2.2</td><td>5.1</td><td>rain</td></tr><tr><th>25</th><td>8.1</td><td>8.9</td><td>4.4</td><td>5.4</td><td>rain</td></tr><tr><th>26</th><td>4.8</td><td>8.9</td><td>1.1</td><td>4.8</td><td>rain</td></tr><tr><th>27</th><td>0.0</td><td>6.7</td><td>-2.2</td><td>1.4</td><td>drizzle</td></tr><tr><th>28</th><td>0.0</td><td>6.7</td><td>0.6</td><td>2.2</td><td>rain</td></tr><tr><th>29</th><td>27.7</td><td>9.4</td><td>3.9</td><td>4.5</td><td>rain</td></tr><tr><th>30</th><td>3.6</td><td>8.3</td><td>6.1</td><td>5.1</td><td>rain</td></tr><tr><th>&vellip;</th><td>&vellip;</td><td>&vellip;</td><td>&vellip;</td><td>&vellip;</td><td>&vellip;</td></tr></tbody></table>"
      ],
      "text/latex": [
       "\\begin{tabular}{r|ccccc}\n",
       "\t& precipitation & temp\\_max & temp\\_min & wind & weather\\\\\n",
       "\t\\hline\n",
       "\t& Float64 & Float64 & Float64 & Float64 & String\\\\\n",
       "\t\\hline\n",
       "\t1 & 0.0 & 12.8 & 5.0 & 4.7 & drizzle \\\\\n",
       "\t2 & 10.9 & 10.6 & 2.8 & 4.5 & rain \\\\\n",
       "\t3 & 0.8 & 11.7 & 7.2 & 2.3 & rain \\\\\n",
       "\t4 & 20.3 & 12.2 & 5.6 & 4.7 & rain \\\\\n",
       "\t5 & 1.3 & 8.9 & 2.8 & 6.1 & rain \\\\\n",
       "\t6 & 2.5 & 4.4 & 2.2 & 2.2 & rain \\\\\n",
       "\t7 & 0.0 & 7.2 & 2.8 & 2.3 & rain \\\\\n",
       "\t8 & 0.0 & 10.0 & 2.8 & 2.0 & sun \\\\\n",
       "\t9 & 4.3 & 9.4 & 5.0 & 3.4 & rain \\\\\n",
       "\t10 & 1.0 & 6.1 & 0.6 & 3.4 & rain \\\\\n",
       "\t11 & 0.0 & 6.1 & -1.1 & 5.1 & sun \\\\\n",
       "\t12 & 0.0 & 6.1 & -1.7 & 1.9 & sun \\\\\n",
       "\t13 & 0.0 & 5.0 & -2.8 & 1.3 & sun \\\\\n",
       "\t14 & 4.1 & 4.4 & 0.6 & 5.3 & snow \\\\\n",
       "\t15 & 5.3 & 1.1 & -3.3 & 3.2 & snow \\\\\n",
       "\t16 & 2.5 & 1.7 & -2.8 & 5.0 & snow \\\\\n",
       "\t17 & 8.1 & 3.3 & 0.0 & 5.6 & snow \\\\\n",
       "\t18 & 19.8 & 0.0 & -2.8 & 5.0 & snow \\\\\n",
       "\t19 & 15.2 & -1.1 & -2.8 & 1.6 & snow \\\\\n",
       "\t20 & 13.5 & 7.2 & -1.1 & 2.3 & snow \\\\\n",
       "\t21 & 3.0 & 8.3 & 3.3 & 8.2 & rain \\\\\n",
       "\t22 & 6.1 & 6.7 & 2.2 & 4.8 & rain \\\\\n",
       "\t23 & 0.0 & 8.3 & 1.1 & 3.6 & rain \\\\\n",
       "\t24 & 8.6 & 10.0 & 2.2 & 5.1 & rain \\\\\n",
       "\t25 & 8.1 & 8.9 & 4.4 & 5.4 & rain \\\\\n",
       "\t26 & 4.8 & 8.9 & 1.1 & 4.8 & rain \\\\\n",
       "\t27 & 0.0 & 6.7 & -2.2 & 1.4 & drizzle \\\\\n",
       "\t28 & 0.0 & 6.7 & 0.6 & 2.2 & rain \\\\\n",
       "\t29 & 27.7 & 9.4 & 3.9 & 4.5 & rain \\\\\n",
       "\t30 & 3.6 & 8.3 & 6.1 & 5.1 & rain \\\\\n",
       "\t$\\dots$ & $\\dots$ & $\\dots$ & $\\dots$ & $\\dots$ & $\\dots$ \\\\\n",
       "\\end{tabular}\n"
      ],
      "text/plain": [
       "\u001b[1m1461×5 DataFrame\u001b[0m\n",
       "\u001b[1m  Row \u001b[0m│\u001b[1m precipitation \u001b[0m\u001b[1m temp_max \u001b[0m\u001b[1m temp_min \u001b[0m\u001b[1m wind    \u001b[0m\u001b[1m weather \u001b[0m\n",
       "\u001b[1m      \u001b[0m│\u001b[90m Float64       \u001b[0m\u001b[90m Float64  \u001b[0m\u001b[90m Float64  \u001b[0m\u001b[90m Float64 \u001b[0m\u001b[90m String  \u001b[0m\n",
       "──────┼─────────────────────────────────────────────────────\n",
       "    1 │           0.0      12.8       5.0      4.7  drizzle\n",
       "    2 │          10.9      10.6       2.8      4.5  rain\n",
       "    3 │           0.8      11.7       7.2      2.3  rain\n",
       "    4 │          20.3      12.2       5.6      4.7  rain\n",
       "    5 │           1.3       8.9       2.8      6.1  rain\n",
       "    6 │           2.5       4.4       2.2      2.2  rain\n",
       "    7 │           0.0       7.2       2.8      2.3  rain\n",
       "    8 │           0.0      10.0       2.8      2.0  sun\n",
       "    9 │           4.3       9.4       5.0      3.4  rain\n",
       "   10 │           1.0       6.1       0.6      3.4  rain\n",
       "   11 │           0.0       6.1      -1.1      5.1  sun\n",
       "  ⋮   │       ⋮           ⋮         ⋮         ⋮        ⋮\n",
       " 1452 │           4.6       7.8       2.8      5.0  rain\n",
       " 1453 │           6.1       5.0       2.8      7.6  rain\n",
       " 1454 │           2.5       5.6       2.2      4.3  rain\n",
       " 1455 │           5.8       5.0       2.2      1.5  rain\n",
       " 1456 │           0.0       4.4       0.0      2.5  sun\n",
       " 1457 │           8.6       4.4       1.7      2.9  rain\n",
       " 1458 │           1.5       5.0       1.7      1.3  rain\n",
       " 1459 │           0.0       7.2       0.6      2.6  fog\n",
       " 1460 │           0.0       5.6      -1.0      3.4  sun\n",
       " 1461 │           0.0       5.6      -2.1      3.5  sun\n",
       "\u001b[36m                                           1440 rows omitted\u001b[0m"
      ]
     },
     "execution_count": 6,
     "metadata": {},
     "output_type": "execute_result"
    }
   ],
   "source": [
    "select(data, Not(:date))"
   ]
  },
  {
   "cell_type": "code",
   "execution_count": 7,
   "id": "1ab70e1e-fd8b-4a32-8e05-b760034c66a4",
   "metadata": {},
   "outputs": [
    {
     "data": {
      "text/plain": [
       "\"1461×6 DataFrame\""
      ]
     },
     "execution_count": 7,
     "metadata": {},
     "output_type": "execute_result"
    }
   ],
   "source": [
    "summary(data)"
   ]
  },
  {
   "cell_type": "code",
   "execution_count": 8,
   "id": "215896e2-33f3-4193-8e31-d1b617b0f5c5",
   "metadata": {},
   "outputs": [],
   "source": [
    "# ux = unique(data.weather); \n",
    "# transform!(data, @. :weather => ByRow(isequal(ux)) .=> Symbol(ux))\n"
   ]
  },
  {
   "cell_type": "code",
   "execution_count": 9,
   "id": "f7091472-1ed3-45d7-8112-c3ceb6ecc2ef",
   "metadata": {},
   "outputs": [
    {
     "data": {
      "image/png": "[encoded data removed]"
     },
     "execution_count": 9,
     "metadata": {},
     "output_type": "execute_result"
    }
   ],
   "source": [
    "histogram(data.temp_max,bins=20, alpha=0.4,title=\"temp_max\")\n"
   ]
  },
  {
   "cell_type": "code",
   "execution_count": 10,
   "id": "7dacb860-6cdb-432f-846a-ea5052b7bd34",
   "metadata": {},
   "outputs": [
    {
     "data": {
      "image/png": "[encoded data removed]"
     },
     "execution_count": 10,
     "metadata": {},
     "output_type": "execute_result"
    }
   ],
   "source": [
    "histogram(data.temp_min,bins=20, alpha=0.4,title=\"temp_min\")\n"
   ]
  },
  {
   "cell_type": "code",
   "execution_count": 11,
   "id": "b5da6824-77f9-4b83-87d4-f32ce2f249b1",
   "metadata": {},
   "outputs": [
    {
     "data": {
      "image/png": "[encoded data removed]"
     },
     "execution_count": 11,
     "metadata": {},
     "output_type": "execute_result"
    }
   ],
   "source": [
    "histogram(data.wind,bins=20, alpha=0.4,title=\"Wind\")\n"
   ]
  },
  {
   "cell_type": "code",
   "execution_count": 12,
   "id": "3a84ba8b-cbfe-489f-88f2-59ffffc8061d",
   "metadata": {},
   "outputs": [
    {
     "data": {
      "image/png": "[encoded data removed]"
     },
     "execution_count": 12,
     "metadata": {},
     "output_type": "execute_result"
    }
   ],
   "source": [
    "histogram(data.precipitation,bins=20, alpha=0.4,title=\"precipitation\")"
   ]
  },
  {
   "cell_type": "code",
   "execution_count": 13,
   "id": "0d1d59e5-79f1-448e-b303-c69c39d07305",
   "metadata": {},
   "outputs": [
    {
     "data": {
      "text/html": [
       "<table class=\"data-frame\"><thead><tr><th></th><th>precipitation</th><th>temp_max</th><th>temp_min</th><th>wind</th><th>weather</th></tr><tr><th></th><th>Float64</th><th>Float64</th><th>Float64</th><th>Float64</th><th>String</th></tr></thead><tbody><p>1,461 rows × 5 columns</p><tr><th>1</th><td>0.0</td><td>12.8</td><td>5.0</td><td>4.7</td><td>drizzle</td></tr><tr><th>2</th><td>10.9</td><td>10.6</td><td>2.8</td><td>4.5</td><td>rain</td></tr><tr><th>3</th><td>0.8</td><td>11.7</td><td>7.2</td><td>2.3</td><td>rain</td></tr><tr><th>4</th><td>20.3</td><td>12.2</td><td>5.6</td><td>4.7</td><td>rain</td></tr><tr><th>5</th><td>1.3</td><td>8.9</td><td>2.8</td><td>6.1</td><td>rain</td></tr><tr><th>6</th><td>2.5</td><td>4.4</td><td>2.2</td><td>2.2</td><td>rain</td></tr><tr><th>7</th><td>0.0</td><td>7.2</td><td>2.8</td><td>2.3</td><td>rain</td></tr><tr><th>8</th><td>0.0</td><td>10.0</td><td>2.8</td><td>2.0</td><td>sun</td></tr><tr><th>9</th><td>4.3</td><td>9.4</td><td>5.0</td><td>3.4</td><td>rain</td></tr><tr><th>10</th><td>1.0</td><td>6.1</td><td>0.6</td><td>3.4</td><td>rain</td></tr><tr><th>11</th><td>0.0</td><td>6.1</td><td>-1.1</td><td>5.1</td><td>sun</td></tr><tr><th>12</th><td>0.0</td><td>6.1</td><td>-1.7</td><td>1.9</td><td>sun</td></tr><tr><th>13</th><td>0.0</td><td>5.0</td><td>-2.8</td><td>1.3</td><td>sun</td></tr><tr><th>14</th><td>4.1</td><td>4.4</td><td>0.6</td><td>5.3</td><td>snow</td></tr><tr><th>15</th><td>5.3</td><td>1.1</td><td>-3.3</td><td>3.2</td><td>snow</td></tr><tr><th>16</th><td>2.5</td><td>1.7</td><td>-2.8</td><td>5.0</td><td>snow</td></tr><tr><th>17</th><td>8.1</td><td>3.3</td><td>0.0</td><td>5.6</td><td>snow</td></tr><tr><th>18</th><td>19.8</td><td>0.0</td><td>-2.8</td><td>5.0</td><td>snow</td></tr><tr><th>19</th><td>15.2</td><td>-1.1</td><td>-2.8</td><td>1.6</td><td>snow</td></tr><tr><th>20</th><td>13.5</td><td>7.2</td><td>-1.1</td><td>2.3</td><td>snow</td></tr><tr><th>21</th><td>3.0</td><td>8.3</td><td>3.3</td><td>8.2</td><td>rain</td></tr><tr><th>22</th><td>6.1</td><td>6.7</td><td>2.2</td><td>4.8</td><td>rain</td></tr><tr><th>23</th><td>0.0</td><td>8.3</td><td>1.1</td><td>3.6</td><td>rain</td></tr><tr><th>24</th><td>8.6</td><td>10.0</td><td>2.2</td><td>5.1</td><td>rain</td></tr><tr><th>25</th><td>8.1</td><td>8.9</td><td>4.4</td><td>5.4</td><td>rain</td></tr><tr><th>26</th><td>4.8</td><td>8.9</td><td>1.1</td><td>4.8</td><td>rain</td></tr><tr><th>27</th><td>0.0</td><td>6.7</td><td>-2.2</td><td>1.4</td><td>drizzle</td></tr><tr><th>28</th><td>0.0</td><td>6.7</td><td>0.6</td><td>2.2</td><td>rain</td></tr><tr><th>29</th><td>27.7</td><td>9.4</td><td>3.9</td><td>4.5</td><td>rain</td></tr><tr><th>30</th><td>3.6</td><td>8.3</td><td>6.1</td><td>5.1</td><td>rain</td></tr><tr><th>&vellip;</th><td>&vellip;</td><td>&vellip;</td><td>&vellip;</td><td>&vellip;</td><td>&vellip;</td></tr></tbody></table>"
      ],
      "text/latex": [
       "\\begin{tabular}{r|ccccc}\n",
       "\t& precipitation & temp\\_max & temp\\_min & wind & weather\\\\\n",
       "\t\\hline\n",
       "\t& Float64 & Float64 & Float64 & Float64 & String\\\\\n",
       "\t\\hline\n",
       "\t1 & 0.0 & 12.8 & 5.0 & 4.7 & drizzle \\\\\n",
       "\t2 & 10.9 & 10.6 & 2.8 & 4.5 & rain \\\\\n",
       "\t3 & 0.8 & 11.7 & 7.2 & 2.3 & rain \\\\\n",
       "\t4 & 20.3 & 12.2 & 5.6 & 4.7 & rain \\\\\n",
       "\t5 & 1.3 & 8.9 & 2.8 & 6.1 & rain \\\\\n",
       "\t6 & 2.5 & 4.4 & 2.2 & 2.2 & rain \\\\\n",
       "\t7 & 0.0 & 7.2 & 2.8 & 2.3 & rain \\\\\n",
       "\t8 & 0.0 & 10.0 & 2.8 & 2.0 & sun \\\\\n",
       "\t9 & 4.3 & 9.4 & 5.0 & 3.4 & rain \\\\\n",
       "\t10 & 1.0 & 6.1 & 0.6 & 3.4 & rain \\\\\n",
       "\t11 & 0.0 & 6.1 & -1.1 & 5.1 & sun \\\\\n",
       "\t12 & 0.0 & 6.1 & -1.7 & 1.9 & sun \\\\\n",
       "\t13 & 0.0 & 5.0 & -2.8 & 1.3 & sun \\\\\n",
       "\t14 & 4.1 & 4.4 & 0.6 & 5.3 & snow \\\\\n",
       "\t15 & 5.3 & 1.1 & -3.3 & 3.2 & snow \\\\\n",
       "\t16 & 2.5 & 1.7 & -2.8 & 5.0 & snow \\\\\n",
       "\t17 & 8.1 & 3.3 & 0.0 & 5.6 & snow \\\\\n",
       "\t18 & 19.8 & 0.0 & -2.8 & 5.0 & snow \\\\\n",
       "\t19 & 15.2 & -1.1 & -2.8 & 1.6 & snow \\\\\n",
       "\t20 & 13.5 & 7.2 & -1.1 & 2.3 & snow \\\\\n",
       "\t21 & 3.0 & 8.3 & 3.3 & 8.2 & rain \\\\\n",
       "\t22 & 6.1 & 6.7 & 2.2 & 4.8 & rain \\\\\n",
       "\t23 & 0.0 & 8.3 & 1.1 & 3.6 & rain \\\\\n",
       "\t24 & 8.6 & 10.0 & 2.2 & 5.1 & rain \\\\\n",
       "\t25 & 8.1 & 8.9 & 4.4 & 5.4 & rain \\\\\n",
       "\t26 & 4.8 & 8.9 & 1.1 & 4.8 & rain \\\\\n",
       "\t27 & 0.0 & 6.7 & -2.2 & 1.4 & drizzle \\\\\n",
       "\t28 & 0.0 & 6.7 & 0.6 & 2.2 & rain \\\\\n",
       "\t29 & 27.7 & 9.4 & 3.9 & 4.5 & rain \\\\\n",
       "\t30 & 3.6 & 8.3 & 6.1 & 5.1 & rain \\\\\n",
       "\t$\\dots$ & $\\dots$ & $\\dots$ & $\\dots$ & $\\dots$ & $\\dots$ \\\\\n",
       "\\end{tabular}\n"
      ],
      "text/plain": [
       "\u001b[1m1461×5 DataFrame\u001b[0m\n",
       "\u001b[1m  Row \u001b[0m│\u001b[1m precipitation \u001b[0m\u001b[1m temp_max \u001b[0m\u001b[1m temp_min \u001b[0m\u001b[1m wind    \u001b[0m\u001b[1m weather \u001b[0m\n",
       "\u001b[1m      \u001b[0m│\u001b[90m Float64       \u001b[0m\u001b[90m Float64  \u001b[0m\u001b[90m Float64  \u001b[0m\u001b[90m Float64 \u001b[0m\u001b[90m String  \u001b[0m\n",
       "──────┼─────────────────────────────────────────────────────\n",
       "    1 │           0.0      12.8       5.0      4.7  drizzle\n",
       "    2 │          10.9      10.6       2.8      4.5  rain\n",
       "    3 │           0.8      11.7       7.2      2.3  rain\n",
       "    4 │          20.3      12.2       5.6      4.7  rain\n",
       "    5 │           1.3       8.9       2.8      6.1  rain\n",
       "    6 │           2.5       4.4       2.2      2.2  rain\n",
       "    7 │           0.0       7.2       2.8      2.3  rain\n",
       "    8 │           0.0      10.0       2.8      2.0  sun\n",
       "    9 │           4.3       9.4       5.0      3.4  rain\n",
       "   10 │           1.0       6.1       0.6      3.4  rain\n",
       "   11 │           0.0       6.1      -1.1      5.1  sun\n",
       "  ⋮   │       ⋮           ⋮         ⋮         ⋮        ⋮\n",
       " 1452 │           4.6       7.8       2.8      5.0  rain\n",
       " 1453 │           6.1       5.0       2.8      7.6  rain\n",
       " 1454 │           2.5       5.6       2.2      4.3  rain\n",
       " 1455 │           5.8       5.0       2.2      1.5  rain\n",
       " 1456 │           0.0       4.4       0.0      2.5  sun\n",
       " 1457 │           8.6       4.4       1.7      2.9  rain\n",
       " 1458 │           1.5       5.0       1.7      1.3  rain\n",
       " 1459 │           0.0       7.2       0.6      2.6  fog\n",
       " 1460 │           0.0       5.6      -1.0      3.4  sun\n",
       " 1461 │           0.0       5.6      -2.1      3.5  sun\n",
       "\u001b[36m                                           1440 rows omitted\u001b[0m"
      ]
     },
     "execution_count": 13,
     "metadata": {},
     "output_type": "execute_result"
    }
   ],
   "source": [
    "select!(data, Not(:date))\n",
    "\n"
   ]
  },
  {
   "cell_type": "code",
   "execution_count": 14,
   "id": "880ff0ec-8a89-4474-94f9-8d0f76fc3634",
   "metadata": {},
   "outputs": [
    {
     "data": {
      "text/plain": [
       "5-element Vector{String}:\n",
       " \"precipitation\"\n",
       " \"temp_max\"\n",
       " \"temp_min\"\n",
       " \"wind\"\n",
       " \"weather\""
      ]
     },
     "execution_count": 14,
     "metadata": {},
     "output_type": "execute_result"
    }
   ],
   "source": [
    "data2 = data\n",
    "names(data2)"
   ]
  },
  {
   "cell_type": "code",
   "execution_count": 15,
   "id": "23b0b191-9e36-4117-a4f4-261140c6d74d",
   "metadata": {},
   "outputs": [],
   "source": [
    "# select!(data,Not(:weather))"
   ]
  },
  {
   "cell_type": "code",
   "execution_count": 16,
   "id": "0ef8a9a9-8df9-40ad-9420-5fb64f006bf7",
   "metadata": {},
   "outputs": [
    {
     "data": {
      "text/plain": [
       "4×4 Matrix{Float64}:\n",
       "  1.0       -0.228555  -0.072684    0.328045\n",
       " -0.228555   1.0        0.875687   -0.164857\n",
       " -0.072684   0.875687   1.0        -0.0741852\n",
       "  0.328045  -0.164857  -0.0741852   1.0"
      ]
     },
     "execution_count": 16,
     "metadata": {},
     "output_type": "execute_result"
    }
   ],
   "source": [
    "cors = cor(Matrix(select!(data,Not(:weather))))"
   ]
  },
  {
   "cell_type": "code",
   "execution_count": 68,
   "id": "f6ced9fa-057f-4b5c-b290-53c78bc12319",
   "metadata": {},
   "outputs": [
    {
     "data": {
      "text/html": [
       "<table class=\"data-frame\"><thead><tr><th></th><th>date</th><th>precipitation</th><th>temp_max</th><th>temp_min</th><th>wind</th><th>weather</th></tr><tr><th></th><th>Date</th><th>Float64</th><th>Float64</th><th>Float64</th><th>Float64</th><th>String</th></tr></thead><tbody><p>1,461 rows × 6 columns</p><tr><th>1</th><td>2012-01-01</td><td>0.0</td><td>12.8</td><td>5.0</td><td>4.7</td><td>drizzle</td></tr><tr><th>2</th><td>2012-01-02</td><td>10.9</td><td>10.6</td><td>2.8</td><td>4.5</td><td>rain</td></tr><tr><th>3</th><td>2012-01-03</td><td>0.8</td><td>11.7</td><td>7.2</td><td>2.3</td><td>rain</td></tr><tr><th>4</th><td>2012-01-04</td><td>20.3</td><td>12.2</td><td>5.6</td><td>4.7</td><td>rain</td></tr><tr><th>5</th><td>2012-01-05</td><td>1.3</td><td>8.9</td><td>2.8</td><td>6.1</td><td>rain</td></tr><tr><th>6</th><td>2012-01-06</td><td>2.5</td><td>4.4</td><td>2.2</td><td>2.2</td><td>rain</td></tr><tr><th>7</th><td>2012-01-07</td><td>0.0</td><td>7.2</td><td>2.8</td><td>2.3</td><td>rain</td></tr><tr><th>8</th><td>2012-01-08</td><td>0.0</td><td>10.0</td><td>2.8</td><td>2.0</td><td>sun</td></tr><tr><th>9</th><td>2012-01-09</td><td>4.3</td><td>9.4</td><td>5.0</td><td>3.4</td><td>rain</td></tr><tr><th>10</th><td>2012-01-10</td><td>1.0</td><td>6.1</td><td>0.6</td><td>3.4</td><td>rain</td></tr><tr><th>11</th><td>2012-01-11</td><td>0.0</td><td>6.1</td><td>-1.1</td><td>5.1</td><td>sun</td></tr><tr><th>12</th><td>2012-01-12</td><td>0.0</td><td>6.1</td><td>-1.7</td><td>1.9</td><td>sun</td></tr><tr><th>13</th><td>2012-01-13</td><td>0.0</td><td>5.0</td><td>-2.8</td><td>1.3</td><td>sun</td></tr><tr><th>14</th><td>2012-01-14</td><td>4.1</td><td>4.4</td><td>0.6</td><td>5.3</td><td>snow</td></tr><tr><th>15</th><td>2012-01-15</td><td>5.3</td><td>1.1</td><td>-3.3</td><td>3.2</td><td>snow</td></tr><tr><th>16</th><td>2012-01-16</td><td>2.5</td><td>1.7</td><td>-2.8</td><td>5.0</td><td>snow</td></tr><tr><th>17</th><td>2012-01-17</td><td>8.1</td><td>3.3</td><td>0.0</td><td>5.6</td><td>snow</td></tr><tr><th>18</th><td>2012-01-18</td><td>19.8</td><td>0.0</td><td>-2.8</td><td>5.0</td><td>snow</td></tr><tr><th>19</th><td>2012-01-19</td><td>15.2</td><td>-1.1</td><td>-2.8</td><td>1.6</td><td>snow</td></tr><tr><th>20</th><td>2012-01-20</td><td>13.5</td><td>7.2</td><td>-1.1</td><td>2.3</td><td>snow</td></tr><tr><th>21</th><td>2012-01-21</td><td>3.0</td><td>8.3</td><td>3.3</td><td>8.2</td><td>rain</td></tr><tr><th>22</th><td>2012-01-22</td><td>6.1</td><td>6.7</td><td>2.2</td><td>4.8</td><td>rain</td></tr><tr><th>23</th><td>2012-01-23</td><td>0.0</td><td>8.3</td><td>1.1</td><td>3.6</td><td>rain</td></tr><tr><th>24</th><td>2012-01-24</td><td>8.6</td><td>10.0</td><td>2.2</td><td>5.1</td><td>rain</td></tr><tr><th>25</th><td>2012-01-25</td><td>8.1</td><td>8.9</td><td>4.4</td><td>5.4</td><td>rain</td></tr><tr><th>26</th><td>2012-01-26</td><td>4.8</td><td>8.9</td><td>1.1</td><td>4.8</td><td>rain</td></tr><tr><th>27</th><td>2012-01-27</td><td>0.0</td><td>6.7</td><td>-2.2</td><td>1.4</td><td>drizzle</td></tr><tr><th>28</th><td>2012-01-28</td><td>0.0</td><td>6.7</td><td>0.6</td><td>2.2</td><td>rain</td></tr><tr><th>29</th><td>2012-01-29</td><td>27.7</td><td>9.4</td><td>3.9</td><td>4.5</td><td>rain</td></tr><tr><th>30</th><td>2012-01-30</td><td>3.6</td><td>8.3</td><td>6.1</td><td>5.1</td><td>rain</td></tr><tr><th>&vellip;</th><td>&vellip;</td><td>&vellip;</td><td>&vellip;</td><td>&vellip;</td><td>&vellip;</td><td>&vellip;</td></tr></tbody></table>"
      ],
      "text/latex": [
       "\\begin{tabular}{r|cccccc}\n",
       "\t& date & precipitation & temp\\_max & temp\\_min & wind & weather\\\\\n",
       "\t\\hline\n",
       "\t& Date & Float64 & Float64 & Float64 & Float64 & String\\\\\n",
       "\t\\hline\n",
       "\t1 & 2012-01-01 & 0.0 & 12.8 & 5.0 & 4.7 & drizzle \\\\\n",
       "\t2 & 2012-01-02 & 10.9 & 10.6 & 2.8 & 4.5 & rain \\\\\n",
       "\t3 & 2012-01-03 & 0.8 & 11.7 & 7.2 & 2.3 & rain \\\\\n",
       "\t4 & 2012-01-04 & 20.3 & 12.2 & 5.6 & 4.7 & rain \\\\\n",
       "\t5 & 2012-01-05 & 1.3 & 8.9 & 2.8 & 6.1 & rain \\\\\n",
       "\t6 & 2012-01-06 & 2.5 & 4.4 & 2.2 & 2.2 & rain \\\\\n",
       "\t7 & 2012-01-07 & 0.0 & 7.2 & 2.8 & 2.3 & rain \\\\\n",
       "\t8 & 2012-01-08 & 0.0 & 10.0 & 2.8 & 2.0 & sun \\\\\n",
       "\t9 & 2012-01-09 & 4.3 & 9.4 & 5.0 & 3.4 & rain \\\\\n",
       "\t10 & 2012-01-10 & 1.0 & 6.1 & 0.6 & 3.4 & rain \\\\\n",
       "\t11 & 2012-01-11 & 0.0 & 6.1 & -1.1 & 5.1 & sun \\\\\n",
       "\t12 & 2012-01-12 & 0.0 & 6.1 & -1.7 & 1.9 & sun \\\\\n",
       "\t13 & 2012-01-13 & 0.0 & 5.0 & -2.8 & 1.3 & sun \\\\\n",
       "\t14 & 2012-01-14 & 4.1 & 4.4 & 0.6 & 5.3 & snow \\\\\n",
       "\t15 & 2012-01-15 & 5.3 & 1.1 & -3.3 & 3.2 & snow \\\\\n",
       "\t16 & 2012-01-16 & 2.5 & 1.7 & -2.8 & 5.0 & snow \\\\\n",
       "\t17 & 2012-01-17 & 8.1 & 3.3 & 0.0 & 5.6 & snow \\\\\n",
       "\t18 & 2012-01-18 & 19.8 & 0.0 & -2.8 & 5.0 & snow \\\\\n",
       "\t19 & 2012-01-19 & 15.2 & -1.1 & -2.8 & 1.6 & snow \\\\\n",
       "\t20 & 2012-01-20 & 13.5 & 7.2 & -1.1 & 2.3 & snow \\\\\n",
       "\t21 & 2012-01-21 & 3.0 & 8.3 & 3.3 & 8.2 & rain \\\\\n",
       "\t22 & 2012-01-22 & 6.1 & 6.7 & 2.2 & 4.8 & rain \\\\\n",
       "\t23 & 2012-01-23 & 0.0 & 8.3 & 1.1 & 3.6 & rain \\\\\n",
       "\t24 & 2012-01-24 & 8.6 & 10.0 & 2.2 & 5.1 & rain \\\\\n",
       "\t25 & 2012-01-25 & 8.1 & 8.9 & 4.4 & 5.4 & rain \\\\\n",
       "\t26 & 2012-01-26 & 4.8 & 8.9 & 1.1 & 4.8 & rain \\\\\n",
       "\t27 & 2012-01-27 & 0.0 & 6.7 & -2.2 & 1.4 & drizzle \\\\\n",
       "\t28 & 2012-01-28 & 0.0 & 6.7 & 0.6 & 2.2 & rain \\\\\n",
       "\t29 & 2012-01-29 & 27.7 & 9.4 & 3.9 & 4.5 & rain \\\\\n",
       "\t30 & 2012-01-30 & 3.6 & 8.3 & 6.1 & 5.1 & rain \\\\\n",
       "\t$\\dots$ & $\\dots$ & $\\dots$ & $\\dots$ & $\\dots$ & $\\dots$ & $\\dots$ \\\\\n",
       "\\end{tabular}\n"
      ],
      "text/plain": [
       "\u001b[1m1461×6 DataFrame\u001b[0m\n",
       "\u001b[1m  Row \u001b[0m│\u001b[1m date       \u001b[0m\u001b[1m precipitation \u001b[0m\u001b[1m temp_max \u001b[0m\u001b[1m temp_min \u001b[0m\u001b[1m wind    \u001b[0m\u001b[1m weather \u001b[0m\n",
       "\u001b[1m      \u001b[0m│\u001b[90m Date       \u001b[0m\u001b[90m Float64       \u001b[0m\u001b[90m Float64  \u001b[0m\u001b[90m Float64  \u001b[0m\u001b[90m Float64 \u001b[0m\u001b[90m String  \u001b[0m\n",
       "──────┼─────────────────────────────────────────────────────────────────\n",
       "    1 │ 2012-01-01            0.0      12.8       5.0      4.7  drizzle\n",
       "    2 │ 2012-01-02           10.9      10.6       2.8      4.5  rain\n",
       "    3 │ 2012-01-03            0.8      11.7       7.2      2.3  rain\n",
       "    4 │ 2012-01-04           20.3      12.2       5.6      4.7  rain\n",
       "    5 │ 2012-01-05            1.3       8.9       2.8      6.1  rain\n",
       "    6 │ 2012-01-06            2.5       4.4       2.2      2.2  rain\n",
       "    7 │ 2012-01-07            0.0       7.2       2.8      2.3  rain\n",
       "    8 │ 2012-01-08            0.0      10.0       2.8      2.0  sun\n",
       "    9 │ 2012-01-09            4.3       9.4       5.0      3.4  rain\n",
       "   10 │ 2012-01-10            1.0       6.1       0.6      3.4  rain\n",
       "   11 │ 2012-01-11            0.0       6.1      -1.1      5.1  sun\n",
       "  ⋮   │     ⋮             ⋮           ⋮         ⋮         ⋮        ⋮\n",
       " 1452 │ 2015-12-22            4.6       7.8       2.8      5.0  rain\n",
       " 1453 │ 2015-12-23            6.1       5.0       2.8      7.6  rain\n",
       " 1454 │ 2015-12-24            2.5       5.6       2.2      4.3  rain\n",
       " 1455 │ 2015-12-25            5.8       5.0       2.2      1.5  rain\n",
       " 1456 │ 2015-12-26            0.0       4.4       0.0      2.5  sun\n",
       " 1457 │ 2015-12-27            8.6       4.4       1.7      2.9  rain\n",
       " 1458 │ 2015-12-28            1.5       5.0       1.7      1.3  rain\n",
       " 1459 │ 2015-12-29            0.0       7.2       0.6      2.6  fog\n",
       " 1460 │ 2015-12-30            0.0       5.6      -1.0      3.4  sun\n",
       " 1461 │ 2015-12-31            0.0       5.6      -2.1      3.5  sun\n",
       "\u001b[36m                                                       1440 rows omitted\u001b[0m"
      ]
     },
     "execution_count": 68,
     "metadata": {},
     "output_type": "execute_result"
    }
   ],
   "source": [
    "data3 = CSV.read(\"/home/useeffect/Desktop/Kaggle/seattle-weather.csv\",DataFrame)"
   ]
  },
  {
   "cell_type": "code",
   "execution_count": 18,
   "id": "7ca58bfb-3149-42de-a4b2-e1a349d64ce3",
   "metadata": {},
   "outputs": [
    {
     "data": {
      "text/html": [
       "<table class=\"data-frame\"><thead><tr><th></th><th>precipitation</th><th>temp_max</th><th>temp_min</th><th>wind</th><th>weather</th></tr><tr><th></th><th>Float64</th><th>Float64</th><th>Float64</th><th>Float64</th><th>String</th></tr></thead><tbody><p>1,461 rows × 5 columns</p><tr><th>1</th><td>0.0</td><td>12.8</td><td>5.0</td><td>4.7</td><td>drizzle</td></tr><tr><th>2</th><td>10.9</td><td>10.6</td><td>2.8</td><td>4.5</td><td>rain</td></tr><tr><th>3</th><td>0.8</td><td>11.7</td><td>7.2</td><td>2.3</td><td>rain</td></tr><tr><th>4</th><td>20.3</td><td>12.2</td><td>5.6</td><td>4.7</td><td>rain</td></tr><tr><th>5</th><td>1.3</td><td>8.9</td><td>2.8</td><td>6.1</td><td>rain</td></tr><tr><th>6</th><td>2.5</td><td>4.4</td><td>2.2</td><td>2.2</td><td>rain</td></tr><tr><th>7</th><td>0.0</td><td>7.2</td><td>2.8</td><td>2.3</td><td>rain</td></tr><tr><th>8</th><td>0.0</td><td>10.0</td><td>2.8</td><td>2.0</td><td>sun</td></tr><tr><th>9</th><td>4.3</td><td>9.4</td><td>5.0</td><td>3.4</td><td>rain</td></tr><tr><th>10</th><td>1.0</td><td>6.1</td><td>0.6</td><td>3.4</td><td>rain</td></tr><tr><th>11</th><td>0.0</td><td>6.1</td><td>-1.1</td><td>5.1</td><td>sun</td></tr><tr><th>12</th><td>0.0</td><td>6.1</td><td>-1.7</td><td>1.9</td><td>sun</td></tr><tr><th>13</th><td>0.0</td><td>5.0</td><td>-2.8</td><td>1.3</td><td>sun</td></tr><tr><th>14</th><td>4.1</td><td>4.4</td><td>0.6</td><td>5.3</td><td>snow</td></tr><tr><th>15</th><td>5.3</td><td>1.1</td><td>-3.3</td><td>3.2</td><td>snow</td></tr><tr><th>16</th><td>2.5</td><td>1.7</td><td>-2.8</td><td>5.0</td><td>snow</td></tr><tr><th>17</th><td>8.1</td><td>3.3</td><td>0.0</td><td>5.6</td><td>snow</td></tr><tr><th>18</th><td>19.8</td><td>0.0</td><td>-2.8</td><td>5.0</td><td>snow</td></tr><tr><th>19</th><td>15.2</td><td>-1.1</td><td>-2.8</td><td>1.6</td><td>snow</td></tr><tr><th>20</th><td>13.5</td><td>7.2</td><td>-1.1</td><td>2.3</td><td>snow</td></tr><tr><th>21</th><td>3.0</td><td>8.3</td><td>3.3</td><td>8.2</td><td>rain</td></tr><tr><th>22</th><td>6.1</td><td>6.7</td><td>2.2</td><td>4.8</td><td>rain</td></tr><tr><th>23</th><td>0.0</td><td>8.3</td><td>1.1</td><td>3.6</td><td>rain</td></tr><tr><th>24</th><td>8.6</td><td>10.0</td><td>2.2</td><td>5.1</td><td>rain</td></tr><tr><th>25</th><td>8.1</td><td>8.9</td><td>4.4</td><td>5.4</td><td>rain</td></tr><tr><th>26</th><td>4.8</td><td>8.9</td><td>1.1</td><td>4.8</td><td>rain</td></tr><tr><th>27</th><td>0.0</td><td>6.7</td><td>-2.2</td><td>1.4</td><td>drizzle</td></tr><tr><th>28</th><td>0.0</td><td>6.7</td><td>0.6</td><td>2.2</td><td>rain</td></tr><tr><th>29</th><td>27.7</td><td>9.4</td><td>3.9</td><td>4.5</td><td>rain</td></tr><tr><th>30</th><td>3.6</td><td>8.3</td><td>6.1</td><td>5.1</td><td>rain</td></tr><tr><th>&vellip;</th><td>&vellip;</td><td>&vellip;</td><td>&vellip;</td><td>&vellip;</td><td>&vellip;</td></tr></tbody></table>"
      ],
      "text/latex": [
       "\\begin{tabular}{r|ccccc}\n",
       "\t& precipitation & temp\\_max & temp\\_min & wind & weather\\\\\n",
       "\t\\hline\n",
       "\t& Float64 & Float64 & Float64 & Float64 & String\\\\\n",
       "\t\\hline\n",
       "\t1 & 0.0 & 12.8 & 5.0 & 4.7 & drizzle \\\\\n",
       "\t2 & 10.9 & 10.6 & 2.8 & 4.5 & rain \\\\\n",
       "\t3 & 0.8 & 11.7 & 7.2 & 2.3 & rain \\\\\n",
       "\t4 & 20.3 & 12.2 & 5.6 & 4.7 & rain \\\\\n",
       "\t5 & 1.3 & 8.9 & 2.8 & 6.1 & rain \\\\\n",
       "\t6 & 2.5 & 4.4 & 2.2 & 2.2 & rain \\\\\n",
       "\t7 & 0.0 & 7.2 & 2.8 & 2.3 & rain \\\\\n",
       "\t8 & 0.0 & 10.0 & 2.8 & 2.0 & sun \\\\\n",
       "\t9 & 4.3 & 9.4 & 5.0 & 3.4 & rain \\\\\n",
       "\t10 & 1.0 & 6.1 & 0.6 & 3.4 & rain \\\\\n",
       "\t11 & 0.0 & 6.1 & -1.1 & 5.1 & sun \\\\\n",
       "\t12 & 0.0 & 6.1 & -1.7 & 1.9 & sun \\\\\n",
       "\t13 & 0.0 & 5.0 & -2.8 & 1.3 & sun \\\\\n",
       "\t14 & 4.1 & 4.4 & 0.6 & 5.3 & snow \\\\\n",
       "\t15 & 5.3 & 1.1 & -3.3 & 3.2 & snow \\\\\n",
       "\t16 & 2.5 & 1.7 & -2.8 & 5.0 & snow \\\\\n",
       "\t17 & 8.1 & 3.3 & 0.0 & 5.6 & snow \\\\\n",
       "\t18 & 19.8 & 0.0 & -2.8 & 5.0 & snow \\\\\n",
       "\t19 & 15.2 & -1.1 & -2.8 & 1.6 & snow \\\\\n",
       "\t20 & 13.5 & 7.2 & -1.1 & 2.3 & snow \\\\\n",
       "\t21 & 3.0 & 8.3 & 3.3 & 8.2 & rain \\\\\n",
       "\t22 & 6.1 & 6.7 & 2.2 & 4.8 & rain \\\\\n",
       "\t23 & 0.0 & 8.3 & 1.1 & 3.6 & rain \\\\\n",
       "\t24 & 8.6 & 10.0 & 2.2 & 5.1 & rain \\\\\n",
       "\t25 & 8.1 & 8.9 & 4.4 & 5.4 & rain \\\\\n",
       "\t26 & 4.8 & 8.9 & 1.1 & 4.8 & rain \\\\\n",
       "\t27 & 0.0 & 6.7 & -2.2 & 1.4 & drizzle \\\\\n",
       "\t28 & 0.0 & 6.7 & 0.6 & 2.2 & rain \\\\\n",
       "\t29 & 27.7 & 9.4 & 3.9 & 4.5 & rain \\\\\n",
       "\t30 & 3.6 & 8.3 & 6.1 & 5.1 & rain \\\\\n",
       "\t$\\dots$ & $\\dots$ & $\\dots$ & $\\dots$ & $\\dots$ & $\\dots$ \\\\\n",
       "\\end{tabular}\n"
      ],
      "text/plain": [
       "\u001b[1m1461×5 DataFrame\u001b[0m\n",
       "\u001b[1m  Row \u001b[0m│\u001b[1m precipitation \u001b[0m\u001b[1m temp_max \u001b[0m\u001b[1m temp_min \u001b[0m\u001b[1m wind    \u001b[0m\u001b[1m weather \u001b[0m\n",
       "\u001b[1m      \u001b[0m│\u001b[90m Float64       \u001b[0m\u001b[90m Float64  \u001b[0m\u001b[90m Float64  \u001b[0m\u001b[90m Float64 \u001b[0m\u001b[90m String  \u001b[0m\n",
       "──────┼─────────────────────────────────────────────────────\n",
       "    1 │           0.0      12.8       5.0      4.7  drizzle\n",
       "    2 │          10.9      10.6       2.8      4.5  rain\n",
       "    3 │           0.8      11.7       7.2      2.3  rain\n",
       "    4 │          20.3      12.2       5.6      4.7  rain\n",
       "    5 │           1.3       8.9       2.8      6.1  rain\n",
       "    6 │           2.5       4.4       2.2      2.2  rain\n",
       "    7 │           0.0       7.2       2.8      2.3  rain\n",
       "    8 │           0.0      10.0       2.8      2.0  sun\n",
       "    9 │           4.3       9.4       5.0      3.4  rain\n",
       "   10 │           1.0       6.1       0.6      3.4  rain\n",
       "   11 │           0.0       6.1      -1.1      5.1  sun\n",
       "  ⋮   │       ⋮           ⋮         ⋮         ⋮        ⋮\n",
       " 1452 │           4.6       7.8       2.8      5.0  rain\n",
       " 1453 │           6.1       5.0       2.8      7.6  rain\n",
       " 1454 │           2.5       5.6       2.2      4.3  rain\n",
       " 1455 │           5.8       5.0       2.2      1.5  rain\n",
       " 1456 │           0.0       4.4       0.0      2.5  sun\n",
       " 1457 │           8.6       4.4       1.7      2.9  rain\n",
       " 1458 │           1.5       5.0       1.7      1.3  rain\n",
       " 1459 │           0.0       7.2       0.6      2.6  fog\n",
       " 1460 │           0.0       5.6      -1.0      3.4  sun\n",
       " 1461 │           0.0       5.6      -2.1      3.5  sun\n",
       "\u001b[36m                                           1440 rows omitted\u001b[0m"
      ]
     },
     "execution_count": 18,
     "metadata": {},
     "output_type": "execute_result"
    }
   ],
   "source": [
    "select(data3, Not(:date))"
   ]
  },
  {
   "cell_type": "code",
   "execution_count": 19,
   "id": "feef788e-e8b6-4927-a3bb-0c0019a15003",
   "metadata": {},
   "outputs": [
    {
     "data": {
      "text/plain": [
       "Plots.GRBackend()"
      ]
     },
     "execution_count": 19,
     "metadata": {},
     "output_type": "execute_result"
    }
   ],
   "source": [
    "\n",
    "gr()"
   ]
  },
  {
   "cell_type": "code",
   "execution_count": 70,
   "id": "ca4f61b6-dc34-46c4-bed3-1a0795f23718",
   "metadata": {},
   "outputs": [
    {
     "data": {
      "text/plain": [
       "4×4 Matrix{Float64}:\n",
       "  1.0       -0.228555  -0.072684    0.328045\n",
       " -0.228555   1.0        0.875687   -0.164857\n",
       " -0.072684   0.875687   1.0        -0.0741852\n",
       "  0.328045  -0.164857  -0.0741852   1.0"
      ]
     },
     "execution_count": 70,
     "metadata": {},
     "output_type": "execute_result"
    }
   ],
   "source": [
    "# plot(cors)\n",
    "cors"
   ]
  },
  {
   "cell_type": "code",
   "execution_count": 21,
   "id": "ffb935b2-f499-4eff-9a70-f1e4792ef5ba",
   "metadata": {},
   "outputs": [
    {
     "data": {
      "text/html": [
       "<table class=\"data-frame\"><thead><tr><th></th><th>variable</th><th>mean</th><th>min</th><th>median</th><th>max</th><th>nmissing</th><th>eltype</th></tr><tr><th></th><th>Symbol</th><th>Float64</th><th>Float64</th><th>Float64</th><th>Float64</th><th>Int64</th><th>DataType</th></tr></thead><tbody><p>4 rows × 7 columns</p><tr><th>1</th><td>precipitation</td><td>3.02943</td><td>0.0</td><td>0.0</td><td>55.9</td><td>0</td><td>Float64</td></tr><tr><th>2</th><td>temp_max</td><td>16.4391</td><td>-1.6</td><td>15.6</td><td>35.6</td><td>0</td><td>Float64</td></tr><tr><th>3</th><td>temp_min</td><td>8.23477</td><td>-7.1</td><td>8.3</td><td>18.3</td><td>0</td><td>Float64</td></tr><tr><th>4</th><td>wind</td><td>3.24114</td><td>0.4</td><td>3.0</td><td>9.5</td><td>0</td><td>Float64</td></tr></tbody></table>"
      ],
      "text/latex": [
       "\\begin{tabular}{r|ccccccc}\n",
       "\t& variable & mean & min & median & max & nmissing & eltype\\\\\n",
       "\t\\hline\n",
       "\t& Symbol & Float64 & Float64 & Float64 & Float64 & Int64 & DataType\\\\\n",
       "\t\\hline\n",
       "\t1 & precipitation & 3.02943 & 0.0 & 0.0 & 55.9 & 0 & Float64 \\\\\n",
       "\t2 & temp\\_max & 16.4391 & -1.6 & 15.6 & 35.6 & 0 & Float64 \\\\\n",
       "\t3 & temp\\_min & 8.23477 & -7.1 & 8.3 & 18.3 & 0 & Float64 \\\\\n",
       "\t4 & wind & 3.24114 & 0.4 & 3.0 & 9.5 & 0 & Float64 \\\\\n",
       "\\end{tabular}\n"
      ],
      "text/plain": [
       "\u001b[1m4×7 DataFrame\u001b[0m\n",
       "\u001b[1m Row \u001b[0m│\u001b[1m variable      \u001b[0m\u001b[1m mean     \u001b[0m\u001b[1m min     \u001b[0m\u001b[1m median  \u001b[0m\u001b[1m max     \u001b[0m\u001b[1m nmissing \u001b[0m\u001b[1m eltype   \u001b[0m\n",
       "\u001b[1m     \u001b[0m│\u001b[90m Symbol        \u001b[0m\u001b[90m Float64  \u001b[0m\u001b[90m Float64 \u001b[0m\u001b[90m Float64 \u001b[0m\u001b[90m Float64 \u001b[0m\u001b[90m Int64    \u001b[0m\u001b[90m DataType \u001b[0m\n",
       "─────┼────────────────────────────────────────────────────────────────────────\n",
       "   1 │ precipitation   3.02943      0.0      0.0     55.9         0  Float64\n",
       "   2 │ temp_max       16.4391      -1.6     15.6     35.6         0  Float64\n",
       "   3 │ temp_min        8.23477     -7.1      8.3     18.3         0  Float64\n",
       "   4 │ wind            3.24114      0.4      3.0      9.5         0  Float64"
      ]
     },
     "execution_count": 21,
     "metadata": {},
     "output_type": "execute_result"
    }
   ],
   "source": [
    "names(data)\n",
    "describe(data)"
   ]
  },
  {
   "cell_type": "code",
   "execution_count": 22,
   "id": "801df4b8-39af-4499-9886-9cf62cd3ed24",
   "metadata": {},
   "outputs": [],
   "source": [
    "coerce!(data, :weather => OrderedFactor{6});"
   ]
  },
  {
   "cell_type": "code",
   "execution_count": 23,
   "id": "2c354cbb-4973-43f8-b4c2-a1fd3cf21ccc",
   "metadata": {},
   "outputs": [
    {
     "data": {
      "text/html": [
       "<table class=\"data-frame\"><thead><tr><th></th><th>variable</th><th>mean</th><th>min</th><th>median</th><th>max</th><th>nmissing</th><th>eltype</th></tr><tr><th></th><th>Symbol</th><th>Union…</th><th>Any</th><th>Any</th><th>Any</th><th>Int64</th><th>DataType</th></tr></thead><tbody><p>6 rows × 7 columns</p><tr><th>1</th><td>date</td><td></td><td>2012-01-01</td><td>2013-12-31</td><td>2015-12-31</td><td>0</td><td>Date</td></tr><tr><th>2</th><td>precipitation</td><td>3.02943</td><td>0.0</td><td>0.0</td><td>55.9</td><td>0</td><td>Float64</td></tr><tr><th>3</th><td>temp_max</td><td>16.4391</td><td>-1.6</td><td>15.6</td><td>35.6</td><td>0</td><td>Float64</td></tr><tr><th>4</th><td>temp_min</td><td>8.23477</td><td>-7.1</td><td>8.3</td><td>18.3</td><td>0</td><td>Float64</td></tr><tr><th>5</th><td>wind</td><td>3.24114</td><td>0.4</td><td>3.0</td><td>9.5</td><td>0</td><td>Float64</td></tr><tr><th>6</th><td>weather</td><td></td><td>drizzle</td><td></td><td>sun</td><td>0</td><td>String</td></tr></tbody></table>"
      ],
      "text/latex": [
       "\\begin{tabular}{r|ccccccc}\n",
       "\t& variable & mean & min & median & max & nmissing & eltype\\\\\n",
       "\t\\hline\n",
       "\t& Symbol & Union… & Any & Any & Any & Int64 & DataType\\\\\n",
       "\t\\hline\n",
       "\t1 & date &  & 2012-01-01 & 2013-12-31 & 2015-12-31 & 0 & Date \\\\\n",
       "\t2 & precipitation & 3.02943 & 0.0 & 0.0 & 55.9 & 0 & Float64 \\\\\n",
       "\t3 & temp\\_max & 16.4391 & -1.6 & 15.6 & 35.6 & 0 & Float64 \\\\\n",
       "\t4 & temp\\_min & 8.23477 & -7.1 & 8.3 & 18.3 & 0 & Float64 \\\\\n",
       "\t5 & wind & 3.24114 & 0.4 & 3.0 & 9.5 & 0 & Float64 \\\\\n",
       "\t6 & weather &  & drizzle &  & sun & 0 & String \\\\\n",
       "\\end{tabular}\n"
      ],
      "text/plain": [
       "\u001b[1m6×7 DataFrame\u001b[0m\n",
       "\u001b[1m Row \u001b[0m│\u001b[1m variable      \u001b[0m\u001b[1m mean    \u001b[0m\u001b[1m min        \u001b[0m\u001b[1m median     \u001b[0m\u001b[1m max        \u001b[0m\u001b[1m nmissing \u001b[0m\u001b[1m e\u001b[0m ⋯\n",
       "\u001b[1m     \u001b[0m│\u001b[90m Symbol        \u001b[0m\u001b[90m Union…  \u001b[0m\u001b[90m Any        \u001b[0m\u001b[90m Any        \u001b[0m\u001b[90m Any        \u001b[0m\u001b[90m Int64    \u001b[0m\u001b[90m D\u001b[0m ⋯\n",
       "─────┼──────────────────────────────────────────────────────────────────────────\n",
       "   1 │ date          \u001b[90m         \u001b[0m 2012-01-01  2013-12-31  2015-12-31         0  D ⋯\n",
       "   2 │ precipitation  3.02943  0.0         0.0         55.9               0  F\n",
       "   3 │ temp_max       16.4391  -1.6        15.6        35.6               0  F\n",
       "   4 │ temp_min       8.23477  -7.1        8.3         18.3               0  F\n",
       "   5 │ wind           3.24114  0.4         3.0         9.5                0  F ⋯\n",
       "   6 │ weather       \u001b[90m         \u001b[0m drizzle    \u001b[90m            \u001b[0m sun                0  S\n",
       "\u001b[36m                                                                1 column omitted\u001b[0m"
      ]
     },
     "execution_count": 23,
     "metadata": {},
     "output_type": "execute_result"
    }
   ],
   "source": [
    "describe(data3)"
   ]
  },
  {
   "cell_type": "code",
   "execution_count": 24,
   "id": "9861dd40-abc7-4101-9921-c009d230fbb8",
   "metadata": {},
   "outputs": [
    {
     "data": {
      "text/plain": [
       "6-element Vector{String}:\n",
       " \"date\"\n",
       " \"precipitation\"\n",
       " \"temp_max\"\n",
       " \"temp_min\"\n",
       " \"wind\"\n",
       " \"weather\""
      ]
     },
     "execution_count": 24,
     "metadata": {},
     "output_type": "execute_result"
    }
   ],
   "source": [
    "names(data3)"
   ]
  },
  {
   "cell_type": "code",
   "execution_count": 25,
   "id": "cbea26a9-a950-41a0-b5b1-9ea398828648",
   "metadata": {},
   "outputs": [
    {
     "data": {
      "text/html": [
       "<table class=\"data-frame\"><thead><tr><th></th><th>precipitation</th><th>temp_max</th><th>temp_min</th><th>wind</th><th>weather</th></tr><tr><th></th><th>Float64</th><th>Float64</th><th>Float64</th><th>Float64</th><th>String</th></tr></thead><tbody><p>1,461 rows × 5 columns</p><tr><th>1</th><td>0.0</td><td>12.8</td><td>5.0</td><td>4.7</td><td>drizzle</td></tr><tr><th>2</th><td>10.9</td><td>10.6</td><td>2.8</td><td>4.5</td><td>rain</td></tr><tr><th>3</th><td>0.8</td><td>11.7</td><td>7.2</td><td>2.3</td><td>rain</td></tr><tr><th>4</th><td>20.3</td><td>12.2</td><td>5.6</td><td>4.7</td><td>rain</td></tr><tr><th>5</th><td>1.3</td><td>8.9</td><td>2.8</td><td>6.1</td><td>rain</td></tr><tr><th>6</th><td>2.5</td><td>4.4</td><td>2.2</td><td>2.2</td><td>rain</td></tr><tr><th>7</th><td>0.0</td><td>7.2</td><td>2.8</td><td>2.3</td><td>rain</td></tr><tr><th>8</th><td>0.0</td><td>10.0</td><td>2.8</td><td>2.0</td><td>sun</td></tr><tr><th>9</th><td>4.3</td><td>9.4</td><td>5.0</td><td>3.4</td><td>rain</td></tr><tr><th>10</th><td>1.0</td><td>6.1</td><td>0.6</td><td>3.4</td><td>rain</td></tr><tr><th>11</th><td>0.0</td><td>6.1</td><td>-1.1</td><td>5.1</td><td>sun</td></tr><tr><th>12</th><td>0.0</td><td>6.1</td><td>-1.7</td><td>1.9</td><td>sun</td></tr><tr><th>13</th><td>0.0</td><td>5.0</td><td>-2.8</td><td>1.3</td><td>sun</td></tr><tr><th>14</th><td>4.1</td><td>4.4</td><td>0.6</td><td>5.3</td><td>snow</td></tr><tr><th>15</th><td>5.3</td><td>1.1</td><td>-3.3</td><td>3.2</td><td>snow</td></tr><tr><th>16</th><td>2.5</td><td>1.7</td><td>-2.8</td><td>5.0</td><td>snow</td></tr><tr><th>17</th><td>8.1</td><td>3.3</td><td>0.0</td><td>5.6</td><td>snow</td></tr><tr><th>18</th><td>19.8</td><td>0.0</td><td>-2.8</td><td>5.0</td><td>snow</td></tr><tr><th>19</th><td>15.2</td><td>-1.1</td><td>-2.8</td><td>1.6</td><td>snow</td></tr><tr><th>20</th><td>13.5</td><td>7.2</td><td>-1.1</td><td>2.3</td><td>snow</td></tr><tr><th>21</th><td>3.0</td><td>8.3</td><td>3.3</td><td>8.2</td><td>rain</td></tr><tr><th>22</th><td>6.1</td><td>6.7</td><td>2.2</td><td>4.8</td><td>rain</td></tr><tr><th>23</th><td>0.0</td><td>8.3</td><td>1.1</td><td>3.6</td><td>rain</td></tr><tr><th>24</th><td>8.6</td><td>10.0</td><td>2.2</td><td>5.1</td><td>rain</td></tr><tr><th>25</th><td>8.1</td><td>8.9</td><td>4.4</td><td>5.4</td><td>rain</td></tr><tr><th>26</th><td>4.8</td><td>8.9</td><td>1.1</td><td>4.8</td><td>rain</td></tr><tr><th>27</th><td>0.0</td><td>6.7</td><td>-2.2</td><td>1.4</td><td>drizzle</td></tr><tr><th>28</th><td>0.0</td><td>6.7</td><td>0.6</td><td>2.2</td><td>rain</td></tr><tr><th>29</th><td>27.7</td><td>9.4</td><td>3.9</td><td>4.5</td><td>rain</td></tr><tr><th>30</th><td>3.6</td><td>8.3</td><td>6.1</td><td>5.1</td><td>rain</td></tr><tr><th>&vellip;</th><td>&vellip;</td><td>&vellip;</td><td>&vellip;</td><td>&vellip;</td><td>&vellip;</td></tr></tbody></table>"
      ],
      "text/latex": [
       "\\begin{tabular}{r|ccccc}\n",
       "\t& precipitation & temp\\_max & temp\\_min & wind & weather\\\\\n",
       "\t\\hline\n",
       "\t& Float64 & Float64 & Float64 & Float64 & String\\\\\n",
       "\t\\hline\n",
       "\t1 & 0.0 & 12.8 & 5.0 & 4.7 & drizzle \\\\\n",
       "\t2 & 10.9 & 10.6 & 2.8 & 4.5 & rain \\\\\n",
       "\t3 & 0.8 & 11.7 & 7.2 & 2.3 & rain \\\\\n",
       "\t4 & 20.3 & 12.2 & 5.6 & 4.7 & rain \\\\\n",
       "\t5 & 1.3 & 8.9 & 2.8 & 6.1 & rain \\\\\n",
       "\t6 & 2.5 & 4.4 & 2.2 & 2.2 & rain \\\\\n",
       "\t7 & 0.0 & 7.2 & 2.8 & 2.3 & rain \\\\\n",
       "\t8 & 0.0 & 10.0 & 2.8 & 2.0 & sun \\\\\n",
       "\t9 & 4.3 & 9.4 & 5.0 & 3.4 & rain \\\\\n",
       "\t10 & 1.0 & 6.1 & 0.6 & 3.4 & rain \\\\\n",
       "\t11 & 0.0 & 6.1 & -1.1 & 5.1 & sun \\\\\n",
       "\t12 & 0.0 & 6.1 & -1.7 & 1.9 & sun \\\\\n",
       "\t13 & 0.0 & 5.0 & -2.8 & 1.3 & sun \\\\\n",
       "\t14 & 4.1 & 4.4 & 0.6 & 5.3 & snow \\\\\n",
       "\t15 & 5.3 & 1.1 & -3.3 & 3.2 & snow \\\\\n",
       "\t16 & 2.5 & 1.7 & -2.8 & 5.0 & snow \\\\\n",
       "\t17 & 8.1 & 3.3 & 0.0 & 5.6 & snow \\\\\n",
       "\t18 & 19.8 & 0.0 & -2.8 & 5.0 & snow \\\\\n",
       "\t19 & 15.2 & -1.1 & -2.8 & 1.6 & snow \\\\\n",
       "\t20 & 13.5 & 7.2 & -1.1 & 2.3 & snow \\\\\n",
       "\t21 & 3.0 & 8.3 & 3.3 & 8.2 & rain \\\\\n",
       "\t22 & 6.1 & 6.7 & 2.2 & 4.8 & rain \\\\\n",
       "\t23 & 0.0 & 8.3 & 1.1 & 3.6 & rain \\\\\n",
       "\t24 & 8.6 & 10.0 & 2.2 & 5.1 & rain \\\\\n",
       "\t25 & 8.1 & 8.9 & 4.4 & 5.4 & rain \\\\\n",
       "\t26 & 4.8 & 8.9 & 1.1 & 4.8 & rain \\\\\n",
       "\t27 & 0.0 & 6.7 & -2.2 & 1.4 & drizzle \\\\\n",
       "\t28 & 0.0 & 6.7 & 0.6 & 2.2 & rain \\\\\n",
       "\t29 & 27.7 & 9.4 & 3.9 & 4.5 & rain \\\\\n",
       "\t30 & 3.6 & 8.3 & 6.1 & 5.1 & rain \\\\\n",
       "\t$\\dots$ & $\\dots$ & $\\dots$ & $\\dots$ & $\\dots$ & $\\dots$ \\\\\n",
       "\\end{tabular}\n"
      ],
      "text/plain": [
       "\u001b[1m1461×5 DataFrame\u001b[0m\n",
       "\u001b[1m  Row \u001b[0m│\u001b[1m precipitation \u001b[0m\u001b[1m temp_max \u001b[0m\u001b[1m temp_min \u001b[0m\u001b[1m wind    \u001b[0m\u001b[1m weather \u001b[0m\n",
       "\u001b[1m      \u001b[0m│\u001b[90m Float64       \u001b[0m\u001b[90m Float64  \u001b[0m\u001b[90m Float64  \u001b[0m\u001b[90m Float64 \u001b[0m\u001b[90m String  \u001b[0m\n",
       "──────┼─────────────────────────────────────────────────────\n",
       "    1 │           0.0      12.8       5.0      4.7  drizzle\n",
       "    2 │          10.9      10.6       2.8      4.5  rain\n",
       "    3 │           0.8      11.7       7.2      2.3  rain\n",
       "    4 │          20.3      12.2       5.6      4.7  rain\n",
       "    5 │           1.3       8.9       2.8      6.1  rain\n",
       "    6 │           2.5       4.4       2.2      2.2  rain\n",
       "    7 │           0.0       7.2       2.8      2.3  rain\n",
       "    8 │           0.0      10.0       2.8      2.0  sun\n",
       "    9 │           4.3       9.4       5.0      3.4  rain\n",
       "   10 │           1.0       6.1       0.6      3.4  rain\n",
       "   11 │           0.0       6.1      -1.1      5.1  sun\n",
       "  ⋮   │       ⋮           ⋮         ⋮         ⋮        ⋮\n",
       " 1452 │           4.6       7.8       2.8      5.0  rain\n",
       " 1453 │           6.1       5.0       2.8      7.6  rain\n",
       " 1454 │           2.5       5.6       2.2      4.3  rain\n",
       " 1455 │           5.8       5.0       2.2      1.5  rain\n",
       " 1456 │           0.0       4.4       0.0      2.5  sun\n",
       " 1457 │           8.6       4.4       1.7      2.9  rain\n",
       " 1458 │           1.5       5.0       1.7      1.3  rain\n",
       " 1459 │           0.0       7.2       0.6      2.6  fog\n",
       " 1460 │           0.0       5.6      -1.0      3.4  sun\n",
       " 1461 │           0.0       5.6      -2.1      3.5  sun\n",
       "\u001b[36m                                           1440 rows omitted\u001b[0m"
      ]
     },
     "execution_count": 25,
     "metadata": {},
     "output_type": "execute_result"
    }
   ],
   "source": [
    "select(data3, Not(:date))"
   ]
  },
  {
   "cell_type": "code",
   "execution_count": 26,
   "id": "9c50d80c-dc1f-451e-9e2a-d8dba4781a67",
   "metadata": {},
   "outputs": [
    {
     "data": {
      "text/plain": [
       "MLLabelUtils.LabelEnc.NativeLabels{String, 5, typeof(identity)}(identity, [\"drizzle\", \"rain\", \"sun\", \"snow\", \"fog\"], Dict(\"fog\" => 5, \"sun\" => 3, \"snow\" => 4, \"rain\" => 2, \"drizzle\" => 1))"
      ]
     },
     "execution_count": 26,
     "metadata": {},
     "output_type": "execute_result"
    }
   ],
   "source": [
    "enc = labelenc(data3.weather)"
   ]
  },
  {
   "cell_type": "code",
   "execution_count": 27,
   "id": "321828ab-ee77-4c17-92b1-36b81ef89c2f",
   "metadata": {},
   "outputs": [
    {
     "data": {
      "text/plain": [
       "5×1461 Matrix{Int64}:\n",
       " 1  0  0  0  0  0  0  0  0  0  0  0  0  …  0  0  0  0  0  0  0  0  0  0  0  0\n",
       " 0  1  1  1  1  1  1  0  1  1  0  0  0     1  1  1  1  1  1  0  1  1  0  0  0\n",
       " 0  0  0  0  0  0  0  1  0  0  1  1  1     0  0  0  0  0  0  1  0  0  0  1  1\n",
       " 0  0  0  0  0  0  0  0  0  0  0  0  0     0  0  0  0  0  0  0  0  0  0  0  0\n",
       " 0  0  0  0  0  0  0  0  0  0  0  0  0     0  0  0  0  0  0  0  0  0  1  0  0"
      ]
     },
     "execution_count": 27,
     "metadata": {},
     "output_type": "execute_result"
    }
   ],
   "source": [
    "convertlabel(LabelEnc.OneOfK{Int64}, data3.weather)"
   ]
  },
  {
   "cell_type": "code",
   "execution_count": 28,
   "id": "fb218617-0aa2-4570-8693-158d26a95236",
   "metadata": {},
   "outputs": [
    {
     "data": {
      "text/plain": [
       "1461-element PooledArrays.PooledVector{String, UInt32, Vector{UInt32}}:\n",
       " \"drizzle\"\n",
       " \"rain\"\n",
       " \"rain\"\n",
       " \"rain\"\n",
       " \"rain\"\n",
       " \"rain\"\n",
       " \"rain\"\n",
       " \"sun\"\n",
       " \"rain\"\n",
       " \"rain\"\n",
       " \"sun\"\n",
       " \"sun\"\n",
       " \"sun\"\n",
       " ⋮\n",
       " \"rain\"\n",
       " \"rain\"\n",
       " \"rain\"\n",
       " \"rain\"\n",
       " \"rain\"\n",
       " \"rain\"\n",
       " \"sun\"\n",
       " \"rain\"\n",
       " \"rain\"\n",
       " \"fog\"\n",
       " \"sun\"\n",
       " \"sun\""
      ]
     },
     "execution_count": 28,
     "metadata": {},
     "output_type": "execute_result"
    }
   ],
   "source": [
    "data3.weather"
   ]
  },
  {
   "cell_type": "code",
   "execution_count": 29,
   "id": "f53befb5-ff78-4da2-b251-366a4b7f635a",
   "metadata": {},
   "outputs": [],
   "source": [
    "# for i in data3.weather\n",
    "#     if i == \"rain\"\n",
    "#         data3[!,:i]= 1        \n",
    "#     elseif i == \"sun\"\n",
    "#         i=2\n",
    "#     elseif i ==\"drizzle\"\n",
    "#         i=3\n",
    "#     elseif i == \"fog\"\n",
    "#         i=4\n",
    "#     elseif i ==\"snow\"\n",
    "#         i=5\n",
    "#     end\n",
    "#     i = i\n",
    "   \n",
    "# end"
   ]
  },
  {
   "cell_type": "code",
   "execution_count": 30,
   "id": "0cd24075-3970-4869-b40b-cda023c8b3e8",
   "metadata": {},
   "outputs": [],
   "source": [
    "# using PrettyPrinting,MLJ\n",
    "# using ScikitLearn\n",
    "\n"
   ]
  },
  {
   "cell_type": "code",
   "execution_count": 31,
   "id": "d5aa2063-1118-4894-835d-030ea8e187dc",
   "metadata": {},
   "outputs": [],
   "source": [
    "# DTC = @load DecisionTreeClassifier pkg=DecisionTree\n",
    "# @sk_import preprocessing: (LabelEncoder)\n"
   ]
  },
  {
   "cell_type": "code",
   "execution_count": 32,
   "id": "32323fe8-ef59-447f-bbbf-9d9e9e3b01b1",
   "metadata": {},
   "outputs": [
    {
     "data": {
      "text/plain": [
       "1461-element Vector{Int64}:\n",
       " 0\n",
       " 2\n",
       " 2\n",
       " 2\n",
       " 2\n",
       " 2\n",
       " 2\n",
       " 4\n",
       " 2\n",
       " 2\n",
       " 4\n",
       " 4\n",
       " 4\n",
       " ⋮\n",
       " 2\n",
       " 2\n",
       " 2\n",
       " 2\n",
       " 2\n",
       " 2\n",
       " 4\n",
       " 2\n",
       " 2\n",
       " 1\n",
       " 4\n",
       " 4"
      ]
     },
     "execution_count": 32,
     "metadata": {},
     "output_type": "execute_result"
    }
   ],
   "source": [
    "# @load DecisionTreeClassifier\n",
    "# pp = @pipeline OneHotDTC(\n",
    "#                 X -> coerce(X, :make=>Multiclass),\n",
    "#                 hot = OneHotEncoder(),\n",
    "#                 dtc = DecisionTreeClassifier())\n",
    "# X = select(data3, Not(:weather))\n",
    "# y = data3.weather\n",
    "# dtm = machine(pp, X, y)\n",
    "# fit!(dtm)\n",
    "data3.weather=LabelEncoder().fit_transform(data3.weather)"
   ]
  },
  {
   "cell_type": "code",
   "execution_count": 33,
   "id": "db39458f-f356-4cf4-99b6-add46d0e6b6f",
   "metadata": {},
   "outputs": [
    {
     "data": {
      "text/plain": [
       "1461-element Vector{Int64}:\n",
       " 0\n",
       " 2\n",
       " 2\n",
       " 2\n",
       " 2\n",
       " 2\n",
       " 2\n",
       " 4\n",
       " 2\n",
       " 2\n",
       " 4\n",
       " 4\n",
       " 4\n",
       " ⋮\n",
       " 2\n",
       " 2\n",
       " 2\n",
       " 2\n",
       " 2\n",
       " 2\n",
       " 4\n",
       " 2\n",
       " 2\n",
       " 1\n",
       " 4\n",
       " 4"
      ]
     },
     "execution_count": 33,
     "metadata": {},
     "output_type": "execute_result"
    }
   ],
   "source": [
    "data3.weather"
   ]
  },
  {
   "cell_type": "code",
   "execution_count": 34,
   "id": "9c799cff-c71c-43eb-adb4-e2a6727d2f45",
   "metadata": {},
   "outputs": [],
   "source": [
    "# using ScikitLearn.CrossValidation: train_test_split\n"
   ]
  },
  {
   "cell_type": "code",
   "execution_count": 35,
   "id": "83157b08-9e24-420e-855a-2c1b370e6e66",
   "metadata": {},
   "outputs": [
    {
     "data": {
      "text/html": [
       "<p>DataFrameRow (6 columns)</p><table class=\"data-frame\"><thead><tr><th></th><th>date</th><th>precipitation</th><th>temp_max</th><th>temp_min</th><th>wind</th><th>weather</th></tr><tr><th></th><th>Date</th><th>Float64</th><th>Float64</th><th>Float64</th><th>Float64</th><th>Int64</th></tr></thead><tbody><tr><th>1</th><td>2012-01-01</td><td>0.0</td><td>12.8</td><td>5.0</td><td>4.7</td><td>0</td></tr></tbody></table>"
      ],
      "text/latex": [
       "\\begin{tabular}{r|cccccc}\n",
       "\t& date & precipitation & temp\\_max & temp\\_min & wind & weather\\\\\n",
       "\t\\hline\n",
       "\t& Date & Float64 & Float64 & Float64 & Float64 & Int64\\\\\n",
       "\t\\hline\n",
       "\t1 & 2012-01-01 & 0.0 & 12.8 & 5.0 & 4.7 & 0 \\\\\n",
       "\\end{tabular}\n"
      ],
      "text/plain": [
       "\u001b[1mDataFrameRow\u001b[0m\n",
       "\u001b[1m Row \u001b[0m│\u001b[1m date       \u001b[0m\u001b[1m precipitation \u001b[0m\u001b[1m temp_max \u001b[0m\u001b[1m temp_min \u001b[0m\u001b[1m wind    \u001b[0m\u001b[1m weather \u001b[0m\n",
       "\u001b[1m     \u001b[0m│\u001b[90m Date       \u001b[0m\u001b[90m Float64       \u001b[0m\u001b[90m Float64  \u001b[0m\u001b[90m Float64  \u001b[0m\u001b[90m Float64 \u001b[0m\u001b[90m Int64   \u001b[0m\n",
       "─────┼─────────────────────────────────────────────────────────────────\n",
       "   1 │ 2012-01-01            0.0      12.8       5.0      4.7        0"
      ]
     },
     "execution_count": 35,
     "metadata": {},
     "output_type": "execute_result"
    }
   ],
   "source": [
    "first(data3)\n"
   ]
  },
  {
   "cell_type": "code",
   "execution_count": 36,
   "id": "95ae00a6-3593-4f23-9edc-64b834bd4e3b",
   "metadata": {},
   "outputs": [
    {
     "data": {
      "text/html": [
       "<table class=\"data-frame\"><thead><tr><th></th><th>precipitation</th><th>temp_max</th><th>temp_min</th><th>wind</th><th>weather</th></tr><tr><th></th><th>Float64</th><th>Float64</th><th>Float64</th><th>Float64</th><th>Int64</th></tr></thead><tbody><p>1,461 rows × 5 columns</p><tr><th>1</th><td>0.0</td><td>12.8</td><td>5.0</td><td>4.7</td><td>0</td></tr><tr><th>2</th><td>10.9</td><td>10.6</td><td>2.8</td><td>4.5</td><td>2</td></tr><tr><th>3</th><td>0.8</td><td>11.7</td><td>7.2</td><td>2.3</td><td>2</td></tr><tr><th>4</th><td>20.3</td><td>12.2</td><td>5.6</td><td>4.7</td><td>2</td></tr><tr><th>5</th><td>1.3</td><td>8.9</td><td>2.8</td><td>6.1</td><td>2</td></tr><tr><th>6</th><td>2.5</td><td>4.4</td><td>2.2</td><td>2.2</td><td>2</td></tr><tr><th>7</th><td>0.0</td><td>7.2</td><td>2.8</td><td>2.3</td><td>2</td></tr><tr><th>8</th><td>0.0</td><td>10.0</td><td>2.8</td><td>2.0</td><td>4</td></tr><tr><th>9</th><td>4.3</td><td>9.4</td><td>5.0</td><td>3.4</td><td>2</td></tr><tr><th>10</th><td>1.0</td><td>6.1</td><td>0.6</td><td>3.4</td><td>2</td></tr><tr><th>11</th><td>0.0</td><td>6.1</td><td>-1.1</td><td>5.1</td><td>4</td></tr><tr><th>12</th><td>0.0</td><td>6.1</td><td>-1.7</td><td>1.9</td><td>4</td></tr><tr><th>13</th><td>0.0</td><td>5.0</td><td>-2.8</td><td>1.3</td><td>4</td></tr><tr><th>14</th><td>4.1</td><td>4.4</td><td>0.6</td><td>5.3</td><td>3</td></tr><tr><th>15</th><td>5.3</td><td>1.1</td><td>-3.3</td><td>3.2</td><td>3</td></tr><tr><th>16</th><td>2.5</td><td>1.7</td><td>-2.8</td><td>5.0</td><td>3</td></tr><tr><th>17</th><td>8.1</td><td>3.3</td><td>0.0</td><td>5.6</td><td>3</td></tr><tr><th>18</th><td>19.8</td><td>0.0</td><td>-2.8</td><td>5.0</td><td>3</td></tr><tr><th>19</th><td>15.2</td><td>-1.1</td><td>-2.8</td><td>1.6</td><td>3</td></tr><tr><th>20</th><td>13.5</td><td>7.2</td><td>-1.1</td><td>2.3</td><td>3</td></tr><tr><th>21</th><td>3.0</td><td>8.3</td><td>3.3</td><td>8.2</td><td>2</td></tr><tr><th>22</th><td>6.1</td><td>6.7</td><td>2.2</td><td>4.8</td><td>2</td></tr><tr><th>23</th><td>0.0</td><td>8.3</td><td>1.1</td><td>3.6</td><td>2</td></tr><tr><th>24</th><td>8.6</td><td>10.0</td><td>2.2</td><td>5.1</td><td>2</td></tr><tr><th>25</th><td>8.1</td><td>8.9</td><td>4.4</td><td>5.4</td><td>2</td></tr><tr><th>26</th><td>4.8</td><td>8.9</td><td>1.1</td><td>4.8</td><td>2</td></tr><tr><th>27</th><td>0.0</td><td>6.7</td><td>-2.2</td><td>1.4</td><td>0</td></tr><tr><th>28</th><td>0.0</td><td>6.7</td><td>0.6</td><td>2.2</td><td>2</td></tr><tr><th>29</th><td>27.7</td><td>9.4</td><td>3.9</td><td>4.5</td><td>2</td></tr><tr><th>30</th><td>3.6</td><td>8.3</td><td>6.1</td><td>5.1</td><td>2</td></tr><tr><th>&vellip;</th><td>&vellip;</td><td>&vellip;</td><td>&vellip;</td><td>&vellip;</td><td>&vellip;</td></tr></tbody></table>"
      ],
      "text/latex": [
       "\\begin{tabular}{r|ccccc}\n",
       "\t& precipitation & temp\\_max & temp\\_min & wind & weather\\\\\n",
       "\t\\hline\n",
       "\t& Float64 & Float64 & Float64 & Float64 & Int64\\\\\n",
       "\t\\hline\n",
       "\t1 & 0.0 & 12.8 & 5.0 & 4.7 & 0 \\\\\n",
       "\t2 & 10.9 & 10.6 & 2.8 & 4.5 & 2 \\\\\n",
       "\t3 & 0.8 & 11.7 & 7.2 & 2.3 & 2 \\\\\n",
       "\t4 & 20.3 & 12.2 & 5.6 & 4.7 & 2 \\\\\n",
       "\t5 & 1.3 & 8.9 & 2.8 & 6.1 & 2 \\\\\n",
       "\t6 & 2.5 & 4.4 & 2.2 & 2.2 & 2 \\\\\n",
       "\t7 & 0.0 & 7.2 & 2.8 & 2.3 & 2 \\\\\n",
       "\t8 & 0.0 & 10.0 & 2.8 & 2.0 & 4 \\\\\n",
       "\t9 & 4.3 & 9.4 & 5.0 & 3.4 & 2 \\\\\n",
       "\t10 & 1.0 & 6.1 & 0.6 & 3.4 & 2 \\\\\n",
       "\t11 & 0.0 & 6.1 & -1.1 & 5.1 & 4 \\\\\n",
       "\t12 & 0.0 & 6.1 & -1.7 & 1.9 & 4 \\\\\n",
       "\t13 & 0.0 & 5.0 & -2.8 & 1.3 & 4 \\\\\n",
       "\t14 & 4.1 & 4.4 & 0.6 & 5.3 & 3 \\\\\n",
       "\t15 & 5.3 & 1.1 & -3.3 & 3.2 & 3 \\\\\n",
       "\t16 & 2.5 & 1.7 & -2.8 & 5.0 & 3 \\\\\n",
       "\t17 & 8.1 & 3.3 & 0.0 & 5.6 & 3 \\\\\n",
       "\t18 & 19.8 & 0.0 & -2.8 & 5.0 & 3 \\\\\n",
       "\t19 & 15.2 & -1.1 & -2.8 & 1.6 & 3 \\\\\n",
       "\t20 & 13.5 & 7.2 & -1.1 & 2.3 & 3 \\\\\n",
       "\t21 & 3.0 & 8.3 & 3.3 & 8.2 & 2 \\\\\n",
       "\t22 & 6.1 & 6.7 & 2.2 & 4.8 & 2 \\\\\n",
       "\t23 & 0.0 & 8.3 & 1.1 & 3.6 & 2 \\\\\n",
       "\t24 & 8.6 & 10.0 & 2.2 & 5.1 & 2 \\\\\n",
       "\t25 & 8.1 & 8.9 & 4.4 & 5.4 & 2 \\\\\n",
       "\t26 & 4.8 & 8.9 & 1.1 & 4.8 & 2 \\\\\n",
       "\t27 & 0.0 & 6.7 & -2.2 & 1.4 & 0 \\\\\n",
       "\t28 & 0.0 & 6.7 & 0.6 & 2.2 & 2 \\\\\n",
       "\t29 & 27.7 & 9.4 & 3.9 & 4.5 & 2 \\\\\n",
       "\t30 & 3.6 & 8.3 & 6.1 & 5.1 & 2 \\\\\n",
       "\t$\\dots$ & $\\dots$ & $\\dots$ & $\\dots$ & $\\dots$ & $\\dots$ \\\\\n",
       "\\end{tabular}\n"
      ],
      "text/plain": [
       "\u001b[1m1461×5 DataFrame\u001b[0m\n",
       "\u001b[1m  Row \u001b[0m│\u001b[1m precipitation \u001b[0m\u001b[1m temp_max \u001b[0m\u001b[1m temp_min \u001b[0m\u001b[1m wind    \u001b[0m\u001b[1m weather \u001b[0m\n",
       "\u001b[1m      \u001b[0m│\u001b[90m Float64       \u001b[0m\u001b[90m Float64  \u001b[0m\u001b[90m Float64  \u001b[0m\u001b[90m Float64 \u001b[0m\u001b[90m Int64   \u001b[0m\n",
       "──────┼─────────────────────────────────────────────────────\n",
       "    1 │           0.0      12.8       5.0      4.7        0\n",
       "    2 │          10.9      10.6       2.8      4.5        2\n",
       "    3 │           0.8      11.7       7.2      2.3        2\n",
       "    4 │          20.3      12.2       5.6      4.7        2\n",
       "    5 │           1.3       8.9       2.8      6.1        2\n",
       "    6 │           2.5       4.4       2.2      2.2        2\n",
       "    7 │           0.0       7.2       2.8      2.3        2\n",
       "    8 │           0.0      10.0       2.8      2.0        4\n",
       "    9 │           4.3       9.4       5.0      3.4        2\n",
       "   10 │           1.0       6.1       0.6      3.4        2\n",
       "   11 │           0.0       6.1      -1.1      5.1        4\n",
       "  ⋮   │       ⋮           ⋮         ⋮         ⋮        ⋮\n",
       " 1452 │           4.6       7.8       2.8      5.0        2\n",
       " 1453 │           6.1       5.0       2.8      7.6        2\n",
       " 1454 │           2.5       5.6       2.2      4.3        2\n",
       " 1455 │           5.8       5.0       2.2      1.5        2\n",
       " 1456 │           0.0       4.4       0.0      2.5        4\n",
       " 1457 │           8.6       4.4       1.7      2.9        2\n",
       " 1458 │           1.5       5.0       1.7      1.3        2\n",
       " 1459 │           0.0       7.2       0.6      2.6        1\n",
       " 1460 │           0.0       5.6      -1.0      3.4        4\n",
       " 1461 │           0.0       5.6      -2.1      3.5        4\n",
       "\u001b[36m                                           1440 rows omitted\u001b[0m"
      ]
     },
     "execution_count": 36,
     "metadata": {},
     "output_type": "execute_result"
    }
   ],
   "source": [
    "select!(data3, Not(:date))"
   ]
  },
  {
   "cell_type": "code",
   "execution_count": 37,
   "id": "f4c2c2d1-594f-421e-bf7c-2d30954f5ce1",
   "metadata": {},
   "outputs": [
    {
     "data": {
      "text/plain": [
       "1461×5 Matrix{Float64}:\n",
       "  0.0  12.8   5.0  4.7  0.0\n",
       " 10.9  10.6   2.8  4.5  2.0\n",
       "  0.8  11.7   7.2  2.3  2.0\n",
       " 20.3  12.2   5.6  4.7  2.0\n",
       "  1.3   8.9   2.8  6.1  2.0\n",
       "  2.5   4.4   2.2  2.2  2.0\n",
       "  0.0   7.2   2.8  2.3  2.0\n",
       "  0.0  10.0   2.8  2.0  4.0\n",
       "  4.3   9.4   5.0  3.4  2.0\n",
       "  1.0   6.1   0.6  3.4  2.0\n",
       "  0.0   6.1  -1.1  5.1  4.0\n",
       "  0.0   6.1  -1.7  1.9  4.0\n",
       "  0.0   5.0  -2.8  1.3  4.0\n",
       "  ⋮                     \n",
       "  4.3   7.8   4.4  6.7  2.0\n",
       " 27.4   5.6   2.8  4.3  2.0\n",
       "  4.6   7.8   2.8  5.0  2.0\n",
       "  6.1   5.0   2.8  7.6  2.0\n",
       "  2.5   5.6   2.2  4.3  2.0\n",
       "  5.8   5.0   2.2  1.5  2.0\n",
       "  0.0   4.4   0.0  2.5  4.0\n",
       "  8.6   4.4   1.7  2.9  2.0\n",
       "  1.5   5.0   1.7  1.3  2.0\n",
       "  0.0   7.2   0.6  2.6  1.0\n",
       "  0.0   5.6  -1.0  3.4  4.0\n",
       "  0.0   5.6  -2.1  3.5  4.0"
      ]
     },
     "execution_count": 37,
     "metadata": {},
     "output_type": "execute_result"
    }
   ],
   "source": [
    "Tables.Matrix(data3)"
   ]
  },
  {
   "cell_type": "code",
   "execution_count": 38,
   "id": "d39b1718-c777-4a75-8849-359089cb0622",
   "metadata": {},
   "outputs": [
    {
     "data": {
      "text/html": [
       "<table class=\"data-frame\"><thead><tr><th></th><th>precipitation</th><th>temp_max</th><th>temp_min</th><th>wind</th><th>weather</th></tr><tr><th></th><th>Float64</th><th>Float64</th><th>Float64</th><th>Float64</th><th>Float64</th></tr></thead><tbody><p>1,461 rows × 5 columns</p><tr><th>1</th><td>0.0</td><td>12.8</td><td>5.0</td><td>4.7</td><td>0.0</td></tr><tr><th>2</th><td>10.9</td><td>10.6</td><td>2.8</td><td>4.5</td><td>2.0</td></tr><tr><th>3</th><td>0.8</td><td>11.7</td><td>7.2</td><td>2.3</td><td>2.0</td></tr><tr><th>4</th><td>20.3</td><td>12.2</td><td>5.6</td><td>4.7</td><td>2.0</td></tr><tr><th>5</th><td>1.3</td><td>8.9</td><td>2.8</td><td>6.1</td><td>2.0</td></tr><tr><th>6</th><td>2.5</td><td>4.4</td><td>2.2</td><td>2.2</td><td>2.0</td></tr><tr><th>7</th><td>0.0</td><td>7.2</td><td>2.8</td><td>2.3</td><td>2.0</td></tr><tr><th>8</th><td>0.0</td><td>10.0</td><td>2.8</td><td>2.0</td><td>4.0</td></tr><tr><th>9</th><td>4.3</td><td>9.4</td><td>5.0</td><td>3.4</td><td>2.0</td></tr><tr><th>10</th><td>1.0</td><td>6.1</td><td>0.6</td><td>3.4</td><td>2.0</td></tr><tr><th>11</th><td>0.0</td><td>6.1</td><td>-1.1</td><td>5.1</td><td>4.0</td></tr><tr><th>12</th><td>0.0</td><td>6.1</td><td>-1.7</td><td>1.9</td><td>4.0</td></tr><tr><th>13</th><td>0.0</td><td>5.0</td><td>-2.8</td><td>1.3</td><td>4.0</td></tr><tr><th>14</th><td>4.1</td><td>4.4</td><td>0.6</td><td>5.3</td><td>3.0</td></tr><tr><th>15</th><td>5.3</td><td>1.1</td><td>-3.3</td><td>3.2</td><td>3.0</td></tr><tr><th>16</th><td>2.5</td><td>1.7</td><td>-2.8</td><td>5.0</td><td>3.0</td></tr><tr><th>17</th><td>8.1</td><td>3.3</td><td>0.0</td><td>5.6</td><td>3.0</td></tr><tr><th>18</th><td>19.8</td><td>0.0</td><td>-2.8</td><td>5.0</td><td>3.0</td></tr><tr><th>19</th><td>15.2</td><td>-1.1</td><td>-2.8</td><td>1.6</td><td>3.0</td></tr><tr><th>20</th><td>13.5</td><td>7.2</td><td>-1.1</td><td>2.3</td><td>3.0</td></tr><tr><th>21</th><td>3.0</td><td>8.3</td><td>3.3</td><td>8.2</td><td>2.0</td></tr><tr><th>22</th><td>6.1</td><td>6.7</td><td>2.2</td><td>4.8</td><td>2.0</td></tr><tr><th>23</th><td>0.0</td><td>8.3</td><td>1.1</td><td>3.6</td><td>2.0</td></tr><tr><th>24</th><td>8.6</td><td>10.0</td><td>2.2</td><td>5.1</td><td>2.0</td></tr><tr><th>25</th><td>8.1</td><td>8.9</td><td>4.4</td><td>5.4</td><td>2.0</td></tr><tr><th>26</th><td>4.8</td><td>8.9</td><td>1.1</td><td>4.8</td><td>2.0</td></tr><tr><th>27</th><td>0.0</td><td>6.7</td><td>-2.2</td><td>1.4</td><td>0.0</td></tr><tr><th>28</th><td>0.0</td><td>6.7</td><td>0.6</td><td>2.2</td><td>2.0</td></tr><tr><th>29</th><td>27.7</td><td>9.4</td><td>3.9</td><td>4.5</td><td>2.0</td></tr><tr><th>30</th><td>3.6</td><td>8.3</td><td>6.1</td><td>5.1</td><td>2.0</td></tr><tr><th>&vellip;</th><td>&vellip;</td><td>&vellip;</td><td>&vellip;</td><td>&vellip;</td><td>&vellip;</td></tr></tbody></table>"
      ],
      "text/latex": [
       "\\begin{tabular}{r|ccccc}\n",
       "\t& precipitation & temp\\_max & temp\\_min & wind & weather\\\\\n",
       "\t\\hline\n",
       "\t& Float64 & Float64 & Float64 & Float64 & Float64\\\\\n",
       "\t\\hline\n",
       "\t1 & 0.0 & 12.8 & 5.0 & 4.7 & 0.0 \\\\\n",
       "\t2 & 10.9 & 10.6 & 2.8 & 4.5 & 2.0 \\\\\n",
       "\t3 & 0.8 & 11.7 & 7.2 & 2.3 & 2.0 \\\\\n",
       "\t4 & 20.3 & 12.2 & 5.6 & 4.7 & 2.0 \\\\\n",
       "\t5 & 1.3 & 8.9 & 2.8 & 6.1 & 2.0 \\\\\n",
       "\t6 & 2.5 & 4.4 & 2.2 & 2.2 & 2.0 \\\\\n",
       "\t7 & 0.0 & 7.2 & 2.8 & 2.3 & 2.0 \\\\\n",
       "\t8 & 0.0 & 10.0 & 2.8 & 2.0 & 4.0 \\\\\n",
       "\t9 & 4.3 & 9.4 & 5.0 & 3.4 & 2.0 \\\\\n",
       "\t10 & 1.0 & 6.1 & 0.6 & 3.4 & 2.0 \\\\\n",
       "\t11 & 0.0 & 6.1 & -1.1 & 5.1 & 4.0 \\\\\n",
       "\t12 & 0.0 & 6.1 & -1.7 & 1.9 & 4.0 \\\\\n",
       "\t13 & 0.0 & 5.0 & -2.8 & 1.3 & 4.0 \\\\\n",
       "\t14 & 4.1 & 4.4 & 0.6 & 5.3 & 3.0 \\\\\n",
       "\t15 & 5.3 & 1.1 & -3.3 & 3.2 & 3.0 \\\\\n",
       "\t16 & 2.5 & 1.7 & -2.8 & 5.0 & 3.0 \\\\\n",
       "\t17 & 8.1 & 3.3 & 0.0 & 5.6 & 3.0 \\\\\n",
       "\t18 & 19.8 & 0.0 & -2.8 & 5.0 & 3.0 \\\\\n",
       "\t19 & 15.2 & -1.1 & -2.8 & 1.6 & 3.0 \\\\\n",
       "\t20 & 13.5 & 7.2 & -1.1 & 2.3 & 3.0 \\\\\n",
       "\t21 & 3.0 & 8.3 & 3.3 & 8.2 & 2.0 \\\\\n",
       "\t22 & 6.1 & 6.7 & 2.2 & 4.8 & 2.0 \\\\\n",
       "\t23 & 0.0 & 8.3 & 1.1 & 3.6 & 2.0 \\\\\n",
       "\t24 & 8.6 & 10.0 & 2.2 & 5.1 & 2.0 \\\\\n",
       "\t25 & 8.1 & 8.9 & 4.4 & 5.4 & 2.0 \\\\\n",
       "\t26 & 4.8 & 8.9 & 1.1 & 4.8 & 2.0 \\\\\n",
       "\t27 & 0.0 & 6.7 & -2.2 & 1.4 & 0.0 \\\\\n",
       "\t28 & 0.0 & 6.7 & 0.6 & 2.2 & 2.0 \\\\\n",
       "\t29 & 27.7 & 9.4 & 3.9 & 4.5 & 2.0 \\\\\n",
       "\t30 & 3.6 & 8.3 & 6.1 & 5.1 & 2.0 \\\\\n",
       "\t$\\dots$ & $\\dots$ & $\\dots$ & $\\dots$ & $\\dots$ & $\\dots$ \\\\\n",
       "\\end{tabular}\n"
      ],
      "text/plain": [
       "\u001b[1m1461×5 DataFrame\u001b[0m\n",
       "\u001b[1m  Row \u001b[0m│\u001b[1m precipitation \u001b[0m\u001b[1m temp_max \u001b[0m\u001b[1m temp_min \u001b[0m\u001b[1m wind    \u001b[0m\u001b[1m weather \u001b[0m\n",
       "\u001b[1m      \u001b[0m│\u001b[90m Float64       \u001b[0m\u001b[90m Float64  \u001b[0m\u001b[90m Float64  \u001b[0m\u001b[90m Float64 \u001b[0m\u001b[90m Float64 \u001b[0m\n",
       "──────┼─────────────────────────────────────────────────────\n",
       "    1 │           0.0      12.8       5.0      4.7      0.0\n",
       "    2 │          10.9      10.6       2.8      4.5      2.0\n",
       "    3 │           0.8      11.7       7.2      2.3      2.0\n",
       "    4 │          20.3      12.2       5.6      4.7      2.0\n",
       "    5 │           1.3       8.9       2.8      6.1      2.0\n",
       "    6 │           2.5       4.4       2.2      2.2      2.0\n",
       "    7 │           0.0       7.2       2.8      2.3      2.0\n",
       "    8 │           0.0      10.0       2.8      2.0      4.0\n",
       "    9 │           4.3       9.4       5.0      3.4      2.0\n",
       "   10 │           1.0       6.1       0.6      3.4      2.0\n",
       "   11 │           0.0       6.1      -1.1      5.1      4.0\n",
       "  ⋮   │       ⋮           ⋮         ⋮         ⋮        ⋮\n",
       " 1452 │           4.6       7.8       2.8      5.0      2.0\n",
       " 1453 │           6.1       5.0       2.8      7.6      2.0\n",
       " 1454 │           2.5       5.6       2.2      4.3      2.0\n",
       " 1455 │           5.8       5.0       2.2      1.5      2.0\n",
       " 1456 │           0.0       4.4       0.0      2.5      4.0\n",
       " 1457 │           8.6       4.4       1.7      2.9      2.0\n",
       " 1458 │           1.5       5.0       1.7      1.3      2.0\n",
       " 1459 │           0.0       7.2       0.6      2.6      1.0\n",
       " 1460 │           0.0       5.6      -1.0      3.4      4.0\n",
       " 1461 │           0.0       5.6      -2.1      3.5      4.0\n",
       "\u001b[36m                                           1440 rows omitted\u001b[0m"
      ]
     },
     "execution_count": 38,
     "metadata": {},
     "output_type": "execute_result"
    }
   ],
   "source": [
    "data3 = coerce(data3, Count => Continuous)"
   ]
  },
  {
   "cell_type": "code",
   "execution_count": 39,
   "id": "9322d0a2-7ee6-49ee-a62a-6e10719515f4",
   "metadata": {},
   "outputs": [],
   "source": [
    "x = select(data3, Not([ :weather]))\n",
    "y = data3.weather;"
   ]
  },
  {
   "cell_type": "code",
   "execution_count": 40,
   "id": "92d88a8b-b746-45d0-981c-e076e341a56c",
   "metadata": {},
   "outputs": [],
   "source": [
    "# using ScikitLearn.CrossValidation: cross_val_score\n",
    "# # @sk_import linear_model: LogisticRegression\n",
    "# using MLJ,PrettyPrinting\n",
    "# @sk_import preprocessing: StandardScaler\n"
   ]
  },
  {
   "cell_type": "code",
   "execution_count": null,
   "id": "dd228721-6f4d-430e-9ad0-339a3880962c",
   "metadata": {},
   "outputs": [],
   "source": [
    "\n",
    "Continuous"
   ]
  },
  {
   "cell_type": "code",
   "execution_count": 41,
   "id": "65f5f751-2424-4400-a981-9d5ebb4e70de",
   "metadata": {},
   "outputs": [],
   "source": [
    "# using ScikitLearn.CrossValidation: train_test_split"
   ]
  },
  {
   "cell_type": "code",
   "execution_count": 42,
   "id": "36570468-a1b4-497d-8d34-6606cc498fa3",
   "metadata": {},
   "outputs": [],
   "source": [
    "# x = fit_transform!(StandardScaler(), x)\n",
    "# Y = fit(Y)"
   ]
  },
  {
   "cell_type": "code",
   "execution_count": 43,
   "id": "ea0bc62d-8fcb-4b5b-8a08-683455dc1c57",
   "metadata": {},
   "outputs": [
    {
     "data": {
      "text/plain": [
       "(1461, 4)"
      ]
     },
     "execution_count": 43,
     "metadata": {},
     "output_type": "execute_result"
    }
   ],
   "source": [
    "size(x)"
   ]
  },
  {
   "cell_type": "code",
   "execution_count": 44,
   "id": "bafcdb8e-fe20-42ea-8bff-1cbd442830a4",
   "metadata": {},
   "outputs": [
    {
     "data": {
      "text/plain": [
       "(1461,)"
      ]
     },
     "execution_count": 44,
     "metadata": {},
     "output_type": "execute_result"
    }
   ],
   "source": [
    "size(y)"
   ]
  },
  {
   "cell_type": "code",
   "execution_count": 45,
   "id": "93c88139-cd70-4a63-92da-1c0d24700c5c",
   "metadata": {},
   "outputs": [],
   "source": [
    " # X_train, X_test, y_train, y_test = train_test_split(x, y, test_size=.4)"
   ]
  },
  {
   "cell_type": "code",
   "execution_count": 46,
   "id": "a841b8be-b793-40d0-8d9d-543e06f39a70",
   "metadata": {},
   "outputs": [
    {
     "name": "stdout",
     "output_type": "stream",
     "text": [
      "┌───────────────┬────────────┬────────────┬────────────┐\n",
      "│\u001b[1m precipitation \u001b[0m│\u001b[1m temp_max   \u001b[0m│\u001b[1m temp_min   \u001b[0m│\u001b[1m wind       \u001b[0m│\n",
      "│\u001b[90m Float64       \u001b[0m│\u001b[90m Float64    \u001b[0m│\u001b[90m Float64    \u001b[0m│\u001b[90m Float64    \u001b[0m│\n",
      "│\u001b[90m Continuous    \u001b[0m│\u001b[90m Continuous \u001b[0m│\u001b[90m Continuous \u001b[0m│\u001b[90m Continuous \u001b[0m│\n",
      "├───────────────┼────────────┼────────────┼────────────┤\n",
      "│ 0.0           │ 23.3       │ 12.2       │ 2.1        │\n",
      "└───────────────┴────────────┴────────────┴────────────┘\n"
     ]
    }
   ],
   "source": [
    "# model = LogisticRegression(fit_intercept=true)\n",
    "y,x = unpack(data3, ==(:weather),name->true;rng=123)\n",
    "first(x,1) |> pretty"
   ]
  },
  {
   "cell_type": "code",
   "execution_count": 47,
   "id": "e58227bd-71fd-4b4a-88b8-de35cc3749a5",
   "metadata": {},
   "outputs": [
    {
     "data": {
      "text/plain": [
       "59-element Vector{NamedTuple{(:name, :package_name, :is_supervised, :deep_properties, :docstring, :hyperparameter_ranges, :hyperparameter_types, :hyperparameters, :implemented_methods, :is_pure_julia, :is_wrapper, :iteration_parameter, :load_path, :package_license, :package_url, :package_uuid, :prediction_type, :supports_class_weights, :supports_online, :supports_training_losses, :supports_weights, :input_scitype, :target_scitype, :output_scitype)}}:\n",
       " (name = ARDRegressor, package_name = ScikitLearn, ... )\n",
       " (name = AdaBoostRegressor, package_name = ScikitLearn, ... )\n",
       " (name = BaggingRegressor, package_name = ScikitLearn, ... )\n",
       " (name = BayesianRidgeRegressor, package_name = ScikitLearn, ... )\n",
       " (name = ConstantRegressor, package_name = MLJModels, ... )\n",
       " (name = DecisionTreeRegressor, package_name = BetaML, ... )\n",
       " (name = DecisionTreeRegressor, package_name = DecisionTree, ... )\n",
       " (name = DeterministicConstantRegressor, package_name = MLJModels, ... )\n",
       " (name = DummyRegressor, package_name = ScikitLearn, ... )\n",
       " (name = ElasticNetCVRegressor, package_name = ScikitLearn, ... )\n",
       " (name = ElasticNetRegressor, package_name = MLJLinearModels, ... )\n",
       " (name = ElasticNetRegressor, package_name = ScikitLearn, ... )\n",
       " (name = EpsilonSVR, package_name = LIBSVM, ... )\n",
       " ⋮\n",
       " (name = RandomForestRegressor, package_name = ScikitLearn, ... )\n",
       " (name = RidgeCVRegressor, package_name = ScikitLearn, ... )\n",
       " (name = RidgeRegressor, package_name = MLJLinearModels, ... )\n",
       " (name = RidgeRegressor, package_name = MultivariateStats, ... )\n",
       " (name = RidgeRegressor, package_name = ScikitLearn, ... )\n",
       " (name = RobustRegressor, package_name = MLJLinearModels, ... )\n",
       " (name = SGDRegressor, package_name = ScikitLearn, ... )\n",
       " (name = SVMLinearRegressor, package_name = ScikitLearn, ... )\n",
       " (name = SVMNuRegressor, package_name = ScikitLearn, ... )\n",
       " (name = SVMRegressor, package_name = ScikitLearn, ... )\n",
       " (name = TheilSenRegressor, package_name = ScikitLearn, ... )\n",
       " (name = XGBoostRegressor, package_name = XGBoost, ... )"
      ]
     },
     "execution_count": 47,
     "metadata": {},
     "output_type": "execute_result"
    }
   ],
   "source": [
    "# ScikitLearn.fit!(model, x, Y)\n",
    "# accuracy = sum(predict(model, x) .== Y) / length(Y)\n",
    "# println(\"accuracy: $accuracy\")\n",
    "models(matching(x,y))\n"
   ]
  },
  {
   "cell_type": "code",
   "execution_count": 48,
   "id": "b7c59d51-00ba-4582-bb0b-2c593babf9d4",
   "metadata": {},
   "outputs": [
    {
     "data": {
      "text/html": [
       "<table class=\"data-frame\"><thead><tr><th></th><th>variable</th><th>mean</th><th>min</th><th>median</th><th>max</th><th>nmissing</th><th>eltype</th></tr><tr><th></th><th>Symbol</th><th>Float64</th><th>Float64</th><th>Float64</th><th>Float64</th><th>Int64</th><th>DataType</th></tr></thead><tbody><p>5 rows × 7 columns</p><tr><th>1</th><td>precipitation</td><td>3.02943</td><td>0.0</td><td>0.0</td><td>55.9</td><td>0</td><td>Float64</td></tr><tr><th>2</th><td>temp_max</td><td>16.4391</td><td>-1.6</td><td>15.6</td><td>35.6</td><td>0</td><td>Float64</td></tr><tr><th>3</th><td>temp_min</td><td>8.23477</td><td>-7.1</td><td>8.3</td><td>18.3</td><td>0</td><td>Float64</td></tr><tr><th>4</th><td>wind</td><td>3.24114</td><td>0.4</td><td>3.0</td><td>9.5</td><td>0</td><td>Float64</td></tr><tr><th>5</th><td>weather</td><td>2.75222</td><td>0.0</td><td>2.0</td><td>4.0</td><td>0</td><td>Float64</td></tr></tbody></table>"
      ],
      "text/latex": [
       "\\begin{tabular}{r|ccccccc}\n",
       "\t& variable & mean & min & median & max & nmissing & eltype\\\\\n",
       "\t\\hline\n",
       "\t& Symbol & Float64 & Float64 & Float64 & Float64 & Int64 & DataType\\\\\n",
       "\t\\hline\n",
       "\t1 & precipitation & 3.02943 & 0.0 & 0.0 & 55.9 & 0 & Float64 \\\\\n",
       "\t2 & temp\\_max & 16.4391 & -1.6 & 15.6 & 35.6 & 0 & Float64 \\\\\n",
       "\t3 & temp\\_min & 8.23477 & -7.1 & 8.3 & 18.3 & 0 & Float64 \\\\\n",
       "\t4 & wind & 3.24114 & 0.4 & 3.0 & 9.5 & 0 & Float64 \\\\\n",
       "\t5 & weather & 2.75222 & 0.0 & 2.0 & 4.0 & 0 & Float64 \\\\\n",
       "\\end{tabular}\n"
      ],
      "text/plain": [
       "\u001b[1m5×7 DataFrame\u001b[0m\n",
       "\u001b[1m Row \u001b[0m│\u001b[1m variable      \u001b[0m\u001b[1m mean     \u001b[0m\u001b[1m min     \u001b[0m\u001b[1m median  \u001b[0m\u001b[1m max     \u001b[0m\u001b[1m nmissing \u001b[0m\u001b[1m eltype   \u001b[0m\n",
       "\u001b[1m     \u001b[0m│\u001b[90m Symbol        \u001b[0m\u001b[90m Float64  \u001b[0m\u001b[90m Float64 \u001b[0m\u001b[90m Float64 \u001b[0m\u001b[90m Float64 \u001b[0m\u001b[90m Int64    \u001b[0m\u001b[90m DataType \u001b[0m\n",
       "─────┼────────────────────────────────────────────────────────────────────────\n",
       "   1 │ precipitation   3.02943      0.0      0.0     55.9         0  Float64\n",
       "   2 │ temp_max       16.4391      -1.6     15.6     35.6         0  Float64\n",
       "   3 │ temp_min        8.23477     -7.1      8.3     18.3         0  Float64\n",
       "   4 │ wind            3.24114      0.4      3.0      9.5         0  Float64\n",
       "   5 │ weather         2.75222      0.0      2.0      4.0         0  Float64"
      ]
     },
     "execution_count": 48,
     "metadata": {},
     "output_type": "execute_result"
    }
   ],
   "source": [
    "describe(data3)"
   ]
  },
  {
   "cell_type": "code",
   "execution_count": 49,
   "id": "4b218b5f-913d-4fe2-8e20-46d4d42cb327",
   "metadata": {},
   "outputs": [
    {
     "name": "stdout",
     "output_type": "stream",
     "text": [
      "import MLJGLMInterface ✔\n"
     ]
    },
    {
     "name": "stderr",
     "output_type": "stream",
     "text": [
      "┌ Info: For silent loading, specify `verbosity=0`. \n",
      "└ @ Main /home/useeffect/.julia/packages/MLJModels/w0uSt/src/loading.jl:168\n"
     ]
    },
    {
     "data": {
      "text/plain": [
       "MLJGLMInterface.LinearCountRegressor"
      ]
     },
     "execution_count": 49,
     "metadata": {},
     "output_type": "execute_result"
    }
   ],
   "source": [
    "Tree = @load LinearCountRegressor pkg=GLM\n"
   ]
  },
  {
   "cell_type": "code",
   "execution_count": 50,
   "id": "70681ade-e447-4064-ba99-6ccf83422953",
   "metadata": {},
   "outputs": [
    {
     "data": {
      "text/plain": [
       "LinearCountRegressor(\n",
       "    fit_intercept = true,\n",
       "    distribution = Distributions.Poisson{Float64}(λ=1.0),\n",
       "    link = GLM.LogLink(),\n",
       "    offsetcol = nothing,\n",
       "    maxiter = 30,\n",
       "    atol = 1.0e-6,\n",
       "    rtol = 1.0e-6,\n",
       "    minstepfac = 0.001,\n",
       "    report_keys = [:deviance, :dof_residual, :stderror, :vcov, :coef_table])\u001b[34m @855\u001b[39m"
      ]
     },
     "execution_count": 50,
     "metadata": {},
     "output_type": "execute_result"
    }
   ],
   "source": [
    "tree = Tree()"
   ]
  },
  {
   "cell_type": "code",
   "execution_count": 51,
   "id": "1c5edc13-0bcc-473f-81aa-497b3ac7d85f",
   "metadata": {},
   "outputs": [
    {
     "data": {
      "text/plain": [
       "([446, 422, 134, 1053, 552, 194, 1291, 380, 396, 1125  …  427, 1129, 1246, 231, 1032, 1110, 33, 438, 130, 190], [550, 342, 1133, 758, 1212, 398, 1028, 193, 684, 1024  …  915, 1055, 734, 733, 867, 1054, 596, 754, 1171, 48])"
      ]
     },
     "execution_count": 51,
     "metadata": {},
     "output_type": "execute_result"
    }
   ],
   "source": [
    "train, test = MLJ.partition(collect(eachindex(y)), 0.70, rng=52)"
   ]
  },
  {
   "cell_type": "code",
   "execution_count": 52,
   "id": "572111c0-cfe8-4759-aeb7-df8f490c5fe8",
   "metadata": {},
   "outputs": [],
   "source": [
    "mutable struct MyNetworkBuilder <: MLJFlux.Builder\n",
    "    n1::Int \n",
    "    n2::Int \n",
    "end\n"
   ]
  },
  {
   "cell_type": "code",
   "execution_count": 53,
   "id": "a8c175c8-8090-4680-a510-6b6be31d79bd",
   "metadata": {},
   "outputs": [],
   "source": [
    "function MLJFlux.build(model::MyNetworkBuilder, rng, n_in, n_out)\n",
    "    init = Flux.glorot_uniform(rng)\n",
    "    layer1 = Flux.Dense(n_in, model.n1, init=init)\n",
    "    layer2 = Flux.Dense(model.n1, model.n2, init=init)\n",
    "    layer3 = Flux.Dense(model.n2, n_out, init=init)\n",
    "    return Flux.Chain(layer1, layer2, layer3)\n",
    "end"
   ]
  },
  {
   "cell_type": "code",
   "execution_count": 54,
   "id": "597a89c9-0a98-41f6-bed4-e86a07045b58",
   "metadata": {},
   "outputs": [
    {
     "data": {
      "text/plain": [
       "\u001b[34mMyNetworkBuilder @869\u001b[39m\n"
      ]
     },
     "execution_count": 54,
     "metadata": {},
     "output_type": "execute_result"
    }
   ],
   "source": [
    "myclassifier = MyNetworkBuilder(20, 10)"
   ]
  },
  {
   "cell_type": "code",
   "execution_count": 55,
   "id": "e030c06f-cdd5-4a8c-945e-0bef2b1ec684",
   "metadata": {},
   "outputs": [
    {
     "name": "stdout",
     "output_type": "stream",
     "text": [
      "import MLJFlux ✔\n"
     ]
    },
    {
     "name": "stderr",
     "output_type": "stream",
     "text": [
      "┌ Info: For silent loading, specify `verbosity=0`. \n",
      "└ @ Main /home/useeffect/.julia/packages/MLJModels/w0uSt/src/loading.jl:168\n"
     ]
    },
    {
     "data": {
      "text/plain": [
       "NeuralNetworkRegressor(\n",
       "    builder = Linear(\n",
       "            σ = NNlib.relu),\n",
       "    optimiser = ADAM(0.001, (0.9, 0.999), 1.0e-8, IdDict{Any, Any}()),\n",
       "    loss = Flux.Losses.mse,\n",
       "    epochs = 10,\n",
       "    batch_size = 1,\n",
       "    lambda = 0.0,\n",
       "    alpha = 0.0,\n",
       "    optimiser_changes_trigger_retraining = false,\n",
       "    acceleration = CPU1{Nothing}(nothing))\u001b[34m @912\u001b[39m"
      ]
     },
     "execution_count": 55,
     "metadata": {},
     "output_type": "execute_result"
    }
   ],
   "source": [
    "NeuralNetworkClassifier = @load NeuralNetworkRegressor\n",
    "clf = NeuralNetworkClassifier()"
   ]
  },
  {
   "cell_type": "code",
   "execution_count": null,
   "id": "b5a8106a-9f1b-4d0f-8588-84ce5c10b1b5",
   "metadata": {},
   "outputs": [],
   "source": []
  },
  {
   "cell_type": "code",
   "execution_count": 56,
   "id": "8d3ada8a-c666-48b1-ae77-1553a72516e9",
   "metadata": {},
   "outputs": [
    {
     "data": {
      "text/plain": [
       "┌───────────────┬─────────┬────────────┐\n",
       "│\u001b[22m _.names       \u001b[0m│\u001b[22m _.types \u001b[0m│\u001b[22m _.scitypes \u001b[0m│\n",
       "├───────────────┼─────────┼────────────┤\n",
       "│ precipitation │ Float64 │ Continuous │\n",
       "│ temp_max      │ Float64 │ Continuous │\n",
       "│ temp_min      │ Float64 │ Continuous │\n",
       "│ wind          │ Float64 │ Continuous │\n",
       "│ weather       │ Float64 │ Continuous │\n",
       "└───────────────┴─────────┴────────────┘\n",
       "_.nrows = 1461\n"
      ]
     },
     "execution_count": 56,
     "metadata": {},
     "output_type": "execute_result"
    }
   ],
   "source": [
    "schema(data3)"
   ]
  },
  {
   "cell_type": "code",
   "execution_count": 57,
   "id": "ee756502-8a2d-4501-a4bc-72e106aef782",
   "metadata": {
    "scrolled": false
   },
   "outputs": [
    {
     "name": "stderr",
     "output_type": "stream",
     "text": [
      "┌ Info: Training \u001b[34mMachine{NeuralNetworkRegressor{Linear,…},…} @928\u001b[39m.\n",
      "└ @ MLJBase /home/useeffect/.julia/packages/MLJBase/KWyqX/src/machines.jl:342\n",
      "┌ Info: Loss is 26.49\n",
      "└ @ MLJFlux /home/useeffect/.julia/packages/MLJFlux/NTAl9/src/core.jl:143\n",
      "┌ Info: Loss is 4.514\n",
      "└ @ MLJFlux /home/useeffect/.julia/packages/MLJFlux/NTAl9/src/core.jl:143\n",
      "┌ Info: Loss is 4.075\n",
      "└ @ MLJFlux /home/useeffect/.julia/packages/MLJFlux/NTAl9/src/core.jl:143\n",
      "┌ Info: Loss is 3.85\n",
      "└ @ MLJFlux /home/useeffect/.julia/packages/MLJFlux/NTAl9/src/core.jl:143\n",
      "┌ Info: Loss is 3.492\n",
      "└ @ MLJFlux /home/useeffect/.julia/packages/MLJFlux/NTAl9/src/core.jl:143\n",
      "┌ Info: Loss is 3.042\n",
      "└ @ MLJFlux /home/useeffect/.julia/packages/MLJFlux/NTAl9/src/core.jl:143\n",
      "┌ Info: Loss is 2.619\n",
      "└ @ MLJFlux /home/useeffect/.julia/packages/MLJFlux/NTAl9/src/core.jl:143\n",
      "┌ Info: Loss is 1.863\n",
      "└ @ MLJFlux /home/useeffect/.julia/packages/MLJFlux/NTAl9/src/core.jl:143\n",
      "┌ Info: Loss is 1.329\n",
      "└ @ MLJFlux /home/useeffect/.julia/packages/MLJFlux/NTAl9/src/core.jl:143\n",
      "┌ Info: Loss is 1.306\n",
      "└ @ MLJFlux /home/useeffect/.julia/packages/MLJFlux/NTAl9/src/core.jl:143\n"
     ]
    },
    {
     "data": {
      "text/plain": [
       "\u001b[34mMachine{NeuralNetworkRegressor{Linear,…},…} @928\u001b[39m trained 1 time; caches data\n",
       "  args: \n",
       "    1:\t\u001b[34mSource @509\u001b[39m ⏎ `Table{AbstractVector{Continuous}}`\n",
       "    2:\t\u001b[34mSource @324\u001b[39m ⏎ `AbstractVector{Continuous}`\n"
      ]
     },
     "execution_count": 57,
     "metadata": {},
     "output_type": "execute_result"
    }
   ],
   "source": [
    "mach = MLJ.machine(clf, x, y)\n",
    "MLJ.fit!(mach,rows=train, verbosity=3)\n"
   ]
  },
  {
   "cell_type": "code",
   "execution_count": null,
   "id": "3129d273",
   "metadata": {},
   "outputs": [],
   "source": []
  },
  {
   "cell_type": "code",
   "execution_count": 58,
   "id": "bbbb4c62-a0c4-439c-a636-3878fd32bb14",
   "metadata": {},
   "outputs": [
    {
     "data": {
      "text/plain": [
       "438-element Vector{Float64}:\n",
       " 4.714001395553351\n",
       " 2.484382970444858\n",
       " 2.0759262733161448\n",
       " 2.4129319870844483\n",
       " 2.7942711264826356\n",
       " 2.4267383329570293\n",
       " 3.440686827152967\n",
       " 2.002099850028753\n",
       " 2.6638112667016682\n",
       " 2.801135604828596\n",
       " 3.283266040030867\n",
       " 2.122087359894067\n",
       " 3.8491385869681833\n",
       " ⋮\n",
       " 1.8008115810342133\n",
       " 2.840557830780744\n",
       " 4.400244008749723\n",
       " 2.818176587671042\n",
       " 1.1962808741256596\n",
       " 3.4467264437116683\n",
       " 3.0387327454984185\n",
       " 4.376779147237539\n",
       " 2.9447047345340254\n",
       " 3.1830221168696884\n",
       " 3.2899794240482154\n",
       " 4.538719918578863"
      ]
     },
     "execution_count": 58,
     "metadata": {},
     "output_type": "execute_result"
    }
   ],
   "source": [
    "preds = MLJ.predict(mach, x[test, :])"
   ]
  },
  {
   "cell_type": "code",
   "execution_count": 59,
   "id": "5870de49",
   "metadata": {},
   "outputs": [
    {
     "data": {
      "text/plain": [
       "1.213140405412579"
      ]
     },
     "execution_count": 59,
     "metadata": {},
     "output_type": "execute_result"
    }
   ],
   "source": [
    "rms(preds,y[test])"
   ]
  },
  {
   "cell_type": "code",
   "execution_count": 60,
   "id": "584a4716-f57f-4e33-b359-54cb441cd1ad",
   "metadata": {},
   "outputs": [
    {
     "name": "stdout",
     "output_type": "stream",
     "text": [
      "[4.714001395553351, 2.484382970444858, 2.0759262733161448, 2.4129319870844483, 2.7942711264826356]\n"
     ]
    }
   ],
   "source": [
    "println(preds[1:5])"
   ]
  },
  {
   "cell_type": "code",
   "execution_count": 64,
   "id": "19618a58-95b3-4fa5-a6ce-d0f66a37905a",
   "metadata": {},
   "outputs": [
    {
     "data": {
      "text/plain": [
       "438-element Vector{Int64}:\n",
       " 5\n",
       " 2\n",
       " 2\n",
       " 2\n",
       " 3\n",
       " 2\n",
       " 3\n",
       " 2\n",
       " 3\n",
       " 3\n",
       " 3\n",
       " 2\n",
       " 4\n",
       " ⋮\n",
       " 2\n",
       " 3\n",
       " 4\n",
       " 3\n",
       " 1\n",
       " 3\n",
       " 3\n",
       " 4\n",
       " 3\n",
       " 3\n",
       " 3\n",
       " 5"
      ]
     },
     "execution_count": 64,
     "metadata": {},
     "output_type": "execute_result"
    }
   ],
   "source": [
    "round.(Int,preds)"
   ]
  },
  {
   "cell_type": "code",
   "execution_count": 67,
   "id": "d572f3fa",
   "metadata": {},
   "outputs": [
    {
     "data": {
      "image/svg+xml": [
       "<?xml version=\"1.0\" encoding=\"utf-8\"?>\n",
       "<svg xmlns=\"http://www.w3.org/2000/svg\" xmlns:xlink=\"http://www.w3.org/1999/xlink\" width=\"600\" height=\"400\" viewBox=\"0 0 2400 1600\">\n",
       "<defs>\n",
       "  <clipPath id=\"clip910\">\n",
       "    <rect x=\"0\" y=\"0\" width=\"2400\" height=\"1600\"/>\n",
       "  </clipPath>\n",
       "</defs>\n",
       "<path clip-path=\"url(#clip910)\" d=\"\n",
       "M0 1600 L2400 1600 L2400 0 L0 0  Z\n",
       "  \" fill=\"#ffffff\" fill-rule=\"evenodd\" fill-opacity=\"1\"/>\n",
       "<defs>\n",
       "  <clipPath id=\"clip911\">\n",
       "    <rect x=\"480\" y=\"0\" width=\"1681\" height=\"1600\"/>\n",
       "  </clipPath>\n",
       "</defs>\n",
       "<path clip-path=\"url(#clip910)\" d=\"\n",
       "M112.177 1486.45 L2352.76 1486.45 L2352.76 123.472 L112.177 123.472  Z\n",
       "  \" fill=\"#ffffff\" fill-rule=\"evenodd\" fill-opacity=\"1\"/>\n",
       "<defs>\n",
       "  <clipPath id=\"clip912\">\n",
       "    <rect x=\"112\" y=\"123\" width=\"2242\" height=\"1364\"/>\n",
       "  </clipPath>\n",
       "</defs>\n",
       "<polyline clip-path=\"url(#clip912)\" style=\"stroke:#000000; stroke-linecap:butt; stroke-linejoin:round; stroke-width:2; stroke-opacity:0.1; fill:none\" points=\"\n",
       "  148.833,1486.45 148.833,123.472 \n",
       "  \"/>\n",
       "<polyline clip-path=\"url(#clip912)\" style=\"stroke:#000000; stroke-linecap:butt; stroke-linejoin:round; stroke-width:2; stroke-opacity:0.1; fill:none\" points=\"\n",
       "  683.961,1486.45 683.961,123.472 \n",
       "  \"/>\n",
       "<polyline clip-path=\"url(#clip912)\" style=\"stroke:#000000; stroke-linecap:butt; stroke-linejoin:round; stroke-width:2; stroke-opacity:0.1; fill:none\" points=\"\n",
       "  1219.09,1486.45 1219.09,123.472 \n",
       "  \"/>\n",
       "<polyline clip-path=\"url(#clip912)\" style=\"stroke:#000000; stroke-linecap:butt; stroke-linejoin:round; stroke-width:2; stroke-opacity:0.1; fill:none\" points=\"\n",
       "  1754.22,1486.45 1754.22,123.472 \n",
       "  \"/>\n",
       "<polyline clip-path=\"url(#clip912)\" style=\"stroke:#000000; stroke-linecap:butt; stroke-linejoin:round; stroke-width:2; stroke-opacity:0.1; fill:none\" points=\"\n",
       "  2289.34,1486.45 2289.34,123.472 \n",
       "  \"/>\n",
       "<polyline clip-path=\"url(#clip910)\" style=\"stroke:#000000; stroke-linecap:butt; stroke-linejoin:round; stroke-width:4; stroke-opacity:1; fill:none\" points=\"\n",
       "  112.177,1486.45 2352.76,1486.45 \n",
       "  \"/>\n",
       "<polyline clip-path=\"url(#clip910)\" style=\"stroke:#000000; stroke-linecap:butt; stroke-linejoin:round; stroke-width:4; stroke-opacity:1; fill:none\" points=\"\n",
       "  148.833,1486.45 148.833,1467.55 \n",
       "  \"/>\n",
       "<polyline clip-path=\"url(#clip910)\" style=\"stroke:#000000; stroke-linecap:butt; stroke-linejoin:round; stroke-width:4; stroke-opacity:1; fill:none\" points=\"\n",
       "  683.961,1486.45 683.961,1467.55 \n",
       "  \"/>\n",
       "<polyline clip-path=\"url(#clip910)\" style=\"stroke:#000000; stroke-linecap:butt; stroke-linejoin:round; stroke-width:4; stroke-opacity:1; fill:none\" points=\"\n",
       "  1219.09,1486.45 1219.09,1467.55 \n",
       "  \"/>\n",
       "<polyline clip-path=\"url(#clip910)\" style=\"stroke:#000000; stroke-linecap:butt; stroke-linejoin:round; stroke-width:4; stroke-opacity:1; fill:none\" points=\"\n",
       "  1754.22,1486.45 1754.22,1467.55 \n",
       "  \"/>\n",
       "<polyline clip-path=\"url(#clip910)\" style=\"stroke:#000000; stroke-linecap:butt; stroke-linejoin:round; stroke-width:4; stroke-opacity:1; fill:none\" points=\"\n",
       "  2289.34,1486.45 2289.34,1467.55 \n",
       "  \"/>\n",
       "<path clip-path=\"url(#clip910)\" d=\"M148.833 1517.37 Q145.222 1517.37 143.394 1520.93 Q141.588 1524.47 141.588 1531.6 Q141.588 1538.71 143.394 1542.27 Q145.222 1545.82 148.833 1545.82 Q152.468 1545.82 154.273 1542.27 Q156.102 1538.71 156.102 1531.6 Q156.102 1524.47 154.273 1520.93 Q152.468 1517.37 148.833 1517.37 M148.833 1513.66 Q154.644 1513.66 157.699 1518.27 Q160.778 1522.85 160.778 1531.6 Q160.778 1540.33 157.699 1544.94 Q154.644 1549.52 148.833 1549.52 Q143.023 1549.52 139.945 1544.94 Q136.889 1540.33 136.889 1531.6 Q136.889 1522.85 139.945 1518.27 Q143.023 1513.66 148.833 1513.66 Z\" fill=\"#000000\" fill-rule=\"evenodd\" fill-opacity=\"1\" /><path clip-path=\"url(#clip910)\" d=\"M662.734 1544.91 L679.053 1544.91 L679.053 1548.85 L657.109 1548.85 L657.109 1544.91 Q659.771 1542.16 664.355 1537.53 Q668.961 1532.88 670.142 1531.53 Q672.387 1529.01 673.266 1527.27 Q674.169 1525.51 674.169 1523.82 Q674.169 1521.07 672.225 1519.33 Q670.304 1517.6 667.202 1517.6 Q665.003 1517.6 662.549 1518.36 Q660.118 1519.13 657.341 1520.68 L657.341 1515.95 Q660.165 1514.82 662.618 1514.24 Q665.072 1513.66 667.109 1513.66 Q672.479 1513.66 675.674 1516.35 Q678.868 1519.03 678.868 1523.52 Q678.868 1525.65 678.058 1527.57 Q677.271 1529.47 675.165 1532.07 Q674.586 1532.74 671.484 1535.95 Q668.382 1539.15 662.734 1544.91 Z\" fill=\"#000000\" fill-rule=\"evenodd\" fill-opacity=\"1\" /><path clip-path=\"url(#clip910)\" d=\"M698.868 1517.37 Q695.257 1517.37 693.428 1520.93 Q691.623 1524.47 691.623 1531.6 Q691.623 1538.71 693.428 1542.27 Q695.257 1545.82 698.868 1545.82 Q702.502 1545.82 704.308 1542.27 Q706.137 1538.71 706.137 1531.6 Q706.137 1524.47 704.308 1520.93 Q702.502 1517.37 698.868 1517.37 M698.868 1513.66 Q704.678 1513.66 707.734 1518.27 Q710.813 1522.85 710.813 1531.6 Q710.813 1540.33 707.734 1544.94 Q704.678 1549.52 698.868 1549.52 Q693.058 1549.52 689.979 1544.94 Q686.924 1540.33 686.924 1531.6 Q686.924 1522.85 689.979 1518.27 Q693.058 1513.66 698.868 1513.66 Z\" fill=\"#000000\" fill-rule=\"evenodd\" fill-opacity=\"1\" /><path clip-path=\"url(#clip910)\" d=\"M1207.26 1518.36 L1195.45 1536.81 L1207.26 1536.81 L1207.26 1518.36 M1206.03 1514.29 L1211.91 1514.29 L1211.91 1536.81 L1216.84 1536.81 L1216.84 1540.7 L1211.91 1540.7 L1211.91 1548.85 L1207.26 1548.85 L1207.26 1540.7 L1191.66 1540.7 L1191.66 1536.19 L1206.03 1514.29 Z\" fill=\"#000000\" fill-rule=\"evenodd\" fill-opacity=\"1\" /><path clip-path=\"url(#clip910)\" d=\"M1234.57 1517.37 Q1230.96 1517.37 1229.13 1520.93 Q1227.33 1524.47 1227.33 1531.6 Q1227.33 1538.71 1229.13 1542.27 Q1230.96 1545.82 1234.57 1545.82 Q1238.21 1545.82 1240.01 1542.27 Q1241.84 1538.71 1241.84 1531.6 Q1241.84 1524.47 1240.01 1520.93 Q1238.21 1517.37 1234.57 1517.37 M1234.57 1513.66 Q1240.38 1513.66 1243.44 1518.27 Q1246.52 1522.85 1246.52 1531.6 Q1246.52 1540.33 1243.44 1544.94 Q1240.38 1549.52 1234.57 1549.52 Q1228.76 1549.52 1225.69 1544.94 Q1222.63 1540.33 1222.63 1531.6 Q1222.63 1522.85 1225.69 1518.27 Q1228.76 1513.66 1234.57 1513.66 Z\" fill=\"#000000\" fill-rule=\"evenodd\" fill-opacity=\"1\" /><path clip-path=\"url(#clip910)\" d=\"M1739.62 1529.7 Q1736.47 1529.7 1734.62 1531.86 Q1732.79 1534.01 1732.79 1537.76 Q1732.79 1541.49 1734.62 1543.66 Q1736.47 1545.82 1739.62 1545.82 Q1742.77 1545.82 1744.6 1543.66 Q1746.45 1541.49 1746.45 1537.76 Q1746.45 1534.01 1744.6 1531.86 Q1742.77 1529.7 1739.62 1529.7 M1748.9 1515.05 L1748.9 1519.31 Q1747.14 1518.48 1745.34 1518.04 Q1743.56 1517.6 1741.8 1517.6 Q1737.17 1517.6 1734.71 1520.72 Q1732.28 1523.85 1731.94 1530.17 Q1733.3 1528.15 1735.36 1527.09 Q1737.42 1526 1739.9 1526 Q1745.11 1526 1748.12 1529.17 Q1751.15 1532.32 1751.15 1537.76 Q1751.15 1543.08 1748 1546.3 Q1744.85 1549.52 1739.62 1549.52 Q1733.63 1549.52 1730.45 1544.94 Q1727.28 1540.33 1727.28 1531.6 Q1727.28 1523.41 1731.17 1518.55 Q1735.06 1513.66 1741.61 1513.66 Q1743.37 1513.66 1745.15 1514.01 Q1746.96 1514.36 1748.9 1515.05 Z\" fill=\"#000000\" fill-rule=\"evenodd\" fill-opacity=\"1\" /><path clip-path=\"url(#clip910)\" d=\"M1769.2 1517.37 Q1765.59 1517.37 1763.76 1520.93 Q1761.96 1524.47 1761.96 1531.6 Q1761.96 1538.71 1763.76 1542.27 Q1765.59 1545.82 1769.2 1545.82 Q1772.84 1545.82 1774.64 1542.27 Q1776.47 1538.71 1776.47 1531.6 Q1776.47 1524.47 1774.64 1520.93 Q1772.84 1517.37 1769.2 1517.37 M1769.2 1513.66 Q1775.01 1513.66 1778.07 1518.27 Q1781.15 1522.85 1781.15 1531.6 Q1781.15 1540.33 1778.07 1544.94 Q1775.01 1549.52 1769.2 1549.52 Q1763.39 1549.52 1760.32 1544.94 Q1757.26 1540.33 1757.26 1531.6 Q1757.26 1522.85 1760.32 1518.27 Q1763.39 1513.66 1769.2 1513.66 Z\" fill=\"#000000\" fill-rule=\"evenodd\" fill-opacity=\"1\" /><path clip-path=\"url(#clip910)\" d=\"M2274.22 1532.44 Q2270.88 1532.44 2268.96 1534.22 Q2267.06 1536 2267.06 1539.13 Q2267.06 1542.25 2268.96 1544.03 Q2270.88 1545.82 2274.22 1545.82 Q2277.55 1545.82 2279.47 1544.03 Q2281.39 1542.23 2281.39 1539.13 Q2281.39 1536 2279.47 1534.22 Q2277.57 1532.44 2274.22 1532.44 M2269.54 1530.45 Q2266.53 1529.7 2264.84 1527.64 Q2263.17 1525.58 2263.17 1522.62 Q2263.17 1518.48 2266.11 1516.07 Q2269.08 1513.66 2274.22 1513.66 Q2279.38 1513.66 2282.32 1516.07 Q2285.26 1518.48 2285.26 1522.62 Q2285.26 1525.58 2283.57 1527.64 Q2281.9 1529.7 2278.92 1530.45 Q2282.29 1531.23 2284.17 1533.52 Q2286.07 1535.82 2286.07 1539.13 Q2286.07 1544.15 2282.99 1546.83 Q2279.93 1549.52 2274.22 1549.52 Q2268.5 1549.52 2265.42 1546.83 Q2262.36 1544.15 2262.36 1539.13 Q2262.36 1535.82 2264.26 1533.52 Q2266.16 1531.23 2269.54 1530.45 M2267.83 1523.06 Q2267.83 1525.75 2269.49 1527.25 Q2271.18 1528.76 2274.22 1528.76 Q2277.23 1528.76 2278.92 1527.25 Q2280.63 1525.75 2280.63 1523.06 Q2280.63 1520.38 2278.92 1518.87 Q2277.23 1517.37 2274.22 1517.37 Q2271.18 1517.37 2269.49 1518.87 Q2267.83 1520.38 2267.83 1523.06 Z\" fill=\"#000000\" fill-rule=\"evenodd\" fill-opacity=\"1\" /><path clip-path=\"url(#clip910)\" d=\"M2304.38 1517.37 Q2300.77 1517.37 2298.94 1520.93 Q2297.13 1524.47 2297.13 1531.6 Q2297.13 1538.71 2298.94 1542.27 Q2300.77 1545.82 2304.38 1545.82 Q2308.01 1545.82 2309.82 1542.27 Q2311.65 1538.71 2311.65 1531.6 Q2311.65 1524.47 2309.82 1520.93 Q2308.01 1517.37 2304.38 1517.37 M2304.38 1513.66 Q2310.19 1513.66 2313.24 1518.27 Q2316.32 1522.85 2316.32 1531.6 Q2316.32 1540.33 2313.24 1544.94 Q2310.19 1549.52 2304.38 1549.52 Q2298.57 1549.52 2295.49 1544.94 Q2292.43 1540.33 2292.43 1531.6 Q2292.43 1522.85 2295.49 1518.27 Q2298.57 1513.66 2304.38 1513.66 Z\" fill=\"#000000\" fill-rule=\"evenodd\" fill-opacity=\"1\" /><polyline clip-path=\"url(#clip912)\" style=\"stroke:#000000; stroke-linecap:butt; stroke-linejoin:round; stroke-width:2; stroke-opacity:0.1; fill:none\" points=\"\n",
       "  112.177,1447.87 2352.76,1447.87 \n",
       "  \"/>\n",
       "<polyline clip-path=\"url(#clip912)\" style=\"stroke:#000000; stroke-linecap:butt; stroke-linejoin:round; stroke-width:2; stroke-opacity:0.1; fill:none\" points=\"\n",
       "  112.177,1126.42 2352.76,1126.42 \n",
       "  \"/>\n",
       "<polyline clip-path=\"url(#clip912)\" style=\"stroke:#000000; stroke-linecap:butt; stroke-linejoin:round; stroke-width:2; stroke-opacity:0.1; fill:none\" points=\"\n",
       "  112.177,804.96 2352.76,804.96 \n",
       "  \"/>\n",
       "<polyline clip-path=\"url(#clip912)\" style=\"stroke:#000000; stroke-linecap:butt; stroke-linejoin:round; stroke-width:2; stroke-opacity:0.1; fill:none\" points=\"\n",
       "  112.177,483.503 2352.76,483.503 \n",
       "  \"/>\n",
       "<polyline clip-path=\"url(#clip912)\" style=\"stroke:#000000; stroke-linecap:butt; stroke-linejoin:round; stroke-width:2; stroke-opacity:0.1; fill:none\" points=\"\n",
       "  112.177,162.047 2352.76,162.047 \n",
       "  \"/>\n",
       "<polyline clip-path=\"url(#clip910)\" style=\"stroke:#000000; stroke-linecap:butt; stroke-linejoin:round; stroke-width:4; stroke-opacity:1; fill:none\" points=\"\n",
       "  112.177,1486.45 112.177,123.472 \n",
       "  \"/>\n",
       "<polyline clip-path=\"url(#clip910)\" style=\"stroke:#000000; stroke-linecap:butt; stroke-linejoin:round; stroke-width:4; stroke-opacity:1; fill:none\" points=\"\n",
       "  112.177,1447.87 131.075,1447.87 \n",
       "  \"/>\n",
       "<polyline clip-path=\"url(#clip910)\" style=\"stroke:#000000; stroke-linecap:butt; stroke-linejoin:round; stroke-width:4; stroke-opacity:1; fill:none\" points=\"\n",
       "  112.177,1126.42 131.075,1126.42 \n",
       "  \"/>\n",
       "<polyline clip-path=\"url(#clip910)\" style=\"stroke:#000000; stroke-linecap:butt; stroke-linejoin:round; stroke-width:4; stroke-opacity:1; fill:none\" points=\"\n",
       "  112.177,804.96 131.075,804.96 \n",
       "  \"/>\n",
       "<polyline clip-path=\"url(#clip910)\" style=\"stroke:#000000; stroke-linecap:butt; stroke-linejoin:round; stroke-width:4; stroke-opacity:1; fill:none\" points=\"\n",
       "  112.177,483.503 131.075,483.503 \n",
       "  \"/>\n",
       "<polyline clip-path=\"url(#clip910)\" style=\"stroke:#000000; stroke-linecap:butt; stroke-linejoin:round; stroke-width:4; stroke-opacity:1; fill:none\" points=\"\n",
       "  112.177,162.047 131.075,162.047 \n",
       "  \"/>\n",
       "<path clip-path=\"url(#clip910)\" d=\"M56.2699 1461.22 L63.9087 1461.22 L63.9087 1434.85 L55.5986 1436.52 L55.5986 1432.26 L63.8624 1430.59 L68.5383 1430.59 L68.5383 1461.22 L76.1772 1461.22 L76.1772 1465.15 L56.2699 1465.15 L56.2699 1461.22 Z\" fill=\"#000000\" fill-rule=\"evenodd\" fill-opacity=\"1\" /><path clip-path=\"url(#clip910)\" d=\"M59.8578 1139.76 L76.1772 1139.76 L76.1772 1143.7 L54.2328 1143.7 L54.2328 1139.76 Q56.8949 1137.01 61.4782 1132.38 Q66.0846 1127.72 67.2652 1126.38 Q69.5105 1123.86 70.3902 1122.12 Q71.2929 1120.36 71.2929 1118.67 Q71.2929 1115.92 69.3485 1114.18 Q67.4272 1112.45 64.3254 1112.45 Q62.1263 1112.45 59.6726 1113.21 Q57.2421 1113.97 54.4643 1115.53 L54.4643 1110.8 Q57.2884 1109.67 59.7421 1109.09 Q62.1958 1108.51 64.2328 1108.51 Q69.6031 1108.51 72.7976 1111.2 Q75.992 1113.88 75.992 1118.37 Q75.992 1120.5 75.1818 1122.42 Q74.3948 1124.32 72.2883 1126.91 Q71.7096 1127.59 68.6078 1130.8 Q65.5059 1134 59.8578 1139.76 Z\" fill=\"#000000\" fill-rule=\"evenodd\" fill-opacity=\"1\" /><path clip-path=\"url(#clip910)\" d=\"M69.0476 803.606 Q72.404 804.323 74.279 806.592 Q76.1772 808.86 76.1772 812.194 Q76.1772 817.309 72.6587 820.11 Q69.1402 822.911 62.6587 822.911 Q60.4828 822.911 58.168 822.471 Q55.8764 822.055 53.4227 821.198 L53.4227 816.684 Q55.3671 817.819 57.6819 818.397 Q59.9967 818.976 62.5198 818.976 Q66.918 818.976 69.2096 817.24 Q71.5244 815.504 71.5244 812.194 Q71.5244 809.138 69.3717 807.425 Q67.242 805.689 63.4226 805.689 L59.3949 805.689 L59.3949 801.847 L63.6078 801.847 Q67.0569 801.847 68.8855 800.481 Q70.7142 799.092 70.7142 796.499 Q70.7142 793.837 68.8161 792.425 Q66.9411 790.99 63.4226 790.99 Q61.5013 790.99 59.3023 791.407 Q57.1032 791.823 54.4643 792.703 L54.4643 788.536 Q57.1264 787.796 59.4412 787.425 Q61.7791 787.055 63.8393 787.055 Q69.1633 787.055 72.2652 789.486 Q75.367 791.893 75.367 796.013 Q75.367 798.884 73.7235 800.874 Q72.08 802.842 69.0476 803.606 Z\" fill=\"#000000\" fill-rule=\"evenodd\" fill-opacity=\"1\" /><path clip-path=\"url(#clip910)\" d=\"M66.5939 470.298 L54.7884 488.746 L66.5939 488.746 L66.5939 470.298 M65.367 466.223 L71.2466 466.223 L71.2466 488.746 L76.1772 488.746 L76.1772 492.635 L71.2466 492.635 L71.2466 500.783 L66.5939 500.783 L66.5939 492.635 L50.9921 492.635 L50.9921 488.121 L65.367 466.223 Z\" fill=\"#000000\" fill-rule=\"evenodd\" fill-opacity=\"1\" /><path clip-path=\"url(#clip910)\" d=\"M55.2745 144.767 L73.6309 144.767 L73.6309 148.702 L59.5569 148.702 L59.5569 157.174 Q60.5754 156.827 61.5939 156.665 Q62.6124 156.48 63.6309 156.48 Q69.418 156.48 72.7976 159.651 Q76.1772 162.822 76.1772 168.239 Q76.1772 173.818 72.705 176.92 Q69.2328 179.998 62.9134 179.998 Q60.7374 179.998 58.4689 179.628 Q56.2236 179.257 53.8162 178.517 L53.8162 173.818 Q55.8995 174.952 58.1217 175.507 Q60.3439 176.063 62.8208 176.063 Q66.8254 176.063 69.1633 173.957 Q71.5013 171.85 71.5013 168.239 Q71.5013 164.628 69.1633 162.521 Q66.8254 160.415 62.8208 160.415 Q60.9458 160.415 59.0708 160.832 Q57.2189 161.248 55.2745 162.128 L55.2745 144.767 Z\" fill=\"#000000\" fill-rule=\"evenodd\" fill-opacity=\"1\" /><path clip-path=\"url(#clip910)\" d=\"M785.49 12.096 L836.653 12.096 L836.653 18.9825 L815.183 18.9825 L815.183 72.576 L806.96 72.576 L806.96 18.9825 L785.49 18.9825 L785.49 12.096 Z\" fill=\"#000000\" fill-rule=\"evenodd\" fill-opacity=\"1\" /><path clip-path=\"url(#clip910)\" d=\"M841.676 27.2059 L849.129 27.2059 L849.129 72.576 L841.676 72.576 L841.676 27.2059 M841.676 9.54393 L849.129 9.54393 L849.129 18.9825 L841.676 18.9825 L841.676 9.54393 Z\" fill=\"#000000\" fill-rule=\"evenodd\" fill-opacity=\"1\" /><path clip-path=\"url(#clip910)\" d=\"M900.049 35.9153 Q902.844 30.8922 906.733 28.5022 Q910.622 26.1121 915.888 26.1121 Q922.977 26.1121 926.826 31.0947 Q930.674 36.0368 930.674 45.1919 L930.674 72.576 L923.18 72.576 L923.18 45.4349 Q923.18 38.913 920.871 35.7533 Q918.562 32.5936 913.822 32.5936 Q908.03 32.5936 904.667 36.4419 Q901.305 40.2903 901.305 46.9338 L901.305 72.576 L893.811 72.576 L893.811 45.4349 Q893.811 38.8725 891.502 35.7533 Q889.193 32.5936 884.372 32.5936 Q878.661 32.5936 875.298 36.4824 Q871.936 40.3308 871.936 46.9338 L871.936 72.576 L864.442 72.576 L864.442 27.2059 L871.936 27.2059 L871.936 34.2544 Q874.488 30.082 878.053 28.0971 Q881.618 26.1121 886.519 26.1121 Q891.461 26.1121 894.905 28.6237 Q898.388 31.1352 900.049 35.9153 Z\" fill=\"#000000\" fill-rule=\"evenodd\" fill-opacity=\"1\" /><path clip-path=\"url(#clip910)\" d=\"M984.349 48.0275 L984.349 51.6733 L950.078 51.6733 Q950.564 59.3701 954.696 63.421 Q958.868 67.4314 966.282 67.4314 Q970.576 67.4314 974.586 66.3781 Q978.637 65.3249 982.607 63.2184 L982.607 70.267 Q978.596 71.9684 974.383 72.8596 Q970.17 73.7508 965.836 73.7508 Q954.98 73.7508 948.62 67.4314 Q942.3 61.1119 942.3 50.3365 Q942.3 39.1965 948.296 32.6746 Q954.331 26.1121 964.54 26.1121 Q973.695 26.1121 979.001 32.0264 Q984.349 37.9003 984.349 48.0275 M976.895 45.84 Q976.814 39.7232 973.452 36.0774 Q970.13 32.4315 964.621 32.4315 Q958.382 32.4315 954.615 35.9558 Q950.888 39.4801 950.321 45.8805 L976.895 45.84 Z\" fill=\"#000000\" fill-rule=\"evenodd\" fill-opacity=\"1\" /><path clip-path=\"url(#clip910)\" d=\"M1033.16 14.0809 L1033.16 22.0612 Q1028.5 19.8332 1024.37 18.7395 Q1020.24 17.6457 1016.39 17.6457 Q1009.71 17.6457 1006.06 20.2383 Q1002.46 22.8309 1002.46 27.611 Q1002.46 31.6214 1004.85 33.6873 Q1007.28 35.7128 1014 36.9686 L1018.94 37.9813 Q1028.1 39.7232 1032.43 44.1387 Q1036.81 48.5136 1036.81 55.8863 Q1036.81 64.6767 1030.89 69.2137 Q1025.02 73.7508 1013.64 73.7508 Q1009.34 73.7508 1004.48 72.7785 Q999.661 71.8063 994.476 69.9024 L994.476 61.4765 Q999.459 64.2716 1004.24 65.6895 Q1009.02 67.1073 1013.64 67.1073 Q1020.64 67.1073 1024.45 64.3527 Q1028.26 61.598 1028.26 56.4939 Q1028.26 52.0379 1025.51 49.5264 Q1022.79 47.0148 1016.55 45.759 L1011.57 44.7868 Q1002.42 42.9639 998.324 39.075 Q994.233 35.1862 994.233 28.2591 Q994.233 20.2383 999.864 15.6203 Q1005.53 11.0023 1015.46 11.0023 Q1019.71 11.0023 1024.13 11.7719 Q1028.54 12.5416 1033.16 14.0809 Z\" fill=\"#000000\" fill-rule=\"evenodd\" fill-opacity=\"1\" /><path clip-path=\"url(#clip910)\" d=\"M1088.05 48.0275 L1088.05 51.6733 L1053.78 51.6733 Q1054.27 59.3701 1058.4 63.421 Q1062.57 67.4314 1069.98 67.4314 Q1074.28 67.4314 1078.29 66.3781 Q1082.34 65.3249 1086.31 63.2184 L1086.31 70.267 Q1082.3 71.9684 1078.09 72.8596 Q1073.87 73.7508 1069.54 73.7508 Q1058.68 73.7508 1052.32 67.4314 Q1046 61.1119 1046 50.3365 Q1046 39.1965 1052 32.6746 Q1058.03 26.1121 1068.24 26.1121 Q1077.4 26.1121 1082.7 32.0264 Q1088.05 37.9003 1088.05 48.0275 M1080.6 45.84 Q1080.52 39.7232 1077.15 36.0774 Q1073.83 32.4315 1068.32 32.4315 Q1062.09 32.4315 1058.32 35.9558 Q1054.59 39.4801 1054.02 45.8805 L1080.6 45.84 Z\" fill=\"#000000\" fill-rule=\"evenodd\" fill-opacity=\"1\" /><path clip-path=\"url(#clip910)\" d=\"M1126.58 34.1734 Q1125.32 33.4443 1123.82 33.1202 Q1122.36 32.7556 1120.58 32.7556 Q1114.26 32.7556 1110.86 36.8875 Q1107.5 40.9789 1107.5 48.6757 L1107.5 72.576 L1100 72.576 L1100 27.2059 L1107.5 27.2059 L1107.5 34.2544 Q1109.85 30.1225 1113.61 28.1376 Q1117.38 26.1121 1122.77 26.1121 Q1123.54 26.1121 1124.47 26.2337 Q1125.4 26.3147 1126.54 26.5172 L1126.58 34.1734 Z\" fill=\"#000000\" fill-rule=\"evenodd\" fill-opacity=\"1\" /><path clip-path=\"url(#clip910)\" d=\"M1134.39 27.2059 L1141.85 27.2059 L1141.85 72.576 L1134.39 72.576 L1134.39 27.2059 M1134.39 9.54393 L1141.85 9.54393 L1141.85 18.9825 L1134.39 18.9825 L1134.39 9.54393 Z\" fill=\"#000000\" fill-rule=\"evenodd\" fill-opacity=\"1\" /><path clip-path=\"url(#clip910)\" d=\"M1196.25 48.0275 L1196.25 51.6733 L1161.98 51.6733 Q1162.47 59.3701 1166.6 63.421 Q1170.77 67.4314 1178.18 67.4314 Q1182.48 67.4314 1186.49 66.3781 Q1190.54 65.3249 1194.51 63.2184 L1194.51 70.267 Q1190.5 71.9684 1186.29 72.8596 Q1182.07 73.7508 1177.74 73.7508 Q1166.88 73.7508 1160.52 67.4314 Q1154.2 61.1119 1154.2 50.3365 Q1154.2 39.1965 1160.2 32.6746 Q1166.23 26.1121 1176.44 26.1121 Q1185.6 26.1121 1190.9 32.0264 Q1196.25 37.9003 1196.25 48.0275 M1188.8 45.84 Q1188.72 39.7232 1185.35 36.0774 Q1182.03 32.4315 1176.52 32.4315 Q1170.29 32.4315 1166.52 35.9558 Q1162.79 39.4801 1162.22 45.8805 L1188.8 45.84 Z\" fill=\"#000000\" fill-rule=\"evenodd\" fill-opacity=\"1\" /><path clip-path=\"url(#clip910)\" d=\"M1237.41 28.5427 L1237.41 35.5912 Q1234.25 33.9709 1230.85 33.1607 Q1227.44 32.3505 1223.8 32.3505 Q1218.25 32.3505 1215.45 34.0519 Q1212.7 35.7533 1212.7 39.156 Q1212.7 41.7486 1214.68 43.2475 Q1216.67 44.7058 1222.66 46.0426 L1225.22 46.6097 Q1233.16 48.3111 1236.48 51.4303 Q1239.84 54.509 1239.84 60.0587 Q1239.84 66.3781 1234.82 70.0644 Q1229.83 73.7508 1221.08 73.7508 Q1217.44 73.7508 1213.47 73.0216 Q1209.54 72.3329 1205.16 70.9151 L1205.16 63.2184 Q1209.3 65.3654 1213.31 66.4591 Q1217.32 67.5124 1221.25 67.5124 Q1226.51 67.5124 1229.35 65.73 Q1232.18 63.9071 1232.18 60.6258 Q1232.18 57.5877 1230.12 55.9673 Q1228.09 54.3469 1221.16 52.8481 L1218.57 52.2405 Q1211.64 50.7821 1208.57 47.7845 Q1205.49 44.7463 1205.49 39.4801 Q1205.49 33.0797 1210.02 29.5959 Q1214.56 26.1121 1222.91 26.1121 Q1227.04 26.1121 1230.68 26.7198 Q1234.33 27.3274 1237.41 28.5427 Z\" fill=\"#000000\" fill-rule=\"evenodd\" fill-opacity=\"1\" /><path clip-path=\"url(#clip910)\" d=\"M1285.29 65.7705 L1285.29 89.8329 L1277.8 89.8329 L1277.8 27.2059 L1285.29 27.2059 L1285.29 34.0924 Q1287.64 30.0415 1291.2 28.0971 Q1294.81 26.1121 1299.79 26.1121 Q1308.06 26.1121 1313.2 32.6746 Q1318.39 39.2371 1318.39 49.9314 Q1318.39 60.6258 1313.2 67.1883 Q1308.06 73.7508 1299.79 73.7508 Q1294.81 73.7508 1291.2 71.8063 Q1287.64 69.8214 1285.29 65.7705 M1310.65 49.9314 Q1310.65 41.7081 1307.25 37.0496 Q1303.88 32.3505 1297.97 32.3505 Q1292.06 32.3505 1288.65 37.0496 Q1285.29 41.7081 1285.29 49.9314 Q1285.29 58.1548 1288.65 62.8538 Q1292.06 67.5124 1297.97 67.5124 Q1303.88 67.5124 1307.25 62.8538 Q1310.65 58.1548 1310.65 49.9314 Z\" fill=\"#000000\" fill-rule=\"evenodd\" fill-opacity=\"1\" /><path clip-path=\"url(#clip910)\" d=\"M1357.03 34.1734 Q1355.78 33.4443 1354.28 33.1202 Q1352.82 32.7556 1351.04 32.7556 Q1344.72 32.7556 1341.31 36.8875 Q1337.95 40.9789 1337.95 48.6757 L1337.95 72.576 L1330.46 72.576 L1330.46 27.2059 L1337.95 27.2059 L1337.95 34.2544 Q1340.3 30.1225 1344.07 28.1376 Q1347.84 26.1121 1353.22 26.1121 Q1353.99 26.1121 1354.93 26.2337 Q1355.86 26.3147 1356.99 26.5172 L1357.03 34.1734 Z\" fill=\"#000000\" fill-rule=\"evenodd\" fill-opacity=\"1\" /><path clip-path=\"url(#clip910)\" d=\"M1401.83 48.0275 L1401.83 51.6733 L1367.56 51.6733 Q1368.05 59.3701 1372.18 63.421 Q1376.35 67.4314 1383.77 67.4314 Q1388.06 67.4314 1392.07 66.3781 Q1396.12 65.3249 1400.09 63.2184 L1400.09 70.267 Q1396.08 71.9684 1391.87 72.8596 Q1387.66 73.7508 1383.32 73.7508 Q1372.47 73.7508 1366.11 67.4314 Q1359.79 61.1119 1359.79 50.3365 Q1359.79 39.1965 1365.78 32.6746 Q1371.82 26.1121 1382.03 26.1121 Q1391.18 26.1121 1396.49 32.0264 Q1401.83 37.9003 1401.83 48.0275 M1394.38 45.84 Q1394.3 39.7232 1390.94 36.0774 Q1387.62 32.4315 1382.11 32.4315 Q1375.87 32.4315 1372.1 35.9558 Q1368.37 39.4801 1367.81 45.8805 L1394.38 45.84 Z\" fill=\"#000000\" fill-rule=\"evenodd\" fill-opacity=\"1\" /><path clip-path=\"url(#clip910)\" d=\"M1443.92 34.0924 L1443.92 9.54393 L1451.38 9.54393 L1451.38 72.576 L1443.92 72.576 L1443.92 65.7705 Q1441.57 69.8214 1437.97 71.8063 Q1434.4 73.7508 1429.38 73.7508 Q1421.16 73.7508 1415.97 67.1883 Q1410.83 60.6258 1410.83 49.9314 Q1410.83 39.2371 1415.97 32.6746 Q1421.16 26.1121 1429.38 26.1121 Q1434.4 26.1121 1437.97 28.0971 Q1441.57 30.0415 1443.92 34.0924 M1418.52 49.9314 Q1418.52 58.1548 1421.89 62.8538 Q1425.29 67.5124 1431.2 67.5124 Q1437.12 67.5124 1440.52 62.8538 Q1443.92 58.1548 1443.92 49.9314 Q1443.92 41.7081 1440.52 37.0496 Q1437.12 32.3505 1431.2 32.3505 Q1425.29 32.3505 1421.89 37.0496 Q1418.52 41.7081 1418.52 49.9314 Z\" fill=\"#000000\" fill-rule=\"evenodd\" fill-opacity=\"1\" /><path clip-path=\"url(#clip910)\" d=\"M1466.73 27.2059 L1474.18 27.2059 L1474.18 72.576 L1466.73 72.576 L1466.73 27.2059 M1466.73 9.54393 L1474.18 9.54393 L1474.18 18.9825 L1466.73 18.9825 L1466.73 9.54393 Z\" fill=\"#000000\" fill-rule=\"evenodd\" fill-opacity=\"1\" /><path clip-path=\"url(#clip910)\" d=\"M1522.43 28.9478 L1522.43 35.9153 Q1519.27 34.1734 1516.07 33.3227 Q1512.91 32.4315 1509.67 32.4315 Q1502.42 32.4315 1498.41 37.0496 Q1494.4 41.6271 1494.4 49.9314 Q1494.4 58.2358 1498.41 62.8538 Q1502.42 67.4314 1509.67 67.4314 Q1512.91 67.4314 1516.07 66.5807 Q1519.27 65.6895 1522.43 63.9476 L1522.43 70.8341 Q1519.31 72.2924 1515.95 73.0216 Q1512.63 73.7508 1508.86 73.7508 Q1498.61 73.7508 1492.58 67.3098 Q1486.54 60.8689 1486.54 49.9314 Q1486.54 38.832 1492.62 32.472 Q1498.73 26.1121 1509.35 26.1121 Q1512.79 26.1121 1516.07 26.8413 Q1519.35 27.5299 1522.43 28.9478 Z\" fill=\"#000000\" fill-rule=\"evenodd\" fill-opacity=\"1\" /><path clip-path=\"url(#clip910)\" d=\"M1542.77 14.324 L1542.77 27.2059 L1558.12 27.2059 L1558.12 32.9987 L1542.77 32.9987 L1542.77 57.6282 Q1542.77 63.1779 1544.26 64.7578 Q1545.8 66.3376 1550.46 66.3376 L1558.12 66.3376 L1558.12 72.576 L1550.46 72.576 Q1541.83 72.576 1538.55 69.3758 Q1535.27 66.1351 1535.27 57.6282 L1535.27 32.9987 L1529.8 32.9987 L1529.8 27.2059 L1535.27 27.2059 L1535.27 14.324 L1542.77 14.324 Z\" fill=\"#000000\" fill-rule=\"evenodd\" fill-opacity=\"1\" /><path clip-path=\"url(#clip910)\" d=\"M1567.92 27.2059 L1575.38 27.2059 L1575.38 72.576 L1567.92 72.576 L1567.92 27.2059 M1567.92 9.54393 L1575.38 9.54393 L1575.38 18.9825 L1567.92 18.9825 L1567.92 9.54393 Z\" fill=\"#000000\" fill-rule=\"evenodd\" fill-opacity=\"1\" /><path clip-path=\"url(#clip910)\" d=\"M1608.55 32.4315 Q1602.56 32.4315 1599.07 37.1306 Q1595.59 41.7891 1595.59 49.9314 Q1595.59 58.0738 1599.03 62.7728 Q1602.52 67.4314 1608.55 67.4314 Q1614.51 67.4314 1617.99 62.7323 Q1621.47 58.0333 1621.47 49.9314 Q1621.47 41.8701 1617.99 37.1711 Q1614.51 32.4315 1608.55 32.4315 M1608.55 26.1121 Q1618.27 26.1121 1623.82 32.4315 Q1629.37 38.7509 1629.37 49.9314 Q1629.37 61.0714 1623.82 67.4314 Q1618.27 73.7508 1608.55 73.7508 Q1598.79 73.7508 1593.24 67.4314 Q1587.73 61.0714 1587.73 49.9314 Q1587.73 38.7509 1593.24 32.4315 Q1598.79 26.1121 1608.55 26.1121 Z\" fill=\"#000000\" fill-rule=\"evenodd\" fill-opacity=\"1\" /><path clip-path=\"url(#clip910)\" d=\"M1679.44 45.1919 L1679.44 72.576 L1671.99 72.576 L1671.99 45.4349 Q1671.99 38.994 1669.48 35.7938 Q1666.97 32.5936 1661.94 32.5936 Q1655.91 32.5936 1652.42 36.4419 Q1648.94 40.2903 1648.94 46.9338 L1648.94 72.576 L1641.45 72.576 L1641.45 27.2059 L1648.94 27.2059 L1648.94 34.2544 Q1651.61 30.163 1655.22 28.1376 Q1658.86 26.1121 1663.6 26.1121 Q1671.42 26.1121 1675.43 30.9732 Q1679.44 35.7938 1679.44 45.1919 Z\" fill=\"#000000\" fill-rule=\"evenodd\" fill-opacity=\"1\" /><polyline clip-path=\"url(#clip912)\" style=\"stroke:#009af9; stroke-linecap:butt; stroke-linejoin:round; stroke-width:4; stroke-opacity:1; fill:none\" points=\"\n",
       "  175.59,162.047 202.346,1126.42 229.103,1126.42 255.859,1126.42 282.615,804.96 309.372,1126.42 336.128,804.96 362.884,1126.42 389.641,804.96 416.397,804.96 \n",
       "  443.154,804.96 469.91,1126.42 496.666,483.503 523.423,483.503 550.179,1126.42 576.935,804.96 603.692,1126.42 630.448,1126.42 657.205,1126.42 683.961,804.96 \n",
       "  710.717,804.96 737.474,483.503 764.23,804.96 790.986,804.96 817.743,804.96 844.499,1126.42 871.255,1126.42 898.012,804.96 924.768,1126.42 951.525,804.96 \n",
       "  978.281,804.96 1005.04,804.96 1031.79,804.96 1058.55,804.96 1085.31,1126.42 1112.06,1126.42 1138.82,483.503 1165.58,1126.42 1192.33,804.96 1219.09,804.96 \n",
       "  1245.84,804.96 1272.6,1447.87 1299.36,1126.42 1326.11,804.96 1352.87,1126.42 1379.63,1126.42 1406.38,1126.42 1433.14,483.503 1459.9,1126.42 1486.65,1126.42 \n",
       "  1513.41,483.503 1540.16,1126.42 1566.92,804.96 1593.68,804.96 1620.43,1447.87 1647.19,804.96 1673.95,1126.42 1700.7,804.96 1727.46,1447.87 1754.22,804.96 \n",
       "  1780.97,1126.42 1807.73,1126.42 1834.48,804.96 1861.24,1447.87 1888,1126.42 1914.75,804.96 1941.51,1126.42 1968.27,1126.42 1995.02,1447.87 2021.78,483.503 \n",
       "  2048.54,483.503 2075.29,1126.42 2102.05,804.96 2128.81,483.503 2155.56,1126.42 2182.32,1126.42 2209.07,162.047 2235.83,1126.42 2262.59,804.96 2289.34,804.96 \n",
       "  \n",
       "  \"/>\n",
       "<path clip-path=\"url(#clip910)\" d=\"\n",
       "M1976.69 272.585 L2278.07 272.585 L2278.07 168.905 L1976.69 168.905  Z\n",
       "  \" fill=\"#ffffff\" fill-rule=\"evenodd\" fill-opacity=\"1\"/>\n",
       "<polyline clip-path=\"url(#clip910)\" style=\"stroke:#000000; stroke-linecap:butt; stroke-linejoin:round; stroke-width:4; stroke-opacity:1; fill:none\" points=\"\n",
       "  1976.69,272.585 2278.07,272.585 2278.07,168.905 1976.69,168.905 1976.69,272.585 \n",
       "  \"/>\n",
       "<polyline clip-path=\"url(#clip910)\" style=\"stroke:#009af9; stroke-linecap:butt; stroke-linejoin:round; stroke-width:4; stroke-opacity:1; fill:none\" points=\"\n",
       "  2001.58,220.745 2150.95,220.745 \n",
       "  \"/>\n",
       "<path clip-path=\"url(#clip910)\" d=\"M2189.69 240.432 Q2187.89 245.062 2186.17 246.474 Q2184.46 247.886 2181.59 247.886 L2178.19 247.886 L2178.19 244.321 L2180.69 244.321 Q2182.45 244.321 2183.42 243.488 Q2184.39 242.654 2185.57 239.552 L2186.34 237.608 L2175.85 212.099 L2180.36 212.099 L2188.46 232.377 L2196.57 212.099 L2201.08 212.099 L2189.69 240.432 Z\" fill=\"#000000\" fill-rule=\"evenodd\" fill-opacity=\"1\" /><path clip-path=\"url(#clip910)\" d=\"M2208.37 234.089 L2216.01 234.089 L2216.01 207.724 L2207.7 209.391 L2207.7 205.131 L2215.96 203.465 L2220.64 203.465 L2220.64 234.089 L2228.28 234.089 L2228.28 238.025 L2208.37 238.025 L2208.37 234.089 Z\" fill=\"#000000\" fill-rule=\"evenodd\" fill-opacity=\"1\" /></svg>\n"
      ]
     },
     "execution_count": 67,
     "metadata": {},
     "output_type": "execute_result"
    }
   ],
   "source": [
    "plot(round.(Int,preds[1:80]),title=\"TimeSeries prediction\",legend=true)"
   ]
  },
  {
   "cell_type": "code",
   "execution_count": null,
   "id": "bde25941",
   "metadata": {},
   "outputs": [],
   "source": []
  }
 ],
 "metadata": {
  "kernelspec": {
   "display_name": "Julia 1.7.1",
   "language": "julia",
   "name": "julia-1.7"
  },
  "language_info": {
   "file_extension": ".jl",
   "mimetype": "application/julia",
   "name": "julia",
   "version": "1.7.1"
  }
 },
 "nbformat": 4,
 "nbformat_minor": 5
}
